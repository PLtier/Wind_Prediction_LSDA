{
 "cells": [
  {
   "cell_type": "markdown",
   "metadata": {},
   "source": [
    "# Assignment 1\n",
    "# Data Pipelines & Data Analytics Life Cycle\n",
    "# Forecasting the Wind Power Production in Orkney"
   ]
  },
  {
   "cell_type": "markdown",
   "metadata": {},
   "source": [
    "#### Environment and Libraries"
   ]
  },
  {
   "cell_type": "markdown",
   "metadata": {},
   "source": [
    "### Setting up the environment with `venv`\n",
    "\n",
    "It is always recommended to create a new environment for any new project to avoid dependency issues and keep a clean working space. \n",
    "\n",
    "Step 1: Create a virtual environment in your project directory:\n",
    "\n",
    "python3 -m venv .venv\n",
    "\n",
    "\n",
    "Step 2: Activate the virtual environment:  \n",
    "For Linux/Mac:  \n",
    "source .venv/bin/activate  \n",
    "\n",
    "\n",
    "For Windows:  \n",
    ".venv\\Scripts\\activate  \n",
    "\n",
    "\n",
    "Step 3: Install the influxdb and MLFlow libraries using requirements.txt from https://github.itu.dk/Large-Scale-Data-Analysis-2025/python_env\n",
    "\n",
    "pip install -r requirements.txt\n",
    "\n",
    "Once your environment is set up and dependencies are installed, you are ready to proceed with your project.\n",
    "\n"
   ]
  },
  {
   "cell_type": "markdown",
   "metadata": {},
   "source": [
    "### Imports"
   ]
  },
  {
   "cell_type": "code",
   "execution_count": null,
   "metadata": {},
   "outputs": [],
   "source": [
    "# You absolutely need these\n",
    "from influxdb import InfluxDBClient\n",
    "import mlflow\n",
    "\n",
    "# You will probably need these\n",
    "import pandas as pd\n",
    "import numpy as np\n",
    "from sklearn.pipeline import Pipeline\n",
    "\n",
    "# This are for example purposes. You may discard them if you don't use them.\n",
    "import matplotlib.pyplot as plt\n",
    "from sklearn.preprocessing import StandardScaler\n",
    "from sklearn.linear_model import LinearRegression\n",
    "from sklearn.model_selection import train_test_split, TimeSeriesSplit\n",
    "from sklearn.metrics import mean_absolute_error\n",
    "from mlflow.models import infer_signature\n",
    "from urllib.parse import urlparse\n",
    "\n",
    "### TODO -> HERE YOU CAN ADD ANY OTHER LIBRARIES YOU MAY NEED ###"
   ]
  },
  {
   "cell_type": "code",
   "execution_count": null,
   "metadata": {},
   "outputs": [],
   "source": [
    "%matplotlib widget"
   ]
  },
  {
   "cell_type": "markdown",
   "metadata": {},
   "source": [
    "## Step 1: The Data"
   ]
  },
  {
   "cell_type": "markdown",
   "metadata": {},
   "source": [
    "### Getting the data with InfluxDB"
   ]
  },
  {
   "cell_type": "markdown",
   "metadata": {},
   "source": [
    "The data is stored in an [InfluxDB](https://www.influxdata.com/), which is a non-relational time-series database. InfluxDB can be queried using [InfluxQL](https://docs.influxdata.com/influxdb/v1.8/query_language/spec/), a \"SQL-like\" query language for time-series data. InfluxDB does not have tables with rows and columns, instead data is stored in measurements with fields and tags. <br><br>\n",
    "**NOTE:** <em>You don't need to know much about InfluxDB syntax, but if you are interested, feel free to browse around the [documentation](https://docs.influxdata.com/).</em>"
   ]
  },
  {
   "cell_type": "markdown",
   "metadata": {},
   "source": [
    "The data for this assignment is stored in a database, with one table for the weather data and another for the power generation data. To do this, we first need to create an instance of the InfluxDB Client, that will allow us to query the needed data. Let's see how this is done."
   ]
  },
  {
   "cell_type": "code",
   "execution_count": null,
   "metadata": {},
   "outputs": [],
   "source": [
    "from influxdb import InfluxDBClient\n",
    "\n",
    "# Set the needed parameters to connect to the database\n",
    "### THIS SHOULD NOT BE CHANGED ###\n",
    "settings = {\n",
    "    'host': 'influxus.itu.dk',\n",
    "    'port': 8086,\n",
    "    'username': 'lsda',\n",
    "    'password': 'icanonlyread'\n",
    "    }\n",
    "\n",
    "# Create an InfluxDB Client instance and select the orkney database\n",
    "### YOU DON'T NEED TO CHANGE ANYTHING HERE ###\n",
    "client = InfluxDBClient(host=settings['host'], port=settings['port'], username=settings['username'], password=settings['password'])\n",
    "client.switch_database('orkney')"
   ]
  },
  {
   "cell_type": "markdown",
   "metadata": {},
   "source": [
    "As explained before, InfluxDB uses InfluxQL, a \"SQL-like\" syntax. We will use this to select the data we need from the correspondant tables, using our client instance. Then we can use an auxiliary function to convert the resulting set from the query into a Pandas Dataframe, making it easier to work with.<br><br>\n",
    "**NOTE:** <em>If you are curious to see how the resulting set from InfluxDB looks like, you can avoid using this function and printing the result.</em>"
   ]
  },
  {
   "cell_type": "code",
   "execution_count": null,
   "metadata": {},
   "outputs": [],
   "source": [
    "## Function to tranform the InfluxDB resulting set into a Dataframe\n",
    "### YOU DON'T NEED TO CHANGE ANYTHING HERE ###\n",
    "def set_to_dataframe(resulting_set):\n",
    "    \n",
    "    values = resulting_set.raw[\"series\"][0][\"values\"]\n",
    "    columns = resulting_set.raw[\"series\"][0][\"columns\"]\n",
    "    df = pd.DataFrame(values, columns=columns).set_index(\"time\")\n",
    "    df.index = pd.to_datetime(df.index) # Convert to datetime-index\n",
    "\n",
    "    return df"
   ]
  },
  {
   "cell_type": "markdown",
   "metadata": {},
   "source": [
    "Now we are ready to retrieve the data.<br><br>\n",
    "Let's suppose we want the power generation and wind data from the last 90 days:"
   ]
  },
  {
   "cell_type": "code",
   "execution_count": null,
   "metadata": {},
   "outputs": [],
   "source": [
    "days = 90 # -> You can change this to get any other range of days\n",
    "\n",
    "### YOU DON'T NEED TO CHANGE ANYTHING HERE ###\n",
    "power_set = client.query(\n",
    "    \"SELECT * FROM Generation where time > now()-\"+str(days)+\"d\"\n",
    "    ) # Query written in InfluxQL. We are retrieving all generation data from 90 days back.\n",
    "\n",
    "# Get the last 90 days of weather forecasts with the shortest lead time\n",
    "wind_set  = client.query(\n",
    "    \"SELECT * FROM MetForecasts where time > now()-\"+str(days)+\"d and time <= now() and Lead_hours = '1'\"\n",
    "    ) # Query written in InfluxQL. We are retrieving all weather forecast data from 90 days back and with 1 lead hour.\n",
    "\n",
    "power_df = set_to_dataframe(power_set)\n",
    "wind_df = set_to_dataframe(wind_set)\n",
    "# power_df.to_csv('power_df.csv')\n",
    "# wind_df.to_csv('wind_df.csv')\n",
    "# power_df = pd.read_csv('power_df.csv', index_col='time')\n",
    "# wind_df = pd.read_csv('wind_df.csv', index_col='time')"
   ]
  },
  {
   "cell_type": "code",
   "execution_count": null,
   "metadata": {},
   "outputs": [],
   "source": [
    "# print rows with missing values"
   ]
  },
  {
   "cell_type": "markdown",
   "metadata": {},
   "source": [
    "<font size=\"2\">**NOTE:** <em>You don't need to change the query syntax, but it is useful if you try to make sense out of it.</em> </font>"
   ]
  },
  {
   "cell_type": "markdown",
   "metadata": {},
   "source": [
    "Let's take a look at the resulting dataframes:"
   ]
  },
  {
   "cell_type": "code",
   "execution_count": null,
   "metadata": {},
   "outputs": [],
   "source": [
    "power_df.tail()"
   ]
  },
  {
   "cell_type": "code",
   "execution_count": null,
   "metadata": {},
   "outputs": [],
   "source": [
    "# print the hour timedeltas between subsequent rows\n",
    "power_df[:1000].index.to_series().transform(lambda x: pd.to_datetime(x))"
   ]
  },
  {
   "cell_type": "code",
   "execution_count": null,
   "metadata": {},
   "outputs": [],
   "source": [
    "wind_df.head()"
   ]
  },
  {
   "cell_type": "code",
   "execution_count": null,
   "metadata": {},
   "outputs": [],
   "source": [
    "wind_df.tail()"
   ]
  },
  {
   "cell_type": "code",
   "execution_count": null,
   "metadata": {},
   "outputs": [],
   "source": [
    "plt.figure()\n",
    "plt.plot(power_df.iloc[:1000].index, power_df.iloc[:1000]['ANM'])\n",
    "plt.plot(power_df.iloc[:1000].index, power_df.iloc[:1000]['Total'])\n",
    "plt.plot(power_df.iloc[:1000].index, power_df.iloc[:1000]['Non-ANM'])\n",
    "# don't print x labels\n",
    "plt.xticks([])\n",
    "plt.show()"
   ]
  },
  {
   "cell_type": "markdown",
   "metadata": {},
   "source": [
    "**NOTE:** <em>This table contains three columns, but closer inspection will reveal a very straigh relationship between those three. Can you spot that?<br>\n",
    "We are clearly interested in the total power generation, regardless of the source type.</em>"
   ]
  },
  {
   "cell_type": "code",
   "execution_count": null,
   "metadata": {},
   "outputs": [],
   "source": [
    "wind_df.shape"
   ]
  },
  {
   "cell_type": "code",
   "execution_count": null,
   "metadata": {},
   "outputs": [],
   "source": [
    "wind_df.tail()"
   ]
  },
  {
   "cell_type": "code",
   "execution_count": null,
   "metadata": {},
   "outputs": [],
   "source": [
    "plt.figure()\n",
    "plt.plot(wind_df.iloc[:1000].index, wind_df.iloc[:1000]['Speed'])\n",
    "plt.show()"
   ]
  },
  {
   "cell_type": "markdown",
   "metadata": {},
   "source": [
    "**NOTE:** <em>This table contains four columns, but lead hours and source time are irrelevant here. Can you think why?</em>"
   ]
  },
  {
   "cell_type": "markdown",
   "metadata": {},
   "source": [
    "**NOTE:** <em>Look at the table's index. Do both data sources contain the same intervals? And if not, what problems could arise when merging the data?</em>"
   ]
  },
  {
   "cell_type": "markdown",
   "metadata": {},
   "source": [
    "### Merging the data sources"
   ]
  },
  {
   "cell_type": "markdown",
   "metadata": {},
   "source": [
    "We have two dataframes, one with weather forecast and one with power generation. To do some analysis on the relationship between these two datasets, it might be useful to join (and align) the data."
   ]
  },
  {
   "cell_type": "markdown",
   "metadata": {},
   "source": [
    "#### Example"
   ]
  },
  {
   "cell_type": "code",
   "execution_count": null,
   "metadata": {},
   "outputs": [],
   "source": [
    "# Joining the data\n",
    "joined_dfs = power_df.join(wind_df, how=\"inner\")"
   ]
  },
  {
   "cell_type": "markdown",
   "metadata": {},
   "source": [
    "Joining the two datasets with an inner join means keeping only those records that match their index. Although this will work, you may notice that most of our data is discarded due to the unmatching time intervals. You may want to explore other possible ways to merge the data."
   ]
  },
  {
   "cell_type": "code",
   "execution_count": null,
   "metadata": {},
   "outputs": [],
   "source": [
    "### TODO -> JOIN THE TWO DATASETS ###"
   ]
  },
  {
   "cell_type": "markdown",
   "metadata": {},
   "source": [
    "### Understanding the data: EDA"
   ]
  },
  {
   "cell_type": "markdown",
   "metadata": {},
   "source": [
    "It can be also useful to plot our datasets to see what relationships they might hold."
   ]
  },
  {
   "cell_type": "code",
   "execution_count": null,
   "metadata": {},
   "outputs": [],
   "source": [
    "# Subplots\n",
    "fig, ax = plt.subplots(1,3, figsize=(25,4))\n",
    "\n",
    "# Speed and Power for the last 7 days\n",
    "ax[0].plot(joined_dfs[\"Speed\"].tail(int(7*24/3)), label=\"Speed\", color=\"blue\") # Since the datasets are joined every three hours, we need the last 7 days times 24 hours diveded by 3 hours\n",
    "ax[0].plot(joined_dfs[\"Total\"].tail(int(7*24/3)), label=\"Power\", color=\"tab:red\") # Since the datasets are joined every three hours, we need the last 7 days times 24 hours diveded by 3 hours\n",
    "ax[0].set_title(\"Windspeed & Power Generation over last 7 days\")\n",
    "ax[0].set_xlabel(\"Time\")\n",
    "ax[0].tick_params(axis='x', labelrotation = 45)\n",
    "ax[0].set_ylabel(\"Windspeed [m/s], Power [MW]\")\n",
    "ax[0].legend()\n",
    "\n",
    "# Speed vs Total (Power Curve nature)\n",
    "ax[1].scatter(joined_dfs[\"Speed\"], joined_dfs[\"Total\"])\n",
    "power_curve = joined_dfs.groupby(\"Speed\").median(numeric_only=True)[\"Total\"]\n",
    "ax[1].plot(power_curve.index, power_curve.values, \"k:\", label=\"Power Curve\")\n",
    "ax[1].legend()\n",
    "ax[1].set_title(\"Windspeed vs Power\")\n",
    "ax[1].set_ylabel(\"Power [MW]\")\n",
    "ax[1].set_xlabel(\"Windspeed [m/s]\")\n",
    "\n",
    "# Speed and Power per Wind Direction\n",
    "wind_grouped_by_direction = joined_dfs.groupby(\"Direction\").mean(numeric_only=True).reset_index()\n",
    "bar_width = 0.5\n",
    "x = np.arange(len(wind_grouped_by_direction.index))\n",
    "\n",
    "ax[2].bar(x, wind_grouped_by_direction.Total, width=0.5, label=\"Power\", color=\"tab:red\")\n",
    "ax[2].bar(x + bar_width, wind_grouped_by_direction.Speed, width=0.5, label=\"Speed\", color=\"blue\")\n",
    "ax[2].legend()\n",
    "ax[2].set_xticks(x)\n",
    "ax[2].set_xticklabels(wind_grouped_by_direction.Direction)\n",
    "ax[2].tick_params(axis='x', labelrotation = 45)\n",
    "ax[2].set_title(\"Speed and Power per Direction\");\n",
    "\n",
    "plt.show()\n",
    "\n",
    "\n",
    "# create a difference plot\n",
    "plt.figure()\n",
    "\n",
    "y = wind_grouped_by_direction.Total / wind_grouped_by_direction.Speed\n",
    "\n",
    "plt.bar(wind_grouped_by_direction.Direction, y)\n",
    "# plot horizontal, a mean of y\n",
    "plt.axhline(y.mean(), color='r', linestyle='-')\n",
    "plt.show()\n",
    "\n",
    "# print standard deviation of y\n",
    "y.std()"
   ]
  },
  {
   "cell_type": "code",
   "execution_count": null,
   "metadata": {},
   "outputs": [],
   "source": [
    "joined_dfs.head()"
   ]
  },
  {
   "cell_type": "code",
   "execution_count": null,
   "metadata": {},
   "outputs": [],
   "source": [
    "joined_dfs"
   ]
  },
  {
   "cell_type": "code",
   "execution_count": null,
   "metadata": {},
   "outputs": [],
   "source": [
    "joined_dfs.shape\n",
    "print(joined_dfs['Direction'].unique().size)"
   ]
  },
  {
   "cell_type": "code",
   "execution_count": null,
   "metadata": {},
   "outputs": [],
   "source": [
    "# Additional two plots:\n",
    "# Convert wind direction into categorical variable, and then plot the points given its three top principal components,\n",
    "# with color intensity given by the power generated.\n",
    "from sklearn.decomposition import PCA\n",
    "from sklearn.preprocessing import OneHotEncoder\n",
    "\n",
    "# One hot encode the wind direction\n",
    "encoder = OneHotEncoder(sparse_output=False)\n",
    "encoded_directions = encoder.fit_transform(joined_dfs[['Direction']])\n",
    "\n",
    "# Perform PCA to reduce dimensionality\n",
    "pca = PCA(n_components=3)\n",
    "principal_components = pca.fit_transform(encoded_directions)\n",
    "\n",
    "# Create a new DataFrame with the principal components and power generation\n",
    "pca_df = pd.DataFrame(data=principal_components, columns=['PC1', 'PC2', 'PC3'])\n",
    "pca_df['Power'] = joined_dfs['Total'].values\n",
    "pca_df.drop_duplicates(subset=['PC1', 'PC2', 'PC3'],inplace=True)\n",
    "\n",
    "# Plot the points given its three top principal components, with color intensity given by the\n"
   ]
  },
  {
   "cell_type": "code",
   "execution_count": null,
   "metadata": {},
   "outputs": [],
   "source": []
  },
  {
   "cell_type": "code",
   "execution_count": null,
   "metadata": {},
   "outputs": [],
   "source": [
    "encoder = OneHotEncoder(sparse_output=False)\n",
    "encoded_directions = encoder.fit_transform(wind_df[['Direction']])"
   ]
  },
  {
   "cell_type": "code",
   "execution_count": null,
   "metadata": {},
   "outputs": [],
   "source": [
    "%matplotlib widget"
   ]
  },
  {
   "cell_type": "code",
   "execution_count": null,
   "metadata": {},
   "outputs": [],
   "source": [
    "pca_df.shape"
   ]
  },
  {
   "cell_type": "code",
   "execution_count": null,
   "metadata": {},
   "outputs": [],
   "source": [
    "# print explained variability by each of the first three principal components\n",
    "\n",
    "# do 3d plot of the first three principal components\n",
    "\n",
    "import matplotlib.pyplot as plt\n",
    "\n",
    "# Ensure interactive plotting\n",
    "plt.ion()\n",
    "\n",
    "# Create rotatable 3D plot\n",
    "fig = plt.figure()\n",
    "ax = fig.add_subplot(111, projection=\"3d\")\n",
    "# o = ax.scatter(X_pca[:, 0], X_pca[:, 1], X_pca[:, 2], c=labels, cmap=\"tab10\", alpha=0.5)\n",
    "o = ax.scatter(pca_df['PC1'], pca_df['PC2'], pca_df['PC3'], alpha=0.5)\n",
    "ax.set_xlabel(\"PC1\")\n",
    "ax.set_ylabel(\"PC2\")\n",
    "ax.set_zlabel(\"PC3\")\n",
    "\n",
    "plt.legend(*o.legend_elements(), title=\"Classes\")\n",
    "\n",
    "ax.view_init(10, 40)\n",
    "\n",
    "\n",
    "# Show the plot\n",
    "plt.show()\n",
    "\n",
    "\n",
    "# ACTUALLY, is there any sense to do PCA of categorical variables? I'm feeling that it's not the case. I'm not sure"
   ]
  },
  {
   "cell_type": "code",
   "execution_count": null,
   "metadata": {},
   "outputs": [],
   "source": [
    "# It doesn't make any sense to do PCA by default. To verify, but that's what I'm going to write in the report."
   ]
  },
  {
   "cell_type": "code",
   "execution_count": null,
   "metadata": {},
   "outputs": [],
   "source": [
    "pca_df.describe()"
   ]
  },
  {
   "cell_type": "code",
   "execution_count": null,
   "metadata": {},
   "outputs": [],
   "source": [
    "# count unique rows, given the first three principal components\n",
    "pca_df.drop_duplicates(subset=['PC1', 'PC2', 'PC3']).shape"
   ]
  },
  {
   "cell_type": "code",
   "execution_count": null,
   "metadata": {},
   "outputs": [],
   "source": [
    "# plot each of components against each other using subplots\n",
    "fig, ax = plt.subplots(1, 3\n",
    "                       )\n",
    "\n",
    "for i, component in enumerate(['PC1', 'PC2', 'PC3']):\n",
    "    ax[i].scatter(pca_df[component], pca_df['Power'], alpha=0.5)\n",
    "    ax[i].set_xlabel(component)\n",
    "    ax[i].set_ylabel('Power')\n",
    "    \n",
    "plt.show()"
   ]
  },
  {
   "cell_type": "code",
   "execution_count": null,
   "metadata": {},
   "outputs": [],
   "source": [
    "# print rows with empty values\n",
    "joined_dfs[joined_dfs.isnull().any(axis=1)]"
   ]
  },
  {
   "cell_type": "code",
   "execution_count": null,
   "metadata": {},
   "outputs": [],
   "source": [
    "joined_dfs.head()"
   ]
  },
  {
   "cell_type": "code",
   "execution_count": null,
   "metadata": {},
   "outputs": [],
   "source": [
    "# I'm not sure how to interpret this plot honestly. Saying that:\n",
    "# constant = wind_grouped_by_direction.Total / wind_grouped_by_direction.Speed helps anything, I'm not sure."
   ]
  },
  {
   "cell_type": "code",
   "execution_count": null,
   "metadata": {},
   "outputs": [],
   "source": [
    "# From that plot one could see that given an average windspeed, one could predict average power output, without considering the wind direction.\n",
    "# which suggests maybe it's not that important to consider wind direction in the model.\n",
    "# actually, a statistical test could be performed, because if these are means, these are normally distributed, and we could perform a t-test to see if the means are different.\n",
    "# so their ratio is distributed as cauchy, so can check that later."
   ]
  },
  {
   "cell_type": "code",
   "execution_count": null,
   "metadata": {},
   "outputs": [],
   "source": [
    "# Another check in determining the importance of wind direction is checking the correlation between wind direction and speed.abs\n",
    "# Also, another one would be just plotting windspeed given different directions (using colouring) and see if there's any difference in pattern\n",
    "# perhaps would be the best to draw them one vs one, but there would be 25 combinations, so that's a lot of plots.\n",
    "\n",
    "# let's check the correlation between wind direction and speed.abs on wind_df\n",
    "\n",
    "one_hot_encoded = pd.get_dummies(wind_df['Direction'])\n",
    "\n",
    "# compute the correlation between wind speed and each of the one-hot encoded wind directions\n",
    "correlations = one_hot_encoded.apply(lambda x: wind_df['Speed'].corr(x))\n",
    "correlations\n"
   ]
  },
  {
   "cell_type": "code",
   "execution_count": null,
   "metadata": {},
   "outputs": [],
   "source": [
    "# convert wind directions to radians. Now it's categorical like E, W, N, S, ENE, ESE etc.\n",
    "# so we need to convert them to degrees to be able to plot them on a circle.\n",
    "# we can use the following mapping:\n",
    "converstion = {\n",
    "    'N': 0,\n",
    "    'NNE': 22.5,\n",
    "    'NE': 45,\n",
    "    'ENE': 67.5,\n",
    "    'E': 90,\n",
    "    'ESE': 112.5,\n",
    "    'SE': 135,\n",
    "    'SSE': 157.5,\n",
    "    'S': 180,\n",
    "    'SSW': 202.5,\n",
    "    'SW': 225,\n",
    "    'WSW': 247.5,\n",
    "    'W': 270,\n",
    "    'WNW': 292.5,\n",
    "    'NW': 315,\n",
    "    'NNW': 337.5\n",
    "}\n",
    "\n",
    "wind_df['Wx'] = wind_df['Direction'].transform(lambda x: np.cos(converstion[x] * np.pi / 180))\n",
    "wind_df['Wy'] = wind_df['Direction'].transform(lambda x: np.sin(converstion[x] * np.pi / 180))\n",
    "# if the values are close to 0, then make them 0\n",
    "wind_df['Wx'] = wind_df['Wx'].transform(lambda x: 0 if abs(x) < 1e-10 else x)\n",
    "wind_df['Wy'] = wind_df['Wy'].transform(lambda x: 0 if abs(x) < 1e-10 else x)\n",
    "# now, these together repesent the unit vector of the wind direction"
   ]
  },
  {
   "cell_type": "code",
   "execution_count": null,
   "metadata": {},
   "outputs": [],
   "source": [
    "# again: compute the correlation, and plot both Wx against Speed and Wy against Speed\n",
    "correlations = wind_df[['Wx', 'Wy', 'Speed']].corr()\n",
    "print(correlations)\n",
    "\n",
    "fig, ax = plt.subplots(1, 2, figsize=(10, 5))\n",
    "\n",
    "ax[0].scatter(wind_df['Wx'], wind_df['Speed'])\n",
    "ax[0].set_xlabel('Wx')\n",
    "ax[0].set_ylabel('Speed')\n",
    "\n",
    "ax[1].scatter(wind_df['Wy'], wind_df['Speed'])\n",
    "ax[1].set_xlabel('Wy')\n",
    "ax[1].set_ylabel('Speed')\n",
    "\n",
    "plt.show()"
   ]
  },
  {
   "cell_type": "code",
   "execution_count": null,
   "metadata": {},
   "outputs": [],
   "source": [
    "# checking co"
   ]
  },
  {
   "cell_type": "code",
   "execution_count": null,
   "metadata": {},
   "outputs": [],
   "source": [
    "# how to encode these features?\n",
    "# As radians: imo very wrong, it's just 'sparse' ordinal encoding, for nominal data. Bad idea, though dimensionality is the smallest.\n",
    "# the second: one-hot encoding: I think could do fine, especially if some dimensionality reduction would be introduced. (PCA)\n",
    "# the last one: as a vector. That sound interesting, because here it should encapsulate all the necessary information in the smallest dimensionality possible.\n",
    "# Even though ordinality is introduced I guess it should be ounteracted by the ordinality of the second feature, so it should be fine.\n",
    "# But I'm not super sure. I will write an email to my professor asap. Gonna try with these two. Obviously here scaling shall not be applied.\n",
    "\n",
    "# Another issue: Should one scale categorical features? In my humble opinion, yes, because these still might have different variane - that's all.\n",
    "# But I need to think / talk about it haha. By default I will leave them in fact but I would do other way. But not sure. I think it's still pretty much worth it.\n",
    "# OK, let's think about it later."
   ]
  },
  {
   "cell_type": "code",
   "execution_count": null,
   "metadata": {},
   "outputs": [],
   "source": [
    "# https://web.archive.org/web/20220127105734/http://dr%C3%B8mst%C3%B8rre.dk/wp-content/wind/miller/windpower%20web/en/tour/wres/pwr.htm => super important!\n",
    "# Pitfalls in Using Power Curves\n",
    "# A power curve does not tell you how much power a wind turbine will produce at a certain average wind speed. You would not even be close, if you used that method!\n",
    "# Remember, that the energy content of the wind varies very strongly with the wind speed, as we saw in the section on the energy in the wind. So, it matters a lot how that average came about, i.e. if winds vary a lot, or if the wind blows at a relatively constant speed.\n",
    "# Also, you may remember from the example in the section on the power density function , that most of the wind energy is available at wind speeds which are twice the most common wind speed at the site.\n",
    "# Finally, we need to account for the fact that the turbine may not be running at standard air pressure and temperature, and consequently make corrections for changes in the density of air."
   ]
  },
  {
   "cell_type": "code",
   "execution_count": null,
   "metadata": {},
   "outputs": [],
   "source": []
  },
  {
   "cell_type": "code",
   "execution_count": null,
   "metadata": {},
   "outputs": [],
   "source": [
    "poly.get_feature_names_out()"
   ]
  },
  {
   "cell_type": "code",
   "execution_count": null,
   "metadata": {},
   "outputs": [],
   "source": [
    "# poly features\n",
    "from sklearn.preprocessing import PolynomialFeatures\n",
    "\n",
    "# create polynomial features\n",
    "poly = PolynomialFeatures(degree=3, include_bias=False, interaction_only=False)\n",
    "poly.set_output(transform=\"pandas\")\n",
    "poly_features = poly.fit_transform(x)\n",
    "poly_features"
   ]
  },
  {
   "cell_type": "markdown",
   "metadata": {},
   "source": [
    "**NOTE:** <em>These plots should already give us an intuition of the different relationships between features. It seems clear that there is a positive relationship between the wind speed and the power generation from the turbines, as we obviously suspected. But that relationship is not completely linear. Can you spot that? Finally, it seems like the power generation also depends of where the winds is coming from. Maybe this could also be a useful feature.</em> "
   ]
  },
  {
   "cell_type": "code",
   "execution_count": null,
   "metadata": {},
   "outputs": [],
   "source": [
    "# How much data back: let's try 30, 90 days and 1 year back perhaps? Let's try with 90 days first and a year and then talk. For that I would just perform experiments\n",
    "# haha :)\n",
    "# More days means more data, but obviously in the past some other could be in place - I mean, climate change, global warming etc. Methaphorically speaking, data can 'expire'."
   ]
  },
  {
   "cell_type": "markdown",
   "metadata": {},
   "source": [
    "In order to plot the relationship between wind speed and power generation we have performed a very simple join with the two datasets. But since the intervals are not the same, a lot of data is discarded (<em>can you spot where in the code this happens?</em>). You may want to explore other ways to merge the data sources to minimize the loss of information."
   ]
  },
  {
   "cell_type": "code",
   "execution_count": null,
   "metadata": {},
   "outputs": [],
   "source": [
    "### TODO -> DO SOME EXTRA EDA ON THE DATA ###"
   ]
  },
  {
   "cell_type": "markdown",
   "metadata": {},
   "source": [
    "# My Part"
   ]
  },
  {
   "cell_type": "markdown",
   "metadata": {},
   "source": [
    "For each model:\n",
    "1. Pull data (7, 90, a year). Log time. You can also log dataset haha, to have it as a point of reference. Log the dataset on its own :)\n",
    "2. Drop missing and drop outliers. (I drop missing: enough data, drop outliers - standard procedure.) Check for missing\n",
    "3. Do the cross val. For 7 days, use 4 weeks. For 90 years, use the whole year. For one year, use another year.\n",
    "4. Encode features and scale them appropriately. Log the way it's been done haha, including info on them.\n",
    "5. Output the score.\n"
   ]
  },
  {
   "cell_type": "code",
   "execution_count": 305,
   "metadata": {},
   "outputs": [],
   "source": [
    "from wind_power.dataset import InfluxDBClientWrapper, get_power_and_wind_data\n",
    "with InfluxDBClientWrapper() as client:\n",
    "    power_df, wind_df, today = get_power_and_wind_data(client, days=250, date=\"2025-02-10\")\n",
    "power_df=power_df[['Total']]\n",
    "joined_dfs = power_df.join(wind_df, how=\"right\")"
   ]
  },
  {
   "cell_type": "code",
   "execution_count": 306,
   "metadata": {},
   "outputs": [
    {
     "name": "stderr",
     "output_type": "stream",
     "text": [
      "<string>:10: FutureWarning: DataFrame.interpolate with object dtype is deprecated and will raise in a future version. Call obj.infer_objects(copy=False) before interpolating instead.\n",
      "<string>:11: FutureWarning: DataFrame.fillna with 'method' is deprecated and will raise in a future version. Use obj.ffill() or obj.bfill() instead.\n"
     ]
    }
   ],
   "source": [
    "from darts import TimeSeries\n",
    "from wind_power.features import robust_timeseries_imputer, DirectionEncodingTransformer\n",
    "\n",
    "\n",
    "joined_dfs = robust_timeseries_imputer(joined_dfs)\n",
    "joined_dfs = DirectionEncodingTransformer('vector').fit_transform(joined_dfs)\n",
    "b = TimeSeries.from_dataframe(joined_dfs)"
   ]
  },
  {
   "cell_type": "code",
   "execution_count": 307,
   "metadata": {},
   "outputs": [
    {
     "data": {
      "text/plain": [
       "VARIMA(p=1, d=0, q=0, trend=None, add_encoders=None)"
      ]
     },
     "execution_count": 307,
     "metadata": {},
     "output_type": "execute_result"
    }
   ],
   "source": [
    "from darts.models import VARIMA\n",
    "\n",
    "\n",
    "a = VARIMA()\n",
    "a.fit(b)"
   ]
  },
  {
   "cell_type": "code",
   "execution_count": 323,
   "metadata": {},
   "outputs": [
    {
     "data": {
      "text/html": [
       "<div><svg style=\"position: absolute; width: 0; height: 0; overflow: hidden\">\n",
       "<defs>\n",
       "<symbol id=\"icon-database\" viewBox=\"0 0 32 32\">\n",
       "<path d=\"M16 0c-8.837 0-16 2.239-16 5v4c0 2.761 7.163 5 16 5s16-2.239 16-5v-4c0-2.761-7.163-5-16-5z\"></path>\n",
       "<path d=\"M16 17c-8.837 0-16-2.239-16-5v6c0 2.761 7.163 5 16 5s16-2.239 16-5v-6c0 2.761-7.163 5-16 5z\"></path>\n",
       "<path d=\"M16 26c-8.837 0-16-2.239-16-5v6c0 2.761 7.163 5 16 5s16-2.239 16-5v-6c0 2.761-7.163 5-16 5z\"></path>\n",
       "</symbol>\n",
       "<symbol id=\"icon-file-text2\" viewBox=\"0 0 32 32\">\n",
       "<path d=\"M28.681 7.159c-0.694-0.947-1.662-2.053-2.724-3.116s-2.169-2.030-3.116-2.724c-1.612-1.182-2.393-1.319-2.841-1.319h-15.5c-1.378 0-2.5 1.121-2.5 2.5v27c0 1.378 1.122 2.5 2.5 2.5h23c1.378 0 2.5-1.122 2.5-2.5v-19.5c0-0.448-0.137-1.23-1.319-2.841zM24.543 5.457c0.959 0.959 1.712 1.825 2.268 2.543h-4.811v-4.811c0.718 0.556 1.584 1.309 2.543 2.268zM28 29.5c0 0.271-0.229 0.5-0.5 0.5h-23c-0.271 0-0.5-0.229-0.5-0.5v-27c0-0.271 0.229-0.5 0.5-0.5 0 0 15.499-0 15.5 0v7c0 0.552 0.448 1 1 1h7v19.5z\"></path>\n",
       "<path d=\"M23 26h-14c-0.552 0-1-0.448-1-1s0.448-1 1-1h14c0.552 0 1 0.448 1 1s-0.448 1-1 1z\"></path>\n",
       "<path d=\"M23 22h-14c-0.552 0-1-0.448-1-1s0.448-1 1-1h14c0.552 0 1 0.448 1 1s-0.448 1-1 1z\"></path>\n",
       "<path d=\"M23 18h-14c-0.552 0-1-0.448-1-1s0.448-1 1-1h14c0.552 0 1 0.448 1 1s-0.448 1-1 1z\"></path>\n",
       "</symbol>\n",
       "</defs>\n",
       "</svg>\n",
       "<style>/* CSS stylesheet for displaying xarray objects in jupyterlab.\n",
       " *\n",
       " */\n",
       "\n",
       ":root {\n",
       "  --xr-font-color0: var(--jp-content-font-color0, rgba(0, 0, 0, 1));\n",
       "  --xr-font-color2: var(--jp-content-font-color2, rgba(0, 0, 0, 0.54));\n",
       "  --xr-font-color3: var(--jp-content-font-color3, rgba(0, 0, 0, 0.38));\n",
       "  --xr-border-color: var(--jp-border-color2, #e0e0e0);\n",
       "  --xr-disabled-color: var(--jp-layout-color3, #bdbdbd);\n",
       "  --xr-background-color: var(--jp-layout-color0, white);\n",
       "  --xr-background-color-row-even: var(--jp-layout-color1, white);\n",
       "  --xr-background-color-row-odd: var(--jp-layout-color2, #eeeeee);\n",
       "}\n",
       "\n",
       "html[theme=\"dark\"],\n",
       "html[data-theme=\"dark\"],\n",
       "body[data-theme=\"dark\"],\n",
       "body.vscode-dark {\n",
       "  --xr-font-color0: rgba(255, 255, 255, 1);\n",
       "  --xr-font-color2: rgba(255, 255, 255, 0.54);\n",
       "  --xr-font-color3: rgba(255, 255, 255, 0.38);\n",
       "  --xr-border-color: #1f1f1f;\n",
       "  --xr-disabled-color: #515151;\n",
       "  --xr-background-color: #111111;\n",
       "  --xr-background-color-row-even: #111111;\n",
       "  --xr-background-color-row-odd: #313131;\n",
       "}\n",
       "\n",
       ".xr-wrap {\n",
       "  display: block !important;\n",
       "  min-width: 300px;\n",
       "  max-width: 700px;\n",
       "}\n",
       "\n",
       ".xr-text-repr-fallback {\n",
       "  /* fallback to plain text repr when CSS is not injected (untrusted notebook) */\n",
       "  display: none;\n",
       "}\n",
       "\n",
       ".xr-header {\n",
       "  padding-top: 6px;\n",
       "  padding-bottom: 6px;\n",
       "  margin-bottom: 4px;\n",
       "  border-bottom: solid 1px var(--xr-border-color);\n",
       "}\n",
       "\n",
       ".xr-header > div,\n",
       ".xr-header > ul {\n",
       "  display: inline;\n",
       "  margin-top: 0;\n",
       "  margin-bottom: 0;\n",
       "}\n",
       "\n",
       ".xr-obj-type,\n",
       ".xr-array-name {\n",
       "  margin-left: 2px;\n",
       "  margin-right: 10px;\n",
       "}\n",
       "\n",
       ".xr-obj-type {\n",
       "  color: var(--xr-font-color2);\n",
       "}\n",
       "\n",
       ".xr-sections {\n",
       "  padding-left: 0 !important;\n",
       "  display: grid;\n",
       "  grid-template-columns: 150px auto auto 1fr 0 20px 0 20px;\n",
       "}\n",
       "\n",
       ".xr-section-item {\n",
       "  display: contents;\n",
       "}\n",
       "\n",
       ".xr-section-item input {\n",
       "  display: inline-block;\n",
       "  opacity: 0;\n",
       "  height: 0;\n",
       "}\n",
       "\n",
       ".xr-section-item input + label {\n",
       "  color: var(--xr-disabled-color);\n",
       "}\n",
       "\n",
       ".xr-section-item input:enabled + label {\n",
       "  cursor: pointer;\n",
       "  color: var(--xr-font-color2);\n",
       "}\n",
       "\n",
       ".xr-section-item input:focus + label {\n",
       "  border: 2px solid var(--xr-font-color0);\n",
       "}\n",
       "\n",
       ".xr-section-item input:enabled + label:hover {\n",
       "  color: var(--xr-font-color0);\n",
       "}\n",
       "\n",
       ".xr-section-summary {\n",
       "  grid-column: 1;\n",
       "  color: var(--xr-font-color2);\n",
       "  font-weight: 500;\n",
       "}\n",
       "\n",
       ".xr-section-summary > span {\n",
       "  display: inline-block;\n",
       "  padding-left: 0.5em;\n",
       "}\n",
       "\n",
       ".xr-section-summary-in:disabled + label {\n",
       "  color: var(--xr-font-color2);\n",
       "}\n",
       "\n",
       ".xr-section-summary-in + label:before {\n",
       "  display: inline-block;\n",
       "  content: \"►\";\n",
       "  font-size: 11px;\n",
       "  width: 15px;\n",
       "  text-align: center;\n",
       "}\n",
       "\n",
       ".xr-section-summary-in:disabled + label:before {\n",
       "  color: var(--xr-disabled-color);\n",
       "}\n",
       "\n",
       ".xr-section-summary-in:checked + label:before {\n",
       "  content: \"▼\";\n",
       "}\n",
       "\n",
       ".xr-section-summary-in:checked + label > span {\n",
       "  display: none;\n",
       "}\n",
       "\n",
       ".xr-section-summary,\n",
       ".xr-section-inline-details {\n",
       "  padding-top: 4px;\n",
       "  padding-bottom: 4px;\n",
       "}\n",
       "\n",
       ".xr-section-inline-details {\n",
       "  grid-column: 2 / -1;\n",
       "}\n",
       "\n",
       ".xr-section-details {\n",
       "  display: none;\n",
       "  grid-column: 1 / -1;\n",
       "  margin-bottom: 5px;\n",
       "}\n",
       "\n",
       ".xr-section-summary-in:checked ~ .xr-section-details {\n",
       "  display: contents;\n",
       "}\n",
       "\n",
       ".xr-array-wrap {\n",
       "  grid-column: 1 / -1;\n",
       "  display: grid;\n",
       "  grid-template-columns: 20px auto;\n",
       "}\n",
       "\n",
       ".xr-array-wrap > label {\n",
       "  grid-column: 1;\n",
       "  vertical-align: top;\n",
       "}\n",
       "\n",
       ".xr-preview {\n",
       "  color: var(--xr-font-color3);\n",
       "}\n",
       "\n",
       ".xr-array-preview,\n",
       ".xr-array-data {\n",
       "  padding: 0 5px !important;\n",
       "  grid-column: 2;\n",
       "}\n",
       "\n",
       ".xr-array-data,\n",
       ".xr-array-in:checked ~ .xr-array-preview {\n",
       "  display: none;\n",
       "}\n",
       "\n",
       ".xr-array-in:checked ~ .xr-array-data,\n",
       ".xr-array-preview {\n",
       "  display: inline-block;\n",
       "}\n",
       "\n",
       ".xr-dim-list {\n",
       "  display: inline-block !important;\n",
       "  list-style: none;\n",
       "  padding: 0 !important;\n",
       "  margin: 0;\n",
       "}\n",
       "\n",
       ".xr-dim-list li {\n",
       "  display: inline-block;\n",
       "  padding: 0;\n",
       "  margin: 0;\n",
       "}\n",
       "\n",
       ".xr-dim-list:before {\n",
       "  content: \"(\";\n",
       "}\n",
       "\n",
       ".xr-dim-list:after {\n",
       "  content: \")\";\n",
       "}\n",
       "\n",
       ".xr-dim-list li:not(:last-child):after {\n",
       "  content: \",\";\n",
       "  padding-right: 5px;\n",
       "}\n",
       "\n",
       ".xr-has-index {\n",
       "  font-weight: bold;\n",
       "}\n",
       "\n",
       ".xr-var-list,\n",
       ".xr-var-item {\n",
       "  display: contents;\n",
       "}\n",
       "\n",
       ".xr-var-item > div,\n",
       ".xr-var-item label,\n",
       ".xr-var-item > .xr-var-name span {\n",
       "  background-color: var(--xr-background-color-row-even);\n",
       "  margin-bottom: 0;\n",
       "}\n",
       "\n",
       ".xr-var-item > .xr-var-name:hover span {\n",
       "  padding-right: 5px;\n",
       "}\n",
       "\n",
       ".xr-var-list > li:nth-child(odd) > div,\n",
       ".xr-var-list > li:nth-child(odd) > label,\n",
       ".xr-var-list > li:nth-child(odd) > .xr-var-name span {\n",
       "  background-color: var(--xr-background-color-row-odd);\n",
       "}\n",
       "\n",
       ".xr-var-name {\n",
       "  grid-column: 1;\n",
       "}\n",
       "\n",
       ".xr-var-dims {\n",
       "  grid-column: 2;\n",
       "}\n",
       "\n",
       ".xr-var-dtype {\n",
       "  grid-column: 3;\n",
       "  text-align: right;\n",
       "  color: var(--xr-font-color2);\n",
       "}\n",
       "\n",
       ".xr-var-preview {\n",
       "  grid-column: 4;\n",
       "}\n",
       "\n",
       ".xr-index-preview {\n",
       "  grid-column: 2 / 5;\n",
       "  color: var(--xr-font-color2);\n",
       "}\n",
       "\n",
       ".xr-var-name,\n",
       ".xr-var-dims,\n",
       ".xr-var-dtype,\n",
       ".xr-preview,\n",
       ".xr-attrs dt {\n",
       "  white-space: nowrap;\n",
       "  overflow: hidden;\n",
       "  text-overflow: ellipsis;\n",
       "  padding-right: 10px;\n",
       "}\n",
       "\n",
       ".xr-var-name:hover,\n",
       ".xr-var-dims:hover,\n",
       ".xr-var-dtype:hover,\n",
       ".xr-attrs dt:hover {\n",
       "  overflow: visible;\n",
       "  width: auto;\n",
       "  z-index: 1;\n",
       "}\n",
       "\n",
       ".xr-var-attrs,\n",
       ".xr-var-data,\n",
       ".xr-index-data {\n",
       "  display: none;\n",
       "  background-color: var(--xr-background-color) !important;\n",
       "  padding-bottom: 5px !important;\n",
       "}\n",
       "\n",
       ".xr-var-attrs-in:checked ~ .xr-var-attrs,\n",
       ".xr-var-data-in:checked ~ .xr-var-data,\n",
       ".xr-index-data-in:checked ~ .xr-index-data {\n",
       "  display: block;\n",
       "}\n",
       "\n",
       ".xr-var-data > table {\n",
       "  float: right;\n",
       "}\n",
       "\n",
       ".xr-var-name span,\n",
       ".xr-var-data,\n",
       ".xr-index-name div,\n",
       ".xr-index-data,\n",
       ".xr-attrs {\n",
       "  padding-left: 25px !important;\n",
       "}\n",
       "\n",
       ".xr-attrs,\n",
       ".xr-var-attrs,\n",
       ".xr-var-data,\n",
       ".xr-index-data {\n",
       "  grid-column: 1 / -1;\n",
       "}\n",
       "\n",
       "dl.xr-attrs {\n",
       "  padding: 0;\n",
       "  margin: 0;\n",
       "  display: grid;\n",
       "  grid-template-columns: 125px auto;\n",
       "}\n",
       "\n",
       ".xr-attrs dt,\n",
       ".xr-attrs dd {\n",
       "  padding: 0;\n",
       "  margin: 0;\n",
       "  float: left;\n",
       "  padding-right: 10px;\n",
       "  width: auto;\n",
       "}\n",
       "\n",
       ".xr-attrs dt {\n",
       "  font-weight: normal;\n",
       "  grid-column: 1;\n",
       "}\n",
       "\n",
       ".xr-attrs dt:hover span {\n",
       "  display: inline-block;\n",
       "  background: var(--xr-background-color);\n",
       "  padding-right: 10px;\n",
       "}\n",
       "\n",
       ".xr-attrs dd {\n",
       "  grid-column: 2;\n",
       "  white-space: pre-wrap;\n",
       "  word-break: break-all;\n",
       "}\n",
       "\n",
       ".xr-icon-database,\n",
       ".xr-icon-file-text2,\n",
       ".xr-no-icon {\n",
       "  display: inline-block;\n",
       "  vertical-align: middle;\n",
       "  width: 1em;\n",
       "  height: 1.5em !important;\n",
       "  stroke-width: 0;\n",
       "  stroke: currentColor;\n",
       "  fill: currentColor;\n",
       "}\n",
       "</style><pre class='xr-text-repr-fallback'>&lt;TimeSeries (DataArray) (time: 30, component: 4, sample: 1)&gt; Size: 960B\n",
       "array([[[-0.81835044],\n",
       "        [ 0.28259768],\n",
       "        [ 7.74912582],\n",
       "        [ 4.20918838]],\n",
       "\n",
       "       [[-0.72504456],\n",
       "        [ 0.19849614],\n",
       "        [ 8.37633644],\n",
       "        [ 4.38391116]],\n",
       "\n",
       "       [[-0.64283811],\n",
       "        [ 0.12834168],\n",
       "        [ 8.7929555 ],\n",
       "        [ 4.53698217]],\n",
       "\n",
       "       [[-0.57056767],\n",
       "        [ 0.07019814],\n",
       "        [ 9.05823954],\n",
       "        [ 4.66364391]],\n",
       "\n",
       "...\n",
       "\n",
       "       [[-0.06171424],\n",
       "        [-0.13922161],\n",
       "        [ 6.39476396],\n",
       "        [ 3.6211306 ]],\n",
       "\n",
       "       [[-0.05739733],\n",
       "        [-0.13633376],\n",
       "        [ 6.23340992],\n",
       "        [ 3.53278297]],\n",
       "\n",
       "       [[-0.05348585],\n",
       "        [-0.13338988],\n",
       "        [ 6.07467635],\n",
       "        [ 3.44545849]],\n",
       "\n",
       "       [[-0.04993609],\n",
       "        [-0.13041155],\n",
       "        [ 5.91869801],\n",
       "        [ 3.35929634]]])\n",
       "Coordinates:\n",
       "  * time       (time) datetime64[ns] 240B 2025-02-10T03:00:00 ... 2025-02-13T...\n",
       "  * component  (component) object 32B &#x27;Wx&#x27; &#x27;Wy&#x27; &#x27;Total&#x27; &#x27;Speed&#x27;\n",
       "Dimensions without coordinates: sample\n",
       "Attributes:\n",
       "    static_covariates:  None\n",
       "    hierarchy:          None</pre><div class='xr-wrap' style='display:none'><div class='xr-header'><div class='xr-obj-type'>TimeSeries (DataArray)</div><div class='xr-array-name'></div><ul class='xr-dim-list'><li><span class='xr-has-index'>time</span>: 30</li><li><span class='xr-has-index'>component</span>: 4</li><li><span>sample</span>: 1</li></ul></div><ul class='xr-sections'><li class='xr-section-item'><div class='xr-array-wrap'><input id='section-9367cb60-b732-4067-9aaf-c1ee20c6b68c' class='xr-array-in' type='checkbox' checked><label for='section-9367cb60-b732-4067-9aaf-c1ee20c6b68c' title='Show/hide data repr'><svg class='icon xr-icon-database'><use xlink:href='#icon-database'></use></svg></label><div class='xr-array-preview xr-preview'><span>-0.8184 0.2826 7.749 4.209 -0.725 ... -0.04994 -0.1304 5.919 3.359</span></div><div class='xr-array-data'><pre>array([[[-0.81835044],\n",
       "        [ 0.28259768],\n",
       "        [ 7.74912582],\n",
       "        [ 4.20918838]],\n",
       "\n",
       "       [[-0.72504456],\n",
       "        [ 0.19849614],\n",
       "        [ 8.37633644],\n",
       "        [ 4.38391116]],\n",
       "\n",
       "       [[-0.64283811],\n",
       "        [ 0.12834168],\n",
       "        [ 8.7929555 ],\n",
       "        [ 4.53698217]],\n",
       "\n",
       "       [[-0.57056767],\n",
       "        [ 0.07019814],\n",
       "        [ 9.05823954],\n",
       "        [ 4.66364391]],\n",
       "\n",
       "...\n",
       "\n",
       "       [[-0.06171424],\n",
       "        [-0.13922161],\n",
       "        [ 6.39476396],\n",
       "        [ 3.6211306 ]],\n",
       "\n",
       "       [[-0.05739733],\n",
       "        [-0.13633376],\n",
       "        [ 6.23340992],\n",
       "        [ 3.53278297]],\n",
       "\n",
       "       [[-0.05348585],\n",
       "        [-0.13338988],\n",
       "        [ 6.07467635],\n",
       "        [ 3.44545849]],\n",
       "\n",
       "       [[-0.04993609],\n",
       "        [-0.13041155],\n",
       "        [ 5.91869801],\n",
       "        [ 3.35929634]]])</pre></div></div></li><li class='xr-section-item'><input id='section-493c01a0-8e4f-4e84-9817-b7eebb437158' class='xr-section-summary-in' type='checkbox'  checked><label for='section-493c01a0-8e4f-4e84-9817-b7eebb437158' class='xr-section-summary' >Coordinates: <span>(2)</span></label><div class='xr-section-inline-details'></div><div class='xr-section-details'><ul class='xr-var-list'><li class='xr-var-item'><div class='xr-var-name'><span class='xr-has-index'>time</span></div><div class='xr-var-dims'>(time)</div><div class='xr-var-dtype'>datetime64[ns]</div><div class='xr-var-preview xr-preview'>2025-02-10T03:00:00 ... 2025-02-...</div><input id='attrs-4e21dc51-ad2e-4b20-a8c3-0ad0e75e443e' class='xr-var-attrs-in' type='checkbox' disabled><label for='attrs-4e21dc51-ad2e-4b20-a8c3-0ad0e75e443e' title='Show/Hide attributes'><svg class='icon xr-icon-file-text2'><use xlink:href='#icon-file-text2'></use></svg></label><input id='data-bdc170bf-6602-4797-9282-81ba8ff23e58' class='xr-var-data-in' type='checkbox'><label for='data-bdc170bf-6602-4797-9282-81ba8ff23e58' title='Show/Hide data repr'><svg class='icon xr-icon-database'><use xlink:href='#icon-database'></use></svg></label><div class='xr-var-attrs'><dl class='xr-attrs'></dl></div><div class='xr-var-data'><pre>array([&#x27;2025-02-10T03:00:00.000000000&#x27;, &#x27;2025-02-10T06:00:00.000000000&#x27;,\n",
       "       &#x27;2025-02-10T09:00:00.000000000&#x27;, &#x27;2025-02-10T12:00:00.000000000&#x27;,\n",
       "       &#x27;2025-02-10T15:00:00.000000000&#x27;, &#x27;2025-02-10T18:00:00.000000000&#x27;,\n",
       "       &#x27;2025-02-10T21:00:00.000000000&#x27;, &#x27;2025-02-11T00:00:00.000000000&#x27;,\n",
       "       &#x27;2025-02-11T03:00:00.000000000&#x27;, &#x27;2025-02-11T06:00:00.000000000&#x27;,\n",
       "       &#x27;2025-02-11T09:00:00.000000000&#x27;, &#x27;2025-02-11T12:00:00.000000000&#x27;,\n",
       "       &#x27;2025-02-11T15:00:00.000000000&#x27;, &#x27;2025-02-11T18:00:00.000000000&#x27;,\n",
       "       &#x27;2025-02-11T21:00:00.000000000&#x27;, &#x27;2025-02-12T00:00:00.000000000&#x27;,\n",
       "       &#x27;2025-02-12T03:00:00.000000000&#x27;, &#x27;2025-02-12T06:00:00.000000000&#x27;,\n",
       "       &#x27;2025-02-12T09:00:00.000000000&#x27;, &#x27;2025-02-12T12:00:00.000000000&#x27;,\n",
       "       &#x27;2025-02-12T15:00:00.000000000&#x27;, &#x27;2025-02-12T18:00:00.000000000&#x27;,\n",
       "       &#x27;2025-02-12T21:00:00.000000000&#x27;, &#x27;2025-02-13T00:00:00.000000000&#x27;,\n",
       "       &#x27;2025-02-13T03:00:00.000000000&#x27;, &#x27;2025-02-13T06:00:00.000000000&#x27;,\n",
       "       &#x27;2025-02-13T09:00:00.000000000&#x27;, &#x27;2025-02-13T12:00:00.000000000&#x27;,\n",
       "       &#x27;2025-02-13T15:00:00.000000000&#x27;, &#x27;2025-02-13T18:00:00.000000000&#x27;],\n",
       "      dtype=&#x27;datetime64[ns]&#x27;)</pre></div></li><li class='xr-var-item'><div class='xr-var-name'><span class='xr-has-index'>component</span></div><div class='xr-var-dims'>(component)</div><div class='xr-var-dtype'>object</div><div class='xr-var-preview xr-preview'>&#x27;Wx&#x27; &#x27;Wy&#x27; &#x27;Total&#x27; &#x27;Speed&#x27;</div><input id='attrs-1f0c78e0-26ee-4d7e-b870-451cffec148e' class='xr-var-attrs-in' type='checkbox' disabled><label for='attrs-1f0c78e0-26ee-4d7e-b870-451cffec148e' title='Show/Hide attributes'><svg class='icon xr-icon-file-text2'><use xlink:href='#icon-file-text2'></use></svg></label><input id='data-536c70b7-9d91-4d68-8cc2-caa36aa2d06f' class='xr-var-data-in' type='checkbox'><label for='data-536c70b7-9d91-4d68-8cc2-caa36aa2d06f' title='Show/Hide data repr'><svg class='icon xr-icon-database'><use xlink:href='#icon-database'></use></svg></label><div class='xr-var-attrs'><dl class='xr-attrs'></dl></div><div class='xr-var-data'><pre>array([&#x27;Wx&#x27;, &#x27;Wy&#x27;, &#x27;Total&#x27;, &#x27;Speed&#x27;], dtype=object)</pre></div></li></ul></div></li><li class='xr-section-item'><input id='section-efa6712a-ef0b-4e9c-9c93-fdcbe3fd20e1' class='xr-section-summary-in' type='checkbox'  ><label for='section-efa6712a-ef0b-4e9c-9c93-fdcbe3fd20e1' class='xr-section-summary' >Indexes: <span>(2)</span></label><div class='xr-section-inline-details'></div><div class='xr-section-details'><ul class='xr-var-list'><li class='xr-var-item'><div class='xr-index-name'><div>time</div></div><div class='xr-index-preview'>PandasIndex</div><input type='checkbox' disabled/><label></label><input id='index-5c6fd1a6-bad9-4460-8ea2-7f296bdf79b8' class='xr-index-data-in' type='checkbox'/><label for='index-5c6fd1a6-bad9-4460-8ea2-7f296bdf79b8' title='Show/Hide index repr'><svg class='icon xr-icon-database'><use xlink:href='#icon-database'></use></svg></label><div class='xr-index-data'><pre>PandasIndex(DatetimeIndex([&#x27;2025-02-10 03:00:00&#x27;, &#x27;2025-02-10 06:00:00&#x27;,\n",
       "               &#x27;2025-02-10 09:00:00&#x27;, &#x27;2025-02-10 12:00:00&#x27;,\n",
       "               &#x27;2025-02-10 15:00:00&#x27;, &#x27;2025-02-10 18:00:00&#x27;,\n",
       "               &#x27;2025-02-10 21:00:00&#x27;, &#x27;2025-02-11 00:00:00&#x27;,\n",
       "               &#x27;2025-02-11 03:00:00&#x27;, &#x27;2025-02-11 06:00:00&#x27;,\n",
       "               &#x27;2025-02-11 09:00:00&#x27;, &#x27;2025-02-11 12:00:00&#x27;,\n",
       "               &#x27;2025-02-11 15:00:00&#x27;, &#x27;2025-02-11 18:00:00&#x27;,\n",
       "               &#x27;2025-02-11 21:00:00&#x27;, &#x27;2025-02-12 00:00:00&#x27;,\n",
       "               &#x27;2025-02-12 03:00:00&#x27;, &#x27;2025-02-12 06:00:00&#x27;,\n",
       "               &#x27;2025-02-12 09:00:00&#x27;, &#x27;2025-02-12 12:00:00&#x27;,\n",
       "               &#x27;2025-02-12 15:00:00&#x27;, &#x27;2025-02-12 18:00:00&#x27;,\n",
       "               &#x27;2025-02-12 21:00:00&#x27;, &#x27;2025-02-13 00:00:00&#x27;,\n",
       "               &#x27;2025-02-13 03:00:00&#x27;, &#x27;2025-02-13 06:00:00&#x27;,\n",
       "               &#x27;2025-02-13 09:00:00&#x27;, &#x27;2025-02-13 12:00:00&#x27;,\n",
       "               &#x27;2025-02-13 15:00:00&#x27;, &#x27;2025-02-13 18:00:00&#x27;],\n",
       "              dtype=&#x27;datetime64[ns]&#x27;, name=&#x27;time&#x27;, freq=&#x27;3h&#x27;))</pre></div></li><li class='xr-var-item'><div class='xr-index-name'><div>component</div></div><div class='xr-index-preview'>PandasIndex</div><input type='checkbox' disabled/><label></label><input id='index-b499c8f5-b358-4b9f-9cda-31e9ff3feb86' class='xr-index-data-in' type='checkbox'/><label for='index-b499c8f5-b358-4b9f-9cda-31e9ff3feb86' title='Show/Hide index repr'><svg class='icon xr-icon-database'><use xlink:href='#icon-database'></use></svg></label><div class='xr-index-data'><pre>PandasIndex(Index([&#x27;Wx&#x27;, &#x27;Wy&#x27;, &#x27;Total&#x27;, &#x27;Speed&#x27;], dtype=&#x27;object&#x27;, name=&#x27;component&#x27;))</pre></div></li></ul></div></li><li class='xr-section-item'><input id='section-c4510f97-69e4-4401-a054-50a8176c95cf' class='xr-section-summary-in' type='checkbox'  checked><label for='section-c4510f97-69e4-4401-a054-50a8176c95cf' class='xr-section-summary' >Attributes: <span>(2)</span></label><div class='xr-section-inline-details'></div><div class='xr-section-details'><dl class='xr-attrs'><dt><span>static_covariates :</span></dt><dd>None</dd><dt><span>hierarchy :</span></dt><dd>None</dd></dl></div></li></ul></div></div>"
      ],
      "text/plain": [
       "<TimeSeries (DataArray) (time: 30, component: 4, sample: 1)> Size: 960B\n",
       "array([[[-0.81835044],\n",
       "        [ 0.28259768],\n",
       "        [ 7.74912582],\n",
       "        [ 4.20918838]],\n",
       "\n",
       "       [[-0.72504456],\n",
       "        [ 0.19849614],\n",
       "        [ 8.37633644],\n",
       "        [ 4.38391116]],\n",
       "\n",
       "       [[-0.64283811],\n",
       "        [ 0.12834168],\n",
       "        [ 8.7929555 ],\n",
       "        [ 4.53698217]],\n",
       "\n",
       "       [[-0.57056767],\n",
       "        [ 0.07019814],\n",
       "        [ 9.05823954],\n",
       "        [ 4.66364391]],\n",
       "\n",
       "...\n",
       "\n",
       "       [[-0.06171424],\n",
       "        [-0.13922161],\n",
       "        [ 6.39476396],\n",
       "        [ 3.6211306 ]],\n",
       "\n",
       "       [[-0.05739733],\n",
       "        [-0.13633376],\n",
       "        [ 6.23340992],\n",
       "        [ 3.53278297]],\n",
       "\n",
       "       [[-0.05348585],\n",
       "        [-0.13338988],\n",
       "        [ 6.07467635],\n",
       "        [ 3.44545849]],\n",
       "\n",
       "       [[-0.04993609],\n",
       "        [-0.13041155],\n",
       "        [ 5.91869801],\n",
       "        [ 3.35929634]]])\n",
       "Coordinates:\n",
       "  * time       (time) datetime64[ns] 240B 2025-02-10T03:00:00 ... 2025-02-13T...\n",
       "  * component  (component) object 32B 'Wx' 'Wy' 'Total' 'Speed'\n",
       "Dimensions without coordinates: sample\n",
       "Attributes:\n",
       "    static_covariates:  None\n",
       "    hierarchy:          None"
      ]
     },
     "execution_count": 323,
     "metadata": {},
     "output_type": "execute_result"
    }
   ],
   "source": [
    "a.predict(30)"
   ]
  },
  {
   "cell_type": "code",
   "execution_count": null,
   "metadata": {},
   "outputs": [
    {
     "ename": "NameError",
     "evalue": "name 'Pipeline' is not defined",
     "output_type": "error",
     "traceback": [
      "\u001b[31m---------------------------------------------------------------------------\u001b[39m",
      "\u001b[31mNameError\u001b[39m                                 Traceback (most recent call last)",
      "\u001b[36mCell\u001b[39m\u001b[36m \u001b[39m\u001b[32mIn[322]\u001b[39m\u001b[32m, line 11\u001b[39m\n\u001b[32m      7\u001b[39m wind_df.drop(columns=[\u001b[33m\"\u001b[39m\u001b[33mLead_hours\u001b[39m\u001b[33m\"\u001b[39m, \u001b[33m\"\u001b[39m\u001b[33mSource_time\u001b[39m\u001b[33m\"\u001b[39m], inplace=\u001b[38;5;28;01mTrue\u001b[39;00m)\n\u001b[32m      9\u001b[39m joined_dfs = power_df.join(wind_df, how=\u001b[33m\"\u001b[39m\u001b[33mright\u001b[39m\u001b[33m\"\u001b[39m)\n\u001b[32m---> \u001b[39m\u001b[32m11\u001b[39m pipeline = \u001b[43mPipeline\u001b[49m(\n\u001b[32m     12\u001b[39m     [\n\u001b[32m     13\u001b[39m         (\u001b[33m\"\u001b[39m\u001b[33mimpute\u001b[39m\u001b[33m\"\u001b[39m, FunctionTransformer(robust_timeseries_imputer)),\n\u001b[32m     14\u001b[39m         (\u001b[33m\"\u001b[39m\u001b[33mencode\u001b[39m\u001b[33m\"\u001b[39m, DirectionEncodingTransformer(\u001b[33m\"\u001b[39m\u001b[33mvector\u001b[39m\u001b[33m\"\u001b[39m)),\n\u001b[32m     15\u001b[39m         (\n\u001b[32m     16\u001b[39m             \u001b[33m\"\u001b[39m\u001b[33mtimeseries\u001b[39m\u001b[33m\"\u001b[39m,\n\u001b[32m     17\u001b[39m             FunctionTransformer(\u001b[38;5;28;01mlambda\u001b[39;00m df: TimeSeries.from_dataframe(df)),\n\u001b[32m     18\u001b[39m         ),\n\u001b[32m     19\u001b[39m         (\u001b[33m\"\u001b[39m\u001b[33mModel\u001b[39m\u001b[33m\"\u001b[39m, VARIMA()),\n\u001b[32m     20\u001b[39m     ]\n\u001b[32m     21\u001b[39m )\n\u001b[32m     22\u001b[39m \u001b[38;5;28mprint\u001b[39m(pipeline.fit(joined_dfs).predict(\u001b[32m30\u001b[39m))\n",
      "\u001b[31mNameError\u001b[39m: name 'Pipeline' is not defined"
     ]
    }
   ],
   "source": [
    "\n",
    "with InfluxDBClientWrapper() as client:\n",
    "    power_df, wind_df, today = get_power_and_wind_data(\n",
    "        client, days=250, date=\"2025-02-10\"\n",
    "    )\n",
    "\n",
    "power_df = power_df[[\"Total\"]]\n",
    "wind_df.drop(columns=[\"Lead_hours\", \"Source_time\"], inplace=True)\n",
    "\n",
    "joined_dfs = power_df.join(wind_df, how=\"right\")\n",
    "\n",
    "pipeline = Pipeline(\n",
    "    [\n",
    "        (\"impute\", FunctionTransformer(robust_timeseries_imputer)),\n",
    "        (\"encode\", DirectionEncodingTransformer(\"vector\")),\n",
    "        (\n",
    "            \"timeseries\",\n",
    "            FunctionTransformer(lambda df: TimeSeries.from_dataframe(df)),\n",
    "        ),\n",
    "        (\"Model\", VARIMA()),\n",
    "    ]\n",
    ")\n",
    "print(pipeline.fit(joined_dfs).predict(30))\n",
    "\n"
   ]
  },
  {
   "cell_type": "code",
   "execution_count": 303,
   "metadata": {},
   "outputs": [
    {
     "data": {
      "image/png": "[encoded data removed]",
      "text/plain": [
       "<Figure size 640x480 with 1 Axes>"
      ]
     },
     "metadata": {},
     "output_type": "display_data"
    }
   ],
   "source": [
    "import matplotlib.pyplot as plt\n",
    "plt.figure()\n",
    "plt.plot(joined_dfs['Total'])\n",
    "plt.show()"
   ]
  },
  {
   "cell_type": "code",
   "execution_count": 159,
   "metadata": {},
   "outputs": [
    {
     "data": {
      "text/html": [
       "<div>\n",
       "<style scoped>\n",
       "    .dataframe tbody tr th:only-of-type {\n",
       "        vertical-align: middle;\n",
       "    }\n",
       "\n",
       "    .dataframe tbody tr th {\n",
       "        vertical-align: top;\n",
       "    }\n",
       "\n",
       "    .dataframe thead th {\n",
       "        text-align: right;\n",
       "    }\n",
       "</style>\n",
       "<table border=\"1\" class=\"dataframe\">\n",
       "  <thead>\n",
       "    <tr style=\"text-align: right;\">\n",
       "      <th></th>\n",
       "      <th>Direction</th>\n",
       "      <th>Lead_hours</th>\n",
       "      <th>Source_time</th>\n",
       "      <th>Speed</th>\n",
       "    </tr>\n",
       "    <tr>\n",
       "      <th>time</th>\n",
       "      <th></th>\n",
       "      <th></th>\n",
       "      <th></th>\n",
       "      <th></th>\n",
       "    </tr>\n",
       "  </thead>\n",
       "  <tbody>\n",
       "    <tr>\n",
       "      <th>2024-06-05 03:00:00+00:00</th>\n",
       "      <td>W</td>\n",
       "      <td>1</td>\n",
       "      <td>1717545600</td>\n",
       "      <td>9.83488</td>\n",
       "    </tr>\n",
       "    <tr>\n",
       "      <th>2024-06-05 06:00:00+00:00</th>\n",
       "      <td>W</td>\n",
       "      <td>1</td>\n",
       "      <td>1717556400</td>\n",
       "      <td>8.94080</td>\n",
       "    </tr>\n",
       "    <tr>\n",
       "      <th>2024-06-05 09:00:00+00:00</th>\n",
       "      <td>W</td>\n",
       "      <td>1</td>\n",
       "      <td>1717567200</td>\n",
       "      <td>11.17600</td>\n",
       "    </tr>\n",
       "    <tr>\n",
       "      <th>2024-06-05 12:00:00+00:00</th>\n",
       "      <td>W</td>\n",
       "      <td>1</td>\n",
       "      <td>1717578000</td>\n",
       "      <td>11.17600</td>\n",
       "    </tr>\n",
       "    <tr>\n",
       "      <th>2024-06-05 15:00:00+00:00</th>\n",
       "      <td>W</td>\n",
       "      <td>1</td>\n",
       "      <td>1717588800</td>\n",
       "      <td>9.83488</td>\n",
       "    </tr>\n",
       "  </tbody>\n",
       "</table>\n",
       "</div>"
      ],
      "text/plain": [
       "                          Direction Lead_hours  Source_time     Speed\n",
       "time                                                                 \n",
       "2024-06-05 03:00:00+00:00         W          1   1717545600   9.83488\n",
       "2024-06-05 06:00:00+00:00         W          1   1717556400   8.94080\n",
       "2024-06-05 09:00:00+00:00         W          1   1717567200  11.17600\n",
       "2024-06-05 12:00:00+00:00         W          1   1717578000  11.17600\n",
       "2024-06-05 15:00:00+00:00         W          1   1717588800   9.83488"
      ]
     },
     "execution_count": 159,
     "metadata": {},
     "output_type": "execute_result"
    }
   ],
   "source": [
    "# power_df = pd.read_csv('./power_df.csv', index_col='time', usecols=['Total', 'time'])\n",
    "# wind_df = pd.read_csv('./wind_df.csv', index_col='time')\n",
    "power_df.head()\n",
    "wind_df.head()"
   ]
  },
  {
   "cell_type": "code",
   "execution_count": 320,
   "metadata": {},
   "outputs": [
    {
     "data": {
      "image/png": "[encoded data removed]",
      "text/plain": [
       "<Figure size 640x480 with 1 Axes>"
      ]
     },
     "metadata": {},
     "output_type": "display_data"
    }
   ],
   "source": [
    "plt.figure()\n",
    "plt.plot(joined_dfs.iloc[100:100+3*8*2])\n",
    "plt.show()"
   ]
  },
  {
   "cell_type": "code",
   "execution_count": 311,
   "metadata": {},
   "outputs": [
    {
     "data": {
      "image/png": "[encoded data removed]",
      "text/plain": [
       "<Figure size 640x480 with 1 Axes>"
      ]
     },
     "metadata": {},
     "output_type": "display_data"
    }
   ],
   "source": [
    "p=a.predict(360).pd_dataframe()['Total']\n",
    "plt.figure()\n",
    "plt.plot(pd.concat([joined_dfs['Total'], p]))\n",
    "plt.show()"
   ]
  },
  {
   "cell_type": "code",
   "execution_count": 4,
   "metadata": {},
   "outputs": [
    {
     "data": {
      "text/html": [
       "<div>\n",
       "<style scoped>\n",
       "    .dataframe tbody tr th:only-of-type {\n",
       "        vertical-align: middle;\n",
       "    }\n",
       "\n",
       "    .dataframe tbody tr th {\n",
       "        vertical-align: top;\n",
       "    }\n",
       "\n",
       "    .dataframe thead th {\n",
       "        text-align: right;\n",
       "    }\n",
       "</style>\n",
       "<table border=\"1\" class=\"dataframe\">\n",
       "  <thead>\n",
       "    <tr style=\"text-align: right;\">\n",
       "      <th></th>\n",
       "      <th>direction__Wx</th>\n",
       "      <th>direction__Wy</th>\n",
       "      <th>speed_poly__Speed</th>\n",
       "      <th>speed_poly__Speed^2</th>\n",
       "      <th>speed_poly__Speed^3</th>\n",
       "      <th>direction__Wx_X_speed_poly__Speed</th>\n",
       "      <th>direction__Wx_X_speed_poly__Speed^2</th>\n",
       "      <th>direction__Wx_X_speed_poly__Speed^3</th>\n",
       "      <th>direction__Wy_X_speed_poly__Speed</th>\n",
       "      <th>direction__Wy_X_speed_poly__Speed^2</th>\n",
       "      <th>direction__Wy_X_speed_poly__Speed^3</th>\n",
       "      <th>bias</th>\n",
       "    </tr>\n",
       "    <tr>\n",
       "      <th>time</th>\n",
       "      <th></th>\n",
       "      <th></th>\n",
       "      <th></th>\n",
       "      <th></th>\n",
       "      <th></th>\n",
       "      <th></th>\n",
       "      <th></th>\n",
       "      <th></th>\n",
       "      <th></th>\n",
       "      <th></th>\n",
       "      <th></th>\n",
       "      <th></th>\n",
       "    </tr>\n",
       "  </thead>\n",
       "  <tbody>\n",
       "    <tr>\n",
       "      <th>2024-12-07 15:00:00+00:00</th>\n",
       "      <td>1.000000e+00</td>\n",
       "      <td>0.000000</td>\n",
       "      <td>21.01088</td>\n",
       "      <td>441.457078</td>\n",
       "      <td>9275.401699</td>\n",
       "      <td>2.101088e+01</td>\n",
       "      <td>4.414571e+02</td>\n",
       "      <td>9.275402e+03</td>\n",
       "      <td>0.000000</td>\n",
       "      <td>0.000000</td>\n",
       "      <td>0.000000</td>\n",
       "      <td>1</td>\n",
       "    </tr>\n",
       "    <tr>\n",
       "      <th>2024-12-07 18:00:00+00:00</th>\n",
       "      <td>1.000000e+00</td>\n",
       "      <td>0.000000</td>\n",
       "      <td>19.22272</td>\n",
       "      <td>369.512964</td>\n",
       "      <td>7103.044247</td>\n",
       "      <td>1.922272e+01</td>\n",
       "      <td>3.695130e+02</td>\n",
       "      <td>7.103044e+03</td>\n",
       "      <td>0.000000</td>\n",
       "      <td>0.000000</td>\n",
       "      <td>0.000000</td>\n",
       "      <td>1</td>\n",
       "    </tr>\n",
       "    <tr>\n",
       "      <th>2024-12-07 21:00:00+00:00</th>\n",
       "      <td>1.000000e+00</td>\n",
       "      <td>0.000000</td>\n",
       "      <td>15.19936</td>\n",
       "      <td>231.020544</td>\n",
       "      <td>3511.364422</td>\n",
       "      <td>1.519936e+01</td>\n",
       "      <td>2.310205e+02</td>\n",
       "      <td>3.511364e+03</td>\n",
       "      <td>0.000000</td>\n",
       "      <td>0.000000</td>\n",
       "      <td>0.000000</td>\n",
       "      <td>1</td>\n",
       "    </tr>\n",
       "    <tr>\n",
       "      <th>2024-12-08 00:00:00+00:00</th>\n",
       "      <td>1.000000e+00</td>\n",
       "      <td>0.000000</td>\n",
       "      <td>12.96416</td>\n",
       "      <td>168.069445</td>\n",
       "      <td>2178.879170</td>\n",
       "      <td>1.296416e+01</td>\n",
       "      <td>1.680694e+02</td>\n",
       "      <td>2.178879e+03</td>\n",
       "      <td>0.000000</td>\n",
       "      <td>0.000000</td>\n",
       "      <td>0.000000</td>\n",
       "      <td>1</td>\n",
       "    </tr>\n",
       "    <tr>\n",
       "      <th>2024-12-08 03:00:00+00:00</th>\n",
       "      <td>1.000000e+00</td>\n",
       "      <td>0.000000</td>\n",
       "      <td>16.09344</td>\n",
       "      <td>258.998811</td>\n",
       "      <td>4168.181825</td>\n",
       "      <td>1.609344e+01</td>\n",
       "      <td>2.589988e+02</td>\n",
       "      <td>4.168182e+03</td>\n",
       "      <td>0.000000</td>\n",
       "      <td>0.000000</td>\n",
       "      <td>0.000000</td>\n",
       "      <td>1</td>\n",
       "    </tr>\n",
       "    <tr>\n",
       "      <th>...</th>\n",
       "      <td>...</td>\n",
       "      <td>...</td>\n",
       "      <td>...</td>\n",
       "      <td>...</td>\n",
       "      <td>...</td>\n",
       "      <td>...</td>\n",
       "      <td>...</td>\n",
       "      <td>...</td>\n",
       "      <td>...</td>\n",
       "      <td>...</td>\n",
       "      <td>...</td>\n",
       "      <td>...</td>\n",
       "    </tr>\n",
       "    <tr>\n",
       "      <th>2025-03-07 00:00:00+00:00</th>\n",
       "      <td>-7.071068e-01</td>\n",
       "      <td>-0.707107</td>\n",
       "      <td>12.07008</td>\n",
       "      <td>145.686831</td>\n",
       "      <td>1758.451708</td>\n",
       "      <td>-8.534835e+00</td>\n",
       "      <td>-1.030161e+02</td>\n",
       "      <td>-1.243413e+03</td>\n",
       "      <td>-8.534835</td>\n",
       "      <td>-103.016146</td>\n",
       "      <td>-1243.413127</td>\n",
       "      <td>1</td>\n",
       "    </tr>\n",
       "    <tr>\n",
       "      <th>2025-03-07 03:00:00+00:00</th>\n",
       "      <td>-7.071068e-01</td>\n",
       "      <td>-0.707107</td>\n",
       "      <td>16.09344</td>\n",
       "      <td>258.998811</td>\n",
       "      <td>4168.181825</td>\n",
       "      <td>-1.137978e+01</td>\n",
       "      <td>-1.831398e+02</td>\n",
       "      <td>-2.947350e+03</td>\n",
       "      <td>-11.379781</td>\n",
       "      <td>-183.139816</td>\n",
       "      <td>-2947.349634</td>\n",
       "      <td>1</td>\n",
       "    </tr>\n",
       "    <tr>\n",
       "      <th>2025-03-07 06:00:00+00:00</th>\n",
       "      <td>-1.836970e-16</td>\n",
       "      <td>-1.000000</td>\n",
       "      <td>15.19936</td>\n",
       "      <td>231.020544</td>\n",
       "      <td>3511.364422</td>\n",
       "      <td>-2.792077e-15</td>\n",
       "      <td>-4.243779e-14</td>\n",
       "      <td>-6.450272e-13</td>\n",
       "      <td>-15.199360</td>\n",
       "      <td>-231.020544</td>\n",
       "      <td>-3511.364422</td>\n",
       "      <td>1</td>\n",
       "    </tr>\n",
       "    <tr>\n",
       "      <th>2025-03-07 09:00:00+00:00</th>\n",
       "      <td>-1.836970e-16</td>\n",
       "      <td>-1.000000</td>\n",
       "      <td>8.94080</td>\n",
       "      <td>79.937905</td>\n",
       "      <td>714.708818</td>\n",
       "      <td>-1.642398e-15</td>\n",
       "      <td>-1.468435e-14</td>\n",
       "      <td>-1.312899e-13</td>\n",
       "      <td>-8.940800</td>\n",
       "      <td>-79.937905</td>\n",
       "      <td>-714.708818</td>\n",
       "      <td>1</td>\n",
       "    </tr>\n",
       "    <tr>\n",
       "      <th>2025-03-07 12:00:00+00:00</th>\n",
       "      <td>-3.826834e-01</td>\n",
       "      <td>-0.923880</td>\n",
       "      <td>4.91744</td>\n",
       "      <td>24.181216</td>\n",
       "      <td>118.909680</td>\n",
       "      <td>-1.881823e+00</td>\n",
       "      <td>-9.253751e+00</td>\n",
       "      <td>-4.550476e+01</td>\n",
       "      <td>-4.543122</td>\n",
       "      <td>-22.340531</td>\n",
       "      <td>-109.858219</td>\n",
       "      <td>1</td>\n",
       "    </tr>\n",
       "  </tbody>\n",
       "</table>\n",
       "<p>720 rows × 12 columns</p>\n",
       "</div>"
      ],
      "text/plain": [
       "                           direction__Wx  direction__Wy  speed_poly__Speed  \\\n",
       "time                                                                         \n",
       "2024-12-07 15:00:00+00:00   1.000000e+00       0.000000           21.01088   \n",
       "2024-12-07 18:00:00+00:00   1.000000e+00       0.000000           19.22272   \n",
       "2024-12-07 21:00:00+00:00   1.000000e+00       0.000000           15.19936   \n",
       "2024-12-08 00:00:00+00:00   1.000000e+00       0.000000           12.96416   \n",
       "2024-12-08 03:00:00+00:00   1.000000e+00       0.000000           16.09344   \n",
       "...                                  ...            ...                ...   \n",
       "2025-03-07 00:00:00+00:00  -7.071068e-01      -0.707107           12.07008   \n",
       "2025-03-07 03:00:00+00:00  -7.071068e-01      -0.707107           16.09344   \n",
       "2025-03-07 06:00:00+00:00  -1.836970e-16      -1.000000           15.19936   \n",
       "2025-03-07 09:00:00+00:00  -1.836970e-16      -1.000000            8.94080   \n",
       "2025-03-07 12:00:00+00:00  -3.826834e-01      -0.923880            4.91744   \n",
       "\n",
       "                           speed_poly__Speed^2  speed_poly__Speed^3  \\\n",
       "time                                                                  \n",
       "2024-12-07 15:00:00+00:00           441.457078          9275.401699   \n",
       "2024-12-07 18:00:00+00:00           369.512964          7103.044247   \n",
       "2024-12-07 21:00:00+00:00           231.020544          3511.364422   \n",
       "2024-12-08 00:00:00+00:00           168.069445          2178.879170   \n",
       "2024-12-08 03:00:00+00:00           258.998811          4168.181825   \n",
       "...                                        ...                  ...   \n",
       "2025-03-07 00:00:00+00:00           145.686831          1758.451708   \n",
       "2025-03-07 03:00:00+00:00           258.998811          4168.181825   \n",
       "2025-03-07 06:00:00+00:00           231.020544          3511.364422   \n",
       "2025-03-07 09:00:00+00:00            79.937905           714.708818   \n",
       "2025-03-07 12:00:00+00:00            24.181216           118.909680   \n",
       "\n",
       "                           direction__Wx_X_speed_poly__Speed  \\\n",
       "time                                                           \n",
       "2024-12-07 15:00:00+00:00                       2.101088e+01   \n",
       "2024-12-07 18:00:00+00:00                       1.922272e+01   \n",
       "2024-12-07 21:00:00+00:00                       1.519936e+01   \n",
       "2024-12-08 00:00:00+00:00                       1.296416e+01   \n",
       "2024-12-08 03:00:00+00:00                       1.609344e+01   \n",
       "...                                                      ...   \n",
       "2025-03-07 00:00:00+00:00                      -8.534835e+00   \n",
       "2025-03-07 03:00:00+00:00                      -1.137978e+01   \n",
       "2025-03-07 06:00:00+00:00                      -2.792077e-15   \n",
       "2025-03-07 09:00:00+00:00                      -1.642398e-15   \n",
       "2025-03-07 12:00:00+00:00                      -1.881823e+00   \n",
       "\n",
       "                           direction__Wx_X_speed_poly__Speed^2  \\\n",
       "time                                                             \n",
       "2024-12-07 15:00:00+00:00                         4.414571e+02   \n",
       "2024-12-07 18:00:00+00:00                         3.695130e+02   \n",
       "2024-12-07 21:00:00+00:00                         2.310205e+02   \n",
       "2024-12-08 00:00:00+00:00                         1.680694e+02   \n",
       "2024-12-08 03:00:00+00:00                         2.589988e+02   \n",
       "...                                                        ...   \n",
       "2025-03-07 00:00:00+00:00                        -1.030161e+02   \n",
       "2025-03-07 03:00:00+00:00                        -1.831398e+02   \n",
       "2025-03-07 06:00:00+00:00                        -4.243779e-14   \n",
       "2025-03-07 09:00:00+00:00                        -1.468435e-14   \n",
       "2025-03-07 12:00:00+00:00                        -9.253751e+00   \n",
       "\n",
       "                           direction__Wx_X_speed_poly__Speed^3  \\\n",
       "time                                                             \n",
       "2024-12-07 15:00:00+00:00                         9.275402e+03   \n",
       "2024-12-07 18:00:00+00:00                         7.103044e+03   \n",
       "2024-12-07 21:00:00+00:00                         3.511364e+03   \n",
       "2024-12-08 00:00:00+00:00                         2.178879e+03   \n",
       "2024-12-08 03:00:00+00:00                         4.168182e+03   \n",
       "...                                                        ...   \n",
       "2025-03-07 00:00:00+00:00                        -1.243413e+03   \n",
       "2025-03-07 03:00:00+00:00                        -2.947350e+03   \n",
       "2025-03-07 06:00:00+00:00                        -6.450272e-13   \n",
       "2025-03-07 09:00:00+00:00                        -1.312899e-13   \n",
       "2025-03-07 12:00:00+00:00                        -4.550476e+01   \n",
       "\n",
       "                           direction__Wy_X_speed_poly__Speed  \\\n",
       "time                                                           \n",
       "2024-12-07 15:00:00+00:00                           0.000000   \n",
       "2024-12-07 18:00:00+00:00                           0.000000   \n",
       "2024-12-07 21:00:00+00:00                           0.000000   \n",
       "2024-12-08 00:00:00+00:00                           0.000000   \n",
       "2024-12-08 03:00:00+00:00                           0.000000   \n",
       "...                                                      ...   \n",
       "2025-03-07 00:00:00+00:00                          -8.534835   \n",
       "2025-03-07 03:00:00+00:00                         -11.379781   \n",
       "2025-03-07 06:00:00+00:00                         -15.199360   \n",
       "2025-03-07 09:00:00+00:00                          -8.940800   \n",
       "2025-03-07 12:00:00+00:00                          -4.543122   \n",
       "\n",
       "                           direction__Wy_X_speed_poly__Speed^2  \\\n",
       "time                                                             \n",
       "2024-12-07 15:00:00+00:00                             0.000000   \n",
       "2024-12-07 18:00:00+00:00                             0.000000   \n",
       "2024-12-07 21:00:00+00:00                             0.000000   \n",
       "2024-12-08 00:00:00+00:00                             0.000000   \n",
       "2024-12-08 03:00:00+00:00                             0.000000   \n",
       "...                                                        ...   \n",
       "2025-03-07 00:00:00+00:00                          -103.016146   \n",
       "2025-03-07 03:00:00+00:00                          -183.139816   \n",
       "2025-03-07 06:00:00+00:00                          -231.020544   \n",
       "2025-03-07 09:00:00+00:00                           -79.937905   \n",
       "2025-03-07 12:00:00+00:00                           -22.340531   \n",
       "\n",
       "                           direction__Wy_X_speed_poly__Speed^3  bias  \n",
       "time                                                                  \n",
       "2024-12-07 15:00:00+00:00                             0.000000     1  \n",
       "2024-12-07 18:00:00+00:00                             0.000000     1  \n",
       "2024-12-07 21:00:00+00:00                             0.000000     1  \n",
       "2024-12-08 00:00:00+00:00                             0.000000     1  \n",
       "2024-12-08 03:00:00+00:00                             0.000000     1  \n",
       "...                                                        ...   ...  \n",
       "2025-03-07 00:00:00+00:00                         -1243.413127     1  \n",
       "2025-03-07 03:00:00+00:00                         -2947.349634     1  \n",
       "2025-03-07 06:00:00+00:00                         -3511.364422     1  \n",
       "2025-03-07 09:00:00+00:00                          -714.708818     1  \n",
       "2025-03-07 12:00:00+00:00                          -109.858219     1  \n",
       "\n",
       "[720 rows x 12 columns]"
      ]
     },
     "execution_count": 4,
     "metadata": {},
     "output_type": "execute_result"
    }
   ],
   "source": [
    "from wind_power.grid_search import pipe\n",
    "pipe.named_steps['obtain_feats'].fit_transform(wind_df)"
   ]
  },
  {
   "cell_type": "code",
   "execution_count": null,
   "metadata": {},
   "outputs": [],
   "source": []
  },
  {
   "cell_type": "markdown",
   "metadata": {},
   "source": [
    "## Step 2: Pipeline and data transformations"
   ]
  },
  {
   "cell_type": "markdown",
   "metadata": {},
   "source": [
    "Now that we have our data, we need to construct the pipeline to process this data and pass it to our Machine Learning model. For this, you may find useful the Pipeline class from Scikit-Learn.\n",
    "\n",
    "This class applies a list of transforms to your data, and pass the final state to an estimator (your model). Intermediate steps of the pipeline must be ‘transforms’, that is, they must implement fit and transform methods. The final estimator only needs to implement fit. \n",
    "\n",
    "The purpose of the pipeline is to assemble several steps that can be cross-validated together while setting different parameters. For this, it enables setting parameters of the various steps using their names and the parameter name separated by a '__'. \n",
    "\n",
    "You can find more information about Scikit-Learn's Pipeline [here](https://scikit-learn.org/stable/modules/compose.html#pipeline)."
   ]
  },
  {
   "cell_type": "markdown",
   "metadata": {},
   "source": [
    "#### Example"
   ]
  },
  {
   "cell_type": "code",
   "execution_count": null,
   "metadata": {},
   "outputs": [],
   "source": [
    "# A very basic pipeline\n",
    "pipeline_example = Pipeline([\n",
    "    # Transformations\n",
    "    (\"Scaler\", StandardScaler()),\n",
    "    # Estimator\n",
    "    (\"Linear Regression\", LinearRegression())\n",
    "])"
   ]
  },
  {
   "cell_type": "code",
   "execution_count": null,
   "metadata": {},
   "outputs": [],
   "source": [
    "### TODO -> CREATE YOUR OWN PIPELINE ###\n",
    "# Create your pipeline with the desired transformers\n",
    "pipeline = Pipeline([\n",
    "\n",
    "    # Transformer 1\n",
    "    # Transformer 2\n",
    "    # ...\n",
    "    # Final estimator\n",
    "])"
   ]
  },
  {
   "cell_type": "code",
   "execution_count": null,
   "metadata": {},
   "outputs": [],
   "source": [
    "# "
   ]
  },
  {
   "cell_type": "markdown",
   "metadata": {},
   "source": [
    "## Evaluate your model"
   ]
  },
  {
   "cell_type": "markdown",
   "metadata": {},
   "source": [
    "Now that you have a preprocessing pipeline ready, along with the final estimator, you may want to know how well your model performs. Choose the method you prefer, with special attention to the selected metric."
   ]
  },
  {
   "cell_type": "markdown",
   "metadata": {},
   "source": [
    "#### Example"
   ]
  },
  {
   "cell_type": "code",
   "execution_count": null,
   "metadata": {},
   "outputs": [],
   "source": [
    "# Select our feature variables and our target variable.\n",
    "joined_dfs = power_df.join(wind_df).dropna()\n",
    "\n",
    "X = joined_dfs[\"Speed\"].values.reshape(-1,1)\n",
    "y = joined_dfs[\"Total\"].values.reshape(-1,1)\n",
    "\n",
    "# Split the data so we can test how well our model performs in unseen data\n",
    "X_train, X_test, y_train, y_test = train_test_split(X, y) # -> You might want to use another split method\n",
    "\n",
    "# Train our model\n",
    "pipeline_example.fit(X_train, y_train)\n",
    "\n",
    "# Evaluate the model, using MAE as a metric\n",
    "mae = mean_absolute_error(pipeline_example.predict(X_test), y_test)\n",
    "print(mae)"
   ]
  },
  {
   "cell_type": "markdown",
   "metadata": {},
   "source": [
    "**HINTS:** <em>Pay special attention to this type of data: We are dealing with Time series data (i.e. data that is recorded over consistent intervals of time). It might be a good idea not to **randomly** split the data, since it wouldn't respect the temporal order and may cause data-leakage, unintentionally inferring the trend of future samples.</em> "
   ]
  },
  {
   "cell_type": "code",
   "execution_count": null,
   "metadata": {},
   "outputs": [],
   "source": [
    "# Use your preferred method to evaluate your model\n",
    "### TODO -> SPLIT THE DATA INTO TRAIN AND TEST SETS, AND EVALUATE YOUR MODEL ###"
   ]
  },
  {
   "cell_type": "code",
   "execution_count": null,
   "metadata": {},
   "outputs": [],
   "source": [
    "# Everything here:\n"
   ]
  },
  {
   "cell_type": "markdown",
   "metadata": {},
   "source": [
    "## Step 3: Tracking your experiments with MLFlow"
   ]
  },
  {
   "cell_type": "markdown",
   "metadata": {},
   "source": [
    "We have a working model with a certain accuracy. But wouldn't it be better to try different parameters and different models before deciding for one? <br><br>\n",
    "This is exactly what we will do using the MLFlow library. MLflow is an open source platform to manage the ML lifecycle, including experimentation, reproducibility, deployment, and a central model registry. This will allow us for easy comparison of all our model experiments. <br>\n",
    "\n",
    "**NOTE:**<em> Don't forget to check the [MLFlow documentation](https://mlflow.org/docs/latest/index.html) to learn more about the library.</em>"
   ]
  },
  {
   "cell_type": "markdown",
   "metadata": {},
   "source": [
    "#### Example"
   ]
  },
  {
   "cell_type": "markdown",
   "metadata": {},
   "source": [
    "When using MLFlow locally to log our experiments, we need to start a \"local server\". We can do this easily by running the following in our command line interface:\n",
    "\n",
    "```\n",
    "mlflow server\n",
    "```\n",
    "\n",
    "For example, using PowerShell, it should look like this:\n",
    "\n",
    "![MLFlow Server](https://github.com/ginofazzi/testing/raw/0d3ffce58ee12f6d1c86b6a3c2ac628314e7b82e/mlflow_server.png)\n",
    "\n",
    "In this example, we can see that the server is located at our localhost 127.0.0.1, port 5000. We will use this information to indicate MLFlow where to save our experiment details."
   ]
  },
  {
   "cell_type": "code",
   "execution_count": null,
   "metadata": {},
   "outputs": [],
   "source": [
    "# Start an MLflow run\n",
    "mlflow.sklearn.autolog() # This is to help us track scikit learn metrics.\n",
    "mlflow.set_tracking_uri(\"http://127.0.0.1:5000\") # We set the MLFlow UI to display in our local host.\n",
    "\n",
    "# Set the experiment and run name\n",
    "experiment_name = \"LinearRegression-Example\" # I suggest using a different experiment for each model\n",
    "run_name = \"Simple_regression\" # I suggest using a different run name for each tried parameter\n",
    "\n",
    "mlflow.set_experiment(experiment_name)\n",
    "\n",
    "with mlflow.start_run(run_name=run_name) as run:\n",
    "    \n",
    "    # Train our model\n",
    "    pipeline_example.fit(X_train, y_train)\n",
    "\n",
    "    # Evaluate the model, using MAE as a metric\n",
    "    predictions = pipeline_example.predict(X_test)\n",
    "    mae = mean_absolute_error(predictions, y_test)\n",
    "\n",
    "    mlflow.log_metric(\"MAE\", mae)\n"
   ]
  },
  {
   "cell_type": "code",
   "execution_count": null,
   "metadata": {},
   "outputs": [],
   "source": [
    "### TODO -> SET YOUR OWN EXPERIMENT SETUP ###\n",
    "\"\"\"\n",
    "Here, you may want to stop and think what is the best way to iterate(!) through all the models and experiments you want to try.\n",
    "Instead of running your code everytime you want to change something, you could try to list all your desired experiments and\n",
    "run them all sequentially in one go (gridsearch style).\n",
    "\"\"\""
   ]
  },
  {
   "cell_type": "markdown",
   "metadata": {},
   "source": [
    "## Comparing models"
   ]
  },
  {
   "cell_type": "markdown",
   "metadata": {},
   "source": [
    "Now we have run our experiment(s), trying different pre-processing steps, models and parameters. To easily compare the results from our experiments, we can use the MLFlow interface."
   ]
  },
  {
   "cell_type": "markdown",
   "metadata": {},
   "source": [
    "#### Example"
   ]
  },
  {
   "cell_type": "markdown",
   "metadata": {},
   "source": [
    "We have been logging our experiments in our local server. We can access the UI by opening the localhost address in any browser. When opening the server in the browser, we should see something like this:\n",
    "\n",
    "![MLFlow UI](https://github.com/ginofazzi/testing/raw/0d3ffce58ee12f6d1c86b6a3c2ac628314e7b82e/MLFLowUI.png)\n",
    "\n",
    "In this example, we can see the list of all our experiments in the left, and for each experiment a table with all the different runs.\n",
    "\n",
    "**NOTE:**<em> This example contains only one run for the experiment. When logging multiple runs with different parameters/metrics, you will be able to easily compare them using the \"Chart View\". Make sure to try this out.</em>\n"
   ]
  },
  {
   "cell_type": "markdown",
   "metadata": {},
   "source": [
    "## Saving the best model"
   ]
  },
  {
   "cell_type": "markdown",
   "metadata": {},
   "source": [
    "Now that we have tried many different models with different parameters, we might want to save the best one. To do this, we can use again the UI:\n",
    "\n",
    "1. In the Experiments list, select the model you want to save. In the Table view, select the version of that model (Run name).\n",
    "2. On the left, you will see all the experiment's run details (Parameters, metrics, and ML Project files). Click on \"Register Model\".\n",
    "3. Now, on the \"Models\" tab, you will be able to see your saved model.\n",
    "\n",
    "![MLFlow save model](https://github.com/ginofazzi/testing/raw/0d3ffce58ee12f6d1c86b6a3c2ac628314e7b82e/MLFLow-save_model-1.png)\n",
    "\n",
    "In case of doubt, you can check the documentation [HERE](https://mlflow.org/docs/latest/model-registry.html)."
   ]
  },
  {
   "cell_type": "markdown",
   "metadata": {},
   "source": [
    "## Step 4: Using a saved model"
   ]
  },
  {
   "cell_type": "markdown",
   "metadata": {},
   "source": [
    "Now that we have saved our best model, we might want to use it for future predictions. We can retrieve the weather forecasts for the next days, and make predictions of power generation."
   ]
  },
  {
   "cell_type": "markdown",
   "metadata": {},
   "source": [
    "#### Example"
   ]
  },
  {
   "cell_type": "markdown",
   "metadata": {},
   "source": [
    "First we need the new forecast data:"
   ]
  },
  {
   "cell_type": "code",
   "execution_count": null,
   "metadata": {},
   "outputs": [],
   "source": [
    "# Get all future forecasts regardless of lead time\n",
    "forecasts  = client.query(\n",
    "    \"SELECT * FROM MetForecasts where time > now()\") # Query written in InfluxQL\n",
    "\n",
    "# Transform the result set into a dataframe\n",
    "forecasts = set_to_dataframe(forecasts)\n",
    "\n",
    "# Limit to only the newest source time, so we have the latest forecast only\n",
    "newest_forecasts = forecasts.loc[forecasts[\"Source_time\"] == forecasts[\"Source_time\"].max()].copy()"
   ]
  },
  {
   "cell_type": "markdown",
   "metadata": {},
   "source": [
    "Then, we can retrieve any saved model and use it to predict on the new data:"
   ]
  },
  {
   "cell_type": "code",
   "execution_count": null,
   "metadata": {},
   "outputs": [],
   "source": [
    "# Specify the model details\n",
    "model_name = \"LinearRegression-Example\"\n",
    "model_version = 1\n",
    "\n",
    "# Use MLFlow to load the saved model\n",
    "model = mlflow.pyfunc.load_model(model_uri=f\"models:/{model_name}/{model_version}\")\n",
    "\n",
    "# Use the saved model to predict the power generation\n",
    "predictions = model.predict(newest_forecasts[\"Speed\"])\n",
    "\n",
    "# We can transform the predictions array to a Pandas DataFrame\n",
    "predictions = pd.DataFrame(predictions, index=newest_forecasts.index, columns=[\"Power\"])\n",
    "predictions.head()"
   ]
  },
  {
   "cell_type": "markdown",
   "metadata": {},
   "source": [
    "### Retrain your model and keep the best one"
   ]
  },
  {
   "cell_type": "markdown",
   "metadata": {},
   "source": [
    "Now we now how to retrieve saved models, it might be a good idea to validate our models troughout time, with new data, and keep the best one every time."
   ]
  },
  {
   "cell_type": "code",
   "execution_count": null,
   "metadata": {},
   "outputs": [],
   "source": [
    "### TODO -> INSERT YOUR CODE HERE ###\n",
    "\"\"\"\n",
    "You might want to think how to systematically test your model with new data, \n",
    "compare with the metrics of the best saved model, and update your model if \n",
    "necessary. \n",
    "\"\"\""
   ]
  },
  {
   "cell_type": "markdown",
   "metadata": {},
   "source": [
    "## Step 5: Deploying your model"
   ]
  },
  {
   "cell_type": "markdown",
   "metadata": {},
   "source": [
    "So far, we have trained several models and saved the best for predictions. But we have been working locally. Often times, we will want to deploy our model in such a way that other people can take advantage of it, by sending a request with data and getting back predictions. To do this, we need to create an endopoint for our model to receive data. This is done through deployment of the model."
   ]
  },
  {
   "cell_type": "markdown",
   "metadata": {},
   "source": [
    "To deploy our model, we first need to serve the model. Serving a model refers to the process of making a trained machine learning model available to receive input data and provide predictions or inferences based on that data. In other words, when you serve a model, you set it up in a way that it can be queried with new data, and it will produce predictions or outputs based on the patterns it learned during training.\n",
    "\n",
    "Serving a model is a critical step in the machine learning lifecycle, as it allows you to leverage the model's predictive capabilities in real-world applications. When a model is served, it becomes accessible to applications, websites, or other systems that need to utilize its predictions."
   ]
  },
  {
   "cell_type": "markdown",
   "metadata": {},
   "source": [
    "To deploy your model, follow section 3.3 from the Assignment PDF. If you want to learn how to deploy models from the Jupyter Notebook, try out the tutorial notebook at examples/sklearn_elasticnet_wine/train.ipynb. You can find it on the [MLFlow Tutorial](https://mlflow.org/docs/latest/tutorials-and-examples/tutorial.html). \n",
    "\n"
   ]
  }
 ],
 "metadata": {
  "kernelspec": {
   "display_name": "a1_lsda2025",
   "language": "python",
   "name": "python3"
  },
  "language_info": {
   "codemirror_mode": {
    "name": "ipython",
    "version": 3
   },
   "file_extension": ".py",
   "mimetype": "text/x-python",
   "name": "python",
   "nbconvert_exporter": "python",
   "pygments_lexer": "ipython3",
   "version": "3.11.7"
  }
 },
 "nbformat": 4,
 "nbformat_minor": 2
}
