{
 "cells": [
  {
   "cell_type": "markdown",
   "metadata": {},
   "source": [
    "# Assignment 1\n",
    "# Data Pipelines & Data Analytics Life Cycle\n",
    "# Forecasting the Wind Power Production in Orkney"
   ]
  },
  {
   "cell_type": "markdown",
   "metadata": {},
   "source": [
    "#### Environment and Libraries"
   ]
  },
  {
   "cell_type": "markdown",
   "metadata": {},
   "source": [
    "### Setting up the environment with `venv`\n",
    "\n",
    "It is always recommended to create a new environment for any new project to avoid dependency issues and keep a clean working space. \n",
    "\n",
    "Step 1: Create a virtual environment in your project directory:\n",
    "\n",
    "python3 -m venv .venv\n",
    "\n",
    "\n",
    "Step 2: Activate the virtual environment:  \n",
    "For Linux/Mac:  \n",
    "source .venv/bin/activate  \n",
    "\n",
    "\n",
    "For Windows:  \n",
    ".venv\\Scripts\\activate  \n",
    "\n",
    "\n",
    "Step 3: Install the influxdb and MLFlow libraries using requirements.txt from https://github.itu.dk/Large-Scale-Data-Analysis-2025/python_env\n",
    "\n",
    "pip install -r requirements.txt\n",
    "\n",
    "Once your environment is set up and dependencies are installed, you are ready to proceed with your project.\n",
    "\n"
   ]
  },
  {
   "cell_type": "markdown",
   "metadata": {},
   "source": [
    "### Imports"
   ]
  },
  {
   "cell_type": "code",
   "execution_count": 4,
   "metadata": {},
   "outputs": [],
   "source": [
    "# You absolutely need these\n",
    "from influxdb import InfluxDBClient\n",
    "import mlflow\n",
    "\n",
    "# You will probably need these\n",
    "import pandas as pd\n",
    "import numpy as np\n",
    "from sklearn.pipeline import Pipeline\n",
    "\n",
    "# This are for example purposes. You may discard them if you don't use them.\n",
    "import matplotlib.pyplot as plt\n",
    "from sklearn.preprocessing import StandardScaler\n",
    "from sklearn.linear_model import LinearRegression\n",
    "from sklearn.model_selection import train_test_split, TimeSeriesSplit\n",
    "from sklearn.metrics import mean_absolute_error\n",
    "from mlflow.models import infer_signature\n",
    "from urllib.parse import urlparse\n",
    "\n",
    "### TODO -> HERE YOU CAN ADD ANY OTHER LIBRARIES YOU MAY NEED ###"
   ]
  },
  {
   "cell_type": "code",
   "execution_count": 5,
   "metadata": {},
   "outputs": [],
   "source": [
    "%matplotlib widget"
   ]
  },
  {
   "cell_type": "markdown",
   "metadata": {},
   "source": [
    "## Step 1: The Data"
   ]
  },
  {
   "cell_type": "markdown",
   "metadata": {},
   "source": [
    "### Getting the data with InfluxDB"
   ]
  },
  {
   "cell_type": "markdown",
   "metadata": {},
   "source": [
    "The data is stored in an [InfluxDB](https://www.influxdata.com/), which is a non-relational time-series database. InfluxDB can be queried using [InfluxQL](https://docs.influxdata.com/influxdb/v1.8/query_language/spec/), a \"SQL-like\" query language for time-series data. InfluxDB does not have tables with rows and columns, instead data is stored in measurements with fields and tags. <br><br>\n",
    "**NOTE:** <em>You don't need to know much about InfluxDB syntax, but if you are interested, feel free to browse around the [documentation](https://docs.influxdata.com/).</em>"
   ]
  },
  {
   "cell_type": "markdown",
   "metadata": {},
   "source": [
    "The data for this assignment is stored in a database, with one table for the weather data and another for the power generation data. To do this, we first need to create an instance of the InfluxDB Client, that will allow us to query the needed data. Let's see how this is done."
   ]
  },
  {
   "cell_type": "code",
   "execution_count": 6,
   "metadata": {},
   "outputs": [],
   "source": [
    "from influxdb import InfluxDBClient\n",
    "\n",
    "# Set the needed parameters to connect to the database\n",
    "### THIS SHOULD NOT BE CHANGED ###\n",
    "settings = {\n",
    "    'host': 'influxus.itu.dk',\n",
    "    'port': 8086,\n",
    "    'username': 'lsda',\n",
    "    'password': 'icanonlyread'\n",
    "    }\n",
    "\n",
    "# Create an InfluxDB Client instance and select the orkney database\n",
    "### YOU DON'T NEED TO CHANGE ANYTHING HERE ###\n",
    "client = InfluxDBClient(host=settings['host'], port=settings['port'], username=settings['username'], password=settings['password'])\n",
    "client.switch_database('orkney')"
   ]
  },
  {
   "cell_type": "markdown",
   "metadata": {},
   "source": [
    "As explained before, InfluxDB uses InfluxQL, a \"SQL-like\" syntax. We will use this to select the data we need from the correspondant tables, using our client instance. Then we can use an auxiliary function to convert the resulting set from the query into a Pandas Dataframe, making it easier to work with.<br><br>\n",
    "**NOTE:** <em>If you are curious to see how the resulting set from InfluxDB looks like, you can avoid using this function and printing the result.</em>"
   ]
  },
  {
   "cell_type": "code",
   "execution_count": 7,
   "metadata": {},
   "outputs": [],
   "source": [
    "## Function to tranform the InfluxDB resulting set into a Dataframe\n",
    "### YOU DON'T NEED TO CHANGE ANYTHING HERE ###\n",
    "def set_to_dataframe(resulting_set):\n",
    "    \n",
    "    values = resulting_set.raw[\"series\"][0][\"values\"]\n",
    "    columns = resulting_set.raw[\"series\"][0][\"columns\"]\n",
    "    df = pd.DataFrame(values, columns=columns).set_index(\"time\")\n",
    "    df.index = pd.to_datetime(df.index) # Convert to datetime-index\n",
    "\n",
    "    return df"
   ]
  },
  {
   "cell_type": "markdown",
   "metadata": {},
   "source": [
    "Now we are ready to retrieve the data.<br><br>\n",
    "Let's suppose we want the power generation and wind data from the last 90 days:"
   ]
  },
  {
   "cell_type": "code",
   "execution_count": 8,
   "metadata": {},
   "outputs": [],
   "source": [
    "days = 90 # -> You can change this to get any other range of days\n",
    "\n",
    "### YOU DON'T NEED TO CHANGE ANYTHING HERE ###\n",
    "power_set = client.query(\n",
    "    \"SELECT * FROM Generation where time > now()-\"+str(days)+\"d\"\n",
    "    ) # Query written in InfluxQL. We are retrieving all generation data from 90 days back.\n",
    "\n",
    "# Get the last 90 days of weather forecasts with the shortest lead time\n",
    "wind_set  = client.query(\n",
    "    \"SELECT * FROM MetForecasts where time > now()-\"+str(days)+\"d and time <= now() and Lead_hours = '1'\"\n",
    "    ) # Query written in InfluxQL. We are retrieving all weather forecast data from 90 days back and with 1 lead hour.\n",
    "\n",
    "power_df = set_to_dataframe(power_set)\n",
    "wind_df = set_to_dataframe(wind_set)\n",
    "# power_df.to_csv('power_df.csv')\n",
    "# wind_df.to_csv('wind_df.csv')\n",
    "# power_df = pd.read_csv('power_df.csv', index_col='time')\n",
    "# wind_df = pd.read_csv('wind_df.csv', index_col='time')"
   ]
  },
  {
   "cell_type": "code",
   "execution_count": null,
   "metadata": {},
   "outputs": [],
   "source": [
    "# print rows with missing values"
   ]
  },
  {
   "cell_type": "markdown",
   "metadata": {},
   "source": [
    "<font size=\"2\">**NOTE:** <em>You don't need to change the query syntax, but it is useful if you try to make sense out of it.</em> </font>"
   ]
  },
  {
   "cell_type": "markdown",
   "metadata": {},
   "source": [
    "Let's take a look at the resulting dataframes:"
   ]
  },
  {
   "cell_type": "code",
   "execution_count": null,
   "metadata": {},
   "outputs": [],
   "source": [
    "power_df.tail()"
   ]
  },
  {
   "cell_type": "code",
   "execution_count": null,
   "metadata": {},
   "outputs": [],
   "source": [
    "# print the hour timedeltas between subsequent rows\n",
    "power_df[:1000].index.to_series().transform(lambda x: pd.to_datetime(x))"
   ]
  },
  {
   "cell_type": "code",
   "execution_count": null,
   "metadata": {},
   "outputs": [],
   "source": [
    "wind_df.head()"
   ]
  },
  {
   "cell_type": "code",
   "execution_count": null,
   "metadata": {},
   "outputs": [],
   "source": [
    "wind_df.tail()"
   ]
  },
  {
   "cell_type": "code",
   "execution_count": null,
   "metadata": {},
   "outputs": [],
   "source": [
    "plt.figure()\n",
    "plt.plot(power_df.iloc[:1000].index, power_df.iloc[:1000]['ANM'])\n",
    "plt.plot(power_df.iloc[:1000].index, power_df.iloc[:1000]['Total'])\n",
    "plt.plot(power_df.iloc[:1000].index, power_df.iloc[:1000]['Non-ANM'])\n",
    "# don't print x labels\n",
    "plt.xticks([])\n",
    "plt.show()"
   ]
  },
  {
   "cell_type": "markdown",
   "metadata": {},
   "source": [
    "**NOTE:** <em>This table contains three columns, but closer inspection will reveal a very straigh relationship between those three. Can you spot that?<br>\n",
    "We are clearly interested in the total power generation, regardless of the source type.</em>"
   ]
  },
  {
   "cell_type": "code",
   "execution_count": null,
   "metadata": {},
   "outputs": [],
   "source": [
    "wind_df.shape"
   ]
  },
  {
   "cell_type": "code",
   "execution_count": null,
   "metadata": {},
   "outputs": [],
   "source": [
    "wind_df.tail()"
   ]
  },
  {
   "cell_type": "code",
   "execution_count": null,
   "metadata": {},
   "outputs": [],
   "source": [
    "plt.figure()\n",
    "plt.plot(wind_df.iloc[:1000].index, wind_df.iloc[:1000]['Speed'])\n",
    "plt.show()"
   ]
  },
  {
   "cell_type": "markdown",
   "metadata": {},
   "source": [
    "**NOTE:** <em>This table contains four columns, but lead hours and source time are irrelevant here. Can you think why?</em>"
   ]
  },
  {
   "cell_type": "markdown",
   "metadata": {},
   "source": [
    "**NOTE:** <em>Look at the table's index. Do both data sources contain the same intervals? And if not, what problems could arise when merging the data?</em>"
   ]
  },
  {
   "cell_type": "markdown",
   "metadata": {},
   "source": [
    "### Merging the data sources"
   ]
  },
  {
   "cell_type": "markdown",
   "metadata": {},
   "source": [
    "We have two dataframes, one with weather forecast and one with power generation. To do some analysis on the relationship between these two datasets, it might be useful to join (and align) the data."
   ]
  },
  {
   "cell_type": "markdown",
   "metadata": {},
   "source": [
    "#### Example"
   ]
  },
  {
   "cell_type": "code",
   "execution_count": 8,
   "metadata": {},
   "outputs": [],
   "source": [
    "# Joining the data\n",
    "joined_dfs = power_df.join(wind_df, how=\"inner\")"
   ]
  },
  {
   "cell_type": "markdown",
   "metadata": {},
   "source": [
    "Joining the two datasets with an inner join means keeping only those records that match their index. Although this will work, you may notice that most of our data is discarded due to the unmatching time intervals. You may want to explore other possible ways to merge the data."
   ]
  },
  {
   "cell_type": "code",
   "execution_count": null,
   "metadata": {},
   "outputs": [],
   "source": [
    "### TODO -> JOIN THE TWO DATASETS ###"
   ]
  },
  {
   "cell_type": "markdown",
   "metadata": {},
   "source": [
    "### Understanding the data: EDA"
   ]
  },
  {
   "cell_type": "markdown",
   "metadata": {},
   "source": [
    "It can be also useful to plot our datasets to see what relationships they might hold."
   ]
  },
  {
   "cell_type": "code",
   "execution_count": 9,
   "metadata": {},
   "outputs": [
    {
     "data": {
      "application/vnd.jupyter.widget-view+json": {
       "model_id": "4d6de8b919f04c34863f3a02e7663b66",
       "version_major": 2,
       "version_minor": 0
      },
      "image/png": "[encoded data removed]",
      "text/html": [
       "\n",
       "            <div style=\"display: inline-block;\">\n",
       "                <div class=\"jupyter-widgets widget-label\" style=\"text-align: center;\">\n",
       "                    Figure\n",
       "                </div>\n",
       "                <img src='data:image/png;base64,iVBORw0KGgoAAAANSUhEUgAACcQAAAGQCAYAAACKg/G7AAAAOXRFWHRTb2Z0d2FyZQBNYXRwbG90bGliIHZlcnNpb24zLjkuMiwgaHR0cHM6Ly9tYXRwbG90bGliLm9yZy8hTgPZAAAACXBIWXMAAA9hAAAPYQGoP6dpAAEAAElEQVR4nOzdB3hTZRsG4Ld770Jb9pS9Ze/twgHurYiKuHCjvwouxD1QUERAEVEURERx4gYEFAEZStnQMjqhpTv/9XzpCWmacdKeNmn73NcVQ3K+JifJaf1yznPe18dkMpmEiIiIiIiIiIiIiIiIiIiIiIiIqIbz9fQKEBERERERERERERERERERERERERmBgTgiIiIiIiIiIiIiIiIiIiIiIiKqFRiIIyIiIiIiIiIiIiIiIiIiIiIiolqBgTgiIiIiIiIiIiIiIiIiIiIiIiKqFRiIIyIiIiIiIiIiIiIiIiIiIiIiolqBgTgiIiIiIiIiIiIiIiIiIiIiIiKqFRiIIyIiIiIiIiIiIiIiIiIiIiIiolqBgTgiIiIiIiIiIiIiIiIiIiIiIiKqFRiIIyIiIiIiIiIiIiIiIiIiIiIiolqBgTgiIiIiIiIiIiIiIiIiIiIiIiKqFRiIIyIiIiIiIiIiIiIiIiIiIiIiolqBgTgiIiIiIiIiIiIiIiIiIiIiIiKqFRiIIyIiIiIiIiIiIiIiIiIiIiIiolqBgTgiIiIiIiIiIiIiIiIiIiIiIiKqFRiIIyIiIiIiIiIiIiIiIiIiIiIiolqBgTgiIiIiIiIiIiIiIiIiIiIiIiKqFRiIIyIiIiIiIiIiIiIiIiIiIiIiolqBgTgiIiIiIiIiIiIiIiIiIiIiIiKqFRiIIyIiIiIiIiIiIiIiIiIiIiIiolqBgTgiIiIiIiIiIiIiIiIiIiIiIiKqFRiIIyIiIiIiIiIiIiIiIiIiIiIiolqBgTgiIiIiIiIiIiIiIiIiIiIiIiKqFRiIIyIiIiIiIiIiIiIiIiIiIiIiolqBgTgiIiIiIiIiIiIiIiIiIiIiIiKqFRiIIyIiIiIiIiIiIiIiIiIiIiIiolqBgTgiIqpWP/74o/j4+Khrb35MT8HrmDp1qqdXg2ohblvO7d27V71H8+fPl9qqNv2tJCIi0oPfPZzj/JCIiIiods+vrr/+emnWrJmnV4MqAPsosT1hn6W38MZ1IiIicoaBOCIi0u3jjz9WX3iWLVtWblmXLl3UstWrV5db1qRJE+nXr181rWXdsX37djn33HMlNjZWXQYPHiwrVqxw6zHwmWkXX19fadCggYwaNapWHODT7NmzR26//XY544wzJDQ0VF3at28vkyZNks2bN0tt8uWXX3rVTjc6bdGiRfLKK6+4Fc5zdJkwYUKVry8REZGn8btH3aAFDLVLQECAtGjRQq699lrZvXu3p1ePiIiIPGDLli1y8cUXS9OmTSU4OFgaNmwoI0eOlNdff93Tq1ZrDRkypMycDPuae/bsKe+++66UlJR4evVq3Zw3KChIEhIS1Pv+zDPPyLFjx8SbYJ0+++wzT68GERFRpflX/iGIiKiuGDBggLr+9ddf5aKLLrLcn52dLVu3bhV/f3/57bffZOjQoZZlBw4cUJfLL79c3R40aJCcOnVKAgMDPfAKao8TJ06o4FpeXp7cf//9EhYWJr/88ot8/vnnMmbMGLceCzuUcMDJZDKp8Nibb74pw4YNk5UrV8rZZ58tNdkXX3whl112mdo2r7rqKnXwFMG/HTt2yNKlS2XWrFnqNWMHW20JxL3xxht2Q3H4vcP7QJ4LxOHv5N133+1ybL169eT9998vd/+qVavkgw8+UL/7REREtR2/e9Qtd955pzroWlhYKH/++ae8/fbb6vsIDojjpB0iIiKqG37//Xc1v8NJDjghMDExUc3v1q5dK6+++qrccccdnl7FWqtRo0Yyffp09W8EtN577z0ZP368/Pvvv/Lss896evVq1Zy3uLhYvcfY3h9//HF56aWX1AlB2Cevueaaa9T3GoTnPBGIQyj1wgsvLHO/J9eJiIioInhUlIiIdMOBiObNm6uDUtbWrFmjwlSXXHJJuWXabe2AFsJIOLOPKgfv68GDB9UXZbzv2hfq/Px8tx8LldOuvvpqy20ccOzcubOqZuXtgbicnBwVBrQnOTlZfUFH2O3777+XpKSkMstnzJihwn/YJmvi63MXf++MfT+rEtbR+nfSui1BZGSk26FXIiKimojfPeqWgQMHqoNucMMNN6jvKPh+s2DBApkyZYp4K2yLOEkpJCTE06tCRERUKzz99NMSFRUl69evl+jo6DLLjh496rH1qgvwvlvvj7rlllukTZs2MnPmTHnyySdVJV9v5Q37/PSsg/WcV/P333+rk1/HjRsn27Zts+zD9vPzUxdvmovqWSciIiJv4r1HgImIyCvh4NJff/2lKi1oUJmhQ4cOKjyFs/Wsy6hjGcqA9+/fv0x5cOuWnCgN3rFjR/WFD2cAoqUlSuE/99xz5Z4fITCcmYQvl/Xr15fJkyfbDYH9999/6kskziLEQTCc4YZwVFZWlmUM1gOtNFFxCV/uMa5Hjx7y888/l3u8Q4cOyY033qhKmeMMKLxelIy3hXXBWV2tWrVS4xo3biwPPPBAuXXEbaw7KkFFRETI+eefr16bXlqIC196rRlxdlanTp0kPj5eVU7T/PDDD+oLO9537Iy64IILVMtWDVqP4v1EhTrNxo0b1X3du3cv8/jYTnr37l3mvq+++sry+Hg/0Ar2n3/+KTPm+uuvl/DwcBV0O+ecc9Q4VH1zBNsPdkTMmzevXBgOUFUEB9nwGVlD9TjsmEBrAGwTZ555ZpnXpQWT8Nqwfd9zzz3qc8S6I0xor8R9ZV8fqv/hoC/OjtW2K2w/1r+H+HlUhwPrEvwa/Nu2chx+l/F5IGSF5x4+fLj6Ha7Ma7XH1fbzySefqOf46aefyv3sW2+9pZahEkxFPiM85m233ab+XuDvgDuwXeN9RdsuPA/+nuDvQFpaWrmKjaj81qxZM/X54LlQeRHVTbS/cahwsm/fPsvngrHuSElJUW3hxo4dq+vAvt6/lXq2LfwOYZ2xvdg7YxQ7wvA3Uu/fXiIiIr343cOz3z2OHDmi5szTpk0rt2znzp3qNeEAKaCyG8a1bt1avba4uDj1+X377bdSEVp1DOvvJDiZBe8FXisCk5MmTZLMzEzL8tdee03NS6zve/HFF9V6Yh6rQUUOvA8PPvig5T5sRzghCI+P9cd7j4PAGRkZZdYLc7jzzjtPvv76azUHxcFHzFeJiIjIGNgvhv8f24bhAPMxazVxfgUFBQXy2GOPqXVFCA1zTew3w34fa3v37lWv8YUXXlDVc1u2bKnWCRXGEBi0hRaXmOfifcD1smXLpDIwT+7Tp4/av6rtA0RLe+xHwj45bTn2eWmwrxr7la3nXphn4fO0nafhZGXMNU+ePFml+/y07wQfffSRPPzww2rOjvccnxmqD9pat26dnHXWWeqzwWscPHiw+p5hDftY8Zj4TnHllVdKTEyM5aQcd6GjCeaheG+0ubX168R2oGcuip/H/klss9hOsA3jPbZteYvbqLaIYwB4j7EN4/Vu2LBBLcdz4jPHiSnafkzsH3W0Tnrm6e5+DyMiIjIKK8QREZFb8MUOrfzwxRBfYgBfCPv166cuOOiD4AoqjGnL2rZtqw6IOIMDDfjihbDHpZdeqgIyOECBL2ZalTIcCENgZ//+/SrIhC9XWBeEbWx3KowePVrtmEAZfXzJxU4PtM/EFzF8mdXgizO+DOPx8IUNX96wHn/88Yf6gqYdCMKXe20nC74kIuCEkvFo2aS1QMSXSXyRRmWKm2++Wdq1a6da/Lz88suqtDx2SmhuuukmWbhwofrCjPcNrwEhKb3w3qNiBnbQ4AwyezuJKgqfBS740gzfffed+gwQCsKXfXwOr7/+ujrQiMAPvojjvcI6YIcT3gMtaIPgHs5yw/uE0BXeI5SCx/ujwWd43XXXqc8MX9Jzc3NVK1PtAKh1cKioqEiNwzLsDMIXZ0fweeM12IbvnEFIDa8LX8YfeughtXMEVfhwIPTTTz8t064LsH1hhwc+B+wIwM4LbCPYpox8fUuWLFE/N3HiRPW7hO0TnwF2tGEZ4IDd4cOH1UFHe+027b1W7GzD54IdezjLEztQsG3h98L2fdPzWu3Rs/1g20cgD+81djJZw+Njh4r2++juZ4QdY/idxY5G7MxxB95L7OhDlRL8HcFzYwckrnEAXgsc3nrrrepvFt6P9u3bq8Ac/g4g9IdA6COPPKL+NuLzwt8DwOt1x+LFi9Xvj7MQqEbv30q92xZ2RGJHFnYwd+vWrczP4z5sM/g83PnbS0REpAe/e3j2uwcOGGNuhrkW5oDW8DpwUFOrVo15Hlps4bl69eql1hUH1TDfw4kCFTkYDtpnicdH4G7EiBFq3oJAHubUOBiMzx1zWcxt8b7gPcGBQuvvJLjWYA6OA69oqavBXBoH+DDvw+eDIB4OSGKs9vgaPPcVV1yhfgat3HAAnoiIiIyBTg+oCIw5njY/cqamza8Az/nOO++o+QTmEjjRcu7cuWpOifXu2rVrmfGLFi1SYzD3wGtAgAjzWOyz0uYo33zzjTpBA/ulMCfDvinMa9w9OdQWngNzPuz3xfuI14r9SHi/MU9DaArvGebT2CennZxiHUrECaeYt2NOhnmV9j5hfob9TNo+sqre54fqg1g/zPtRbRD7NjG33LRpk6XCGj5HfB9AWBHzX6wzThTFyRpYX8xzrWEujBNCcMKo7Ynr7sC+N2yP+Byxns7Ym4viM8G8Hd9DcD9OfMU+eFRaxkm2eK0aPA/mvXid2I6xPxqvDfs6EbLDdx5tTq/tw0cY0xE983R3vocREREZykREROSGf/75B9/sTE8++aS6XVhYaAoLCzMtWLBA3U5ISDC98cYb6t/Z2dkmPz8/04QJEyw/v3r1avXzuNYMHjxY3ffee+9Z7svPzzclJiaaxo0bZ7nvlVdeUeM+/vhjy305OTmmVq1alXnMv/76S91esmSJ09eCMbhs2LDBct++fftMwcHBposuushy3/jx401JSUmm48ePl/n5yy+/3BQVFWXKzc1Vt99//32Tr6+v6Zdffikzbvbs2ep5fvvtN3V706ZN6vZtt91WZtyVV16p7n/88cdNruzcudPUpEkTU2BgoGnAgAHqfagIPB9e37Fjx0xHjx41rVu3zjR8+HB1/4svvqjGdO3a1VS/fn1TWlqa5ef+/vtv9VqvvfZay33nnnuuqVevXpbbY8eOVRdsA1999ZW6788//1SPvXz5cnX7xIkTpujo6DLbCKSmpqr31vr+6667Tv3sQw895PJ1ZWVlqbEXXnhhuWUZGRnq9WoX7fMDvPZOnTqZ8vLyLPeVlJSY+vXrZ2rdurXlvnnz5qnHHzFihFqumTx5snq9mZmZhr4+63XUTJ8+3eTj46O2Wc2kSZPUY9hju23hvcH2k5ycbLnv8OHDpoiICNOgQYPcfq2O6N1+rrjiCjWuqKjIcl9KSooa98QTT1T4M8Lvh/VjOrJnzx41Hj/n7H3/8MMP1biff/7Zch8+S7z3zuD3o2nTpqaK6tGjh/o7VFxc7HKs3r+V7mxb+HwaNGhQ5vm132ftPdP7t5eIiEgvfvfw/HePt956S43bsmVLmfvbt29vGjZsmOV2ly5d1HzHXdpn9O6776q5OeajK1euNDVr1kzNR9avX6++p2DeOmrUqDJzkZkzZ1p+FrAsMjLS9MADD1jmiHFxcaZLLrlEbRuYm8NLL72k3jt8LwC8h3icDz74oMy6rVq1qtz9mM/hPiwjIiIi433zzTfq/9u49O3bV/1//euvvzYVFBSUG1tT51fYT4X5pzXMSzC3vfHGG8vtq8J8Jj093XI/9qvi/hUrVpTZ/4bXaL2fDu8lxunZH4U5ctu2bS37S7dv326688471c+PGTNGjbn77rvVbev3B/Or5s2bq7mbNk97/vnn1eeH+Tm89tprah2w3/jBBx9U92Es9pli/2JV7/PT5psNGza0rBNgno/7X331Vctz4XlGjx5dZh8otg+8xpEjR1ruw2eMn8X+Mj20dXD2nQHz6ZiYmHKvE9uBq7kovi/he9K///5b5n7sZ8ZnsX//fnX7hx9+UD+Pz9aW9WvGY2FftS3bddI7T3fnexgREZGR2DKViIjcgjPjcPYXzpQDVP/CGVg4OwxwrZUQx9l8aEejp1w4zgS7+uqrLbcDAwPVWUg4C03z5ZdfqtaXOGNKgwpa1tXGQKvCgNLhODvKmb59+6ozvjQ4ewrtHPGzWHfsW8EZaGPGjFH/Pn78uOWCs/ZwdpvWFhHVlPD+oCqF9Tit3Y9W9h6vA3AmnTXtbERX8Jw4kwoVvHCmFz4DnCGH6hQanAmIkvP2WjrZwhmIOJsO5eXxmFprTKwPziDDWXIoi45S9RpU4UClB+21ACoy4L3QzsjDNoLWnzirUavIgGuciadtE6jAhcoZOKvN+j3DmYdYF9tWAYAzzfScaemoCheqi+D1ahetzWh6ero6CxBnp+GsS21dcEYlPmu0wtLaQmqw7Vm3JcV7gO0GrTGNfH3aWYqA9xePgd81bJP22li6gnXEGYc4wxKV2zT4/cKZrfjstPdQ72u1x53t57LLLlNnZ1q3NMNZgjg7F8sq+hnhTEm83xVh/b7n5eWp58IZxaD93gPOkkXlGlToqwo4CxktiNF6TWuX7Izev5XubFvXXnuten3W2yyqw+HncQayu397iYiI9OB3D89/90D1BnyvsK4KjIotaHWkzdG0+RCqemA+VhFoYYa5OSrxoWqI1qYJVSpQcRjfdbDO1nMhzPNQ7Vhr04Vl2Ca0iiSo1ot5IiqM4P3ENqJ9J9EqXGvvJT5HzE+t30t8VthWbOfsqNSNz4OIiIiMh/8f4//ZqDqGuR+qoeH/u6gaZts6s6bOr7CfCvNPwH4v7O9ClS7Me6z3N2kw50LXBut9cqDNXbX9b+hQYV2dGO8lKsbphXal2v5SvA/oIIB5mdZaFq8bc2br+TbmSpgfo5sE5ofa+uG9x35rbe6F+3DR9hFjPol9ptprqY59fti3hfa2GszzMd/XPk+8h3ge7BvF82rrgHkpKkdjjmnbfhRdI4yC9xKv3RV7c1Fsu3gvsZ1Yb7uo2obPQpsf43cB+3dtqz+D9X5fvfTO0935HkZERGQktkwlIiK34IuRdpABXwBxAApBKq29JpahtQxoB6f0HJRC+XbbL134AoeS6hoEb/A8tuNsW9TgSyECXS+99JIKbODLIHai4MuWbcs+lDS3dcYZZ6iDWceOHVNf5PDlHG0ScbEHIR7AF2YcdMFOA2fj8DrwuLalxvW22kHJcbRuwvuLL+3Lli1TwTOErlBGHjsCsFMBQTS0CnAFO4nQLgDvK3YKoD0lStJr6+po3bBjBDuXsFMA4/E+Y+cNdlo1btxYvV7chwNj1oE47IjRwlHaATNtx5ItfHG2hoNxekr9azs30ArJFtqCYucCyvxbfwHftWuX2jH26KOPqos9eE3YAWe9k82atnMK5d+NfH34vFH+Hzv+tMfWYMedu7BtYxt39Lnid/vAgQNqW9D7Wu1xZ/tByBO/nzjYip1MgH9jO8bvZEU/I/w9qCjsjEPJf7Qr1X5/7b3v2DmLnY7Y7rETFr+P2MlmHTasDPwdAz3tUt35W+nOtoWdqPh7g3XB54Nt5MMPP1R/P7TfN3f+9hIREenB7x6e/+4RHx+v/t+P7xlPPvmkZY6GeSvCcponnnhCzQvwehA2w9zummuusbSzdQXzEbx3+C6D58RcEc+hvQZ764wDaJhvWZ+ggcdA2ya0vMV3D8xf0MK+S5cu6jbmNAhY4mCrBu8l5j3YtuyxnQdWZn5JRERErvXs2VOWLl2qgjYIxWHfJ9qWIsCE0JJ1yKsmzq8Awf8XX3xRhdAKCwudzjNc7ZPT5kL23gusk72QnT3NmjWTOXPmqPlvcHCwejzr+RGeByf42sK8TVuOeSDmXjiRBHMvBLdwjf1riYmJKmSHk061fcXa3L069vnZvj94nZjvI8xnvR8X+/gcwZzROpxo5LwQ+7GtA3uO2HtOrDu+y7jadpOTk9UJKNYnLleGO/N0vd/DiIiIjMRAHBERuQ1fVFesWCFbtmxRB560Cg2Af99///3qjC0caMAXLD2hEEdnc5mr37sPOxRQlWr58uWqEhbO2EPVtLVr1+oKVGm0s75wQMvRl2HtIA/GdurUSR0MswdhGSPg7LqmTZuqgzuAA1Tvv/++CsShsgLCOZ999pk89dRTuh4P7wfOFqssnMWInSU4YIkdNdhhgh1QOCj15ptvqmp12NmBana27y/WHztFbGkHwTQI+OmpkIWDj3h/EAy0pe240XZ22K7Lfffd57Dig3bwVe92a8Trw1l8OHCHcNaDDz6ozlJFgAy/Y9jGbc9MrCpG/47awmtHxTrs5MT2gsAi/r4888wzlfqMrCuguQsHSvH7hr9pCObhLEasAw7wWr/vGIftHOuOvzfPP/+8zJgxQ+28Pfvss6WyFi1apHYsWZ/xbAR3ti18/jhDFjtG8fngs0HFOOtQqZF/e4mIiDT87uHZ7x6AKrU33HCDOgCNORHCcfgOguCaZtCgQeoAm/YevPPOO+rA9ezZs+Wmm25y+Rx4LUZ8J8H2goPKOElHq0YCWkUSHHTGwXHtfu29xHcX7SQEW7YHFiszvyQiIiL9EKpBOA4X7GPEfASVsOxVt6pJ86uFCxequSP2g2Eui3kI5qeYP2I+Vd375DTYJ2TEfCwgIEDtf8U+YgTdUlNT1dwrISFBzdPQZQHzMuyH0uZZ1b3Pzx5tHbBfD3Nee2y7kRi1Dnhf0CECgUJX7D0n1h37+B544AG7P6OdbOxp1bUtExERaRiIIyIit2lnbuGgEw5KWZeDR2ADwRa0PcSXW1RKMgpCYAg44QuS9ZlEO3futDseOzBw+d///qdCLf3791cHZKyDYvZa+uDLJ85i076Q48wsBEdc7RDAWYE4axEHh5yVGMfrwJdU7OCwPnvK0euwhcdGKXxUY9MCVQjk4EyvO+64Q+1swJlV9tojugvr6mjdcDAJB8G0anJaiXPs0EAgzvrgE8JwOMCEkBMOlmm0Mymx48eIHS7WUNIfB+L++OMPtV6uaAdPsdPGqHUx4vXh4C+2SZw5iqpjGrRjrWhpe2zb2MYdfa4I5Rmxk8+d7UdrAYHX+f3336szcvG7bt2Kqyo+I0dwli3WA2ewomKJxlEbMAQwb7vtNnXB7yLOhn366actgbiKtB0A/B3FzkNUXTH6b6U72xZgDA74I5Tw1Vdfqe3I3k5KPX97iYiI9OJ3D89+9wAcrL3lllssbVOxzlOmTCk3DpUmcKAaF1S4wLwf1dr0BOL0zimtA4+oGrNnz54y7xXm/fhegu8kuOAgM2BdEOzH/E67bf1eot0TPjOG3YiIiLwTTsQF7BO1VhPnV5988oma0+BESuvncSfoZ7s+jt4Ld+Z8ep7H0T4+6/XQ9gfjZFHMsbD/D+E3vFZ0o9Dmaeedd1617vOzfX8wz8c+Ny0Qqe3HRUePqt7vaG+bQIVjR2FAV7DumH/r2cbRsQMnxzqrEqd3P6Y783QiIiJPcF1ihYiIyEElMAScUI3BukoDDkghCPLGG2+oVoh6WhbphQNcqEiEL4galL+3LXefnZ2twmLWcHAKIR8Es6yhcoB12Xi0iURVg1GjRqkzlnAZN26cfPrpp3arjaG6gAahNLwfONBiC19o8X6AFpB57bXXyox55ZVXdL0P+CKJx8NZg9bQ9hRfmlH5DGeEWQeNKgohH5wRh8AM2gto8F6g8oPtQUfs7MDByNWrV1sCcVrLI+wE0cZosL7YyYAqYNbtAey9v+7CGXHY+YWqeQjiuTrzDKG1IUOGqJaqtjvXKrouRrw+7cw56/XFv1999dVyY7XP3PqzcvSY2MaxrVtXysP7hGpk+L21bedaHdsPtm3sjMHBVlxwQNO6DUBVfEbuvO/2fk+xQ9W2bS3WExVqrP/e4LOpSHtbfB6A6mxG/610Z9sC7CDEBUFT/E1EtRjrKofu/O0lIiLSi989PPvdA6Kjo9W8FpXh0EoegTOE5KylpaWVq56BKh5GzAEwR8Rz4jVYz1vmzp2r5lc4EUaDbQVVZNDaHa3hrU/SwfuCx8CBQK3atvZeYk6ntYS1hs/W1dyaiIiIjIN9ivaqRX355Zd2WzPWxPmVvf0x2J+K11LZ/W/W+55wwuO2bdvEyPkxTjy2Xk+8J5gfo92qdStb7QRpvCeYo2sBK9yPThqYZ1vvI66OfX7vvfeenDhxwnIb83w8l/Z54mQbzBNfeOEFFS6rinWwByFMnPSDE9wnTZpUocfAtovPBWE3W5jLat9X8LuA7Q4nANuy3h6xH1PPHNideToREZEnsEIcERFVuFw9zuTCQSjbNn44SIUqQmDkQakJEybIzJkzVZWijRs3qi/7+AKN0JO1H374QYXDLrnkElUOHF/4ME7bAWINZchxcAdtjfBa0AoQrL8UPvvss2pnDEq9Yx3w5R5nUWFnC85yw7/hmmuuUQeJbr31VjUeFQZwYAVnyeF+fCHFAT3soEB7UzwXvhji/UKlApyRpvd9QGl9VK3asGGD2sGD14g2qfhM8Lzz589XOxUQBqsslInHjoG+ffvK+PHj1Q6g119/XbUlRcUHa3hOVMXCzifrnRqowIAdGtg5Yt02CqGrWbNmqfcOBzMRsMHZmzh4tXLlSvVa8JlXROvWrVWYCO81dpZdddVV0qVLF/XlHGeoYRkOVFqvDw6mYpvFQUy8zzizDSEx7FA4ePCg2kHhDiNeH86gxM4YtAzATjk8JnbioYKZLe13Edsztmts83hOe1CtBDvG8HpR1QzBJnxG2FmFtrtGcWf7wVmgY8eOVQdasUMNO6BsGf0ZOYL3Gdst3guEGRs2bKhCfNh2rGFHGrahiy++WG1fOPiLvwvr16+3/B3UPhuE/O655x719xPjxowZ43Qd8PcDP9OnTx/LWapG/q10Z9vS4DExHmzbpbrzt5eIiEgvfvfw7HcPDar24v/9eBy8BoTkrGE9cRATnw9OcMD3FBxkxHtTWZg/oyId3ie0rj///PNVFQqsC7YN2zkJvofgfcR8E3NG7SArvhPg59CizNrgwYNVBTyccIS2sPh+hXkpqoigLRtOFsBcj4iIiKoeul/gJISLLrpI7bdApSlU38X+EexXRCXamj6/QmU0VIfDa0RgCPuaUFkY62UviKUH5jF4LMyHsT8Yrwn731CRraKPaeuhhx5SJx1gPx/eb8z5EMLD+mN/EvazarAfEPsaMfey7mKCfW3YVwrW+46rY58f1hePj20Ij4uwHk7gwHMB1h8ngeL14X3DOOwPxD4zbA/Yb4auCZWB7zR5eXlqu8IJJaiA/fnnn6t567JlyyQxMbFCj4uqyHgcbFuY62JOjn2r6A6BOTlOiMZJ60OHDlXbOQJsmOtibo1qh1gvLNPm7vh5/G6gfTBO+sUJy/j9qew8nYiIqNqZiIiIKmDKlCk45cfUr1+/csuWLl2qlkVERJiKiorKLFu9erVahmvN4MGDTR06dCj3ONddd52padOmZe7bt2+f6fzzzzeFhoaa4uPjTXfddZdp1apVZR5z9+7dphtvvNHUsmVLU3BwsCk2NtY0dOhQ03fffVfmsfAzkyZNMi1cuNDUunVrU1BQkKlbt25l1k1z5MgRNbZx48amgIAAU2Jiomn48OGmt99+u8y4goIC04wZM9TrwePFxMSYevToYZo2bZopKyvLMu7UqVOmO++80xQXF2cKCwszjRkzxnTgwAG1To8//rjL9z8nJ8f0yCOPqNeI9cHjjB071vTHH3+YCgsLTYMGDVL3275mW9p74Aoep3///qaQkBBTZGSkWt9t27aVG5ednW3y8/Mr99njPcZzXXPNNXYfH+/56NGjTVFRUeozw+u6/vrrTRs2bCizPeC9cteuXbtMEydONLVq1Uo9Nl5D27ZtTbfeeqtp06ZN5cYnJyebrr32WvUZ4z1s2LCh6bzzzjN98sknljHz5s1Tr2f9+vUut28jXh/e6xEjRpjCw8PVdj9hwgTT33//rZ4L66LBe37HHXeY6tWrZ/Lx8VHLNfa2rT///FOtFx4Xv1P4Pfn999/LjHH3tVZm+4Fvv/1WPS7WH78T9lTmM3Jkz5495d7PgwcPmi666CJTdHS0+uwuueQS0+HDh8u8l/n5+ab777/f1KVLF7Xd4zPEv998880yj3/y5EnTlVdeqR4LP2/7t80e7W/ba6+9ZnKXnr+V7mxbmpSUFPU7fsYZZ5RbpvdvLxERkbv43cOz3z20eT7mcvgZvAZbTz31lKlXr15qrqPNt59++mm1js5on9GSJUtcrsPMmTPV4+I9SUhIUHP8jIyMcuNWrlypHvPss88uc/9NN92k7p87d67dx8f7i/cP64/tqVOnTqYHHnhAzf802EbOPfdcl+tKREREFfPVV1+puRX+n499FYGBgWqfHvZ3YY5UG+ZXJSUlpmeeeUbNK7R1/uKLL8rNR7V9Vc8//3y5x7D3PJ9++qmpXbt26jHbt2+v5sn25rj2OJoj29snd/HFF6s5H+a+mP9h3e3p2bOnWs9169aV2deG+/A5VNc+P22++eGHH6rvFfXr11fzPczpMN+39ddff6n97Phs8V7i/bv00ktN33//vWUM3ns85rFjx9xaB+2C14b9t9iHjznz0aNHy/2M9jqxHeiZi544cUK9Pvy+4PcG31/w/emFF14oMyfHdyZsU/gdwzisB+bNGzdutIzZsWOHWjdt/o/tyNE66Z2nu/M9jIiIyCg++E/1x/CIiIg8D6XaUYa8ohXIiIjqmuPHj6sKOahQ+eijj3p6dYiIiGoMfvcgIiIiMhbnV6THjz/+qKqfofIvq/4SERHVLafr1xIRERERETmBdsxo64D2CkRERERERERERERERETeyN/TK0BERERERN7thx9+kG3btsnTTz8tF154oTRr1szTq0RERERERERERERERERkFwNxRERERETk1BNPPCG///679O/fX15//XVPrw4RERERERERERERERGRQz4mk8nkeDERERERERERERERERERERERERFRzeDr6RUgIiIiIiIiIiIiIiIiIiIiIiIiMgIDcURERERERERERERERERERERERFQr+Ht6BYiIqgK6QWdnZ8uJEyckIiJCfHx8PL1KRERERIbNczDHadCggfj68hynmqqkpEQOHz7MuSoRERHVOpyv1g6crxIREVFtxfkqUd3AQBwR1UqYxERHR3t6NYiIiIiqzIEDB6RRo0aeXg2qIBxcbNy4sadXg4iIiKjKcL5as3G+SkRERLUd56tEtRsDcURUK+HMRUxisNMG15GRkZ5eJSIiIiJDoAou5jiY71DNpX1+nKsSERFRbcP5au3A+SoRERHVVpyvEtUNDMQRUa2EMv7ajhpcc6cNERER1TZsW1Q7Pj/OVYmIiKi24ny1ZuN8lYiIiGo7zleJajc2RCYiIiIiIiIiIiIiIiIiIiIiIqJagYE4IiIiIiIiIiIiIiIiIiIiIiIiqhUYiCMiIiIiIiIiIiIiIiIiIiIiIqJawd/TK0BE5EnFxcVSWFjo6dWo9QICAsTPz8/Tq0FERERU43C+SvZwfk1ERERERERU85SUlEhBQYGnV6PW434TIgIG4oioTjKZTJKamiqZmZmeXpU6Izo6WhITE8XHx8fTq0JERETk9ThfJVc4vyYiIiIiIiKqORCE27NnjwrFUdXjfhMiYiCOiOok7eBi/fr1JTQ0lJOhKj6Ym5ubK0ePHlW3k5KSPL1KRERERF6P81VyhPNrIiIiIiIiopr3XT4lJUVVLWvcuLH4+vp6epVqLe43ISINA3FEVCfbTmkHF+Pi4jy9OnVCSEiIusbkE+87yxQTEREROcb5KrnC+TXVdsUlJvljT7ocPZEn9SOCpVfzWPHzZTCYiIiIiIhqpqKiIhXSatCggTrxkaoW95sQETAQR0R1TmFhobrmhLN6ae833n9OPImIiIgc43yV9OD8mmqrVVtTZNqKbZKSlWe5LykqWB4f017O6sgz+4mIiIiIqGae/AiBgYGeXpU6g/tNiIi1OImozmLbqerF95uIiIjIPZw/kTPcPqi2huEmLvyzTBgOUrPy1P1YXtsr461JTpPlmw6pa9wmIiIiIqLag9/lqw/fayJihTgiIjLE3r17pXnz5vLXX39J165dPb06RERE1cJkMuE0Q/Hh2Z1ERESVanWKn0VlOHsRMNyHR8Hyke0Ta2X7VG+sjMfWtURERERERERUU7FCHBFRDXPs2DGZOHGiNGnSRIKCgiQxMVFGjx4tv/32m6dXjYiIqE44tWWLpD75lOy79jr5r28/2dG5i+zo2k3+GzRYdo85X9IXLfL0KhIREXkk0DVgxg9yxZy1ctfiTeoat/VWdUPwyrYynG0oDssxrrbxxsp4lf08iUi/6dOnS8+ePSUiIkLq168vF154oezcubPMmLy8PJk0aZLExcVJeHi4jBs3To4cOeLy5J3HHntMkpKSJCQkREaMGCH//fdfFb8aIiIiIiIi78AKcURENQx2eBUUFMiCBQukRYsWaufX999/L2lpaZ5eNSIioloPB5UO3nGnFKWmlr0/L0+KcDl6VEpOnPTY+hF52vXXX6/mqRAQEKBO4rj22mvl4YcfFn9/f6///Z4zZ47MnTtX/vnnH7W+rVq1kquvvlpuvvlmCQ0N9fQqEnl9oMu2upsW6Jp1dXeXVc5QhUwPveNqCm+sjGfE50lE+v30008q7IZQXFFRkZo3jRo1SrZt2yZhYWFqzOTJk2XlypWyZMkSiYqKkttvv13Gjh3r9ATZ5557Tl577TU1N0NXh0cffVSdVIvHDQ4OrsZXSERERI5sb9uuWp+v3Y7tdWY/DxER/0oREdUgmZmZ8ssvv8iPP/4ogwcPVvc1bdpUevXqZRnj4+Mjb775pnz++edqHM4CxQ6wiy++2DLmwIEDcu+998o333wjvr6+MnDgQHn11VelWbNmljHvvPOOvPjii7Jnzx51/5133im33XabZfkff/wht9xyi2zfvl06duwojzzySLW9D0RERJ5SsGuXCsP5oErr1KkSdEZrCWjQQEpycqU4K1NKsrIkoFEjT68mkUedddZZMm/ePMnPz5cvv/xSHeDFTtMpU6Z4etXUiSWBDlocX3PNNbJ06VL53//+JzNnzpR69erJ33//La+88oqaD6Nai9HPSVQXAl2iM9CFlpx66B1XU7hTGa9vy7g6GdAjqu1WrVpV5vb8+fNVpbiNGzfKoEGDJCsrSwX2Fy1aJMOGDVNjMNdq166drF27Vvr06WM36I85DOY1F1xwgbrvvffek4SEBPnss8/k8ssvr6ZXR1R3QinuhkyIiGoKb93Pw/0tROQKW6YSEdUgaImAC3ZcYeLpCM74RCU5HMC76qqr1E4uBNegsLBQnQ2KNgwI1+FMUjwmJrSYPMIHH3ygWio8/fTT6ueeeeYZ9ZjaWSAnT56U8847T9q3b692zk2dOlXuu+++anoXiIiIPCfn99/VdeiZZ0r0RRdKSIcO4h8TI4GNGqp/h/XrJ4FNmnh6NamSZs2aJZ07d5bIyEh16du3r3z11VeW5UOGDFEnIVhfbr31Vo+uszcJQmA0MVGduDFx4kTVngsna0BGRoY6kzgmJkZVXDv77LMtrbtw4BYhtE8++cTyWF27dlUneGh+/fVX9fi5ubmWE0Zuuukm9XP4rHCQGHNgDeapeAyc7IHKKI6qoXz88cdqDvzhhx+qs5xRoQUhOBxA/uGHH2To0KGWz/7uu+8u87MIyuGMaQ1+7sknn1SvE+uE6nL9+vWTBx98sMzPHTt2TO1A/vnnn9VtzO8xp27YsKGqBtO7d291ggvVXQgmrUlOk+WbDqlr3Pbk41Q00CU6W532ah4rSVHBKnBlD+7HcoyrTbytMl5dbl1L5C0QgIPYWPPfO+x7w/48zKk0bdu2VRVa1qxZY/cxcIJrampqmZ9BZTnMLxz9DOYi2dnZZS5EREREjvbzeOs+HiIiDQNxRERqYiaSk+OZC55bL5QfxlmiCKZFR0dL//791QG7zZs3lxl3ySWXqEnjGWecoQ7GnXnmmfL666+rZR999JGUlJSoCWOnTp3U2aQ4s2P//v2WA26PP/64qg6H1guYVOIarRneeusttRxnpOIxcHZqhw4dVDju/vvvN/IjISIi8konSwNxCL5R7dWoUSN59tln1cHHDRs2qB1wCEahjaZmwoQJkpKSYrmgIm91yMnJURfsWNTgpAbcZ3vChDYW8zYNDqbivry8PF1jjRASEmI58QLBMbyn2HGKg7F4Heecc456LgQLUQVFm5NixypOzjh16pTs2LHD0lIMYTWtfSnmvUePHlWBRXxe3bt3l+HDh0t6+umgxq5du+TTTz9V1d82bdpkdx0RhmvTpo2lgoo1rBcOILvjhRdekC5dushff/2lTizBSSqLFy8u87lhXt6gQQNVrRnQ+gzvCcZhfo/XhpNWtJ3JVLegZeWAGT/IFXPWyl2LN6lr3Mb9nngcZ1Kz8wwZh2pjj49pr/5tG4rTbmN5batK5m2V8bwtoEdU12AuhvA99vmhIwMg2IbqJ9gXaA3V3rDMHu1+jNH7M9OnT1dzHu3SuHFjg14VERER1Sbafh5v3cdDRKRhII6ISERw8kF4uGcupSc+6IbKb4cPH1YTTBwgw2QSk0IE5TSoYmINt7UKcTibAhNGVIjTKs7hjFMcFE1OTlYHQnE9fvx4y3JcnnrqKXU/4LFQNcX67Avb5yQiIqptTAUFkrt+g/p3WH8G4mqzMWPGqB14rVu3VicYoGou5kNoSaXBzjqcHatdcOZqddDmZsePH7fc9/zzz6v7EKiyhlZbuB8nPmjeeOMNdR/metZQ1Qz3a3NGsJ5fVgR2hH733Xfy9ddfq1Ahgl2Yw+LEDITAEBhDEO3QoUOqArJWgU3bWYrKad26dStzH64HDx5sOZP4jz/+kCVLlqgTQPB5IYiGg8XWZyBjJy1ahOGxMIe1B+uGQJxR8Hrvvfdeadmypbpceumlag6PddbgJJMrrrhC7STGZ4STVPBa8N7gZ1AtbsCAAep+qlsQVpu48M9yVbpSs/LU/XrDbEY9jivpJ/MNG3dWxySZdXV3SYwqG/7CbdyP5bWNt1XG87aAHlFdgxZkW7duVQH56oa2Z6hOp10OHDhQ7etARERE3st6Pw8q1XrrPh4iIo2/5V9ERFRjIIg2cuRIdUHFCVSDQ1U361ZNjqDdaY8ePdTE1BbKEGM5zJkzR7VRsObn52fgqyAiIqpZcjdtElNurvjFxkrQGWd4enWomhQXF6udcThpwPoEAMylFi5cqMJwCNBhTqad0VrXffHFFypchzOCUeXkyiuvVG0tvv/+e1Xx2HqOGRcXp4JoWhAPO0Lvuusu1U4UZwpjRyneY+wkRYjv999/lwceeMByogfmrngMazjbWDuRA9DSA/NcZ6wrtxkBO2+t4flHjRqlthvsKEYbM5w9rVVg3rJli9rWEMC0hqp/tq+Paje0M522YptqS2nLVBqOwvKR7ROdVkoz6nH0iA0LNHQcQm9YL7TkRBUyBK8QBqttleFsK+MhpIhXaPJwZTwtoIfgpL3tx6c0oFjbWtcSeQOc3IB5FA4Yo2KxBnMhHPxFGzHrKnFHjhxRy+zR7scY69ZkuI1WY/agZRkuRERERK7286CzFO73xn08REQaBuKIiFSFDwTFPPfcldW+fXvLGReA6iXXXnttmds4WwJQTQ7tmVAxxF4lE7REQOum3bt3q9ZO9qDN6vvvv6+qymlV4qwrphAREdVGOVq71L59xceXxbZrOwSUEIDDfAc7/ZYtW6bmXIAdf9gBhzkTWls++OCDsnPnTtWuwREEm6xbmmZnZ1dovbSTF6zDd2hdj9ZaCJtZQ5sJrZWFddURtHu1PdFh79695cbqOdnCnqFDh8qsWbNUay+8R7br5UynTp1U9WLsKMUF1fmws3TGjBmyfv16tfO1X2nLYrwXOMCrnVlszfpgcVhYmMvnRRBNa9nhjK+vb7nwnL3WsvaeE3PrO++8U15//XVVHQ6vFRftteAzQUsQ288G2x/VHQiB2VZ0s4atD8sxrm/LuCp/HD0So0IMHQcIf1V2vWoSrTIeQorWnxuCZwjDVWdlPG8L6BHVBZhb3HHHHWq+iXlN8+bNyyzHia0BAQHq5AJ0jgDMPVFh1lHHBjwG5lD4GS0Ah/nnunXrZOLEidXwqoiIiKi2sLefB9XhvHUfDxGRhoE4IiLs1PXBJEq8XlpamlxyySVy4403qlLAaHu6YcMGee655+SCCy6wjNNKCqPFEqpQoMzw3LlzLQfi0FYL45944gl1xum+ffvUAVyciYHb06ZNUwfrEI5DW1YcvMXzZGRkyD333KMOAj/yyCPqYCraKeAAKkoXExER1WY5a9ao67DSHTVUu+GM1k2bNql2UWjNcN1116mddwjF3XzzzWV27mGH3fDhw9UZq2h1ac/06dPVHKuy7O34ww5JXPSMxcFUXPSOreg6tmrVyu5JFUVFRepArLbDE/NbHNDVwoZoH4oKasuXL5d//vlHzWcR/sN8FNXUMMfV1hUneqSmpqodsWj5WhmY315++eXqea3n1dpBahxAxtwYZyGnpJxuM4mqbmhrhp3DruBxse2sWrVKBeKsT2DBySt4LIQY8fqp7kJFNCPGGfU47lQUcxbAq86WnzWVN1XG86aAHlFdgBMWMDfAPAT7+jC/Acw9cLICrlFFBfvkcFAZJ7giQIcwXJ8+fSyP07ZtWzXnvOiii9ScCidMPPXUU6rlGAJyqGiMg9gXXnihB18tERER1TT29vN48z4eIiINyxoQEdUgqA6B8sMvv/yyDBo0SDp27Kh2ZiGYNnPmTMs4HGxdvHixCs2999578uGHH1omoJhsovVCkyZNVEljTFqxUw3VT7SKcWjB+s4778i8efPUQV6UNZ4/f77lDFWsx4oVK1TlFBy8QzgOZ3QQERHVVsVZWZK3Zav6d1h/BuLqAgTMsLMPFTlwYLFLly7y6quv2h2rtYfYtWuXw8fDSQQI12mXAwcOSF2Dg7EIhWHu+uuvv6p2GFdffbU0bNiwTAgNLTQwf0U1E8w7UZUNc1+c6IF5qWbEiBHqQDAO6n7zzTfqJA2028DcFCdzuOPSSy+Vyy67TK644gp55pln1M/jpBG0/8DzrF69Wo0bNmyYrFy5Ul1QUQ4VVtC+TA/s5MW6Yv6O9iF4LusKdThxBSE5nKiClqo4qQXbHp6L6g6EoIwYZ9TjuFNRzFFsC/ezoph7lfEu6NpQXXvyPUPo7dcHh8mHE/rIq5d3Vde4zTAckfFQcQXzQ8yBcKKFdkGHBw32BZ533nmqQhzmRaiuYludGAeg8TganPiK4BwC+T179lSVVxDM17o9EBEREdXGfTxERBpWiCMiqkGCgoLUQTFcnMHZnpgwOoKdZgsWLHBZJQMXR3AGKqqmWLNtH0VERFRb5KxbJ1JSIoEtWkhAYqKnV4c8oKSkpEzLU2vanAgHLp3N43Cp63DCxV133aUO6BYUFKidoF9++WWZanTYIYpqadhpqsG/cUax9X040xg/i52jN9xwgxw7dkzNc/GYCQkJbq0XHguVWd5++2159913VRsPnJWMHbwIqY0ePVqNQ6Vm7OTFfVg+efJkXdXhNAi9nXPOOWodcYKK7XuDKi733nuvHDp0SOLj49WcG+8V1R1atbXUrLwyrSo1PqVVulxVWzPqcSpbUQzrwIpiNVdda11L5Cl69qchxPbGG2+oi97HwfwG3SFwISIiIqor+3iIiDQ+JqYXiKiW0toa4cxIrfIZoBIaKi6g2lltPCMSk8Zly5Z5XfuD2v6+ExFR7WIqLpaTP/8sprw8CW7XTtLmzZfMjz6SmKuvlsT/PeKVcxwyDqq5nX322SqwdOLECRWUQjXcr7/+Wlq0aKFuI9QUFxcnmzdvVqEotJ1HS1UjPkfOm0gPbie116qtKTJx4Z/q39Y77bRaYQie6QmYGfU47iguMXlFy08i8izOV2sHfo5U12xv265SP99ux3bD1oWIah9+h/eu95zzHKK6gRXiiIiIiIiIrJz87Tc5+vwLkr9jR7llYf36emSdqHodPXpUVQBLSUlRO8fQhh5huJEjR6pWp99995288sorkpOTI40bN1atq/73v/95erWJqJZwVG0t0c1qa0Y9jjtYUYyIiIiIiIiIiLwBA3FERLUMC38SERFVTElOjhycPFlyfv5F3faNiJDAZs0kf+dOMRUUiF90tIT26uXp1aRqMHfuXIfLEIBzpxIcEVFFIKw2sn1ipautGfU4RERERERERERENQkDcURERERERCKSs+4PcxguIEBir7xC4m69VfxjYsRUVCQFe/aoQJxfeLinV5OIiOoIo6qtsWobERERERERERHVNb6eXgEiqntmzZql2k6hJzsuffv2la+++qpMT/dJkyZJXFychIeHqxZUR44c8eg6ExERUe1XdPyYug4fMEASpkxRYTjw8feXoNatxb9ePQ+vIREREREREREREREREbnCQBwRVbtGjRrJs88+Kxs3bpQNGzbIsGHD5IILLpB//vlHLZ88ebKsWLFClixZotpRHT58WMaOHevp1SYiIiIvUXzihJza+o8Un8wx9nHT09W1X1ysoY9LVFEmk8nTq0BejNsHERERERERERERkX1smUpE1W7MmDFlbj/99NOqatzatWtVWG7u3LmyaNEiFZSDefPmSbt27dTyPn36eGitiYiIqLKKs7LEJzBQfENC3P7ZomPHJPWJJ+XU1q1SlJKi7gvt00eazp9n2PoVpZkDcf4xDMSRZwUEBKjr3NxcCanA7wvVDdg+rLcXIiIiIiIiIiIiIjJjII6IPKq4uFhVgsvJyVGtU1E1rrCwUEaMGGEZ07ZtW2nSpImsWbOGgTgiIqIaquTUKUkefZb4xcZKi5VfiI+Pj1s/n7nsMznx7bdl7stdu1byk5MlqGVLQ9aRFeLIW/j5+Ul0dLQcPXpU3Q4NDXX7d4Zqd2U4hOGwfWA7wfZC5ExxiUn+2JMuR0/kSf2IYOnVPFb8fPk3hYiIiIiIiIiIai8G4ojII7Zs2aICcHl5eRIeHi7Lli2T9u3by6ZNmyQwMFAd2LGWkJAgqampTh8zPz9fXTTZ2dlVtv5ERETknsLDh6U4M1NdUO0toH59t37+1N9/q+u4m8ZL3M03y+GHpsjJH36QzKVLJeH++w1Zx6L0NHXtHxdnyOMRVUZiYqK61kJxRLbwnUnbTogcWbU1Raat2CYpWXmW+5KiguXxMe3lrI5JHl03IiIiIiIiIiKiqsJAHBF5RJs2bVT4LSsrSz755BO57rrr5KeffqrUY06fPl2mTZtm2DoSEZF3MBUVSdaKLyR9wQIJbtdOGkx/xtOrRBWAIJymYPdutwJxqIZ0arM5EBc+bJj4RUZK9NiLVCAu6/PPpf7kyeLjX/mvNsWlLVNRxY7I01ARLikpSerXr68qKBNZQ5tUVobzbt5QlQ1huIkL/xSTzf2pWXnq/llXd2cojoiIiIiIiGqkvXv3SvPmzeWvv/6Srl27enp1iMgLMRBHRB6BKnCtWrVS/+7Ro4esX79eXn31VbnsssukoKBAMjMzy1SJO3LkiMvqB1OmTJF77rmnTIW4xo0bS21y/fXXy4IFCywHwdBK9tprr5WHH35Y/A0IAhAReWMQ7visWVK4f7+6L3/nTkmaNlV8AgM9vXrkpuKMDMu/83clS5gbbdCLUlKk+NhxEX9/CW7fXt0XPniwCq7h/pO//CIRQ4dWeh2LSlum+jMQR14EoScGn4hqFm+oyoZAHtbBNgwHuA/RPCwf2T6R7VOJiIhItrdtV6mfb7dju2HrQkRE3uXYsWPy2GOPycqVK9Xx2piYGOnSpYu6r3///p5ePSIih3wdLyIiqj4lJSWq3SnCcQh6ff/995ZlO3fulP3796sWq84EBQVJZGRkmUttdNZZZ0lKSor8999/cu+998rUqVPl+eef9/RqqSAjEZFRQbjMpcsk+ZxzJWXKFBWG84uJEZ+AAJQKk4JDhzy9ilTpCnHJbv3sqc2b1XXwGWeIb3Cw+je2h6gxY9S/s5YurfT6mUpKLKE9v1i2TCUiospVZbMOw1lXZcPy6oDqdLbrYBuKw3KMIyIiIiIiIs/w8aneS0WMGzdOVWFDwY5///1XPv/8cxkyZIikpaUZ/XYQERmKgTgiqnao5Pbzzz+rUrZbtmxRt3/88Ue56qqrJCoqSsaPH68qva1evVo2btwoN9xwgwrD9XGjkkxthuAfquU1bdpUJk6cKCNGjFCTz4yMDFUtDmdmhIaGytlnn61Cc1qruXr16qn2tBqUD0YbLs2vv/6qHjs3N1fdRpW+m266Sf0cwoXDhg2Tv/82t6sDBPHwGO+8844qSRxcGlAgIqooU2GhZH66VJLPPkdSHn7YEoSrf/990uq7byWweXM1rvDgQU+vKlUyEIcKce44tcn8/5/gLp3L3B81bqy6PrH6R0t1twqvX1aWSHGx+rd/zOkqtUREREZVZQMsx7iqhlatRo4jIiIiIiKiugfHCn/55ReZMWOGDB06VB2b7NWrlzq2e/7556sxPj4+MmvWLHVcMiQkRFq0aFHmeCQcOHBALr30UtUdLDY2Vi644AJ1nNgajje2a9dOHW9s27atvPnmm2WW//HHH9KtWze1/Mwzz1QhPSIiZ9hfj4iq3dGjR1VwC1XOEIDr3LmzfP311zJy5Ei1/OWXXxZfX191xgGqxo0ePbrcpIdOw+QSZ2GgnSoCcAjHIcD24IMPyjnnnCPbtm1TVfcGDRqkgocXX3yxCs9t375d/eyOHTvUxPKnn36Snj17qjAdXHLJJWr5V199pT6nt956S4YPH67O/sBkFXbt2iWffvqpLF26lK28iKhSQbiszz+X47PfksIDB9R9aIUZN368xFxxufiW/l0KaNxY8v/9VwpKx1ANDsTt3l2hCnEhnbuUuR8V44I7dpS8rVsle8UKib3uuoqvX2mgzjcqii15iYioyquy9W1ZtdVI60cEGzqOiIiIiLy7bS2wdS0RGS08PFxdPvvsM1W4BIU17Hn00Ufl2WeflVdffVXef/99ufzyy1VRFATcCgsL1bFeFD9BuM7f31+eeuop1RFr8+bNEhgYKB988IFqwTpz5kwVekPYbcKECRIWFibXXXednDx5Us477zx1LHnhwoWyZ88eueuuu6r9/SCimoWBOCKqdnPnznW6HMn+N954Q12qCyqomU6dEk/wCQlRZ09UZJ3RWhZhQpx1gcnob7/9Jv369VPLMXls3Lixuh/hNpQvRqgNUKEPE0pUmkNIDoE4XA8ePNhSLQ5nWiC8qE1uX3jhBfVYOKvj5ptvtrRJfe+991QVOSKiCgfhZs22VH3zi4szB+Euv8wShNMENmqkrgv3MxBXExWVtiOF4uPHVUDOLzpa13aS988/6t8hNhXiIGrsRSoQl7nss0oF4opKS/z7l4a+iYiobkL1NgTWUDkNYbFezWPFz9enxlVlw3onRQWrVq326tHhFSVGmV+ft7x/RERERERE5F0QXps/f74Kp82ePVu6d++ujiUi8IaCJxoch0TXKXjyySfl22+/lddff10VPPnoo4+kpKREVYDTjofOmzdPVYvDsclRo0bJ448/Li+++KKMHWvuCILOVCj4geOaCMQtWrRIPQaOMeM4cocOHeTgwYOqkxYRkSMMxBER4WD7qVOys3sPjzx3mz83io9N6MOZL774Qp2NgTMqMPm78sor1QQR9/fu3dsyLi4uTtq0aaMqwQEmqDhb4tixY6oaHAJyWiAObWp///13eeCBB9RYtEbF2RZ4DGunTp2S5OTTbe5QGplhOCKqUBBu+XJzRTgdQThNQJPG6rrgIANxNVFxZlaZ26gSF9q9u8ufy/v3XzHl54tvZKQENmtWbnnE8BFy5IknJX/nTrVt+QQEVKpCHKoTEhFR3bRqa4pqaWpd5Q2hssfHtJezOibVqKpsCKFhvW9d+Kfd5QjJYbmRYbXKvn9ERERERETkfdDR69xzz1XV3dauXas6Sz333HMq4IbuVYDqb9Zwe9OmTZZjjug4FRERUWZMXl6eOuaYk5OjrnGsEsE7TVFRkepgBTjWiQAewnDWz0FE5AwDcURENczQoUNl1qxZqoRwgwYN1NkZaJPqSqdOnVSrU4ThcHn66adVIG7GjBmyfv16FbDTqsshDJeUlKTCcrZwxoYGpYqJiPRCWCnzs88kDUG4Q4dOB+FuuskchAsJcfrzgY3NgThWiKvhLVNxFqDJJPm7dukLxGntUjt1Eh9f33LL/evFiyAEV1goRcePS0BSxQ64F5UG4lghjoiobkKYa+LCP8tVU0OFNdw/6+ruLkNdnqrKVlvePyIiIiIioprevri2ti5GEA3tSnFBe1RUg0NVNy0Q5wyOOfbo0UN1trKFohtYDnPmzClT+AP8/PwMfBVEVNcwEEdEVNq2FJXaPPXc7kAIrVWrVmXua9eunTpTYt26dZZQW1pamuzcuVPat29vfh4fHxk4cKAsX75c/vnnHxkwYICEhoZKfn6+Kjl85plnWgJuKHmcmpqqwnbN7FTjISJyh6mgQDKXLy8bhIuPl7ibxkvMZa6DcJqARlqFuIOqbXRF2k2T5xSXtkwNatNG8nfskILk3bp+7tTfmx22SwWE5BCKKzqcIoWpqRUOxBWnlVaIi6t9IQUiInLd5hOVzeyF2HAfZhxYPrJ9otOKalpVNgTAMMr68bSfMroqm6vX5Ije11Sd75/tY7L1KhERERERkXfCscfPPvvMchuV46699toyt7t162Y55oi2qfXr15fIyMhyj4UqcCgAsnv3brnqqqvsPh+Og77//vuqqpxWJQ7PQUTkDANxRESlYTF32pZ6m9atW8sFF1ygSgkj3Iayww899JA0bNhQ3a9Bm9R7771Xhd/QdhUGDRqkzsq4//77LeNGjBihSg1feOGFquzxGWecIYcPH5aVK1fKRRddpH6eiEhXEE6rCHf4sCUIFz/hJom+9FLdQThNQKOGqrqYKTdXtbf0t2nrTDWjQlxojx4qEJdv1YLbmVOlFeKCO9sPxEFAQqIKxBUdOVrh9StKT1PX/rHcroiI6hoEr6zbfNoLdWE5xvVt6fz/E6iChmpotq1DEyvQOrQyoTAjX1N1PxdbrxIREREREXkHFN+45JJL5MYbb1QtS3H8ccOGDerYofXxxyVLlqhjhyjGgWOOf/zxh8ydO1ctQ8jt+eefV+OfeOIJadSokezbt0+WLl0qDzzwgLo9bdo0ufPOO1U47qyzzlLFPPA8GRkZcs8998iVV14pjzzyiDoOOmXKFNm7d6+88MILHnxniKgmYCCOiKiWmDdvntx1111y3nnnSUFBgQq6ffnllxKANnKlBg8eLMXFxSoYp8G/UTXO+j4EBPGzmFzecMMNcuzYMdVeFY+ZkJBQ7a+NiGpgEG7ZZ3L8rdkqpAR+9eIl/qaKBeE0voGB4p+YKEUpKVKwfz8DcTUIKvoVZ2Wpf4ee2UMyPvhA8ne7DsQVZ2dLwW5zJbkQJ4E4/9L/NxUdPVLhdbRUiGPLVCIiw9SUKl9YPyPHIbSFamiVee2VDYUZ/Zqq67nYepWIiIiIiMh7oLgG2pi+/PLLkpycLIWFhdK4cWMVTHv44Yct4xBoW7x4sdx2222SlJQkH374oaWDFbpV/fzzz/Lggw/K2LFj5cSJE6qgx/Dhwy0V49CCFeMQnEMBD3S06tSpk9x9992W9VixYoXceuutqvIcHnvGjBkybtw4D70zRFQTMBBHRFSDzJ8/3+GymJgYee+995z+fNeuXVUowRomk9qE0hrO8njttdfUxZ6pU6eqCxFRmSDc0mVy/O23ygbhJkwwB+FKS5lXRmCjRioQV3jwoEhpyXXyfiUnTogUF6t/h3Tvoa6xjZTk5Ihvabtue05t2aKuAxo3Fn8nQbWAhPrquvDIkcpXiGPLVCIiQ9SkKl8IrBk5DhB+q2jlNUehsBQ3QmFV8Zqq+rmqovUqERERERGRN7M5ZOd1goKCZPr06eriDFqefvPNNw6Xo+jGggULnD4GqsDh4kifPn1k06ZNZe6zPeZJRGTNt8wtIiIiIqIKBOEyFn8ku846S1KnTlVBJ/969STh4Yel1bffSuy11xoShoOAJo3VdcGBA4Y8HlWP4owMdY325Aiv+ZVW98vfvcfpz+WVBuKcVYcD//qlFeJSK1EhLt28jn5smUpEVGlaoMu2jaZW5QvLvQmqtyGs5yhihfuxHOOqmrNQGOB+LMc4b3lNRj2XO61XiYiIiIiIiIiInGEgjoiIiIgqpEQF4RbLrtE2QbhHHpGW334jsddeY1gQThPY2ByIK9zPQFxNUpyZqa79oqPUdVDLluq6wEXb1KKjR9V1YNMmTsf5J5YG4ipRIa44jRXiiIiM4KrKl+gMdFUnVBtD5TqwDXVpt7G8OqqSuQqFic5QWHW+JqOeqzrbvBIRERERERERUe3GQBwRERERuR+E+/BDSR41WlKnTlMtTP3r1zcH4b77VmKvudrwIJwmoFFphbiDDMTVzEBctLoObNlCXefvch6IQ0tVcNZWFQISzIG4wtIAnbtMhYVSnJVlXsfS6nVERFQxNbXKF1qQohVpYlTZOQxu62lRapTUrFOGjavO12TEc8WHBel6Lr3jiIiIiIiIqOqhbemFF17o6dUgIirHv/xdRERERET2g3CZn3wiaW/PkaLUVHUfgnBxN98s0ZdcLL5BVX9wMrC0ZWrhgYNV/lxknKLSlqn+0THqOqhlK3Wdv3u3058r1hmI8084XSEOO2B8fHwqtH7i6yt+UeYqdkREVDE1ucoXQlsj2yeqsB7Wr36Euc1ndVSG0xw/WWDouOp8TZV+Lr2rVH0fBxERERERERER1VCsEEdERERELoNw6YsWqYpwR554UoXhEEBKePR/5taoV19VLWE4CChtmYrgU0me9x1IJ30V4oJKK8QV7Nqlr0JcaKjTcQhmgik/3/Jcbq1furlKkV9MjPj48isSEVFlIARl5LjqhvBW35ZxckHXhuq6OsNwkJlbYOi46n5NlXmu4yfzDR1nJLT4XZOcJss3HVLX3tTyl4hqvp9//lnGjBkjDRo0UCf3fPbZZ2WW4z57l+eff97hY06dOrXc+LZt21bDqyEiIiIiIvIOrBBHRHUWKshQ9eH7TVTzlOTnn64Id+SIug9BuLhbbpboceOqLQRnDYEqVAtDUKrw0CEJatmy2teBjGiZav7cCg4cUIFL38BAuz9Xkpurq0IctkWE2YozMqTo6FHxj4mpUCDOPzbWrZ8jIqLyUBEsKSpYUrPyVHtUWz6lbTQxjsrTW+TUzWKo1QZBsYpWiKuKMGVl1kezamuKTFuxrUwrYGzjj49pX22tdImodsvJyZEuXbrIjTfeKGPHji23PCUlpcztr776SsaPHy/jxo1z+rgdOnSQ7777znLb35+Hg4jIue1t21Xq59vt2G7YuhDVVjxWVn34XhMRvwERkVObN292+2fat2/v1TtYAgIC1HVubq6EhIR4enXqDLzf1u8/EXl5EG4JgnBvq3BRmSDcxRc7DC9VB5zVHtCkieRv367CVAzE1bBAXGlQzb9ePfEJClIV3bCNBTZq5LxCnItAnHrMhARzIA7hzTZtnI49sXq1HHvpJUmc9oSEdu8mRWmlFeLi4tx+bUREVBbCRggKTVz4pwq/We9+1mJIWF7dldeqW0WDWH1bxMvM1cm6xnmbygbHejSNEbxFzoqvYTnGVcf6aI+Bbdl2lRD4xP2zru7OUBwRVdrZZ5+tLo4kJiaWub18+XIZOnSotGhhrrztCPbP2v4sEREReYafn5+6Ligo4LHJasLjkkTkvYkVIvIKXbt2VeEDvSl6X19f+ffff13ukPH0pDM6OlqOloY8QkND1WukqoFtB5NOvN9437VJPxF5aRDu4yWSNmfO6SBcYqLE33KzRKEinAeDcNYQnkIgrnD/AU+vCulUnFG2Qhz+v+sbHCzF+flictL6tiRHX4U48E+oL/k7dkhhaTVDR4oyMiTl4UdUeC5j0SIViCtOTzM/Rqx7leWIiMg+BIQQFLINIyXWkapalQli9WkZJ9GhAZKZW+hwDJZjnDcxIji2cV+G0zAcYDnGoR1rVa8PQo34HO2tEu7DXgQsH9k+0bCApxEV7Yiodjty5IisXLlSFixY4HLsf//9p9qwBgcHS9++fWX69OnSpEkTh+Pz8/PVRZOdnW3YehMREdX1SoUIquN45LFjx1RAC8dTqWrwuCQRaRiIIyKX1q1bJ/Xq1dM1wejYsaPUBNrZkVoojqoeJp08K5WoBgXhkpLMQbixY70mCKcJaNxYXRccZCCuprZMBZ/gYJGsLCnJO33ApTIV4gLqJ6jrolTngbijL76ownCQs26tmr9YKsTFele4gIioJkPYCEGhmhbuqWwgqbJBLDzXs2M7ya0L/3Q4Bsu96X00KjiG91wPV+OMWh9sB9ahRnuPheUY5yqgpwdbsxKRHgjCRURE2G2taq13794yf/58adOmjWq5Om3aNBk4cKBs3bpV/bw9CMxhHBERERkPJwgnJSXJnj17ZN++fZ5enTqBxyWJiIE4InJq8ODB0qpVKzVp0GPQoEE1otSvNvGsX7++FBY6PvOejIGzXXgGBpH3KcnLOx2EO3bM64NwmsAm5kAcK8TV9EBckLo25ds/0IygmiUQFxrq8jn8E0sDcUcdB+JyN2yQrE8+Lf0Bfyk+dlwKdu+W4gxzIM4/Llb/iyIiIpcQNjIiKFRdEEia+vk2Sc22qmoXGSxTz9cXSDIqiIXnumVQc5nzy54yFdPwIxMGNnc7HFXVVceMCo5h3fRwNc6o9TEqoKcHW7MSkV7vvvuuXHXVVarqmzPWLVg7d+6sAnJNmzaVjz/+WMaPH2/3Z6ZMmSL33HNPmQpxjUtPSCMiIqLKCwwMlNatW6u2qVS1eFySiICBOCJyavXq1W6N//LLL6UmwWSIEyIiqptBuI/l+Jw5KhB0Ogh3i0SNvchrg3CagEasEFdjA3Exp1uS+gYFW7ZHe0zYMVRcrL9CXII5EGfdMrX45EkVePNPSBS/mGhJLa12EH3JxVJ46JDk/L5GctauZYU4KmfWrFnqsnfvXnW7Q4cO8thjj1kOLObl5cm9994rixcvVm2lRo8eLW+++aYklG6HRFTzIJBkryobwnG4f7aOQJJRQSysy9s/7ykXjjKZRN3frUmM7nBUZUN+ehgVHENQz1W72JjQADWuOtbHqICeK55ozUpENdMvv/wiO3fulI8++sjtn8XJzmeccYbs2rXL4ZigoCB1ISIioqqDVqmugu1ERGQMNqcmIl2hOJ6tQERU8yF4lL5ggewaOVKOPDNdheH8GyRJ4rRp0urrVRJz+WVeH4aDwMaN1HXhgYOqihh5N3xGWovSci1TVYU4+y1TtepwuivElQaRio6cbod+cOJtsvfSy2TX4MGys3sPyf9vlwrl1b/3Xgnt3UeNyV27VorT0syPwQpxVKpRo0by7LPPysaNG2XDhg0ybNgwueCCC+Sff/5RyydPniwrVqyQJUuWyE8//SSHDx922baKiLwXAkkPLd3idMyUpVvUuKoOYrkKRwGWu1oX65CfdRjOOuSH5UaoruAYmKpxfRC8Q8tSRxE03I/lrgJ6rrgTpCSium3u3LnSo0cP6dKli9s/e/LkSUlOTlYdM4iIiIiIiOoCBuKIyKXhw4erswhxIPDJJ5+UX3/9VYqKijy9WkREVJEg3PRnVRAuoEEDSXximrRatUpiLrtUfGpAEE6DdRdfXxWk0lq9kvcynTplrvZmE4jzLa08YHJQIU4LxPmEhIiPjmqu/vVLA3GpqebrtDTJXb++9Ml8RUrnLgkPP6zWI6xPb3U754/1lu3IL5aBODIbM2aMnHPOOaqNBSppPP300xIeHi5r166VrKwsdTDypZdeUvNjHJScN2+e/P7772o5EdU8a3enOa1KBhm5hWpcVQexjApHGRXy00MLjjmjJziG1+Tqc8ByV6/dqCAbqrE9Pqa95WdsHwOwvLJV26qzNSsReSeE1TZt2qQusGfPHvXv/fv3l2lfipMxbrrpJof7b2fOnGm5fd9996kTN1DxGPPUiy66SHXJuOKKK6rhFREREREREXkeA3FE5BJ2wrzxxhvSpEkTdfBv0KBBKiCH1lConLFu3TopKSnx9GoSEZGNklOnJG3+fNk1onwQruWqryTm0poVhNP4BASIf7166t9FVu0xybvbpeJz8w0LLVchriTPeYU4Pe1SISDRHIgrzspSIVC0QoWgtm2l7d+bpOW330iLL1dK1Jjz1P3BHTqIb3i4lGRlSeHhw+o+fwbiyI7i4mLVGjUnJ0f69u2rqsYVFhbKiBEjLGPatm2r5spr1qzx6LoSUcWsSU4zZBwCVmGBzkPcYUF+ToNYRoWjjAr56YFA2PldnFccwnJXwTGjXruRQTa0lZ11dXdJtAn84TbuN6LtbHVW2CMi74SKxN26dVMXuOeee9S/H3vsMcsYzEdRfdtRoA3V344fP265ffDgQTW2TZs2cumll0pcXJw6eaNe6XdpIiIiIiKi2s7f0ytARN6vadOmcsMNN6gL7N69W3788Ud1mTVrljzyyCMSEREhmaUHvImIyPNBuIzFH0na3LlSXLpDPKBhQ4m79RaJvuCCGhmCs+WfmKDCcIWpqRLSqZOnV4ecKLJql+rjc/rAs29waYW4fOcV4vS0S1XjIiNVyA4V54qOHpWc0mBSWN++KowX2LhxmfE+/v4S2rOnnFy92nKfX1yc26+Paq8tW7aoAFxeXp6qDrds2TJp3769qtYRGBioThCxlpCQIKmlFQrtyc/PVxfrKh9E5C1MhoxDtbXcgmKnY3Lzi9U4R2Gs+HDz/x9dcTXOnZBf/1bxUhl4PR9tOOh0zMcbDsoDZ7VzGkIzMhimBdmmfr6tTMtYBNkQhnMnyIaxI9snqsp0COPh+RFqrGxlONuKdqlZeXa3MJ/S9a5sa1Yi8l5DhgxRYTdnbr75ZnVxBJXgrCFAR0REREREVJcxEEdEbmvRooUqsY+D2rh89tlnUlDaCo2IiLwgCPfOO1KclmYJwsVPvFWiEIQLCJDaIiAhUfJksxSlOA6fkHdViLNulwo+QS4qxOXmulUhDnMS/4T6UrhvvwpK5vz+u7o/rF9fhz+DtqlaIE5VsAsP1/VcVDegmgbCb2iR+sknn8h1112n2k5V1PTp02XatGmGriORvWBSVYV2arO+LeJl5upkXeOceX/NXpfROlPpuPEDW9hdXlKsL5znalyJSV8Vd73jjKpG5yx8VzXBsLKP5Cpw4gh+j/q2rJrgvFbRbuLCP9VrNFVRa1YiIiIiIiI9trdtV6mfb7dju2HrQkRUGQzEEZEu+/fvVxXhVq9era5Rgr9fv34ycOBA+eKLL6R3796eXkUiojoLwSFLRTgtCNeokTkId/75tSoIpwlISlTXhUcYiKuxgThLhThXLVP1VYiDgPoJKhCXu369FB1OUdt+aI8eDseH9ulj+bdfbGyZCnZEqALXqlUr9e8ePXrI+vXr5dVXX5XLLrtMnQyC6sjWVeKOHDkiiYnmv032TJkyRbW/sq4Q19imciFRZazamiLTVmyTlKzT1bCSKlANqy7q0zJOQgP9nFZ3QytUjHNmX7o5zO2Ks3Hr9uqr7IZxA9s4bnsXE6qv0pzecdVRjc7IYBh+H/A4tvG3I9n56n6j2p0aRatoZ/s7XJGKdkRERERERERExEAcEemsCJeRkSH9+/eXQYMGyS233CJnnnmm+PvzTwgRkceDcB8uNgfh0tPVfQGNG0v8rbfU2iCcxj/BHDopSj3i6VUhvYG4mJgy9/tqFeJctUzVWSEO/EvDSFmfLVfXId26OW25GtS6tQrC4ffHL45tyMi5kpIS1fIU4biAgAD5/vvvZdy4cWrZzp071QkkaLHqSFBQkLoQVQVH4R9U2vLG8I83CvT3dRqIC/D3dfkYTWP1hbidj9MbznY+Lj5CZ+tVneOc0Vt1Tc+4061O/5HU7NOh+YTIIJl6fgdd2zEqJSJYZu/ZTKXvHJajDao3VV2r6tasRERERERERER1CdMsROTSqVOn1LWvr68KweEAIFqmEhGRJ4NwH0ra3HdtgnCoCDemVgfhNAGJCeqaFeK8X3GGiwpxjlqmlgbi/NwIxAUk1FfXhQcOuGyXqtbB11dCe/eSE1+tEv/YqmmDRjUTqrmdffbZ0qRJEzlx4oQsWrRIVUn++uuvJSoqSsaPH6+qvcXGxkpkZKTccccdKgzXx6rqIFF1qanhH2+CAJKrlp9YjnHO2mZe07eZPP3ldilxkvvCR4BxjvRuHiszzd28ncI4ZxIjzcFzV/SOcyYyJMDQcWa226r+bRefk3WVNVv4eLDc1efpCVXZmpWIiIiIiIiIqC5hII6IXEpJSZEdO3ZYWqY+99xzkpeXJwMGDJAhQ4bI4MGDVaUMBOaIiKiag3BNmpiDcGPOqxNBOI1/ork6SFEKA3E1tWWqViHOZGSFuPrmoKQmzEm1Lk3EsOEqEBfUsqXu56Ha7+jRo3LttdeqeTACcJ07d1ZhuJEjR6rlL7/8spr7okIcqsaNHj1a3nzzTU+vNtVRNTn84y1Ss04ZMg5V5oa3qy/fbjvqcAyWY5wjvjpDi67GobJYdGiA06BfTGiAGldZ2acKDRvnuNWp/mqHqK6mh95xRERERERERERU8zAQR0S6tG3bVl1uvfVWdXv79u0qHIeQ3FNPPaXuyyw94E1ERMZCMMgShMvIOB2EmzjRHISrgy2sLRXijh4VU0mJqvRFNatlqk9wactURxXicnPVtbOWp7b8E04H4nwjIiS4Y0eXPxN53rkS2KypBLVpo/t5qPabO3eu0+XBwcHyxhtvqAuRpzH8U3nHT+YbMg7V+rYeynY6BssxzlG1vqMn9K2L3nHO6Gt06pqPjzHjjKp2iFajeugdR0RERERERERENQ+PHBKR244cOSKbN29Wl7///luys7NVZQwiIjI+CHd8zhzZNWKkHH3hRRWGC2jaRJKmT5eWX66U6IsurJNhOPCvV898VLWw0FItj7yTFuIsVyHO0jLVuApxWlASwvr0Fh8dLd59fHwkpFMn8Q0M1P08RETehOGfykvPLTBknKtqfWJVrc+R4zqDbq7GudMGtrL6tog3ZJw71Q6d6dE0RrWmdQbLMY6IiIiIiIiIiGqnunkElYjcbhmFSnBay9R///1XAgICpFevXnL55ZfL0KFDpa+OlmRERKRP8ckcyVi0SNLffddSXQtBOFUR7ry6WRHOFtrD+sfHS9GxY1KYkqr+Td7eMjWqzP0+pS1TSxyE6ivUMtWqQlwo5yZEVEeg5WVSVLCkZuXZrayFXFBiVLAhrTE9BZXDEIJClTsE+/BanFUIc1dKZp4h41Kz9T2Os3EZOsN5rsYZsS569Wweq85TMDkpOYflGFcd1Q437suQEhfl77Ac49hGmIiIiIiIiIioduLRVCJyKTExUQXgzjzzTBk3bpwKwPXr109CQkI8vWpERLU+CBfYtKnE3zZRIs89l0E4G/5JSSoQV3QkVaST/daYeB9tK5ORpwJx7lWIK65IIC4+XrVixWOGMRBHRHUEgmGPj2kvExf+qcJv1jkgLTKG5UYGyKrTqq0pqk2mdeUwBADxms7qmCTeJF1n61Vn44xqP3pMZ9BN7zhnECxzFoYDk44AmlHVDtlGmIiIiIiIiIiIeFSViFz66quvZMCAARLmxgFpIiJyMwj3wQfmIFxWlrqPQTjXAhISBIcxC1OPlFtmKiqSlEcfk6xly6TB889L1JjzPLKOdDoQ5x8T46BCnHEtU/G70vClF6Xk5EkJat68EmtNRFSzIBg26+ru5YJjiV4aHHMnDIegn23WCtXwcD9esxGvrWF0iCHjokP1td92Ni46JEDfY7gYt+2weU7pit5x1RFAM6raIdsIExERERFRTbW9bbtKP0a7HdsNWRciopqOR1eJyKXRo0d7ehWIiGql4pMnJWPhB5I+b97pIFyzZuYg3DnnMAjngn9iorouSk0pc7+poEAO3f+AnPj6a3X75OofGIjzEHwWWrDNtkKcj6VCnIOWqbm56to3NNSt54wYNqyCa0tEVLMhGDayfaIhrUWrukWp3nVAwM9eMAr3YW2wHK+5suvWp3mcvPFjsq5xzmTqbHfqbFx8uPn/j664GpdbWKLrcfSOq8y66B1nVLVDbK/RoQGSmVvocExMaECNbiNMRERERERERETO8SgrEbk0TOeB5R9++KHK14WIqPYE4RZK+rz5ZYNwk24zB+H8/Dy9ijVCQGkgzrpCXEl+vhy68y45+dNPlvtObd7ikfUjkaLS6nDi6yu+kZFllvkGm6uymAysEEdEVNchKOSsJWVNalGKQJ71OthCWArLMa6yr9mStqrkuNgwfRXinI1LjNJXrc7VuJ7NYuSbbeWr6NobV2km48ZVV7VDvatMREREREREREQ1EwNxROTSjz/+KE2bNpVzzz1XAgL0tW9xZvr06bJ06VLZsWOHhISESL9+/WTGjBnSpk0by5ghQ4bIT1ZhBrjllltk9uzZlX5+IiJPB+HS5s2XEi0I17y5xN+GINzZDMK5yT8xQV0XpaZa7js6Y4YKw/kEBUmDZ6fLocn3SOHBg1KUkVGuZSdVX7tUv6go8fH1LbMMnxGUOKoQl1NaIY6BOCKiWteitDrbcOqxbk+67nEDz6hXpWE2rW2oszAglruqbnZdv+byzJc7nAa/fErHedtnVdlqh/g5Z9XhAMsNCVMSEREREREREZFXYiCOiFxCWG3evHmyZMkSueqqq+TGG2+Ujh07VvjxEHSbNGmS9OzZU4qKiuThhx+WUaNGybZt2yTM6qD3hAkT5IknnrDcDnWzZRoRkbcoPnHCHISbv+B0EK5FC4mfiNaoDMJVukLcEXP1E5PJJCe++179u8Fzz0nk6FFy7LXXpWDPHsnbskXCBw3y6PrWRcXpGXbbpZapEJfHCnFERN6gOluU6oEQlJHjnCkpMRkyzogwG97b87skyVs/73E4BstdfQaB/r4yon19+XbbUYdjsBzjKis9p8DQcZWtdlgVYUpvaCNMRERERERERET6MRBHRC7df//96rJmzRp59913pX///qqaG4JxV155pUTatEBzZdWqVWVuz58/X+rXry8bN26UQVZhBQTgEkvDDkRENTUIl/7++5KOIFx29ukgHCrCnX0Wg3AGBeJQIc5UUmKuBHf0qPgEBEj4YPP/T0I6d1KBOLRNZSCu+hWmpqjrgKTy/z/3CQq2tLm1hXAjA3FERNWrWluU6tCjaYwgb+Qsg4blGFdZWXkFhoxDQAptPe1V2QPEp7DcWZAKwauPNhx0+jwfbzgoD5zVzuXjrN9rDqY7guUYV9lgV2x4kKHjvC1M6S1thImIiIiIiIiISL/KnwZKRHVG3759Zc6cOZKSkqIqvCEc16BBA8kuDXlUVFZptaTY2LJnyX/wwQcSHx+vqtFNmTJFcnPNrdMcyc/PV+tifSEi8lQQ7tibb8qu4SPk+GuvqzBcYMuW0uDFF6TFis8l6rxzGYYzgH+9eiI+PmIqLJTijAzJXb9B3R/cqZOl+lhwp87qGhXiqPoVHj6srv2Tyh8s9g0OclghzlRQIFJcbB7HCrFERLWuRakeG/dlOA3DAZZjXGX5+PgYNg4BqZsHNVfhtzI/K6LudxWgWrs7zWW7z4zcQjXO6eMku34cLMe4ykqMDDZ0XGWhelt0aIDTMVjuqu2sdRth27Co1kYYy4mIiIiIiIiIyPuwQhwRue3PP/9UbU+3b9+uwmoBAc53NDtTUlIid999t6o6Z92GFZXnmjZtqgJ3mzdvlgcffFB27twpS5cudfhY06dPl2nTplV4XYiIKqs4O9tcEW7Be6crwrVsKfUm3SYRo0czBGcwn8BA8YuPk+Jjx6UwNVVyN5gDcaFnnmkZE9LJ/P+WU1u2qKpjeg94Q/6ePVJ48JCEDxxQBWtfNxSllFaIa9Cg3DIfrWVqQYGq8Ofje/pcHa06HDAQR0RUPaqzRam3BfSax4UZNg4BKXvtTpHtw/3dmsQ4DcWt0RlQw7j+reIdL999XN/j7D4u/Vs7fhw9jGgVW90tSn1qYBthIiIiIiIiIiLSj4E4ItLl8OHDqrUpLqi8dvXVV8u6deukffv2lXpcVJrbunWr/Prrr2Xuv/nmmy3/7tSpkyQlJcnw4cMlOTlZWrZsafexUEXunnvusdzGejZu3LhS60dEpDsI9x6CcAuk5MQJdV9gq5ZS7zYG4apaQGKSCsShbWruxo3qvtCepwNxQW3bigQESHF6uhQeOiyBjRrqfuyDd9whBbuSpeWqrySwWbMqWf/aDu85BCSVD8T5Bp1um2bKzxefkJBygTjcx98fIqLqoYWaUPnKUbvPRDdDTTUloHdN32by1JfbxeSkIh0y9RjnKkD10FLnVWmx3HmAykVZPN3j9Aa0Kh/ksm4Va7tm2qO7ahVrZItSBOn0VNlz1f7X29oIExERERERERGRfmyZSkQunXPOOSqEhgDc888/LwcPHpQXXnih0mG422+/Xb744gtZvXq1NGrUyOnY3r17q+tdu3Y5HBMUFCSRkZFlLkREVR2EO/b6THNr1JkzVRgOQbiGL78kLT7/XCLPOYdhnioWkJigrk/9vVkK9+8X8fWVkG7dyoSugs84Q/07b6v+tqklubkqDAeoPkeVa5nqrEIclNi0TdUCcb5h+ir2EBGRGBZqAnvtPt0NNRkV0HP0bD4VqDrmCF5TSIDzORuWu3rtRrQp7dtCX7U2V+P0BrSMCnIhqDbr6u6SEHk68A64jfv1BNmMalFqVHVBb2sjTERERERERERE+jEQR0QurVq1SmJjY2X//v2qJWmvXr2ke/fu5S56oWUdwnDLli2TH374QZo3b+7yZzZt2qSuUSmOiMirgnBvvKGCcEGtW0nDV142B+HOPrtM+0eqOv4Jieo6e+VKdR3ctq34hYeXGRPcuZO6PrVZfyCuYO/eMp83uQ//vy+0tEwt//9vFRYtbbuOCnH2A3Fsl0pEVJ20UBMqwVnDbXdCTTUtoIcKX7kFxU7HYDnGOfPrrmO6ns/ZuJ7NY13WbPMpHedMz2b6goJ6x+nn6NOqfItSwHKMq47qgt7WRpiIiIiIiIiIiPRjy1Qicunxxx839PHQJnXRokWyfPlyiYiIkNTSyjtRUVESEhKi2qJiOSrTxcXFyebNm2Xy5MkyaNAg6dy5s6HrQkTkjuKsLElf8J6kv/eelJw8qe4Lat1a4idNkohRIxmC84CAJHMgrvDQoXLtUjUhnTpL5oeLJW/zZvPYlBRJffIpiRw9SqIuuMDu4+Yn77b8W2uDS+5Bm1oVdPPxEf9E8+dkCxX8SgoLxWRbIS4317w8lBXiiIiqG0JvaOmJ8BcqXyHsgypsFQmeIbhUmcfRAnpTP98mqdl5ZQJ6ettn6mFUJbAtB7N0PY6zcRv3ZbhshmoqHeesuts6J1XobMcNbFNPKkur7Ga77keyzZXd9AQqjWpR2qNpjGAzc5abw3KMq0lthImIiIiIiIiISD8G4oio2gNxs2bNUtdDhgwpc/+8efPk+uuvl8DAQPnuu+/klVdekZycHGncuLGMGzdO/ve//xm6HkRE7gXhFkj6e++fDsKdcYbE33Ybg3BeUiFOE3KmvUBcR3V9ats29VkeuOVWyf/3X8n/7z/Hgbjd5napUMxAXIUUHjZXh/OPjxffwEC7Y1Tb1JMnpYQV4oiIvApCa5VtpYmAFKp5WQeckiocZDOVq0JqJKMqgYUEOm+7qmecUeG8T/86qOtxMK6ygTi9ld0QtHQWiDTqtSMs6KKInFruKlSoVSlEoA9rbfJwG2EiIiIiIiIiItKPgTgiqnauDl4gAPfTTz9V2/oQETlSnJkpaQsWSMb7C8sG4VARbuQIBuG8QEBiQpnboT16lBsT2KKF+IaGqqpj+669ToXhoPDAARV284uIKPczBdYV4rIZiKuIwsOH1XVAgwYOx6BCHBrUlasQZwnEsUIcEVFN5KhaGCpt6a0W5uxxjmTnu/U4rhhVCaxeRJCu53M2zqhwnqsWsO6Oq0xlN9FZ2c2o125UsM66SqFtuNPoKoVERERERERERGQsBuKIyKnu3bvL999/LzExzluJaAYMGCAfffSRNGzYsMrXjYioyoNwqAhXGswJatNG4ifdJhEjGITzJtatOANbtRT/2PIHqn38/CS4QwfJXb9e8nfuFJ+QEPEJDJSSrCzJ275dwnr1KvczBXtOB+JYIa5iClPMgTj/Bo4PFKsKcQjA5dmvEOfHQBwRUY3jqlqYj85qYUY9jh5aJbBbF/5pd7lJZyWwyBB9u9mcjTMqnNezWax8s+2Iy3XBuMpKyTxlyDi8pujQAMnMLXQ4JiY0wOVrNypYVxVthImIiIjIse1t21Xq59vt2G7YuhAREVHNx0AcETm1adMm+fvvvyXWTsDA0fh8m7ZnREQ1RVFGhmqNqirCMQhXIwTUr2/5d2iP8u1SNcGdO6lAnPj4SMMXX5DMT5fKye+/l3w7gThTUZHk791nuV3CQFyVVogDUz4rxBER1RauqoWZdFYLM+pxqpO/r1+lxxnVpvOKXk3k6S9dHxDEuMr6c3+G5B3YKqd2b5SgBm0ltHVvh+PG9mhUqefS0yzXqFCh0W2EqxMCpQzwEVFNwhAMAbcDIiIiIjISj+oSkUvDhw+Xrl276rqcOqXvzHAiIm8Lwh19+RVJHj5C0ma/pcI4QW3bSsPXX5Pmy5ZK5KhRDMN5KVR684uPV/8OPdNxIC76wgtVuDHpySckYtgwCW5n3smat638ztKCAwdECk9XJmGFuIopSklR1wFJDXRUiLMJxOXmqmvfUAbiiIhqGqPaVRrZ9lJPeOihpVucjpmydIsa50xvnQErV+O0Np0IbVnDbb1tYj9av1/XuugdpykoKJAnnnhCLrvsMsvJcIczT0ne3r8le+0SObVrnWVsSWG+ZK//TEzFhZZxziDA5aw6HGA5xjmjhQrBNgLmTqiwpkKr4QEzfpAr5qyVuxZvUte4jfuJyDv9/PPPMmbMGGnQoIH4+PjIZ599Vmb59ddfr+63vpx11lkuH/eNN96QZs2aSXBwsPTu3Vv++OOPKnwVRERERERE3oUV4ojIqT179rj9M40aVe6MbyKiaq0IN2++ZCxcaAngBLVrJ/Um3Sbhw4YxBFdDxF59teSsWSPhQ4c4HBPUurW0WH76oEJwe/NB0rxt28qNLdh9ul0qlGRnG7q+dUXhIR0V4oK1CnH2W6b6hoVW6ToSEZHxjGpXGRsSqOtx9I5zZu3uNJdBrIzcQjWufytzEN+eEpOe+mX6xlW2TefetNxKj/vpp5/k3XfflY4dO8r999+v7gsICJCXX35ZMjMz5ZFHHpHOnTtL8rGTEtykkxTnZkpws66Wn8/6ZaFkr18mp/b+JQmXTFPjqisEqYUK0VbXutIgQoUIw+kJFdZECL2huqDtFoZqebhfb6CSiKpXTk6OdOnSRW688UYZO3as3TEIwM2bN89yO6i02rYjH330kdxzzz0ye/ZsFYZ75ZVXZPTo0bJz506pb1VpnYiIiIiIqLZiII6InGratKmnV4GIqPqCcLdPMgfhfGpntYjaKv7WW9TFHcHtzRXi8nfvVtXJfEsrlWn3gV90tBRnZkrxSecHb8m+Qq1CXEMnFeKCHFSIY8tUIqIay6h2ldtS9QXSMW5gm3pSGb/vOq57nLNA3Gd/HdL1OBg3uE39Km7TaXJr3OTJk1XloPfee09atmyp7tu3b5+6PXjwYEsgDvPk++67TwUx4kur9OYVFktw087qYi2wQRvxDYmUiG7nWsZVR5jSqFBhTYMKhggA2vvkcR9eNZbjPamt7wFRTXX22WerizP4u5uYmKj7MV966SWZMGGC3HDDDeo2gnErV65UQeeHHnqo0utMRERERETk7RiIIyIioroVhHt3nqR/8IGYtCBce1SEYxCurvFPSBC/mBgpzsiQ/P/+k5BOnSzLCpLNgbiQLl3k5E8/sUJcBSBoivcWApIcVyHx0SrE5ZWtEFfMQBwRUY2ltatENSrMrEwVbFe5cZ/5/yOu6B3nzCEXrTz1jsspcB74cnccAk4VDXN1bRQt70v5dqj5h7ZL5i8LxS8sRuLH3KfGwS+//CIbN26UzZs3WwJxAwYMkCeffFLOtGlLj8pw1qJCAuTIiYJyzxXWdoCENO8uvkGhlnEI3YWFhUmHDh2qLExpXKiwZsG2Yl0NzxbeUyzHuLrynhDVJj/++KOq7BYTEyPDhg2Tp556SuLi4hy2t8bf9ClTplju8/X1lREjRsiaNWuqca2JiIiIiIg8h4E4IiIiqvWK0tMlfR6CcIvKBuFuv13Chw5lEK4OwmeOtqk5v/0medu2lwnEaRXiQrp1VYG44hMnPLimNVNhaqq69g0PF7/ISIfjfEsrxJnyWSGOiKg20dpVTv18m6RmV6xdZVign67n0jvOmQbRIYaM69ksRr7ZdsTl42CcntaXtu0+k9x4/xrEOG47nrfvb/ELjyszDqEJBCj69OljGdeiRQv53//+5/K5ejSNkX+Pmv/fbUsLw0Gn+kFy+eWXy6FDh2T58uWq/V9VhCnrKiNbzhKRd8HfS7RSbd68uSQnJ8vDDz+sKsoh3ObnV/7/g8ePH5fi4mJJSEgocz9u79ixw+Hz5Ofnq4smmyeHERERERFRDebr6RUgIiIiqsog3NEXX5RdI0ZK2px3VBgOIahGb74pzT/9VCJYFa5O09qm5m3bZrnPZDJJQXKypUIclJw8KaaSEg+tZc1UeOiwy+pw4BNkrhBXYlMhTmtlzEAcEVHNhv+vWisp0dvGU2Rs90aGjnPGWRtUd8Zd16+5JbjliE/pOFdhOITCbKt9oXIa7sdyPSE15MaKThyXnJ2/We4PqNdM4s6+S+pd9LBajnEwbtw4ueKKKyTJxf+77Tmzmb5qYx2TwqR9+/aq5V+/fv2chikRnrSG27hfTxiwrjK65SwReQ+Eic8//3zp1KmTXHjhhfLFF1/I+vXrVdU4I02fPl2ioqIsl8aNGxv6+ERERERERNWJFeKISBecVfjbb79J586dJTra3FKFiMirK8K9+66kL/rQUhEuuEMHib99koQPGcIQHCnB7UoDcdu3W+4rOnrMXJ3Mz0+CO3Y031lSogJafuHhnlrVGqcwpTQQ16CB03G+WstURxXiQh1XtyEiIu+FwNatC/8sd/+RE/nq/tk6gk1nNtPXFlPvOGf6tIiT6NAAycwtdDgmJjRAjXMm0N9XRrSvL99uO+pwDJZjnLM2qagMZy86qN2H5SPbJzqtlIZWsoW5J+TI4kekKP2wyPn3S1i7QeIbGCLhnUeqMcgnYlxl22fqrbDXtllDWbFihaSmpkqkVQXZb775RoYPH26pcoRtA6+vou1ijWo7W9NURctZIvJOqOAZHx8vu3btUn8/bWEZ/qYeOVK2ailuI5TsCKqF3nPPPWUqxDEUR0RERERENRUrxBGRLtiJMmrUKMnIyPD0qhAROVSUliZHnn9edg0fIWnvzDVXhOvYURrNelOafbJEItgelaygWiDk79wppqIi9e+C3ebqcIGNGolfRIT4BASo2yVsFeOWwsPmQJx/A1cV4oLtV4jLYYU4IqKaCgGkh5ZucTpmytItapwzi9bt0/V8esc5g4DUs2NPt0+3Z/rYTi6DVHhNWw85nzNgubPXjvCWbWU4W1iOcc4gAOYbHCbBTbuIX2Q9CWrY1uE4o4JYzmA5xmEubl2F7uuvv5bRo0fLsGHDpLDQcSCxosHMATN+kCvmrJW7Fm9S17itp8JeTaS1nAXbLZUtZ4lql4MHD0paWprDqp6BgYHSo0cP+f777y33lZSUqNt9+/Z1+LhBQUEqsGx9ISIiIiIiqqkYiCMi3Tp27Ci7d+/29GoQEdkPwj33vGqNmj73XTGdOmUOws2eJc2WfMwgHNkV0KSJClyZ8vMlv/T/b/nJ5uvAli3VtW/pAYDiEyc9uKY1NxDnqkKcj1YhLs9BhTgG4oiIapy1u9OcVlqDjNxCNc6ZfenmcLQrese5gqpkqFyXGBlcLsilp6KdUWG21Gx9ATVX46JDAsTHx1diR06UpGtfEv/I+g7HGRXEcjTb9nESxEpPT5fw8HDp1q2bBJSeiGBEkM2ItrOegLDkmuQ0Wb7pkLp2FRy1xZazRDXTyZMnZdOmTeoCe/bsUf/ev3+/Wnb//ffL2rVrZe/evSrUdsEFF0irVq1UoFiDSnEzZ8603Ealtzlz5siCBQtk+/btMnHiRMnJyZEbbrjBI6+RiIiIiIiourFlKhHp9tRTT8l9990nTz75pDrLMMzmIDXPGiQiTwTh0ua+KxkffqhCcBDcqZPUu32ShA0axBAcOeXj6ytBbdvKqY0bJX/7dgk+4wxLhbigli3UNarEFaelSckJVohzR9Fh80HmgCQXLVO1CnFWLVNNJhMDceRx06dPl6VLl8qOHTskJCRE+vXrJzNmzJA2bdpYxgwZMkR++umnMj93yy23yOzZsz2wxkTe47ddx3WP698q3uHyxjH62nDqHacHwkLD2ibI+2v2qqBd09hQuaZvM6ctTitSbc3ZuPSTZaumujsuMzNTFi5cKIcbDFS3MR/2C4t2+DjfbEuVwW3sh+UqEsRCO1frEBoChQjDOQpiXXHFFapaUf365nVAUO3mOT9JcX6OBEQnlguy6Ql1uWo766Oz7Wx1w2t39/2zx8iWs0RUPTZs2CBDhw613Nball533XUya9Ys2bx5swq24W98gwYNVBcP7J9FRTdNcnKyHD9++v/Bl112mRw7dkwee+wx1aq6a9eusmrVKklISKjmV0dEREREROQZDMQRkW7nnHOOuj7//PPLhExw4Bq3i4uLPbh2RFSXFB0/fjoIV1pZKrhzZ3MQbuBABuHIrbapCMTlbdsuURdcIPm796j7A1uUVoiLiFDXxdknPLqetb9C3OmD+qjYJ6VzCgbiyFMQdJs0aZL07NlTioqK5OGHH1YHHrdt21bmpJAJEybIE088YbkdGhrqoTUm8h6HM08ZMu6MBPP/g13RO66igaR3ft2jO5CE4JEezsbFhgXqegx74/D3Ct/b16xZI53Ou1Gkw1iXj7M/Xd/nVZVBrGbNmpUJsqV/95bk7loncWfdKWHtBrodZHNVqc9kVamvb8s48QZaRTvbEJ87QUBreH+85bURkWs40QL7Vx1Be2lXUD3O1u23364uREREREREdREDcUSk2+rVqz29CkRUxxUdO2YOwi1efDoI16Wz1JvEIBxVTHC7dur6xHffSfGJE5K3ebO6HdSiuaVCHJScZCBOL1NxsRQeOaL+HdDA+YFb3+DyFeJKck+3vvMNMa7qD5E7UD3D2vz581X1oo0bN8qgQYPKBOASE09XMCIikYbRIYaMW783Q9fjYJwRFc6MCCR1bey4EpvecYlR+t4/e+P8/f3l2muvlX///Vf6DDtbvjH/79ipZnHGBnkrE8RCQO3Q8Swpyj4mpsJ88Y+qX6EgmxGV+mwhrFdVFddqakU7IiIiIiIiIiJvxkAcEek2ePBgT68CEdXlINw7cyXjo4/KBuFuv13CBgxgEI4qLKRzJ3VdeOiQZC1dqv7tExIigS1bqX/7lrYDZ4U4/YqOHjVXePP3F/969ZyO9SltmWpdIU5rl4rPwcfPr4rXlkifrKwsdR0bG1vm/g8++EC1JkQobsyYMfLoo4+yShzVeX1axMkbPybrGuec40o5FRtX9YGkRev26Xo+jBs/0Nye3RaCVtGhAZKZW+jw57Ec4+y59dZbVZu84LBIafdY2XCvPQ+f0168BcJmvgFBknDldMk/tEOCGpxuU20qLhIfP39dQTYjKvVVRSvT2lTRjoiIiIiIiIjI2zEQR0Ru+eWXX+Stt96S3bt3y5IlS6Rhw4by/vvvS/PmzWXAgAGeXj0iqq1BOFSEQxtFBJi6dJF4FYTrzyAcVVpQq1aS9NSTUrBvn/iGR4hvRLjaxvzCzS0R/SLC1XXJiWwPr2nNUZiSoq4DEhJcBtp8LS1T88oF4tgulbxFSUmJ3H333dK/f3/p2LGj5f4rr7xSmjZtKg0aNJDNmzfLgw8+KDt37pSlpeFaW/n5+eqiyc7m3xWqpQzKsfVtES8zV7sO1mGctwSS9qWfrnLqjN5xjljPgPF35fnnn5f77rtPgksrr8bExKiQn7+vjxSVOH6jsTzQ31e8hRZQ8/HxleBGp4N6xSczJPWDByRqwJUS3mGoyyAbwoIIrDn7TLHcUaiwKluZVldFOyIiIiIiIiKiuo6BOCLS7dNPP5VrrrlGrrrqKvnzzz8tB/RQMeOZZ56RL7/80tOrSES1ROHRo5I+F0G4j8oG4e64Q8L692MQjgwVffHFDpf5RpRWiDtxshrXqGYrPFwaiEtyfXBYqxBXYhUSOh2IY5Ut8g6TJk2SrVu3yq+//lrm/ptvvtny706dOklSUpIMHz5ckpOTpWXLluUeZ/r06TJt2rRqWWequ6qyraNe6/am6R43sI3jSqJ9WsbpqpSGcZVlVCCpaay+/3c5G4fPz9lrhozcQks47/rrr5fFixer7+jWgdy1u9OchuEAyzGuf6vKhwqNoAXZEDazXvPsjZ9LUWaKZK9ZIi17jXAZZMM2f36XJHnr5z0Ox2C5q9+N6mplanRFOyIiIiIiIiIiEvGe00CJyOs99dRTMnv2bJkzZ44EBARY7ke1DOx8JyIyIgiX+swzkjxylKQveE+F4UK6dpXG77wjTRd/KOGsCkfVzC8yQl2zQpx+RcePqWv/+vVdjmWFOPJ2t99+u3zxxReyevVqadSokdOxvXv3Vte7du2yu3zKlCnqRBLtcuDAgSpZZ6q7UMlqwIwf5Io5a+WuxZvUNW7j/urlY8g4BIwuO9P57x2WGxH4iw8LMmTcNX2biavVwXKMMyqcd8stt0h8fLwK71r7bddxXY+jd1x1wGeJNqS2ogdeLVEDrpL6Yx+RaRd10RVk+/xv59s9lmOcUZUDjQgCOnpVPm5UtPNWeK/XJKfJ8k2H1LWr956IiIiIiIiIqLJYIY6IdEMLqEGDBpW7PyoqSjIzMz2yTkRUOxQeOSpp77wjmR9/fLoiXLduEn/7JAnrx4pw5DloowrF2Sc8vSo1RnF6hrr2i3V90NYn2E6FuFxzGznfUFaII88xmUxyxx13yLJly+THH3+U5s2bu/yZTZs2qWtUirMnKChIXYiqgtFtHStTaQ5Vy2au3qVrnBGhpgfOalf5UJwxGT7VfnTCwOblKpMVHN0tJfm5EtSovUwY1NJpm1J3q4UNGTJE9uzZI+Hh5jbvmsOZp3Q9jt5x1QXb6c2DmsucX/aIlpny8fWT2AFXqPdW245XrFgh9erVkz59+rgdZBOdLXCrq5WpFgTE7yo2MZOdTQ7Lq7vao5F/n1BJz/ozQcAPr6my7WaJiIiIiIiIiBxhII6IdEtMTFQVL5o1K3s2O9pHtWjRwmPrRUS1IAj30UdiKiiwBOHq3XG7hPbtyyAceVGFOAbi9CrOMFdJ8YuNcTnWpzQcxApx5G1QaWnRokWyfPlyiYiIkNTUVMuJICEhIaotKpafc845EhcXJ5s3b5bJkyerk0c6d+7s6dWnOsboto6VDa/0aeG61WkMWp22cB6IMyrUpMfxk/mGjevWJEZO/D1bghq0kcB65u/OWes+ldxtP0lk38uk2zUvO/15hA/DAv0kp6DY7nKTqUROrftYmtzZ3XKfbRgOGkaH6HhF+sdVF2x/b/+8p9z2bDKJuh/vb1O/TLniiiuksLBQhZb79u1bJUG26mxlit8tBFdtf/cSa3hwzOiwLhERERERERGRXmyZSkS6TZgwQe666y5Zt26dCqkcPnxYPvjgA7nvvvtk4sSJnl49IqpBCo8ckdSnnpbkkSMl4/33VRgupHt3afLuXGm66ANWhSOv4RtRWiGuDgXiTCUlcuC2SXL44Ucq9PNFpRXi/HVUiPO1VyGuNBDnx0AcedCsWbNUW1NUXkLFN+3y0UcfqeWBgYHy3XffyahRo6Rt27Zy7733yrhx41TFIqLqZmRbRy28Yvt4uI379bRfReju2bGdnI6ZPraTy3Beara+UJPecc7EhwcZMg7hxLtfmCfpq2ZK6sIHpCjrqLrfLzhCfAJDJbRVLxV4wjgEa5955hlV3c32MXIdhOEg85cP5NhPC2XkyBEqEOZIv1bxul6T3nHeEO4ELE9q0FBGjx4tAwYMkJ49e1ZZkA3hRIQ7ncFyo1qZIhj264PD5MMJfeTVy7uqa9yuqYExvZ8n26cSERERERERUVVghTgi0u2hhx6SkpISGT58uOTm5qoKGGj7hEAcWkoREekJwqW9PUcylyw5XRGuRw+pd/skCe3ThyE48jp+pYG4kuxsqSuKUlPl5A8/qH8nTX1cfAID3fr54vTSCnHReirEBVsqxKFFJf4GsEIceQNsj840btxYfvrpp2pbHyJnjKqG5Sy8AiY3K81V1vET+YaOc8pkzDiEDnOiWkhQ4w4SEN9U/CLrqftjR94qMUNvFPELsIQTv1m4UKZOnSq//PKLfPXVV5bHeH/NXqdPE95phORu+1EGjJsgAQGOw1o9m8UKptbO/pxhOcbVtHDn9uOF8sknn0hOTo74+/tb/m4fP35ctVHt0TRGsIk6y1lhOca5UlhU4nx5sfPl7sLvVmUrHtbEsG5tec1ERERERERE5D1YIY6IdMNB6kceeUTS09Nl69atsnbtWjl27Jg8+eSTnl41IvJyhampkvrEk5I8YqRkfPCBuSLcmT2kyfx50nTh+xLG9qjkpXwjItV18cmTUlcUZ2Wd/ndpOM2tn8/I0N0y1Te4tNJOSYlIUZH5n1ogLpSBOCIiPYyqhuVOi1JXwbqHlm5xOmbK0i0uq0Jl5JpPnnBF7zhnjufkGzLucEau+IVESMKlT0rsiJvLzG99/AMttzGuS5cuMmLECLnmmmssYxDwmnHveDm59XsxldivEhcQkyQNbpoliT1GOF2XjfsynIbhAMsxriaGO/FeWreKfemll6RDhw6qhSpek6uiYyU6Xvva3WkOW9dqcvKL1TiqurAuEREREREREVFFsEIcEen2ww8/SL9+/SQ4OFjat2/v6dUhohoShLNUhCtt6YQgXL3b75DQ3r0YgiOv5xcRbqkQp1Uwq0uBOBVOi3EdbLNWlKG/ZapPactU9Vz5+eIXECAlubnqNivEERHpg3aNSVHBkpqVZ7eyGP7PlRgV7LKtY2rWKV3P52ocwkGZuY5beUJGbqEa199Ju069ReiMKFZX2VBhZmambNy4UTadqK9u+/g7b7O56WCmPHnhhXLhhReWuf/zzz+X/9b/KP7ROySswzDL/VlrP5HgZl0lKLFV6eMHSqPokFoXRqro51BUVCSLFy9WJ+z9888/0ii6tSGv/bddx3U9DsY525brKqPCukREREREREREFcEKcUSk2/nnny/R0dEycOBAefTRR+W7776TU6f0HTQhorqlMCVFUp94QpJHjpKMRYtUGC70zDOlyfz50vT99yWsT+86ESyims830lwhDtuwKd+Almw1QHGmVSDOzcp4eJ9KSgN1fnoCcWjHWvq3AG1T1XNaWqaGuvXcRER1FVosPj7GfMKS7exKu43lrtqcHj+pr9Kaq3FrkvVVy3I1rm8LfQEjveP0hAodvUO4P8lBqLCgoEDGjRsno0aNks2rV+h8RvvPhBPQzrv+TonseZFlrlySnyuZv7wvRxc/IsU5mZaxJS5KoNXEMFJFPwe0TUUb6zlz5shtt91m2Gs/nKlvf4fecXVNZX6viIiIiIiIiIgqi4E4ItItIyNDvv/+ezn77LPljz/+kIsuukgF5Pr37y//+9//PL16ROQlQbiUadMkedRoyVj0oTkI17OnNFmwwNwalUE4qmF8Q0NFfM1T5pITJ6QuKFchzp2fzSw9UO/jI35RUS7H4++BT5C5bWpJnjlwWHxSC8SxQhwRkV5ndUySWVd3V5XgrOE27sdyV9Jz9QW/XY9z0atS57iezWMdBmk0PqXjPB0qbNKkiYSGhkq3rl10PV+zOPuh76ZNm0rS0Kslovu5lvsKMw6LlBRLZN9LxS8s2nL/nwect/tEyCg61HmlupjQAMPDSGiFi7Dj8k2H1LWr1rhGfQ54/2+66SY1t8BrSgjzk7RVr0thRkqFg1gNXVThc3dcVb9/tTWsS0RERERERERUEWyZSkS6BQQEqPAbLg8//LBqRfL888/LBx98IGvXrpWnnnrK06tIRB4Mwh1/+23J/ORTkdLWqKG9ekn8pEkS1ruXp1ePqMJ8fH3FNzxctUwtPnFC/OvVkzoViHOzQlxRuvngvF90tPj4+en6Gd+gICnOyxNTvrlCXPHx47orzBER0WkIvY1snyh/7ElXrSBR/QqBH71hk5TMPEPG9W4WJzMl2eXjYJwzG/dluIzWmUrH9W3p/LHcCRVOW7FNUrLyyoQKEdpxFCoMDAyUd999Vx555BFp0qyFvPfoV+Isw4SP45q+zRwuDw0su6susH5zaXTHB+IXGuV0XEUYHbVatTWl3PuX5OL9M+pzsIZtvtm+lfLH319L3t5N0mDCW+Lj5+92EKtfq3h540fX2zLGecv7522M+DyJiIiIiIiIiCqCgTgi0u3ff/+VH3/8UV3QjiQ/P1+1T33hhRdkyJAhnl49IvKAwsOHzUG4T5eeDsL17i3xk26TsF4MwlHt4BcRoQJxuNQFlipvqlqbe4G44ox0t8NsPsHBIllZUlLaMrXo2DF1XRfCh0RERkPAp6LhMKOqYfn66QvguRqHUJ8eesfpgXDOsLYJ8v6avbIvPVeaxoaq8Fqgv6/d78dnnHGG+jeqkrVq1Ur9e8LA5vLWz3scPgeW23s8zbjujeSzTYctt318/cqF4bRxziAYmZlrnp87guUYZ0SgEGGuiQv/LBeyS83KU/frrVRoRLgTXpr2kGzZsEZKulwkeaVhuNx/10j+31/KheeOkrM6nq7CN2HCBMnOzpbnnntOVemD3377TRYsWCBFh4PEv+NZlrGndm8Un8AQCUxoIb4BwarKXp8W3vX+eRsjPk8iIiKiumJ723aV+vl2O7Ybti5EREQ1HQNxRKRb27ZtpV69enLXXXfJQw89JJ06dWLrQ6I6qvDQITn+9hzJXMogHNV+vpGRIocOSfEJ98JhNVVxVmbFW6amlwbiYk63dHPFJ9jcMtWUny8mk8kqEFffrecmIqLKMaoa1tET+lqvuhqH0IweesdVtELXO7/uKVfJ6pdffpERI0bILbfcIi+//LL4WVVFnXKOuUXknF/2lKkUh+wPwnDacmfvb2ign+QWFDscExbop+NzqL5AIdp64n2zV3EO92GvAZYjFKU3BFWZcCc0bNhQtv75hxSViCXg+F/uWlm87C8pONamzNjly5fLsWPH5NFHH7Xct23bNpkzZ470HjJSUuV0IC7921lSlJkqCZc/I8FNO8v0sZ1k757dsmHDBunRo4clGOnp98/bVPbzJCIiIiIiIiJyFwNxRKTbnXfeKT///LM88cQT8sUXX6iqcLgMGDBAQkNDPb16RFRdQbi33pbMZctOB+H69JF6k26T0J49Pb16RFXCLzxcXZecqCMV4sq0THUvEFeUYW6Z6h+jv0Kcb5A5yGDKy5OSrCwxlf5t8a9nTPsxIiLSB1WuokMDnFYV01MNK/2kvkCcq3GoIOVqfbAc44zgToWuv//+WwoKCuTw4cN2TxJD6O3eUW11VZqzFxzq3ypOvt121OGYfq3iXAaj4sPNgXNX9I5zBpW/rEOEtvCeYrk71egQEqtsRbFvth2RqZ//I6nZ5m2t8FQjaXnpFDnznN5lxj377LOSk5MjDRo0sNyHcBv2feQEx8vitNLXUVIsAbGNxFRUKAH1zJXkAPtH7r77brnwwgtlGb4nlZo3b54K5rnaZ1IV7x8REdU8rApFRERERGQsBuKISLdXXnlFXWdmZqoz4tE29ZFHHpF//vlHunXrplqKEFEdCsL1RRBukoSeeaanV4+o6ivE4cBs9gmpC0oyrQNxbrZMTc+oWMtUPFdevqU6nG9UlPgGVf4APRER6Yew0bNjO8mtC/90OAbVsFyFkmLDAnU9n95xzhhVK8vdCl233367tG7dWgYOHCi+vvZDbhjXvkGUxEcEqUCX3jBXQVGJfL/dcRgOsBzjnAXsSortvZqKj6vOanT2KvUlRQWXq9Tn6jFst+WAuEZSFNdIXv9HpMPWFMtj3XjjjeV+vnv37tKlazcZMOMHEcmztK+tf8lUyxhtu7glKVp69+6tLhoEJm+++WYpKiqS/fv3WwJxa9aske3bt0v//v2lTZs2HmsPTERERERERERU27k+NZWIyEZxcbEUFhZKfn6+5OXlqeudO3d6erWIqAoUHDwkKY8+JrtGnyWZH3+swnBh/fpK0w8WStN58xiGozrBLyJCXZecPFH3KsS52zI1o7RlamyM7p/Rgm+m/DyrdqmsDkdEVNFg15rkNFm+6ZC6xm13ICA0++rukhhZtg0pwki4X08YKTEqRNdzuRqHaljOqsNBRm6hGldZeip0HU47Ib//dzqoNnr0aIdVvxDGQpDqijlr5a7Fm9Q1buN+V1BVztXHhuUY58y6vaVlzVzQO6662ttqlfpsPw+tUp+e9xDb/UNLtzgdg+Wufj/0Vm5rM/A8Wbt2rTz00EOWZVlZWapi3JlnnimNGjWy3L9o0SIZP368vPPOO5b7YoL9JfP3xZL77+9iKi5y+HzxYTxZgIiIiIiIiIhIL1aIIyK3Wqb++OOPsm3bNomJiZFBgwbJhAkTVNvUTp066X6c6dOny9KlS2XHjh0SEhIi/fr1kxkzZljOjgYE7e69915ZvHixCtzhYMObb74pCQkJVfTqiMhawcGDkvbWW5K57DORIvNBGQTh4lERrkcPT68eUbXyLQ3E1ZUKcdaBuOIc9yrEFaW73zLVukKcqUALxNVz63mpbot1oyIhoL3hn3/+KU2bnm53R1QbGFFVCzB2WNuECrX7BLS2xPM6CxJhuatWp9VZNcvVY5hMJXJ85Uty9xo/+XHV5xJROjeobOtVe/ak6Qujux7nU2119rTPHK/R5OAZEnV85u5W6nNkbXKayzAllmNc/9bxVbIN1qtXT5YsWVLu/nbt2smwYcOkT58+lvsOH9wrWb8sFB//QGk8+fTPIBzn4+dvfElEIiIiIiIiIqI6gIE4ItItJSVFtfxAAK5jx44Vfhy0Wp00aZL07NlTtQ95+OGHZdSoUSpoFxYWpsZMnjxZVq5cqXYgR0VFqZY0Y8eOZVtWomoIwh2fPVuyPltuFYTrJ/G3T5LQ7t09vXpEHq0QV3wiW+qCSlWIS9cqxOkPKPkGn64QV1zaopWBOHJHZmamvPLKK2rO6IrJZJLbbrtNVTwmqk0qG8JyFax759c9uoN1CCqd3yVJ3vp5j8MxWO6qhWh8uL5qWHrHVaZyWeHxA3Jq1x/ytxTL5s2bVbvLqgp0lZSU6FpnV+P6toyTmat3uXwcjKssvBZsH9jW8KqsX7/2KrHc1WeutyIbxjlb7zW7j+tab4xzFogzsvKdBv8PwsU2nBfWcbiIqUS1ZdUcX/G8+AQEScywCeIXEiHHT+brfh4iIiKqm3wqGaDfdrpmAREREVGNx0AcEelm7+zmili1alWZ2/Pnz5f69evLxo0bVdU5tBaZO3euaiWCM6dh3rx56kxqtCGxPpOaiIxRcOCAHH/rrbJBuP79zRXhunfz9OoReZRvZGnL1BPuVUuriUpOnRJT/umDrSUnK9gyNSZa98/4BGkV4qxbpjIQR+65/PLL1XxSjzvuuKPK14eoOhlVVcuoYB3W56MNB52OwfIHzmrndH1KivW1e9U7zpkeTWMEq+Kog2ZgvaaSdNWz8uyIeg7DcEYFunLy9QXiXI3r0yJOokMDnFZKiwkNUOOMgO0C28fUz7dJavbp9wCV4fSGKY2rCmhMdTyjKt+50ql9W4k/d3KZ+wqO7ZXcnb+ro9qRZ16gAnFGhD+JiIiIiIiIiOoKff0uiIhKJScnq4OII0aMUBe0UcV9lYEAnHW7KwTjCgsL1eNr2rZtK02aNJE1a9Y4fBy0Vs3Ozi5zISLXQbjDjzwiyWedLVmffKrCcAjCNV20SJrMfYdhOKI6ViHOujoclJRWbNOrKCNTXfu7USHOR6sQl5fPQBxVCKok6Q3DwYkTJ6RFixZVuk5E1cmdEFZlgnWA5RjnjDvtKp1Zt9f5cnfHObNxX4bdMByqSmoCEltLq75nVXmgK7fAfHKKK67GIWz47NhOTsdMH9vJZUjSfSaH76ErRlVk660zoOZqnFb5DmzfJXcq37lk5y0KrNdMEq9+TmJH3CyBCS0t41jhlIiIiIiIiIhIHwbiiEi3r7/+Wtq3by9//PGHdO7cWV3WrVsnHTp0kG+//bbCBzDvvvtudZa91oY1NTVVAgMDJTq6bHWZhIQEtcyR6dOnq1ZZ2qVx48YVWieiuqBg/345/HBpEO7TpTiyImEDBkjTDxmEI7LlWxqIK8k+IXUuEOdGy1RTSYkUZ2S43zJVqxCXnydFRxmIo4rBiRFEdZVRVbWMCtb9nqyvXaWrcXpzVG7krdx6bwqO7ZMjHzwoRVlHnY4zOtCVEKmvCpiecajKNvvq7pIQUXZsYmSQul9vG109tOqCqdll/x4fyc5X92O5K1pFNkfxMtyfpKMim6/OXmF6xmmV71AJzhpuu9OK2JnjOfb/HxbUsJ1EdD/PcvvfvfulTZs28v7777sVNCQiIiIiIiIiqovYMpWIdHvooYdk8uTJ8uyzz5a7/8EHH5SRI0e6/ZiTJk2SrVu3yq+//lrp9ZsyZYrcc889ltuoEMdQHFFZBfv2yfHZb0nW55+rEByEDRwo9SbdJiFdu3p69Yi8kl9kpLouOVkHAnGZFa8QV4LKrKV/V/xiYnT/HCvEkRFwMkTfvn1l6NCh6tKnTx8JCAjw9GoRVQujqmoZFaw7nHlK1+O4GhcdGqjrcfSOc+e9Qdgo/euZkn9ou2Ssniv1Lpxid5wtBLX0tCl1Fujq1iRWFq474HKdMU4vn3LBLx+vbNurVWRDgA6jTBWsyOYoYFbRcQi9Yd0RBsX2j+0An6FR1fX0/g5/9/G7qkL/a6+9JldccYX4+3O3LhEREZGRtrdtV+nHaLdjuyHrQkRERJXHCnFEpNv27dtl/Pjx5e6/8cYbZdu2bW4/3u233y5ffPGFrF69Who1amS5PzExUQoKCiQz09x2TXPkyBG1zJGgoCCJjIwscyGi00G4w1MeluRzzpWsZcvMFeEGDZRmHy2WJnPeZhiOyAnf8NKWqXWiQpz5/72+UVHm225UiCtKN1eH8w0PF9/AQLcrxJlQIY6BOKqg2bNnS9OmTeXdd9+VwYMHq0rDOFkDFYTXrl3LFnNUqxlVVSs+XF9lMlfjGsSE6HocV+NiQ/WFWvWOc6Zr4+hyAbL48x+U0DP6SezoSQ7HVYSrul62lcgqMw5V2W5VVdvKhhhx+1adVdv0MKq6oFEV2YwKiVpD+K1vyzi5oGtDdW1kq1m9v8NzZ74kzzzzjMydO9cShkN4E5X3vV1eXp5ccsklcumll9aI9SUiIiIiIiKimo+BOCLSrV69erJp06Zy9+O++vXr634c7LBFGG7ZsmXyww8/SPPmzcss79Gjh6ro8f3331vu27lzp+zfv19V/iAiN4NwD02xH4R7+20J6dLF06tI5PX8IksDcSfqQiDOXCEuoGEDS8tUvS25ijPS3W6XCj7BwZZAXUlurvq3fz398woiuP7662X+/Pmyd+9e2bVrl7z++uvSoEEDFZTr37+/xMTEyLnnnuvp1aQ6CtWz1iSnyfJNh9Q1bhtJq6oFjuqA6amq5TKppXNcr6b6/j/galzmKcdV1ioyzpmFa/eq65KC01Xr/CPjpd5FD4tfSGS5cY4g8OWsOpxa39xC58Ewgz4HbGcPLd3idMyUpVsM2R6Nqi6oQejtp/uHyqPntpNr+zZV17ittz1pj6Yx4mpzx3KM8wZ6f4eDgwJVZfzOnTtbls+ZM0eGDRum/t/nzU6dOiWffPKJLFmyRHUJIKKyfv75ZxkzZoyavyKU/dlnn1mWFRYWqs4cnTp1krCwMDXm2muvlcOHDzt9zKlTp6rHsr60bdu2Gl4NERERERGRd2BtfSLSbcKECXLzzTfL7t27pV+/fuq+3377TWbMmFGmVameNqmLFi2S5cuXS0REhKSmplpaXYWEhKhrVKLDY8bGxqpKb3fccYcKw6H9FRG5VrB3rxyfNVuyVqwQKT0DP2zwIKk3aZKEWB1AISLXfCPMgThTbq6YiorEpxa3pyrRAnENGkj+tu0iRUViys+3hNacKUovDcTFuFc9x7e0ZWrhwYPq2ic0VPzCwyqw9kRmLVq0UBdUMd6zZ4+qpIOA3KpVqzy9alQHoQIXWkVaV89CpSeEW/SGe/TQqmrZPleiG89lVJvJf4/qC5Bj3OC2jgPQsTor1ukd58z6vRmSu+sPSfvyFRWCC27c0eG4CYMcP87hDHOw2xXzuDi7y46e1Pc5uBq3dneay3BeRm6hGte/VbxUhtEV2fB7M/XzfyQ1+/RrnPPLbpl6fgdd2/LGfRniKueH5RiHam/eoCK/w/n5+SrwkpKSIitWrJDJkydbliHoWFUtXisCwXT8vxidAGxPiiQikZycHOnSpYuav44dO7bMstzcXPnzzz/l0UcfVWMyMjLkrrvukvPPP182bNjg9HE7dOgg3333neU2Wy1TVSrXob0CtrUxYk2IiIiIiMz4DYiIdMOOFwTYXnzxRXVWMuCsROyAvfPOO3U/zqxZs9T1kCFDytw/b948Vd0DXn75ZfH19ZVx48apnbyjR4+WN99809DXQ1RXgnDhgwdL/KTbGIQjqiC/8HDLv1Elzj/GO6qJVJapuFhyfvtNgjt2FP/Sqm7Fpe3KA5LMFeKg5ORJ8dURiCvOMLdM9Y9xs0JcacvUwgMHzD9fr3IH5aluQ0Xh1atXy48//qgux48fVydU3HfffaqVKlF1Qqhn4sI/yxXySs3KU/frbf+oFx5rZPvECodgjAo1Hcg4XWWtMuMSI3W2DtU5zpmwQD/J2f6TlJzKlhMbPncYiMM4ZzYdNP9/1BWMG3dmY7vLjp/QGUx0MQ7VCPXAuMoG4rSWn9i27eXQfEqDXa7a9lq3ebWFcBzun63j98boinXVxd3f4aCgIPn1119V0Mx6n8yXmw/Jkyt3VHkQV4+srCx10iOgUwAR2Xf22Weriz34Hfr222/L3Ddz5kzp1auXmvs2adLE4eMiAJeYmGj4+hIREREREdUEDMQRkW4FBQWqQhzOOj5R2jYOATl36Wm9FhwcLG+88Ya6EJFr+Xv2SNpsBOG+OB2EGzLEHITr1MnTq0dUo/kEBKiqZagQV4L//9WSQFzOr7/KgVtulYizz5JGL79cpmUqqrz5hoWplqm4SLzrA+XF6RkVapmqVYjTntu/Xj23XwsRqmkgAJeenq5apA4cOFDNW3v27MlKGOQRqM6ESk/2vvngPsRbsBzhFyOrNuGxKlrxyqhQU9PYUF3P52qctj7WoR5bSTpDVq6M7d5IPh19hwTGN5XIXhc5Heec3s/S8biM3AJdj+B6nEG9V91o+Ymgp4/NI7rTtldPm1csd/V7Y3TFuurk7u8wKqLihELrMNy488+VoMYdJarPxeLjF1ClQVxnduzYof6f/Pjjj6uq/2jXSETGhU3xOxUd7bw693///adOZsZ+VnTemD59utMAHU5KxkWTnZ1t6HoTERERERFVJ99qfTYiqpGOHTumzlIMDw9X7UtRZePo0aMVCsMRkbHyd++RQw88ILvPPU+yln+uwnAIwjVbskQaz57FMByRQfxK/5+HCnG1ReHRo+o6f/sOy33FmaWBuKgoFYhT9508qevxijPMLVP9Y2MqVCFOw0AcVcT8+fOlpKREHnnkEXnyySflwQcfVAf9GIYjT0GFJ2dBLgSGsBzjvIUWagLb2Io7oaYrezfV9XyuxuF5zu/iPLiD5RUNFCKsg+rn0K9VvESEh0lU30stASJbYUF+apwzTXSGAZ2PMybI1reFvqpvesfpbfmJ0KQ13NYbwlqb7LrNK5ZjnJ4wpaMtw8fAMKU3QaDwnhfmSd6+vyV73adSnGM+WcF6a0EQF+OqwwcffKCC6h9//LEUFRWp+3bu3CnvvPOOavNKRBWTl5en5rpXXHGF2k/rSO/evdUcedWqVapbx549e9RJI9pJzvYgMIeKdNqlcWP71UyJiIiIiIhqAh4dICKXsJNl06ZN8sQTT6gzCt966y256aabVDsqIvJcEO74rFmSvXLl6YpwQ4dK/KRJEtKxg6dXj6jW8Y0IFzlyxFwhrpYw5ZsryxQcOqTap/r4+Z2uEBcdLb5oFXv0qJSczNH1eEVahTi3W6YGlrnNQBxVxPbt2y2tUhFwQWWLAQMGqDapQ4YMke7du4uvL88Ho+pTk1s2IryE0Ix1oC/RjXaLmw7obBt6INNpJSyEdj7/23loBssfOKud26G4I0eOqKAAKt+gUs4ll1wiL17axW6rTs2Ll3Rx+TxtE/SdNOZsXFRI2f8vVnRcn5ZxEh0a4DRghuUY5y1te9fsPq57XP/W8VVesc4TsN1X9P3Dz51K6irxY+4XU1GB+EfWdxjE1VuFrjLrg31IqEw1duxYCQgwB02vu+46Wbdunbz33ntyzTXX6HocIjqtsLBQLr30UtV9AyE3Z6xbsHbu3Fn9f69p06YqpDp+/Hi7PzNlyhS55557LLfx/0mG4oiIiIiIqKZiII6IXPr222/VGYWjR49Wt8877zxp166dOtAYFGRuc0ZE1SN/9245Pmt22SDcsGESf9ttDMIRVSG/CPOZ98W1qGWMqaC01VphoRSlpkpAw4anA3FRpYE4EXPLVB2K09Mr2DKVFeKo8tq0aaMut956q7q9bds2+emnn1RI7oUXXlCVNBCQ++KLLzy9qlRH1OSWjZUNNRkVBnRVZU8qEO7RJCQkyKRJk+S3335TwVntdd8yqLnM+WWPWBfQwsueMLC5rjBg+il97U6djcvOc14hTe84fF7Pju3kNOSH5UaHwirTtteIlrNGhjur26qtKeXWN8mN9cXvFFoohrU3b9OaoqwjkrPjN9UOGMv1/o5Wdn3wXBMnTixz38iRI9WJls6qWhGR8zDcvn375IcffnD79wjtVc844wzZtWuXwzHYz8t9vUREREREVFswEEdELh0+fFi6dOliud26dWu1cwQtLpo1a+bRdSOqU0G4N0srwpnMR+jChw+X+NsmSkgHBuGIqhoqpkFxpr6qNzWBqSDf8u+C/fttAnFomWpu51aSo69lalFpy1S/GPN7pRdbplJVaN++vcTFxUlMTIy6LF68WL766itPrxbVIVrLxtSsPLuNLX1Kgzne2rKxMqEmo8KAqVmndD2O3nGZmZni5+cnEaVt0NFeGa2WtcpVCP+89fOecj+HcBzu79YkxmUIyIjX7qMzFKZnnBbye/vnPeWqpN08SF/Irzr1bh4rM1frG1cd4U6jKqXpge0PFe1s/17gbwju19N21t52VVKYL0c+flyK0g+KlBSptsB6tlNH65PiYn0WLFggGzdulJdeeslu23L83hFRxcNw//33nzrhA/Ncd508eVKSk5NZnZGIiIiIiOoMBuKISBccOLC9jfL8RFS18pOTzUG4L79kEI7Ig/zizAdei9PSpNZViFOBuAMS1revVcvUKPHTKsSd1BeIK84whwX93a4QV7YCAQNxVFFHjx5VLVO11qn//vuvBAYGSq9evWTy5MkydOhQT68i1SE1uWVjZSEo5KpVZ0xogMsw4PGT+qqt6RmHqpEXXnihdOrUST755BNVuQrfabXvuQg7PbR0i9PHwHKEq5x9Zj2axqiKctYV5mxhOcY5giDizNWOq/dYj9MTarINwwFuv60z5FedfHX+PugdV/mKdaffx6mf/yOp2adPJkiMDJKp53cw5P3D9odKbPY2G9yHV4vlrrY/e0Fc34AgiTzzfMle96mEdxymlrv63XO2Pto62VsfnDSJSq2oytq1a1e58cYbdb1+IjKH1awrt+3Zs0c2bdoksbGxkpSUJBdffLH8+eefqtpxcXGxpKamqnFYjvkuDB8+XC666CK5/fbb1e377rtPxowZo9qk4mTnxx9/XP1/74orrvDQqyQiIiIiIqpeDMQRkUsIvqGkPg4aWO+o6datm/j6+lruSy9tlUZElZe/a5c5CIdqNloQbsRwqXfbbRLcvr2nV4+ozvGPNR9ILUqrPf+vK8k/fVC38MB+ddt06pRVhTj9LVMxV6hoy1QftkwlA7Rr104F4FCNpmfPnuqg4ZAhQ6R///6qNRuRJ9TElo3VVQ1Lz6lVmTrbj+oZl5WVJXv37pX8/HwV2mnQoEGZ5WuT05wG+NTz5Baqcf1bxzscs3FfhtMwHGA5xjkKafVpEacrUIhxlQk1ic6QVXVuO0dP5Bs6zggIw9lrO4twHO6fraNymyuu2gObdLYH1oK4tusb0e0cCes4XIXjtCAuqiNa789xZ33EwfogtLNo0SJZtmyZXH/99U5/HoGe3NxcS8VGorpuw4YNZU7euOeee9T1ddddJ1OnTpXPP/9c3UbY1BpOBMGcF1D97fjx45ZlBw8eVOG3tLQ0qVevngwYMEDWrl2r/k1ERERVx+pQaoVsa2PUmhAREQNxROTSvHnzPL0KRHWGvSBcxMgREo8gXLt2nl49ojrLP958sK84vTZViCssUyGuONNcHU58fcU3PFx8w8LUzWIdFeJMubliKg3Y+cc4rnpjj28QK8RR5aHyEw4i4kBfaKi53S+RNzCyZWN1BoBsQ3xJboT48Fr1hMtchXuM1LdvX1m6dKn07t3bbhBgze7TAQJnMM5ZIA6fsR7OxmHbeHZsJ7shLM30sZ1cbkNGhayqc9tJP6kv6KZ3XGUZVTnQFSO2G1cQhtP89ttvqoIUgmvNmjUztF0xqlPh4syrr74qjz76qNx8883ywgsv6HouotoOoTZnnTj0dOlA8Nva4sWLDVk3IiIiIiKimoqBOCJyCWcjElHVyv/vPzk+C0G4VQzCEXkhv1pYIU4LsEHB/v1SnGVueeoXGSk+paE4KDnpukJcUUaGuvYJChIfN8NI1hXifAICxC862q2fJ4Lp06cb/ngIz+zYsUNCQkKkX79+MmPGDGnT5vRpumgJd++996qDjag6NXr0aHnzzTclISHB0HUhqk4INKHNq+1hd7RgxP2oeOcq2GRUuCc6JEDX49gbl5GRIXfddZf6XW7YsKG677zzzqtUxTo94+LDyoa8KzoO7zEqj039fJukZlcsXFYdISujt53YMHPbP1f0jqssoyoHuoKgrBHjtKqAjiCyN3X5Vsn/5AHVivGpp56Sd955p9y49Bx91RkxDiGdV155RcaPHy+RkZG6fg4tHk+cOKHaPxIRERERERERVRUG4oiIiDwchDv25ptyYtXXVkG4kRI/6TYJbtvW06tHRKX848xtQIvS9FWQqQlMBacPdhYiEJdZGoiLilLXvuFhulumWrdLtW6xrodP0OmDu3714t3+eSJ44okndI177LHHdI376aefZNKkSar9alFRkTz88MMyatQo2bZtm4SVVk+cPHmyrFy5UpYsWSJRUVGq2s7YsWNV5R0ioypmVSdnLTZxn4/OFptGhXvi/8/efYA3Ve9vAH/bdJfuAmVT9gZBGSI4UFEcKG5FERDFe70OnHjd4+LV6/yD4kbluq4i4tWLA1FAhgKiIqBQyqZAW9rS3Sb5P99zetq0TU5OmtOsvp/nyZPknF+T06a0JXnzflsZDJc5WTdt2jQsXrxYGRe3bNkyt79bkmONBazcrjP6K8zwrzq7xw1BZj8OvvzeyUiKNXR/Rtd5y6zmQHekNVJ+Lkh40NnXMKxm1LKs87YVMOdYJV6Y+w4+feNZvPDCC07XpRr8tyfrnnrqKdx9991YsGCBMvIxMjLS/Sjd/idi/YaNGDJ4kKH7ISIiIiIiIiJqCgbiiIiI/KD8zz+V0ajHvnQIwp15phqEc2ifIaLAaoizhlJDXGVdQ5yttBSV2eqIHa2hTRuZajMwMrVaC8SleN7uFh5T96Irx6VSUz300ENo37492rRp4zIwIoEYo4G4pUuX1rsuL/TLbW/YsAFjx45FYWEhXn/9dbz77rs47bTTlDVvvvkm+vbti7Vr12LkyJEmfFYU7MxozPIls0ZsmhXu8SYc9fTTT2Pv3r145plnDAWtU+OMtdG5W5drcJSnu3WuvncOFVUY/t4x63Hwx/eO3m21M+mYjTE94eiUhAQlJCuPrdyS3ckty353Y1mNtv3Z41OU32GOtm7dqvwOExmJxkKSsq7TaacpLYw33nijyzCcy2Bw1OGA+hlIRERERERERKEl3N8HQERE1NKCcPtuvQ3Z50/EMXmx3W5HwvjxyPx0MTq+8DzDcEQBKiK9JhBXUAB7dTVCgc2hIU6Ub/5NOQ9PVhviLNrI1BL3gTjrUbVdLiLF8xeowyIiADkFeCBOpsIeOeLvoyBXzj77bOTl5aFz5854+OGHleDazz//XO/kzWg2CcBpY96E3H5VVRVOP/302jV9+vRR7n/NmjVOb0PGqhYVFdU7Uehy15glZL+sCxRmjdjUwj2iYXzHk3CPFo7So4WjrFar8u9c061bN/z0008YMmQIjMg1OCLS3TozWtnM+t4x63Hw1/eOK2YdsxF64b2mrNMjwTAJOkpI0ZFcNxqeber331tvvYX+/fsrAVJP/+0df/zx+P333zFz5kzdcGfDkKMWDJb9RERERERERETNgQ1xREREPlD+hzTCvag2wtWQIFz6X6QRrpdfj42I3FNa06Rhxm6H9ejRgA5uGWWvqP+iftlvmxuMTFUDcVYPR6Y2RXh0NGzV1QH7dZUM5ODBQFkZsG8fEG1skhj5kIwuPXDggPKi/p133okbbrgB11xzjTI2sbeXYXObzYZbb70Vo0ePxoABA5RtOTk5iIqKQnJNo6Kmbdu2yj5n5syZo4T1qGUwqzHLl8wcsamFexq2QmV4MC7WsTXLVcOZ7C8tKcZFF12kjCuWQOqgQeoYRk9GcG89UGTKOgkIJcdFoqC0yuWalLhI3YYzM793zHgcAm08q6fqjepMUENcRgN1I7ulGXo8ZZ0Z5PGQsbJNPd6mtgL+9ttvSruq9vtL+7c3c6HzILm17BhuHNem9rhkbLin4c6qwsMo/uVLTFv9FvZ+94HPQo5EREREpG9rH7U1uKn6bttq2rEQERF5i4E4IiKiZlT+xx/Infcijn31Ve22hLPOQvqNNzIIRxREwiwWWFJSlOCXjAcN1OCWJ+w1DXEyGtVWUoKK7duV65akmpGpcdrIVAOBuKNNH5kqwmJigJKSgP26btsG7N2rXpaWuI4d/X1E5IyMTJ09e7ZyWrFihTLC9IQTTsDAgQPxzTffIDbW2PjFhv76179i8+bNWLVqlVfHJ8c1a9as2uvSENepUyevbpMCl1mNWb5k9ohNb8M9joGuh5b8jpyiujGjGYnReOj8/sp+aYfTwm+7d++uDcR5oqSy2tR1euw+/t4x43FwZ1iXFMjN6ZXWyX5Zp0cLULkiRyz75fMxcvwuR3V6EMp8YtJAl8EwMWfSQFO/lnJbTQ3JNnX06lNPPYVTTjkFEyZMcHsfdpsVuZ8+gZsX7kPP/36GUaNGNSncaasoQeGaD1AUFYvV2w9jTO+2Bj9LIiKiwOXB+zGc2sLBIURERESm4shUIjLFI488gpUrV/r7MIgCKgi37+ZbkD3xAjUMFxaGhLPPQuaST9HxuWcZhiMKQhFpagDAmpeHUKAF4qJ6dFc3WK1OG+IkLOeOtWacZESK/gvdeg1xyscHaCBu/fq6y5xyGRwkCHfqqaeib9++yhhFGW/aFDfddBP++9//Yvny5ejokITMyMhAZWUlCgrUccGaQ4cOKfuciY6ORmJiYr0Tha70VtGmrvOF5hixqYV7Jg7poJw3PTjk6ogAi8WC9957D+vWrcN5553XpFtvmxhjyjoJAOm1iQnZL+tcSY83+L1jcJ25j4NzG3Yf1Q3DCdkv6/R40o7njqtRnQc9HNUpwbn5Msq0wWMvwTrZblbLnlmaMnpVAqXnnnsuwsPVp4mrqq244a6HYKsobbTWVl4MW9kxHCsuQWzNmyeaEtqMTO+MVoPHI+W0GcgpKPbgMyQiIiIiIiIiMoYNcURkCmngeOKJJzBu3Dh89tln/j4cIr8p37ZNbYT7+mt1Q1gYEs9WG+Gie/b09+ERkRcsaenA9h2oznP/ImwwsFeoTTvR3Xug/Jdfa7drgThLK60hzv2LlNaaUFC4i5FZ7oTFqc1dkW3aIBAxEBc8ZFziG2+8gQ8//BC9evXC1KlTceWVV3ocPpPRcX/729/wySef4LvvvkNmZma9/cOGDUNkZCSWLVumjGoUf/zxB/bs2aPblkMtiN3kdT4YD+nLEZtGaaEme4OGqq2L5+KKr5Lw3tw5yjGlpqYqp6Ya0ikZC9ftMbSuudvdbHZj3xRG1/lCTmGZKevMasfTG9Up7B42zfmiZc9M3h7v9bfejT3/ewVRm5YjY/K/EBZuqd1niUtC26ueRNWRbJS16tDkEblym2ln/U253DG9aQ3DRERERETkHBsriYhUDMQRkSmys7NRWlqqvGBI1BKVb92K3BclCPeNuoFBOKKQE1HzQnt1Xi5Cgb1KbYiL7tGj3nZLck1DXHxNIK6kRAkHaePonLEW1DTEJTftBc3UKVNQvPw7xA0fjkAPxB075s8jIVeefPJJLFiwALm5ubjqqquU5uKmjE10HJP67rvv4tNPP0VCQgJycnKU7UlJScroVTmfPn26MgJVQjgSuJMAnYThRo4caeJnRsEqt6TC1HVGeDsesjnCP5XVNryzZhd255eiS2ocrh7VFVERxoYVuAo1lWX9hKKfFkuiBrMXnIYznrza62BSYVmVKev0AkBG163NNtZEK+vG9AqMZtX8kkpT1pnx9TPSNAeHpjmj40m9GWXqD94c74ATxyF8wetIGHpubRjOXl2FsIhI5XJ4VAyiO/R1G0w0ewwzEREREREREZEnGIgjItPExcVhwoQJ/j4MIp8H4Y7Mm4fib5Y5BOHORvpfbmwUMiGi4GZJU19UtIZIQ5ytQgvE1YxMrdFwZCrsdthLSxFWE5Brjoa4lEsuUU6BSCZt/vJL3XU2xAWme+65B507d8all16qhDclHOfMM888Y+j2XnrpJeX8lFNOadSKfO211yqXn332WWW8nDTEVVRUYPz48XjxxRe9/lwoNJgV7PGmSU1IEEW2uxqV2JzhnzlfbMGrK7PrjdJ8/IutmDEmE7MnqKNZmxJqius5EgnHT0R0x344GpHmUajJldT4KFPWSbAnPsqCkkp1DLkz8dEW3QDQgaPG2taMrvOFVIOjf92tMytAZVZjXUt14ojh6DDjFYRHxynXq4sOI+ffdyPl5CmI73eK4Z9f2hhm+Rkkj53jY6pFWG85sQ3++9kSnH/++bpvviAiIiIiIiIi8hQDcUSka8mSJR5/zBlnnKE0ZxCFsvItW3DkxRfrB+EmTED6jTMZhCMKURE1gbjqfGPNLYHOXqkG4iypabCkpMB69Kh6vablLSwmBrBYAKsV1uKS2sY4Z6yFhfU+NpRs2QKUO+QxGIgLTGPHjlVeSP/9999drvHkhXZpRXQnJiYG8+bNU05E/mxG0hsPaa+5L0/GQ5pBwnAvr8hutF3Ccdp2d6G4gwV1YaXqolxYEtJq/x2njpvhdF1TZSTFmrJOHotSnTCcKK2wKutcPRbtk40di9F12nE157jPjMQYU9ZpAaqZCzc63S/fz7Lf3bGb1VjXUsn3R4c2qbWBVHtlBezVlSj68RPE9RmjtMa1M/jzS28M871n9cAlo3oroXIZOy6jzomIiIiIiIiIzMJAHBHpuuCCCzxaLy9QbN++Hd26dWu2YyLyexBu3osoXuYQhDvnHDUI171+yxIRhRZLWmpINcTZK9QxfWFRkYjs3KkuEFfT8ia/0yUEZysqgq2kWHpAnN+O3V7bEGdJCu5AnGSgPvoIGDYM0P6UcRyXKhiIC0zfffedvw+BqFmCPUa4Gw9pb8J4SG/ImFRphtMj+28/s4/u+NSNe9Tft9VFR5Dz9ixEdxmE9LNvQVhEVKN1k4Z1NCXAqPd1NBIAkvGw7uK09pp108c4/z/zid3TMe+7LLfHLOt8OUrXF18/s6TERZm6rqWRn0vnD25XG14t3/MrIhJbo/WF99aOUJX9Rn9+6Y1hHjFiBPLz85WR5wzEEREREREREZGZXD/zSERUIycnBzabzdBJxqYShaKy33/H3r/8FdmTLlLDcOHhSDz3XHT772fo8K+nGIYjagFqG+LyQqshLjw6GlGdOtdu1wJxyr5WaiucraTE9e2Ul9e1zQV5Q9w33wCXXgqcc44ajhMMxBFRoJOAiZnrtFDb6yt34oFPNyvnct0oCXs5jkl1RvbLOj2HitTgdsXBP2EtK0LVkd2wW6tdrjMjAKTHSABoV16pofvTWzeyexriotTQkSuyX9YZHaXbMKimjdKV/WYGQOWr0/ArpG0zEgDV2g5d0doOZZ2eo6XGmt+Mrmtp5Ou75Je6742Eoeeg3ZTnEJFY9+YI2e/ucXA2hnnikA7Kufa98M033+C3337DiSeeaPJnQURERP4ghc7enIiIiIjMxEAcEemaMmWKR+NPJ0+ejMTExGY9JiJfKtv8O/be+BfsuuhiFH/7rRqEO+88BuGIWqCIVK0hLjQCcbaaEFtYVBSiOtcE4qQVLiGhdo0lvpW6tlga4pzT2uEQEYHw+OAOxq9apZ5v2yaNY/UDcdqXiIG4wDNr1iyU6IQ2G5o9e7bSRkPUnMwK9hghbUtmrpNxp33u/x8e/Xwr3l6zWzmX67LdiJ1Hik1Z1ypaHWoQ33s02l76KNpc9ADCo+NcrjMzAOSMsQCQ0cdTf51ec56IdrPfyChdu4nfg46jMWUUpiO5LtuNtNF50naoJzXeWPOb0XUtjbvHAQYfByMiIyO9vg0iIiIiIiIiImcYiCMiXW+++SYSHF4Yd+ell15Cerqx0S1EQRGEu/hiFC9frgbhzpcg3H/R4aknEc2xwEQtjqXm91t1fr4yJjSY2W02oKpKuRwWHa2MTBXhiYkIs9S10sjIVGHVC8QVFtY2y8mY1WDm2AY3fz4gmcFff1Wvn3aaen7smH+OjVx7/vnnUVpqrJVJzJs3DwVakJOomZgV7PFkXKWrn8BhHoyrlNCbjElsmJGS67LdSCju8DFjjW3u1p03KKP2ckyXQYhIcj66+4LjOiBQAkBDOhprStVbJ/dRUKr+jnblaGmV22PxZahJI6G3VXefhvdmjMTzlw9RzuW60dGsZrUdZiQZe1Of0XUtTXO0ThohUweIiIiIiIiIiMzCQBwRNVlRUREWL16MrVu3+vtQiExT9ttm7J15Y70gXNLE89Ht8/+iw5MShMv09yESkZ8b4pQRoR6EbwKRNuJUa4iL6dVLuRyZURc+EOGtahridNq3tIa4YB+XKhnHDRvqrn/yCSATsuVLlZICDB6sbmdDXOCRgGqvXr2Qmppq6ORJmxxRMARKtHGVcDGuEgbHVcpY1FdXZuuukf3uxqemJ0QbOGr9dW+//TZuvXoirCXuw6sR4eEB83i1TzHWlKq3zqxjySkydjtG1/mCWW2HWkhUj9GQaEtkduukO/fddx86d+6MRYsWmXJ7RERERETkXxyfTESBwvu5EkTUYlx66aUYO3YsbrrpJpSVleH444/Hrl27lBch33//fVx00UX+PkSiJiv77Tfkzp2H4u+/VzdIEO68c5E2cyaiMxmCIyIgPC4OYbGxsJeVoTovD1E17WnBHogLl0Bcv37o8MzTiOrew3kgrlgvEFfXEBfM9u8HDh0CpCBv4EBg0ybgttvUfccfD2gT4RmIC8xGY0+1bdu2WY6FyF+BEm1cpYzAdGwFk3GVEoYz0tD1zppdjZrhGpL9sm76GNdtyRFugnfu1klo9a677sKhQ4eQnPgNkkZcrHs7uSXGGul8FcRKjovUbXiT/XpBLLOOJb/Y2NfF6Dojlm4+2Oh7sJ0H34NakC2nsNzpqNewmu9pd0E2LSR648KNLm/HSEi0pTLrcTBKWlv37t2LlStX4uKL9f+9ExER6fE2RLGlt1lHQkRERESBgIE4IjJsxYoV+Pvf/65c/uSTT5QgnDxx+dZbb+Gxxx5jII6CUtmvv+LIvHko+X6FQxDuPKTNvIFBOCJy2hJXtX+/Gojr3BnByl7h8OJ3ZKRyljhhQqN14fFqg43NyMjUIG+I08alDhgA3HILMHUq8Mcf6jYG4gLblClT/H0IRH4PlAgJHJ3RL0MZgSntYRKYkts3GvrZnV9qyrohnVLwzto9bm9H1jkTHx+P77//Hg/+8zmsad34d1NzhAp9+XiF+ehYUuOjDB2P0XVGwnDOAmjyech2CWy6C8U5Btnk87Q3se1QLyTqSUDPkdVmb/K/rWBj5uNgxMyZM3HhhRdi5MiRptweEREREREREZFgII6IDCssLFTGTImlS5cqAbi4uDicc845uPPOO/19eETeB+HOPx/pM29AVNeu/j48IgpQlvQ0JRBnzc9HMNMa4sKioxGm8xZqiycjU4O8IU4LxEn47dJLgVtvlb991G3DhgEJCeplBuKIKBADJY73O6p7WpM+tktqnCnr2ifHGrodvXW9e/fGv197ESf981ufhNTMerwkMKXXDieOllYp61w9TtqxzFy40el+u8FjyUgy9jgYXecuLCbBM2ePk2yTI5X9Eth0d9xmtB2aFRI1q/kuGJn5OLgzYMAA5UREREREREREZCYG4ojIsE6dOmHNmjVKKE4CcTImVRw9ehQxMeaM+iFqbmW//KIG4VasVDdYLEojHINwRGRERKr64rU0xAUzW0VNIC5KvxUmPF4LxLWchjgJv8XFSesY8MILdSG5gwfVywzEEVEgBkrMcPWornjs861OQ02asJp1RhrOHD/nhto1CLJZrVbcdNNNyql///6mBsN8+XhJ6MoIo+u80ZTHoakkcKZ3P/JYyX69IGBzBNm8DYma1XwXrE10Zj4ORERERERERES+xkAcERl266234qqrrkKrVq3QpUsXnHLKKbWjVAcOHOjvwyPSVbZpE47MexElKx2CcFojXJcu/j48IgoSljT1RWNrkAfi7FV1DXF6wuPjlXOr3sjUEGiIs9vrN8SJmTOBl14CZDKunLSSvGPH/HecRBR8gilQIscUF2VBSaXV5Zq4aIvbY3dsW3PV7NYwyPbPf/4T8+fPxyeffIKdO3cqTeTi5z1Hde9L9psZRvL28TI6vlVvnda25orRtjXZd/7gdnh5RbbLNbLfjO/F5ggCehtkMyNgZmbzXbA20Zn1OLizY8cOLFmyBO3bt8fll1/e7PdHRERERERERKGPgTgiMuwvf/kLhg8fjr179+KMM85AeHi4sr1bt2547LHH/H14RE6V/vwzciUIt2pVXRBu4kQ1CCcJByIiD0SkpSvn1XkhMjI1KlJ3XXjtyNTSkG6I27MHkIxjZCQwaJC6rW9fYMMGQHJ+MlU2MVHdzoY4IgrUQIm34R/5OL0wnCipsBpq+XLVtuYq3HPDDTfg66+/xo033lgbhqustuEVnTCXkP23n9kHURHq/039/XhprWzejHk1q21NvheW/FJTb+qC7L/rrL5eh7nMCAI2B28DZmY33wVSE12g+fbbb3H77bcrb7xkII6IiIiIiIiIzMBAHBG5NWbMGEycOFE5HX/88crJ0TnnnOO3YyPyKAh3wUSk38AgHBE1XYTWEJcf5A1xFRXKeXikm5GprdSGOJuRhrjk4G2I09rhpPDWsTTPsQA3IUE9lyyhfPnclOuRH1RVVSE2NhabNm3CgAED/H04RD7nbfjH7JYvT9rW0tLSsGzZsto3XYm3Vmfrjm8V9pp1M8Z2RyAwY8yrWY+DuzAXTAxzmREENJsZATNfjcD1dRNdIJIg3Lnnnqu8+ZKIiIiIiIiIyAzmvYWWiELWjBkzsGbNGgwdOhR9+/bF3XffjR9++AF2mS9GFIBBuD3Tr8PuK65Uw3AShLtoErov/R/aP/44w3BE5BVLalpoNcQZHJmqG4grLAj6hriG41KdqSnLU7AlLjBFRkaic+fOsFr1G66IQpEW/mkYgNLCP7LfHy1fWtvaxCEdlHPHMI+MSJRWOI1jGE78tEt/XKqn63zFyJhXXzwOvgpzOQYBRcO4lnbdXRDQTO4CZkL2y7pAaL7zpIkuVPXq1QufffYZbr75Zn8fChEREREFOZn04M2JiIhCBwNxROTWNddcg48//hi5ubl4+umnUVBQgEsuuQQZGRmYNm0aFi9ejLKyMn8fJrVwpRt/xp5p09Ug3A8/ABERSLr4orogXKdO/j5EIgqhhrjqvFwEM1tNQ1xYlH5DnKV2ZGqJyzXWgpqRqTJbNIQDcRZLXSiOgbjA9fe//x333nsv8vNDNzRAwUdCN2uy8vDppv3KubsQjr/CP9LelRynP0o7JS7SlJYv+T/leeedh7PPPhv/+c9/nK6Jj7IYui2j63xBxry+ulJ/zKvsl3Xu2tb0yH53j4Ovx5hqY3KlCc6RXPf1uE+zAmbaY+HqNbEwg4+FO74MLxIRERERERERtRQMxBGRYdHR0ZgwYQJefvllHDhwAEuWLEG7du1w//33KyNuZLyFNMcZsWLFCuUFkPbt2yMsLEwJ1Tm69tprle2Op7POOquZPjMKZqUbN6pBuCuvRMnq1UoQLvmSi9Ug3GOPMQhHRKaypKkNcdagb4ir8qghzlrivCFO2mKthYVB3RAnhbdGAnEiMVE9ZyAucM2dO1f5O1P+xuzdu7fScOx4IvI1aWY76Z/f4opX1+KW9zcp53LdSGNbILZLmRXlk/HGw4cPV/4/edJJJzldM2loR0O3ZXSdL7yzZhfc5R1lv6xzRVrUzh+sHx6T/e7a1nwV5nIkobdVd5+G92aMxPOXD1HO5bovw3BmBsx81Xzn6/BiIJM3W27evNnfh0Hkc+6eJ5X/dz3wwAPK7035HXr66adj+/btbm933rx56Nq1K2JiYjBixAj8+OOPzfhZEBERERERBZYIfx8AEQUveSJFTo8//jiysrKUgNzBg8Ze2CkpKcHgwYOVhrlJkyY5XSMBuDfffLNeII9IU7phA3LnzUPJ6jXqBgnCXXgh0m64AVEdO/j78IgoREVogbiCAtirqxEWEZx/TtsrtYY4/SagcK0hrth5Q5ytpBSoqgrqhridO6WpCJCyvP793QfiDhwAjh1zvl+CcnI7MaH/enXAuuCCC/x9CESNxpg2zEdpY0zNas0yK/wjgbmCUvVnuiuyX9bJ+FNvyP/tFixYgEOHDinN486M6JamhI708mVhNesCxe78Uq/XSZPfkl/0/18t++86q69uEEsLc8n3WsOvY3OOMdXG5PqTmQEzrflOWhYdg6fSfCdfPzP+DWvhRfnZ4Oz7Pazm/swMLwai33//HccddxwSEhJw5MiRRmOUiUKZu+dJn3zySbzwwgt46623kJmZqbw5efz48diyZYsSdnPmgw8+wKxZszB//nzl+dvnnntO+Zg//vgDbdq08cFnRURERERE5F/B+QoeEfldcXExbLa6MS+tW7fGbbfdZvjjZTSOnNy9SOLqxRFq2UG4I3PnonTNWnUDg3BEIam0FNiyBfj1V+C339RzuX7GGcDbb/vvuJQWtLAwpVZMQnER6ekIRvbKSuU8PCraUCDOXlYGu9WKMJkb6sBWWFA7ejUsNhbBSGuHGzxYDbPpSUjQb4j7v/8DHnsMuOce4MEHTT5QMuRBfuEpQLgbYyoBF9l/Rr+MgGmXao6xjfJ1kACdfIzcf3zpQQwaOEDZJw04ev/f27D7qNtGOnvNOn8HsDRdUuO8Xueu8Q8OjX/uPm9fhLkCkdkBM/k6yb9Vx+9l+VizwoT+Ci8Gml69eiEiIkJ5LkjebNmhA/9/Ty2H3vOk0g4nYbb77rsPEydOVLa9/fbbaNu2rdIkd/nllzv9uGeeeQYzZszA1KlTlesSjPv888/xxhtv4B75D0uIkf+me9scTkREREREoYWBOCIyLDs7GzfddBO+++47lJeX13tiRl7MsFqtpt6f3I+8YzElJQWnnXYaHnvsMWU0K7VMpevX48jceShd6xCEmzQJaddfzyAcURCTbHV2dl3oTTuX6S/OnpB+5x1gzhzAX6+PSSDMkpICa34+qvPygjYQZ6vQGuKiDI1MVT6mpAQWbWZojWqpVqtph5O/BYLR99+r5yNHul/rbmTq118D8idS69YmHiB5rKCgAB999JHSYHznnXciNTUVGzduVF405Ivr5CuejDH1NsxlVvjH7LGN0pDnGMQqy96Iwx89hIlXTMXHb70MS4OQtS8Ces3t6lFd8fgXW3XHpkqmSdb56vNu7jBXINICZjMXbnS6396EgFlzN9+11PCio8jISOzcuVP5fR2sf1cSNdfzsTk5OcqYVE1SUpLS+rZmzRqngbjKykps2LABs2fPrt0mrYtyG/IxRERERERELQEDcURk2OTJk5Xwm7yTsLmfoJRxqTIiQMYAyIuZ9957r/JOSXnSxtULJxUVFcpJU+Tq1WoKKqU//YQj816sC8JFRipBuPTrZyCSL2oTBZX8/MbBt82bZTyM8/WSNRs0qO707LPqx33zDTBlCvw6NlUCcda8PAQrrSEuzM048nBpfouMhL2qChU7shA39Lh6+22FhXXNeUFKQmzC4fWlJgXiiouB1avVy9JkSP7x66+/Ki/0yYuEu3btUloxJBC3aNEi7NmzR2nTIPIFX4a5zGqXMrNVy9m42KrcPUoS/ptfsvHVlkM4e2B73dtIjXVT2+nhOl+IigjHjDGZeHlFtss1sl/W+SqYGChjTCk4w4sNWx6b+3g4JYCoMQnDCXku1pFc1/Y1lJubq7xx2dnHbNu2zeV98blVIiIiIiIKJQzEEZFhv/zyi/Luwt69ezf7fTm+u3HgwIEYNGgQunfvrrTGjRs3zunHzJkzBw8//HCzHxv5RsmPPyJXgnDr1tUF4S6SINz1iGyv/+IZEfmXZK3kOfaG4bf9+52vl0xWv35q6G3gwLpzee7eMXu9Y4d6WxJg8mcgziJtpdu3ozovH8HKXlETiHM3IxRA3KiRKFmxEvv+8hd0fvMNxPTtW7tPxsZqDXHBaNcu9ftKsvannOJdIG7FCqCqCujSBejRw/xjJWNmzZqFa6+9Fk8++SQStBm3ACZMmIArr7zSr8dGLUtzhJqau13KrFYtV+NiE0+4AJGtuyK2Y3888t+tOLN/O93b2nbomNtj1taN6d06YAJAsyf0U85fXZldrylObkLCcNp+V+T+kuMiUVBa5XKN7Dc67rMl0r4HXTFzZLHZAim82LDlUbRrQY11RC0Rn1slIiIiIqJQwkAcERl2wgknYO/evT4JxDXUrVs3pKenY8eOHS4DcTIGQF4EdXwXY6dOnXx4lGRaEE5Go/74o7qBQTiigCUjTSXk5hh6k/OtW4Hqaucf07Vr/dCbnPfsqUxBdktat/7xDzUQJ6NWw12XqzSriFT1BejqvFwEf0Oc+0Bch3/9C3uum4HyX3/FnmunqqE4STDKC85aQ1xKclC3w8m41AbTYD0OxGm3Jd+nnPLlPz/99BNefvnlRttlVKqrBg2i5mBm21qwtUs5jouVhnHHZvHYrkOUcyPjYvfku6iQbeI6XwaAJPR2+5l98M6aXdidX4ouqXHKmFS9ZjhP8NdM4IwsDlXOWh6F/EyT7RLAbY5QnPzMuP3227F8+XIsWbKEz+kQOTQnHjp0CO3a1f27k+tDhqi/VxuS51BlwoascSTX9ZoY+dwqERERERGFEgbiiMiw1157DTNnzsT+/fsxYMAAREZG1tsvLW7NZd++fcjLy6v3xE9D0dHRyomCU8k6CcLNVUak1gbhLr4I6TNmMAhHFABkHKSMN3UMv8mppiDMaXDIMfQmpwEDjIWOXBk1CoiLAw4fVo9h8GD4RWR79XdR1Z69CFb2yorakajuWBIT0fn117DnuutQ/suv2DN1Grr99zNEtG5d2xAXHqQNcY4hNiO0799jx7y/LWoe8regs9FOf/75J1q3Nq9BishXY0yDsVXLcQzssfVLULF/K1LPuAGW+BSX61wF740wus7XASAJv00f083j45CQll47nDhaWsUwV4CMLA5Frloehb2ZG/YkQLtixQps2rQJP/zwQ73pAUQtVWZmphJiW7ZsWW0ATv7eXbduHW688UanHxMVFYVhw4YpH3PBBRco22w2m3L9pptucnlffG6ViIiIiIhCCQNxRGTYkSNHkJWVhalTp9Z7slJ717/VajV8W8XFxUrbmyY7O1t5wjM1NVU5ST3/RRddpDzhI/d51113oUePHhg/frzpnxcFVhAuTIJwl1yMNAnC6QQgiah5yI9ybTSpFnqTyzt3Ol8voyalOFQLvWkBOHkTudktWfK8/MknA//7nxo+8lcgLloq7QBU/Pkngr4hLsrYix2WhAR0fu017LrsclTu3IniFSuV9k5rQU1DXBAG4uR7fdky9fKZZxr7GG0CZ8O81YEDwO+/q9/zLopsyUfOP/98PPLII/jwww+V6/I36p49e3D33Xcrf1sS+ZIZY0x92W5mVquWNgbWVlGKglX/hr2yFDGZxyFh8HiPxsUmxBh7ysroukANADXEMFfwjSwONf5u2Lv33ntRXV2N0047zfTbJgpUes+Tdu7cGbfeeisee+wx9OzZUwnI3X///Wjfvn1t2E3IRI0LL7ywNvAmTW9TpkzB8ccfj+HDh+O5555DSUlJved1iYiIiIiIQhkDcURk2LRp03DcccfhvffeQ9u2beuNvvHU+vXrceqpp9Ze1+r45Ymal156Cb/++iveeustFBQUKE/wnHnmmXj00Uf5LsUQISHKUi0It369so1BOCLfO3KkfuhNziXUU+7i9S/5p+kYepPzvn3VoJqvSPuWFoi74w74RXSvXsp5+fbtjUbBBQtbbSDOfUOcYyiu1dixyN+5E+VbtgBKIE5tiLMkB9/I1J9/BvLzAcnynXCCsY9xNTL1m2/U86FDgTSW9fjV008/jYsvvhht2rRBWVkZTj75ZGVU6qhRo/D444/7+/CoBfLVGFMz2s3MCmLVjYsFMq6cg+Jfv0KrQWd6PC7W6NfIjK+lvwNAjhjmCs6RxaHE36HMSZMmNcvtEgUyvedJFyxYoLxRWMJs119/vfJc6UknnYSlS5ciJqbud4G8oTg3N7f2+mWXXaa8ufmBBx5Q/h6Wdjn5GHlOl4iIiIiIqCVgII6IDNu9ezeWLFmiNLV565RTTlFCBK58+eWXXt8HBWoQbh2OzJ2LsvUbHIJwlyDt+hmIzMjw9yEShSQJuG3d2jj8duiQ8/Wxsep404bht/R0+J02jnLFCvXzcnj+32eiundXqvFshYWoPnwYkUH4goK9oiYQ52GaMaZ/f+W8XJKT0qhTGLwNcdqIU3ndKSLCu0Acx6UGjqSkJHz99ddYtWqV8gYLadsYOnQoTj/9dH8fGrVgEthqzhCVWe1m6fHGfie4W+c4Lja6bXdEnXFjk8bFjuqWjrnLs9wej6wL9gCQI4a5WubI4kDCUCaR77l7nlTehCUtyHJyZdeuXY22SVuc3ohUIiIiIiKiUMZAHBEZJuMqfvnlF1MCcdQCg3Br1+LIvHn1g3CXXoq0GdcxCEdkEnn+fPfu+qE3OZfJns6mWkuxmWS7tNCbFnzr1k0dhRqIJI8lTXUHDwI//OCf8ZThUVGI6toVlVlZytjUoAzE1TbERTYtELdtG+zV1UHdEPfVV56H2JwF4uTfndYQZ3T0KjWf8vJypSlDWjPkRBQIJLDWnA1xprWbGT0kN+sOHDiAQanwelzsyO5piIuyoLTSyR8xNWS/rAulABDDXME5sjiUBEIoU4I933//vdJoNXjw4Ga7HyIiIiIiIiIKXQzEEZFh5513Hm677Tb89ttvGDhwICIj67+Ifv755/vt2CjAg3Bz56FsQ00QLiqqLggXhCESokAhxVyOoTft/Ngx5+tTU+s3vslJsk3x8QgqEuKToqd33lFbufwRiBPRvXrWBuJajRmDYGOvqPB4ZKqI6toF4XFxsJWWomLnToeGuOAKxJWUqIFKMwJxmzcDOTlAXBxw4okmHyh5LDk5GcOHD1dGpcrYKRmVGiu1l0R+IqNMGwZy2pkcyDGr3ezwsQqDt1Oh+/f/ddddh9WrV2PhwoVYdfc5zRoGNOuWhnVJgRyWzXU5j7Jf1vkCw1zBNbI41ARCKPPRRx/FG2+8gbvvvpuBOCIiIiIiIiJqEgbiiMiwmTNnKufO6vmlut/qrH6IWm4Qbs0aNQi3caOyjUE4oqapqlIb3rTQmxZ827PH+XrJKvftW7/xTc6lVU3CZKFAAkxaIO6JJ/xzDNE9e+LY/5ai4s/tCEZaQ1y4hyNTw8LDEd2vr9L2Wb5lS0A2xElLonx6PXvW3y7ZvWXLgOpqdYSw/Nvq0gXwpPg2IUE9dwyeauNSx44FPPxyUjP45ptvsGLFCnz33Xd49tlnUV1djeOPP14JyMkoqjM415Z82O4mYTgJlDTMWEnrkmyXwJMZwSaz2s1yDQbi9NYVFBTgyJEjKCsrQ/fu3b0aF7s2K0+3HU6UVFqVdaN7ejc2dcPuo7phOCH7ZV1zjr91xDBXcIwsDlX+DmXKhIJt27YhMzOzWe+HiIiIiIiIiEIXA3FEZJjNZvP3IVAQBOFKVq9GrgThfv65Lgh32WVIu06CcG38fYhEAUvGLkrLlGPoTc4luFOTXWqkU6f6oTc5791bDcWFMmmIE/JjJj9fbb/ztZhevZTz8u1/IhjZKpvWECdi+/dXA3Gbf69riEtOQiAoLgZOOEHGZsqorfrfG3/9K/Dvf9dfL9koT4Kizhrili+v/31J/qWNSr333nuVMNxPP/2El19+GU8++SSeeOIJj97AIcG6p556Chs2bMDBgwfxySef4IILLqjdf+211+Ktt96q9zHjx4/H0qVLTf2cKDjb3SRIJx/rLGMl2+RHj+yXwJO3ASezxhvmlxgLxOmtS0lJwZo1a7B+/Xr07dvXq0Dhmp25htd5G4g7cLTUg3W+C1cxzEX+5M9Q5lVXXaWciIiIiIiIiIiaioE4IiJqniBcdDSSL7sUadMZhCNyNq7x998bjzzNy3O+vlWr+qE3OR8wQF50RoskbXfduwNZWYBMY/ZH4VN0TSCuckcW7NXVCIsIrj+r7ZVVynlYlOeVZjH9+innpevWSVpeuWxJCoxA3HvvAUeOqJd/+knCSY2DaxKYk1HB8u/qjjs8u30tECcNcfKph4cDf/yhbhs61JRPgUzw559/Kg1x2qmiogLnnnuu0hDniZKSEmVM27Rp0zBp0iSna8466yy8+eabtdejWRMYMrxtd5MAiWOQriG5Xdkv67wNPJk13lDveD1ZFxERgZEjRypfw4eWbEFOkUO7VGIMHjrfaLuU0dCN9+GcTfsKDK+76PhOXt8fERERERERERERNa/geuWOiHzuhRdewPXXX4+YGGNjeObPn6+8izdBmylGoR+E+0GCcHNRtmlTbRAu5fLLkDp9OiLbMAhHLZsEZnburB96k/MdO9RGuIYkXCM5Ky30pgXgZKyj7KM6xx+vBuLWr/dPIC6yY0eExcXBXlqKyj17EN2tG4KJvUJriPO8TjCmf3/lvGK7Oi42LCYG4Qb/TmhuL79cd1m+N7RA3MGDwIED6r8jCcZJIK4ptECc1kYntyNNdCLIvgVCVocOHZRRjRJ+k9Pdd9+NQYMGIawJM6PPPvts5aRHAnAZGRleHDEFIjPa3aRNyQij64yON3xoye/IKaprcGubGI2Hzu9vKIAmLXNGOFv36aef4tChQ5gxY4by703CcDMXbmy0TsJxsn2+gXGxEhScu3yH2+Mxp0HNd+E7opbQkmnmpAIZxZzqj0poIiIiIiIiIgpqDMQRka7bbrsNV1xxheFA3F133YUzzzyTgbiWEIRb9YMahPvlF2Ubg3DU0km7mxZ604JvmzcDpS4mcMk/E8fQm5z37QvExvr6yIM3EPfBB2royR/CwsMR3aMHyn/9FRV//hl8gbiaObzhTWizisrMRFhsLOxlZcp1S3IyAoF8L0hjoMbZZfk31tQwnJAvl4wkrqpSx6YePapelm0dO3px8GSa1q1bY9u2bcjJyVFOEtCRgFxcXFyz3J800LVp00YZE3naaafhscceQ1qa83CONNXJSVPkOHuXAooZ7W4yWtAIo+uMC2tygCs1PrpJ6/Lz85U3UR0+fBjh4eGYOm067ln0m+5tzF70m9txsSO7pSE6IhwV1WobqTOyX9Z5q3NqnKnriFp6S6YZlixZoownl8bJL774olnvi4iIiIiIiIhCDwNxROQ2+DRu3Dhl7I0R8oIjhXoQbpU6GrVeEO5ypF03HRGtW/v7EImanWQZtm1r3Pom7VPOSJ5YCrUcR57KqW1bXx956AXihL8CcSK6V8/aQBzOOgvB2RAX5fHHhlksiOnTp3ZEdqCMS50/Xz3v0UNtYXT83tAua983TSUlY9ISJwFYyTIdOqRu79oVsFi8u20yx6ZNm5QmmRUrVuD777/Hvffeiy1btmDIkCE49dRT8fjjj5t2XzIuVUapZmZmIisrS7kvaZRbs2YNLE6+IebMmYOHH37YtPun5mNGu9vwzFSlSUnCI86a5iQGlpEUo6xrzvDKoSLj4ZX0VsZ+JzRcl5SUhNmzZ+Pdd9/F1VdfjbU781BQqo7mduVoaZWybnSPdN2mvkqr6zCckP2yzt04WHf6tE0wdR1RS2/JNEPHjh1x9OhR/PLLL8pzEU1peyUi8iVvf0xt6W3WkRARERERkWAgjoh0Pfjggx6tnzhxIkdZhHAQ7sjcuSj/5dfaEXlKEG76NAbhKCTJSNO9e+uH3uT8jz+A6mrnH5OZWb/xTc4lnGMwU0weGDpUPd+zBzhyRFqhfH8MMT17ohBAuQTigoytqrI21NwUMja1NhAXAA1xhYXAe++pl194ATjnHPXfrwTWJHxqViBOSAmuBOKOHVPH9oru3b2/XTJPcnIyzj//fIwePRonnniiMsrxvffew7p160wNxF1++eW1lwcOHKiMZu3evbvSGidvKGlIAkOzZs2q1xDXqVMn046HzGNGu5uERGSsoITRXJH9ZoRJzAqvZCQZq6ltuE4CoLfeeituvvlmpSFuTVbNLGk31mTpB+LeWbPL6Yh5R7Jf1k0f411Ta35ZpanriFp6S6YZBg8erPzuPu644xiGIyIiIiIiIiKP8eVZIjI1EEchGIRbuRJH5s5TWpBqg3BXXKEG4dJdv4BFFEyk6UnGmzYMv0nIxhnJ/ziG3uR8wAA1KEO+IS1dvXoBkkWTcZj+KGiLlgOQ1sDt2xEIKvfth7WwALFSSeiGvaKyyQ1xWiBOEwgNcQsXquOJ5bDke6F3b7XJUb43zj67bmSqGYE4+d7Tfm5ogbggm5gb0hYtWqQE0uQkzXDyRo2TTjoJTz/9NE4++eRmve9u3bohPT0dO3bscBqIi46OVk4U+IZ1SYHkxmw6YSzZL+v0SCPb9WMz8erK7Hq3JR87Y0ymaeMGzQqvePp5l5eXIyoqSgnBKftqztV7NEJ/3a48F3Pnm7hOj/9G3BKFZkumGSRsO3z48Ga9DyIiIiIiIiIKXQzEERGR8yDcihVqEE6SQQzCUYiQZjcZpegYepPTLhdFJtLs1qdPXehNC8B17Oj9KAzynoSbJBAn7V9mBeLefx9YubLues+ewC23OH+8tUBc1Z69sJWWIjwuDv5ir67G7muuhvVILrp/8w0i27bRX1/pbSCuX+1lXzXEyZRXaX+76KL6ATRpB9LGpc6cqT5W8r0hgTj53hg8GMjJUUeaymUzA3E7d6qX2RAXOGbOnImxY8fi+uuvVwJw0tzmK/v27UNeXh7atTMn5ET+s2H3Ud1QmJD9sk4vYCZjTF9Zkd0o9iU/t2T7cZ1TTAnFmRVe8fTzllY4CZ6+/vrr6Cm/MGuM6paOuctrEsM6ZJ0+c4J1Rvh6xC1RIGNAlIiIiIiIiIhCAQNxRERULwhX/P33yJ33Yv0g3JVXIm3aVAbhKKjIqETH0Jtc/v13NVTjTIcOjVvfJAzXxLwQ+YCEnt59t24cpreys4Err1SDCo7Gjq0b0eooIi0NlrQ0WPPyUJGVhVgfBm8aKv3pJ1QfOKhcrtqz230gruYfQngTv8Gju3VTfj/Yy8t91hD36qvAXXcBP/wALF5ct13GGEvDY0wMMHly3feGtMZpgTgh7XGxxqYBetwQx0Bc4Dh8+LBpt1VcXKy0vWmys7OxadMmpXVOTg8//DAuuugiZGRkICsrC3fddRd69OiB8ePHm3YM5B9mBMzMGmPqy/CKJ5/3oUOH8O9//1v5d3LgwIF6gbiR3dOQHBeJgtIql7ch+2WdniEdk/EO9rg9HlnnLccRt/JoOD5uYSaPuCUKdIEUEC0oKMBzzz2nhG8/+OADjk4lIiIiIiIiIsMYiCMiorognDTCSapAnuSOjUXKlVcgbdo0JfRBFKjKyoAtWxqH31xlIqTES3JLjuE3OfHbPPho4y+1cZhmBK4kDCcBqgsuAN5+Ww3JSejJWSBORPfqidI1eaj480+/BuKKvvyy9nJ1Xp7bn/m1DXFNHN8YFhGBmN69UfbLLz5riFu7tu5cHift9VAtECnfD9qhaN8bjoE4M8alumqI48jUwGK1WrF48WJs3bpVud6vXz9MnDhRGb3mifXr1+PUU0+tvT5r1izlfMqUKXjppZfw66+/4q233lJerG/fvj3OPPNMPProoxyLGgLMCJiZNcbUCAmluAugpcRFug2vpLcy9r0r69q2Tcdvv/2GL774otE4YgmNPTFpIGYu3OjyNmS/u3BZ+xRjzatG17kjbX0vTR6qBBUdHzsJ/kgYzqwRt/4gAU35XpMwo3zfyvcCw30UDAFRGcv8j3/8A1VVVfjnP/+JzMzMZr9PIiIiIiIiIgoNDMQREbX0INx336mNcAzCUYCz2dTRplrwTTvfvl3d15CEZXr0qN/4Jid5DSU83B+fAZntuOPUx3nfPnUkZkZG029L8mGvv65efuABYNIkdRyrBOL26JTTRPeUQNxaJRDnL3arFce+/qb2evWRXP0PqKoLTDR1ZKpIumgSqg4eRPyokfAFLfgm7Y/796ujix23DxtWt3bIEPXf+cGDwGefNU8gbvdu4OhR9TIDcYFDGt0mTJiA/fv3o3fv3sq2OXPmoFOnTvj888/R3YM6v1NOOUX5W8mVLx2CqBRazGhHMmuMqVkMDRX1cEJp165d8Ze//MXpEgmPzZ88FA9++jsOHaur581IjMZD5/c3FC4b1iUFkrfRG+Mq+2WdWeS4pLUvlMJjMrq3YcivXQiE/HytpYUKAyUgGhcXh9mzZyvjyBO1P8KIiIiIiIiIiAxgII6IqKUG4ZZLEG4eymWGZE0QLvWqK5EqQbjU5h99QqRHQiYSeHMMv8mpuNj5esluaoE3LfzWrx8QH+/rIydfatUK6NtXbQiUlrhzzmn6bckITmkVbNcOOO88dVunTur53r2uPy6qJpVVfeQI/KX0p/XK2FZNdZ5+IM5W0w7nTUOcSLn0UuXkC9LGJqNRNRKCaxiIcwy8yb99+d6QX3G//NJ4vzcSEtRz7XbbtuXPmkBy8803K6G3tWvXKmNNRV5eHiZPnqzsk1AckdF2JFcNZ3YD7UietK15S0I6eu1wQva7a6PLLXExV95B5aEsbNrcCqN71m+FM0onY9rIht1HdcNwQvbLOm9b9hzJ42rG7QVCgErCcNLy1fDLKGFP2S6BJ4bijH0dH1ryO3KKmhbuDFaBEhCVEeVERERERERERJ5iII6IdGmjoYx45plnmvVYyKwg3HJ1NKokSCQMERenBuGmTmUQjnxOiqok5OLY+CYnafxyRsqsJOjmGHyTc2kG08YnUssiISf5cSahKG8CcS+/rJ5Pnw5ERqqXO3dWz/Ua4sLjWynn1pIS+EvRl0vVCzIO0mpFda5+IE4blyrCtE82wG1skEmRx1vG2lZXAz//7DzwJtdrMt+IiFB/VphBKyfR7teDwjHyge+//75eGE6kpaXhiSeewOjRo/16bBRcft5z1O1+3SCMh21r3jCrjc7dqFh7dSWOLHkKs949gq6LPsY5Or94JUDkLFAobXGyXdrj3AWJAq1lL9ha2SSQJ8fg7FtMtsmfzrJfAk+h3HTmLVffyxKOM/q9TEREREREREREvsdAHBHp+ll7tbfGxo0bUV1dXTuC6s8//4TFYsEwxzllFLBBuCNz56Jiy1aHINxVSJ02FREp5o0ZInLVBnLgQP3Qm1zeurXe9MZ6unSpH3qT854968JKREJ+/bz9dl1LWFNIKPPbb9URmzNm1G03FohTq8FsxSV+H5eaMG4cjn31FaxuRqbaK2raTSIjERYk84O1x7cm86c0Aopt24DSUrUtsFevxoG4t95SL8vPkBj9nIfHgThtXCoDcYElOjoax44da7S9uLgYUV6MCKaWpbLahldXZuuukf23n9kHURHOf44eLnbftubJOm+CbEbXuRtRaqssQ2RyWyRFVWPUqFG6Qax7Fv2me1+zF/3mNohl1ufla4HSyiatXo6BvIbk+GS/u+bAlszI97LsD9VQYSAEOzX5+fn44YcfMGbMGCQnJ/v0vomIiIiIiIgoODEQR0S6li9fXq8BLiEhAW+99RZSagJUR48exdSpU5UnJSlAg3Dffosj8+bVBuHC4+KQwiAcNSMZayqtTI6tb3Ken+96/GDDxrcBAwC+zkFGaK1gWkCqKV55RT0/++y6EJzRkanhksRSAnEu5vk2s9L1G2DNzUV4UhISzz1HCcRVO4xP1WuICw+icJAWiDv/fOCTT9TrErTVtkswsmG2z7ExzqxxqY6BOE23bubdNnnv3HPPxfXXX4/XX38dw4cPV7atW7cOM2fOxPnyDURkwDtrdhka1Snrpo9x/kMg32DQzeg6PTLCUEIqErhydtgS08lIUkcdejOi1BKXhNYXP4Tnz+1cr4WxobU789yOcD1aWqWsG90jvdk/L18KpFa2YG7YCxRrs9x/L8t+WTe6p+vv5WAUKMFOzcknn4zNmzfjk08+wQVSE0xERERERERE5AYDcURk2NNPP42vvvqqNgwn5PJjjz2GM888E7fffrtfj48aBOGWLcOReS+iYqtDEG7yZKROvZZBODKFtDRlZdUPvcn5zp1qUKUhaXaSBifH8JucJIDEcafUVEOGqEGogwfVFsL27T37+PJyYMEC9fLMmfX3aeG4w4eBsjIgNrbxx1ta1TTE+Wlk6rGacanSDhfZTn1R0t3IVFtNQ1xYEAXitMDj1KnAZ58B8ilKc59jIK6hwYPrGuWaMxDHhrjA8sILL2DKlClKe1VkTaWotBtLGO7555/39+FRkNidX+r1utR4Yz9jja7TI8EqaWySkIr8SeX4Z5j2J5bsdxfAyilyH4wKCwuDvZV+m9iaLP1gtuM6vUCcWZ+XLwVSK1uwNuwFkjU7cw2vC6VAXCAFOzUy9ryqqgqVNW/sICIiIiIiIiJyh4E4IjKsqKgIR44cabRdtjkbTUUBFIS7+mqkXjuFQThqMgmfNGx827xZDQk5k5FRP/Qml/v2NW9kIZEmLk4NWsroTGkm9DQQt2mT2l7YurXaEOdIfmTK7ctIzn371JG9gdQQJ01vRV99rVxOPGs8ItLUF9alIU5+H0howfnHqU0nYdHRCAYymnTHDvXy6NHqzxOZ6C5hOC0o5yzwJgHG008Hvv8eOO00845HWi0dsSEusMgYtU8//RQ7duzA1pq/hfr27YsePXr4+9AoiHRJjfN6XUaSkxS1F+vckaYmaWxqON4ww4Pxhq7a6grXfgR7dSWSRl2CMEukgVY7N/V6Hqwz4/PypUBqZQvGhr3AYzTsFTihzFALdmrmzZsHi7zTgYiIiCjAefvG7y29zToSIiIiYiCOiAy78MILlfGo0hTnOILqzjvvxKRJk/x9eC2a3WbDsWXLkCtBOEmFaEG4a65G6hQG4cg4KY6S/IBj+E1OOTnO10vATcabNhx5KuEiIl/p2lUNxOmNNnVly5b6bWINn8CSljjttp0G4uLVhjhrSYluCK055L/7rjIu1ZKejviRI+te7K6qgq2wEBYXc4ftlcHVELdxY13wTCb0SfhNAnFr16qBRuGqAe4//5FAP9Chg3nHw4a4wGSz2fDUU09hyZIlSnvMuHHj8OCDDyLWWbUjkRtXj+qKx7/Yqjs+VEqRZJ0rEjJKjovUHbco+80MI0k47LQ+bZVRrtJeJ4E9OcaoiAYzpV1oFdP4KaLqwkMoWLkQsFUjqk1XxPU60ek6R6O6pWPu8iy39yfrjH5e0kQl4RsJkkmjmXzdAqkZLhBb2YKxYS/QSNhr7vIdhtaFkkAKdmoYhiMiIiIiIiIiTzEQR0SGzZ8/H3fccQeuvPJKZVSFiIiIwPTp05UXIMlPQbhvvlGDcH/8URvOSLl6MoNwpEtGmsq4wYatb/JtJOMFnZHQh2PoTc5lG1+bIH/r1Ek9b0ogrqZASmkwdEYLxMm/F2e0hjgJoUljm69a16qPHlV+9ovWt9yshNvk5ezwxETYioqUljjXgTh11FR4dHAE4rSxqFroTc5ffRX497/VkbdJSa5DadLm1rDRzcxAnDQItm1r7u1T0zz++ON46KGHcPrppyshOBmPevjwYbzxxhv+PjQKQhIgmzEmEy+vyHa5RvYbDZq5YnYMaenmg42a1F5blW24Se2bLYcabbMktkH6ObehLPtnxPYcVbvushNq5oo7MbJ7GuKiLCitdPFHpfz8jLIo64yS0FYwhI4CrZUt2Br2As3Ibmlug60pcZHKulASSMFOZ6xWKwNyREREREREROQWA3FEZFhcXBxefPFFJfyWlaW+47979+6Ir2nHIR8H4b7+BrkvNgjCXXM10qZMcRmCoJapsFAdb9ow/CatSc5IjtIx9Can/v0BLfdDFGgktCZchdaMNMT169e0sJ20cWpsJSUI91Eg7sgLL8B27Bii+/ZFskNLa0R6OiolEHckF9EuUmJ2qYKUF+UjgysQN2xY/WDcwYPq+dChQLh3mZQmB+Kktc6HpYCk4+2331b+Tr3hhhuU69988w3OOeccvPbaawj35TcIhYzZE9RfDK+uzK7XFCdlWhKG0/a7Im1meiEacbS0yrSRgxKGkyawhiEsCWbJdglFuQs/lVU1DrBJ82l8v5OVk966hqx69XoG9gerQGxlC6aGvUAjX6MnJg3EzIU1dbVOzJk0MOS+loEW7NS8/PLLePLJJzFlyhQ88MADPr1vIqJgwDGNRERERET1MRBHRB47ePCgcho7dqzSwOHrEXEtWW0Qbt48VPz5Z207UaqMRr3mGgbhWrjqakC+LRxDb3K+e7fz9ZGRQJ8+daE3LQDXvj0DHhScgbjmaojTC9uFWSwIi4uDvbQUtuJidaZnMyv/408UfPChcrnt7HuUY9BEpKWhcudOVOfluvx4W01DnK/a7MxuiJMxzTLttebTcDku1ReBOI5LDRx79uzBhAkTaq9LU5z8fXrgwAF07NjRr8dGweu4zilo3eoADh1Tg8SidatoZbs7OYVlhu7D6Dp34TJpAHMWXJFt8med7JdQlF5wp0taHFbtyFMu26rKEWaJRFi4xek6Pat35KKi2qa7RvbLujG9WsPo5xgsga5AbGULloa9QCSP1/zJQ/HQki3IKap7PNuFcMteIAY7tfHoO3fuxKpVq3x6v0REREREREQUnBiIIyLD8vLycOmll2L58uXKC4zbt29Ht27dlJGpKSkpePrpp/19iKEdhPvqazUIt327QxDuGqROuQYWmRdHLWrc6aFD9UNvcpJgT03xUyOSBXAMvcl5795qqIQo2Gktbp42xJWWArt2GWuI07ttS3w8qrVAXDOTEPqhJ+bIK4JIOPNMxA8fXm9/ROt05dya6zoQZ6+oCcQFwQ+AvLy6x0ia4IQc9uDBwE8/+ScQ59iWKQ1xFBiqq6sRE1N/dFtkZCSqqvQbuog8bVw7fKzCUONabnFNatcNo+v0SFDMMXjVkHwOst9dG924Phn49zo1XV7w/dso370JqWfMREznQY3W6Vm0cZ+h45Z1RgJxzkbBBnoYia1soaUlPp6BGOw8//zz0blLV0S174NPN+1vEY8DERERERERETUdA3FEZNhtt92mvLAoDRx9Hap0LrvsMsyaNYuBuGYLwn2F3HkvMgjXQklgR0Y6Ngy/ucq6SFBD2pMaht9kDCpRqHJscZPAqNGGQ5k4LevT0oDWrZvePic/l3HkiDIytbnJ74LSNWsRFhmJNnfd2Wi/JU0NxFXnqg0/zthrG+ICPxC3YYN63rMn4FiCKiE4fwXipJBPpsXLw82GuMAhYdFrr70W0Q7Nh+Xl5Zg5cybi5QGrsWjRIj8dIQUTMxrXCkqNBd2MrtMjAR0z1m3cc1Q5t1VVoGTbCthKCmC3Wp2uO61vG5e3U1xRbeh4jKwzYxSsp8xqo2MrW2hpiY9noAUBfzsajsd+icLBFVuCJhxLZKauXbtit5MRAH/5y18wb968RtsXLFiAqVOn1tsmfyvL38hEREREREQtAQNxRGTYV199hS+//LLR2KmePXs6fUKGvAzCffklcl+UINwOZVt4QoIahLvmagbhQpDNBmRn1w++ybnkICWw01B4uBoQcQy9yXnXruo+opZE+7VUVgbk56sBNyMkbKrXDmc0bKcE4uQFdB80xFXt26+cR/fujSgnYyAj0rVAnE5DXGWFbkOcvD4yYoQ6/fXbb80boSwB3xNOANq2BZYtM3a7DcelarTrEvbNzITPydhUCcSxIS5wTJkypdG2yZMn++VYKPiZ0rhm9GenCT9j0+OjTVqn/tEZHhmN9tfNR+m2VYjpOsTlOldaJxgLXLtbZ9YoWE9IAK/haMyMxBg8dD4DN9QyBUoQ0B/hWKJA89NPP8HqEFTfvHkzzjjjDFxyySUuPyYxMRF/yDvBasjEDyIiIiIiopaCgTgiMqykpARxcXGNtufn59dr46BmCMJNmaIG4eQVeAp6EthxDL3J+ebNarjCGWmucgy9yUkCPLGxvj5yosAkv4IkZCWjhCW4ZjQQJ2OGhUPpaSNa5kz+fR49qobEGgqvaZ+yFTd/Q1z14cPKeUQb5808tYG4PL1AnNpGFB7l/Hf3ypXqzyVx8CDQvj1MsXy5GkKU07Zt+l93jfyMFDIi1dG55wJ9+gCTJpkX2POE3O+XXwKjRvn+vsm5N99809+HQCHEjMa15NhIQ7dhdJ0uk8J3IzLTMHd5lnLZEtMKCUPOcrlOT1KcsUCcu3VmjYL1JHAzc+HGRtslHCfb53sYuDGraY6opXMMx1YX56P0jx9gLc5H8thrlD8EmyMcSxSIWjeoNX/iiSfQvXt3nHzyyS4/RgJwGRn6o85JtbVPXzNuxYTbICIiIiIiszAQR0SGjRkzBm+//TYeffTR2idVbDYbnnzySZx66qn+PrygJqOIJAh35MUXUbkjqy4Id+0UpF7NIFywksyJhD4aht/2qwVPTkM9EnTTQm9aAE6CPkSkT5rctEDccceZ1xAnwVN53eHIEXVsqtNAXKuaQFxJsQ8Dcc5nvEakpxloiKvUbYj7+uv6oUGzAnGOtyuXjQTitNBiw8dI8oDaPn+YO9ez8bxEFFwkvOTtuvRWBlvbDK7Tk1tcYcq68LAwVBceRkRSG7fr9FjCjNUVu1tn1ihYo4GbexbVpLBdmL3oN8OBGwnXSUDHMdDH0Y5ETeMYjq0uyMHRb14Gwi1IPulKwBJpejiWKBhUVlZi4cKFmDVrlm7rW3FxMbp06aI8fzt06FD84x//QP/+/X16rERERERERP7CQBwRGSbBt3HjxmH9+vXKEy933XUXfv/9d6Uh7ocffvD34QVtEK5o6VLkvvgSKrNqgnCJiUidcg2DcEFEQhEScnMMvclJwnDV1c4/RkabOobe5FxGoEbwNzNRk3TqJCNk1NCaUUYa4rTblkCchO0aNpUJS7w6MtXmqubRRNVHagJxDdoBao+lpiHOesR1IM5WUTMy1UW7q2NwTUKD48Z5c8TOb1cu33yz/nqZBqRN99ELLfoLw3BEoUuavCS8JKP4nI3rlH/+GUlq45crGUnGqnyNrtOTarCRzd26tT/+iP0vX4f4ficj7ZzbEOYisJZboh+sG5GZirnL3R+PrGvuYKJRa3fmoaC0SnfN0dIqZd3oHurvWlc42pHIXI6h1+gOfdBq8HiExyYizFLXsHl0xTv4okMeTrjxSkTwP9XUAixevBgFBQW49tprXa7p3bs33njjDQwaNAiFhYX417/+hRNPPFF5LrejVoXeQEVFhXLSFBUVNcvxExERERER+QKfISAiwwYMGIA///wT//d//4eEhATlXYaTJk3CX//6V7Rrxyf0PQ7C/W8pcl9qEITTGuESEvx9iORCcbE63lQLvWkBuIIC5+uTkuqH3uR8wACAWUci8xvihITWjJCStO3bjYWt5LY3bnQdttNGplrlB0QzqzI6MjU/XxnDHRbeOMxgr6xy2RAnN79pU911s1rYJDSsNfKJ774DqqqASJ1Jgbt2AeXlanumhIiJiHxFGsCkyUvCSxJ+cww2aVlY2a/XFKaF6vRGfrZzE6ozalvOMcPrxvRyHqgW2b/9CNhtymVXYTizAmi+CiYatSYrz/A6vUCc42jHhmQbRzsSec7xZ478bEo762/19lfl70fRmg/wj3X/wY0XnY72ZtUbEwWw119/HWeffbbu9/uoUaOUk0bCcH379sXLL79cO/2joTlz5uDhhx9ulmMmIiIiIiLyNQbiiMgjSUlJuO+++/x9GMEfhJPRqDt31gbh0qZei5TJkxmECyDSTLRjR/3Qm5zXPGyNWCxAnz6Nw2/SLMUWISLfBeKMNsTJv2/5dy4/djt08C5sF96qpiGu2BcNcUeU80hXgThtpqvVCmtBQd11B3atIS6qcRpt2bL61x1DbN745hv1fNgw9eson8batTKO3fXHaGG83r3Vn7FERL4kDV7SNR98RwAAljJJREFU5NVw7GWGwbGXjqE6V2Eud6E6o/YeLTVl3TOPPYBPDqchLEb9veaMHO6wLim6t7MuO9/Q8cg6vYCeGcFE4+ymrHMc7ejqoznakcjccGx4RBQyRk/CGd1a1QsHyZSDtLQ0XHrppcqbOolCxe7du/HNN99g0aJFHn1cZGQkjjvuOOyQ/wy7MHv2bGUMq2NDXCd5YouIiIiIiCgIMRBHRB5ZuXKl8k7CnTt34j//+Q86dOiAd955B5mZmTjppJP8fXiBHYT74n9qI5wWhEtKQtq1UxiECwDSiOQYepPz339Xm4mckUJECbs5Bt8kDOdi+iAR+YD2HL3Rhjgt6CX/dt2FVt3ddm0gzhcjUw8f0W2IC4uMhCU5WQnDVefmOg/EST2eHLeTH1raWNNTTlFb3MxqiNNu98wzgexs4P331W16gTjtMQrEcalE1DJI6E2avCS8JCP7pKVIghlGA1iuQnXtDIbqjOqSGmfKug27jyKyTTfdNTa7uk4/zGVOuMyMYKJRIzLTMHd5lqF1Rkc7mrGOiNyHYyMSW+PV+XPr/Tw4duyY0nJVWlqKPn36YPTo0X45dqLm8Oabb6JNmzY455xzPPo4q9WK3377DRMmTHC5Jjo6WjkRERERERGFAgbiiMiwjz/+GFdffTWuuuoqbNy4ERU1DTOFhYX4xz/+gS+++MLwba1YsQJPPfUUNmzYgIMHD+KTTz7BBRdcULvfbrfjwQcfxKuvvoqCggLlycuXXnoJPXv2RPAF4b5A7osvoVISAFoQTmuEqwlRkG9IwE0CFg3Db4cOOV8fF6eON3VsfZNTzURCIgrikala0MtI2Mpd+1x4K3Vkqq2ZR6baq6pgzcvTDcQp+1qnK4E4a24u0KtXo/22ygqnI1Pt9rrg2t/+pgbiJDAsd5nmRYmN3K7WEHfGGfUDcY884v4x6tu36fdNRGRGEMObJi9vQ3VGXD2qKx77Yqvy89YVCX/LOmd+//135Y1OZoW5RnVLNxQuk3WB8jUMN1jp7G6d0XGyvho7SxQqPA3HynNK999/P1atWqWMiXQcM3no0CFce+21HK1KQclmsymBuClTpiAiov5LO9dcc43y+1zGnopHHnkEI0eORI8ePZTnVuV5WGmXu+666/x09ERE5AveTqvZ0tusIyEiIvI/BuKIyLDHHnsM8+fPV55geV9eya4hYTXZ54mSkhIMHjwY06ZNw6RJkxrtl9EWL7zwAt566y2lfU6eyBw/fjy2bNmCmJjAf/HAXl2tBuFeml8bhLMkJSF16lSkTL6KQbhmJi8G7t6tht0cg2/bt6sjEp39J7F79/qNb3LerRvH9BEFCy20duAAUF0NNHhtwGX7mJGwlbuGOEu8bwJx1ZJMkx9wERGwpLgeV2dJSwe271DXO6E1xIVF1X/n/x9/APv2qW2XZ5+tfk3lc5ZgmjclsPIzWILHEjKW1yN79FC3//gjUFAAJCc7/zg2xBERGSPBsNhIC0ornfyhW0P2OwuQSVvM5Zdfjv379+OR/3vT0NNE6fH6zTEju6chOS4SBaVVLtfIflnnq2CiO7klFaasczfaMawmwCPriMgznoRjExMTcc899zQKyT3xxBPKuEgJw0kojijYyKjUPXv2KM+nNiTbw8PDa68fPXoUM2bMQE5ODlJSUjBs2DCsXr0a/fgfLCIKYQyDERERkSMG4ojIsD/++ANjx45ttD0pKUl5p6Enzj77bOXkjDxJ+dxzz+G+++7DxIkTlW1vv/022rZti8WLFysv2AR8EE4a4XbtqgvCTZuGlKskCKeGJsg88q0nYQvH1jc5HTvmfL1MD2w47rR/f6Amz0JEQUoK0yIjgaoqNRSnBeTMbIjbv18N1TYMymojU60lzRyIk7o2pQGuNcIcXuhoKKKmxrL6SK7T/faKSqcNcV99pZ5L+C02Vg0LmhGI01rnTj5ZDdtJwLB3bzWA9+23gJNcvJL7Y0McEYWCpZsPNvvIVAmH6IXhhOyXdQ1DZdLWLW0zcurepz/w2x/u79DNi0wSTnli0kDMXLjR5RrZb2bDm7fManZzN9pRyP5A+tyJgok34VgJAMvzTO+99x4uvvji2u2ff/45vvzySyU4NFCeJCAKYGeeeabyvKkz30nFt4Nnn31WOREREREREbVUDMQRkWEZGRnKO2m7dq0/akdGUHSTKi2TZGdnK+9ePP300+uF7kaMGIE1a9a4DMTJCFdtjKsoKiqCT4Nwn3+uBuGkmkyeqE1OVhvhGIQzhYRc/vyzfuObnLtqbJJgjARdtNCbFoBr1877d4oRUeCRfJgErXbuVEeb6gXiJNQmYSyjYauMDLVxTprnDh4EOnZscN/xaiDOVlICnwTi2rTWXRdRM9+0Oi9XvyEuOsppcE3Gmgr5Gfrll3VNbU3V8Ha1y/IYyD5ngTgJH0qwWcKHQTYtnYhCjNVmb/KoTgnDSTCq4cvW0h4m22X8nxmhOG9GnXbs2BG//vortm7diqzqWEO3k1vsvk1NPq8bxmbilRXZjUJh14/NNC0MaBYzm908He1IRL4h4yVlzKScHM2bNw//+9//0KpVKwbiiIiIiIiIiEIIA3FEZJi8W/aWW27BG2+8gbCwMBw4cEAJqN1xxx3KSFOzSBhOSCOcI7mu7XNmzpw5ePjhh+FLEoQr/O9/kSejUR2DcNIId+WVDMI1gbzRVQInjqE3OZemoJoMRyMSgmnY+tarlxqKI6KWQwvESVB29GhAJph++ikgBRDSTKaRAs/ycnVbZqb725VQVocO6ijmZ55R7ycxEbjiCnUMqNYQZytu3kBcVU0gLlLq8HREtFYb4qy5rhriaoIMEVFYuBA4ckS9qhUKaME1LSyoNbU1hXydV6yof7va5blzgc8+U39eCwkaymMloWXtPmW8aoMiOyKioGh3kyCdfKyzcJW9JmAl+2X8n7dtYd62m1ksFgwYMADHsvJMuz/52jUMw2lk+3GdUwIqGGZ2s5snox2JyL9uvfVWJCQkYOrUqbXbJCj8+OOPK8+DOb5Zk4iIiIiIiIiCBwNxRGTYPffco4zSGTduHEpLS5XxqdHR0Uog7m9/+5u/Dw+zZ8/GrFmz6jXEdZLUQjPafe21KFu/oS4IN30aUq5gEM4oKVP6/ffG4bc8F6/FJSSogTct9KZdTk729ZETUSDSWuG05shbbwVefx3YtAl46qm6dWvXqud9+jQef+qKFKFKIM5x4oz8DLv5ZmmIi1Ou2ySB55ORqfqBOEtazcjU3Dzdhrh1P0fj6kfr72vdGhgypP44WW8a4pYtA8rK1HZOGU+tOeUUNbQsTXAOv7rx3/8C55xTd59GRtoSETUHb9vdJAjlGKRrSG5X9jsbY+qLdjP5/9zSpUtxwQUXILxmDLfsT46LREFplcv7SomLdNuS5i4MCBPDgGYyu9nNm9GOROTbEZRyciRvBP3www+V58AYiCMiIiIiIiIKTgzEEZFh0gr397//HXfeeacyOrW4uBj9+vVTxkqYPZpVHDp0CO3kFfQacn2I9iq9ExLOk5MvJZx+OiqzdiJNCcJdgfB4BuGcsdnU1iYJuzkG37Ky1Ea4huQ1OWkMcmx8k1OXLhx3SkTuA3EyMvXoUeDf/1avv/EG8OijQExNoc1rr6nnEycav+05c4CXXlLHpmo/x3bsUPdZtIa4khLY7Xbl92VzqD6sVrlFuGuIS9cCcc4b4mw1gbgtf6rVa9rPWTlsab2ryUXUNsTJ11PGl0oo2VMvv6yey7Rzxy+LNOwtWAB88YV6Xcanrl+vfo0lEKc1xBkZaUtEZDYz2t28GWPqi3az//u//1Pe8DRp0iR8/PHHhu/L2dfE0zAgTAwDmo3NbkQkpk2bpoThJjr8hyE/Px+XXnoprr76auWkhYmJiIiIiIiIKDAxEEdEHouKilLGScjJ7DCcyMzMVEJxy5Ytqw3ASdvbunXrcOONNyKQSAgu5ZJLGIRzIO1ujqE3Od+8WVoonK+XybiOoTe5LAGI2FhfHzkRBTutFFQa4t55Rx3XKfLzgY8+AiZPBrZtU0eDyutX111n/LZHjFBP4vnn1fa5Q4fU69rIVEn42ktLEdZMvxNqG+LcBuLUcEF1nn5D3NYsNUR+993AVVc1Xpeaqv6Mls9Tvm4nnODZ8UqQ7vPP1cs33NB4/5VXqifx559A795qQE6a+NgQR0T+ZEa7m7djTJu73SwiIkL5v5xj2EM+H712OCH73QXZcoqMhfyMriMi8rVBgwbhhRdeqLftvffeU56nOnLkCK655hq/HRsRERERERERGcNAHBEZVl1djYcfflh5UlDa4YS8iCLjUh988EFEyuwzg+TjpWVOk52djU2bNiE1NRWdO3fGrbfeisceeww9e/ZUAnL3338/2rdvr4z0CSTh0kjn41a6QFFRoQYkGobfDhxwvl6amWRcXsPwm5tcBxFRk0amzp+vXpaQlbSPyXUJxL3yirr93HPrAnSekpCY0AJxYfIDThJ2NhusxSXNFpI2HohTG+Ks+fmwW60IazAX1i4/wCUQt0P9vX388a5vSwLK8nlKY5ungThp4pOG0FNPVR8HPdIKetppwLffqh/Hhjgi8icz2t2aMsbUl+1mt99+uxLokP9/aXIKywzdj7t1+cXq7xl3jK7z9ajchqHCdk0cmUrU1IZKNhQGJgkQFxQUoGvXrrWN0FarFePHj8cZZ5yBv/71r07fNMrHlIiIiIiIiMg/GIgjIsMk+LZo0SI8+eSTGDVqlLJtzZo1eOihh5CXl4eXZM6ZQevXr8ep8gp5jVmzZinnU6ZMwYIFC3DXXXehpKQE119/vfKE40knnYSlS5ciRpt3Rz4jI02l5ccx9CbnEjCR0YHOZGbWD73JeY8eQINMBhFRswTi5GeU/OySXNrixcCAAcAPP6gjOWVMp6vGsiYH4sLClJY4W1ERbCUSGG/TzIG41rrrLBJu0AJ6R4/WBuQaNsQdK49WxqD27On6tqShTRr1tMY2w8daXTea1ujXeuZMNRA3b5468lZeZ+zTx7P7JTLTihUr8NRTT2HDhg04ePAgPvnkk3pvzpARyfKmkFdffVX5e3X06NHK38Pyhg4Kbumtor1ep40xnblwo9P9didjTH2tdev6v0/yS9TfD+64W5car47kdsfoOl+G4WTsbMMAo4QaZbs08DEUR82JgczA1rFjR/z973+vt+3bb79VWuPkb4Vbbrml0cfwMSUiIiIiIiLyHwbiiMiwd999F++//z7OPvvsemMkOnXqhCuuuMKjQNwpp5yivIjoioQLHnnkEeVEvlNUpI431UJvWgCusND5+uTk+qE3OZfgiQQsiIh8TWt80369XHGFGqiSaXCLFgGXXqoGrbp0AcaPNy8QJ8JbxdcE4krQHGyVlbAWFCiXI900xEkjnCUlBda8PFTn5roMxFXaozBsmJqdc0VraNMa24z673/VxlDJWlx4obGPkcdJG9Eq5HGKi/PsfonMJG/OGDx4MKZNm4ZJkyY12i9vEpHm5Lfeequ20VhaYrZs2cI3cQQ7u8nrfESCFw8t+R05RXXNaxmJ0Xjo/P61wQt589HIkSPRx0niONVgENDduoykWEO3Y3SdLxqW5PYltOLsIZVtck+yXxr42OxEzYGBzOAkP09fe+01ZQqC4+/+yy67DJVRSVifOBqWhPp/i/MxJSIiolBWU6TrlS1uJk0QEREZxUAcERkWHR2tjIZoSF4AjIoKrHf3k/vmHplY6xh6k/Ndu5yvj4hQQyWO4Tc5dehgzn9wiIjMkJgIJCXVhXilcUw7l0BcdrZ6/frrvWus1AJxEq6TbJn8CrTEt4KUZtpqRoqbrfrwEeU8LCoK4fJJuiEhOAnEVR08iJgGoQcJ14kKe7QSiNMjDXHC04Y4bWTt9Onq18cIWSfr//EP9TrHpZK/yZtAHN8I4kje2PHcc8/hvvvuU0aoibfffhtt27bF4sWLcfnll/v4aMlMuSUVXq/TAlaumB2wkjCNszY6CcfJ9vmTh6JPqwqlgVtG/G3evBl9G/ygzUg0FuR0t25YlxTl89PLC4bVrDPCFw1LErZzvP2G5HOR/bJuVPc0U+6TSMNAZvBKSEjAdPkD1sHOnTvx4YcfKk+WdJipTldwxMeUiIiIiIiIyDd0+iCIiOq76aab8Oijj6Kiou6FH7n8+OOPK/soMEnTztdfA888A1x7LZTwQ6tWatDgssuAxx8HliypC8NJyO2ss4C77gIWLgR++UUaUtTQ3L//DdxzDzBhgowLYRiOiAK3Je7449Wfd2LcOKBbt7qA77Rp3t1HSop6O6JmiinCZT6rvKDZDIG4sjLg6b9r41LbKC2qWhPes8+qI0Ybihk4QDkv/u77RvscG+Lk66RHy0rs3AmUu84J1CNrv/xS/R0xYwY8Iuu13y1aGI8oEGVnZyMnJwenn3567bakpCSMGDECa9ascfox8ndzUVFRvRMFJmkg83adJwErM8I09yz6TXeN7K+22jBhwgSceuqpjcJw8CCg5m7dT9n5bsvz7DXrjLZmNfxaag1Lst8M0jxn5joiT/jy5wU1v86dO+OpV99F0ugrEZFY1+xceWQ37FZ5Cw0fUyIiIiIiIiJfYEMcERn2888/Y9myZejYsaMyPkr88ssvqKysxLhx4+qNklokVTzkUxKYkAYfx8Y3OdfCGg3JGDrHUafaeWqqr4+ciMg8Q4aoo5//9re6bTISVHLbs2YBl1wCZGR4dx9yezK1VEaCSuhYAsLhkjSW9rVmGJkqYeTvFh3GBR0AS+u6F9XWr1c/J3HKKUD//nUfkzRhAgo/+hjHvvwSGff9HWGRkbX77DXB9kqb+0CcfK0kAChtePI7ZuhQ98f7yivq+Zln1gURjZIi2vPPBz79VEZQefaxRL4kYTghjXCO5Lq2r6E5c+bg4Ycf9snxkXcjNmWtNJBJ6MpZsEtuJSNJvc1ACFitzcpDQWmV7hrZf8iWqDQYlrtIOK/bmWfo/mTdmF6tXe5fnZVr6HZk3eie9UcJ+qs1y4wQJFFTMZAZWiIiItDz+LFI3pFYu6006yfkfvoE4nqPQdqEW2rf4MLHlIiIiIiIiKj5MBBHRIYlJyfjoosuqretk1bFQz5js6ltblroTQu+bd+u7mtInmft2bNx+C0zUw11EBGFkueeA6ZOBU49tf72W24BevUCxo41534kA6MF4kRtIK7Y/EDcTz8BbSLUdHOurQ0ya7a//HL9ENrzz9ddjxs+HJa0NGVsasnatWg1Zoyy3S4zs2t+WcQkRKF7d/37lt8hEoJbtgzYsMF9IE7K5954o/7IWk+9/TawejUwfnzTPp4oUM2ePRuztBQroDTE8W/p5uHtiE0JV8laaSBrOPpTi13Jfr0QVnp8tKFjNbpOz5qduYbXSQAtJsZ5qOvjDfsM3Y6s0wvEHSgoM3Q77tb5coypGSFIoqZiIDP0OHus7NVVsBbnwV5dibBI9Wc/H1MiIiIiIiKi5sNAHBEZ9uabb/r7EFocaeRxbHuTc2k+cjWRLz29ceObNAZJGxwRUUuQlgacdlrj7RIAPucc8+5HK4WqDcTFqz9obc0wMlWa4E6uCcRt2t0aJ0jTTwHw3nt1a956S9qn6n7eh0VEIHH8eBx9910Uff5FXSDOYez5gOOiDI2+lhY5LRDnbgTqJ58AR44A7dsD557bpE8XiYnq6G6iQJZRUzV56NAhtGtXF7CS60OkqtKJ6Oho5UTNSxux2TDUJMEp2f7S5KGGQnGy5vqxmXh1ZbYyolqjjIMek+n+NowWlnlXbKawuZlPWnFwO8qyN6BsxK266/YVlBq6P3fr2qfEGrodd+t82ZplRgiSqKkYyAz9xzSu+wloe/ljiO7QD2GWCD6mRERERERERD7AbiAiMqysrAylpXUvfuzevRvPPfccvvrqK78eVyiQRh0JvL37LnDPPWpoQwpDZHzpySero/+k/WftWjUMFxWljgW85hrgqaeAL78EDh5Ux6NKaEEakqZNA044gWE4IqLm0DAQZ6kdmWpuIE7ya/L7QWuIW7ejDfbuBRYuBORXcr9+6ljSwkLggw/qf2ziOROU82PffANbTRDOJr9wagw+PsrQMWhjVSWY547WWnfddTIuytDNEwWlzMxMJRS3TP7wcmh8W7duHUaNGuXXY2vJ9EZsCtku+2WdkWDdKyuyG4XN5Lpsl/16JARhhNF1elLi9H+eF3z/FgpXLsS37zhUiTrRIdnYfxzcrRuZaaytzd06X7dmSchRApMSUnEk140GKYm8CWSKhpFLBjJD5zGN6TyoNgwnbhndlo8pERERERERUTPiy1REZNjEiRMxadIkzJw5EwUFBRg+fDiioqKQm5uLZ555BjfeeKO/DzHgSbuEjNhzbHyT861bgaoq5x/TpUvj1jcZgRoZ6eujJyIi1w1xWiDO3JGp8jtCfj90iFUDcYer2uC114BFi9T98qtX7lLC1BJGk3GxmtjjjkNERgaqc3JQsnIlEk4/HfaaQFy13YJhwyM8CsTJ7yzJ1bkquPrjD2D5crWNTwJxRMGuuLgYO3bsqL2enZ2NTZs2ITU1FZ07d8att96Kxx57DD179lQCcvfffz/at2+PCy64wK/H3ZK5G7EJgyM23QXrhOw/o1+GyzDDpr1HDR2zrLtoWEd4IyXO9X8M7HY7Wg06A9bifFxyrf4s64uHdcSnvxxwe3+yTk+4kfpRA+v80ZoloTd5XOV7RJrnJGwnt8/QCjU3LZDZcNxzhgfjnil4HtNBR1fh+nOvQM/lyzFs2DC/HicRERERERFRqGIgjogM27hxI5599lnl8kcffaS0Yvz888/4+OOP8cADDzAQ14A0uf3+e+PwW36+6xFxjqE3OR8wAEhK8vWRExGRx4G4moY4q8kjU7VWto7xR4Aq4HB1G/zrX2o7XGwsMHmy2jJ6//3AunXAzz8Dxx2nfkxYeDgSzz4b+W++iaIvvlACcRXFaiCu0h5dG3RzR4LZMoo2L0/9Pebq46TJVGgtp0TBbv369Tj11FNrr8+aNUs5nzJlChYsWIC77roLJSUluP7665U3i5x00klYunQpYmLMaasiz+UUlpmyzl2wzm4gWGcz0ELnyTo9m/YWuNwXFhaG+H4nI67vWBywJujezohuxprd3K3LLakbz+3NOn+NMZXb0wtMEjUXBjJbxmM6rHMSzpnwBI4dO4ZPP/2UgTgiIiIiIiKiZsJAHBEZJuNSExLUF1FkTKq0xYWHh2PkyJHK+NSWymoFsrLqh97kXLY5Y7EAvXs3Dr917iwvWPn66ImIyJyGuHjl3FZc0iyBuFSoDXHVCW1QWnOfV1wBJCerlydNUkemSkvc/Pl1H584YYISiDu2/DvYSkvx5+YKxEKydZFK0M0I+d0kr9PJhPQNG5wH4srKgAUL1Msz9QuIiILGKaecorRr6QWNHnnkEeVEgSG3JvTr7ToJLRihty7cYIDF6Do9h4rcH698v7pbt2G3sVY7WacXGDNz1Clbs6ilYSCzZTym8sZSeaPpVMd6ZyIiIiIiIiIyFQNxRGRYjx49sHjxYlx44YX48ssvcdtttynbDx8+jESpN2uBZswA/v1vNQjgTEZG/dCbnPr0AVgcQkQUag1x8c0yMlUCcbFhpYiqOqZcP/uqNtjwTOPgmVyWQJz8TpIGuZrCOsQM6I/Izp1RtWcPji1fji2/ZEI6KOyR0R6FsCUEJ4E4OZ4bblC3vfkmcPfd6khXCYcfO6aGu8ePN+/zJyLyREFppSnrzAh0DemUgnfW7nF7G7LOW/HRjZ/asdusyP3sX4jvfypiu5+gNsU5WWd2EFBIo1VclAWllVaXa2S/0VGnbM0iolAjz6FNmzat9roE8KuqqhAVFeXX4yIiIiIiIiIKJQzEEZFhMhb1yiuvVIJw48aNw6hRo2rb4o7T5rO1MBERahhOxtb1718//CbnrVv7+wiJiMgXgThLTQLNZuLIVPn9snkz0CHiiHI9LC4O0/8Wj7lvqAE1x6a2k08G2rSRkDrwxx9qo5vyMWFhSBw/HnmvvoriZd/i23WTlUBcZKxnL7Zp96U11kkI7u9/B46oh1ZLJkpKEyoRkT8YDfq6Wydhq+S4SBSUVrlcI/v1Al3tk6WP0z2j6/RcdFxHLN50oN62ki3fo3TbSpRnb0SHG99AWHS8sk5PeqtoQ/fnbp3VZkdZleswnJD9ss5oqI2tWUQUqiQId+ONNyrj1z/88ENlEgMREREREREReY+BOCIy7OKLL8ZJJ52EgwcPYvDgwbXbJRwnrXEt0Z13AlKU1707AwBERC0xEJebq4bD6kammheIk/Hb0rzWs62aOots3Rpdu4Zh3z5AyiMcAx1yuUMHNRCnhfQ0CeNOUwJxRd+txB9/TAI6AQmpxkIPDQNxEtArLwf+9z/g4EE1+L1ihYz8U8PhnTp5/3kTETXViK5pmIssQ+u85S7GJWG5dkkx9cZ8NiT7jbak6RnhJCgmrXCJIy6CJT4V4dHxLtfV43pCsEfr3lmzCzrThtWbsKvrpo/pZvBOiYhC0+bNm/HOO++guroaq1evVp53IyIiIiIiIiLvMRBHRB7JyMhQTo6GDx+OlqobX78hImqR0tLUEJjNprakpdY0xFlLzRuZqrWxjeh+CDgMREgFnIzGU3MNblvrNDGDBsGSlgZrXh5OjF+tbIuM96whrmPHugY6Ceq9/LK6XSY9yShwIqJAEG4JM2WdjObUa4cTR0urlHWuWsuk0ezB8/rhxoUbnebH5AhkvxljP3/Kzq83KjUs3AJLbAJSTpnaaN3onukub+dwcYWh+3O3bnd+qaHbMbqOiCiUycSFt99+G7GxsQzDEREREREREZmIgTgi0jVp0iTDaxctWtSsx0JERBQopBVU2tEkfCan9NbayFTzA3ED2+5XAnGRUgGnw1UgLiw8HLFjTkHx4o8xPmGpsi1cKuY8IA100hL3xRfAhx8CX36pbr/+eo9uhojILRmjKUGzw8fK0SZBbVAzGhrLNRjocrdO7tsId+vOGtAO14/NxKsrs2FzSMXJpzNjTKay3wwrdxyGvboSR79bgNI/fkD76fMQHtPK6Tq9QFy+wa+fu3VdUuMM3Y7RdUREoe6yyy6rd91utyPM6BxwIiIiIiIiInIq3PlmIiJVUlJS7SkxMRHLli3Deu0VegAbNmxQtsl+IiKilsQxgKaNTLWXlcFeXW3K7Wu/brvG7VPOmxqIEz9HnKacd4g8oJyHeRiIcxyb+vzz6vmZZ7IplYjMtXTzQZz0z29xxatrccv7m5RzuS7bjZAAnRnrzLodOe5XVtQPw2njQmW70c/Lnd/2FQGWSJTv3gRrcR5Ktq1yvU5HqsH2UHfrrh7VVQn96ZH9so6IiOo7evQozjrrLKxYscLfh0JEREREREQU1BiIIyJdb775Zu2pbdu2uPTSS5Gdna20wclp586duPzyy5Ge7rppgIiIKBRpE8QlgGZxmGNqK/G+JU5uYssW9XJadU0gTuaWNjEQ9+y3o1Bui669HhZdd9moYcPUcy3vN3OmxzdBROSShMNkvOjBwvqtazmF5cp2I+ExaZNLjovUXZMSF6msc3c77ZJilLGmzsh22a93O9J09/BnW5yOS9W2yX5Z56nCwkLcd999GD16NGw2G2KjwpUmoZRTpqHNJQ+j1eAznX6crNOTGmcwEOdmXVREOMb1Vcd8uyL7ZR0REdX3+OOP46uvvsI111yDyspKfx8OERERERERUdDis49EZNgbb7yBO+64AxaZE1dDLs+aNUvZR0RE1JI4BtCkcU1rXTMjELdpE2CzAe3aAWFH9ivbojp2MBTQy8mpv/3XX4Hv1sRibdmJtdu8aYgT7dsD557r8U0QETV7eKyy2qa7v8LNfiEjWh88r59yuWEoTrsu+/VGucrY14bhPkfymch+WeepiIgIzJ07F6tXr8bXX3+NjMRYZXts9+MR220YwsKcP9WjrXPl660NfoE0cZ08Tpv367fRyf6mhAGJiELdo48+iksuuQRLlixBVBP+ZiciIiIiIiIiFQNxRGRYdXU1tm3b1mi7bJNmAiIiopakYSNbeKtWyrm1uNjr296wQT0/YZgVVQcPetUQt2CBel7Q61SvAnESgpOAnpg+HYjUL2EiIjLMrPDY2qw8lFZaddfIflnnzlkD2uH6sZkIa5B5k+uyXfbrOXzM9efjyToZnffEE0/guuuuq90WHx+vbPvPf/6D0047DUM6JRu6L3frdueXGbodd+vcPZ7wIgxIRBTqYmNj8eGHH2LQoEG12yRAvCYrD59u2q+cM1BMRERERERE5B4DcURk2NSpUzF9+nQ888wzWLVqlXJ6+umnlRdnZB8REVFL4ioQZyv2viFu82b1fGSvw0BVlZI+i2jTpkmBOO22Ol94Su228OimtU3Mng2ccgpw001N+nAiomYNj63ZmWvodoyskxGtr6zIRsPMgVyX7e5GuKbHGxtN7W5dQUEB7r33Xrz++uvYsWNH7faZM2fi4osvRmRkJArLqgzdl7t1XVL1G+SMrsspNBasM7qOiKgle/3zH9B+5Lm4fP4q3PL+Jlzx6lqc9M9vDY0Sp9Dy0EMPKSPSHU99+vTR/RgJz8uamJgYDBw4EF988YXPjpeIiIiIiMjfIvx9AEQUPP71r38hIyNDCcEdrGmradeuHe68807cfvvt/j48IiIi/wbi4uNNG5m6dat63i99n3Ie2a4dwhxGlusdT15ebYZOsWePet6uX2vEDB6E8l9+bVJDnPjb39QTEZGZ2iTEmLTO9QhTT9bpjXDVyP4z+mW4HpvahEMpKirCO++8g9LSUuX/WCIzM1P5v1a/fv3QXqo6nUiNN/Yz3d26M/pmYOG6vW5vR9bpyS+pNHQ8RtcREbVUn/28GzOvugjVhYeQGB6HlFOuVbbnFJbjxoUb8dLkoW4bSym09O/fH9988029MequyGj1K664AnPmzMG5556Ld999FxdccAE2btyIAQMG+OiIiYiIiIiI/IcNcURkWHh4OO666y7s379faSqQk1yWbRY3L9ITERGFeiDOUhuI825kqt0ObNmiXs6M26+cR3Xs4Pbj0tIA7dfxkSN1t7W3JtvQuTOQdM65yuXIDvrjV4mIfGl4ZiraJcW4zJDJdtkv6/SM6p5m6P7crTNjhGtucYWhY3Fct27dOtx000149NFHUewwfvupp55SGrnj4uKc3kZGkrFmN3frCsqNNc25W5faylg7ntF1REQtkYSz/7F0B1LPmImo9r2ReMLE2n12h3A2x6e2LBKAkzcra6f09HSXa59//nmcddZZSsi+b9++yt8XQ4cOxdy5c316zERERERERP7CQBwRNUliYqJyIiIiaqlcj0z1LhAnYbb8fCAsDEi37TMcYAsPB1q3rn9Mcjulperljh2BlKuuRNePPkLajOu8OkYiIjNJy9qD5/VTLjcMxWnXZb/LNrYaI7ulITmuph7ThZS4SGVdc49wdddmZ6uqQPFvy/D7D1/Xbhs3bpzS4PLYY48pb0YySoKC7j5v2e8uUGhWU19GorHbMbqOiKgl0sLZsd1PQMbkp2CJT/E4nE2hZ/v27UpjbLdu3XDVVVdhj1YH7sSaNWtw+umn19s2fvx4ZbsrFRUVSmOt44mIiIiIiChYMRBHRIYdOnQIV199tfLEi7wjUVrhHE9EREQtMRCXmwtYrXUjU61eBuJq2+Ey5Zev2hAX2aGDR8ekBeK0drg2bYCYGChjV2MH9Hc7fpWIyNdk5JuMfstIqh+SkutGR8JJYO6JSQN118yZNNBtsM6MYNiwLilKsNmVkt+/Rd4Xz+KdeU/CLnWeNY3cn332GW6++WaXbXCuVFbbdPdXudmvHbObL42yX9YZafzTY6Txz5E0IK3JysOnm/Yr52xEIqJQ5xi6Dgurewq/NOsnFPzwXu3vDqMhbgp+I0aMwIIFC7B06VK89NJLyM7OxpgxY3Ds2DGn63NyctBW+w9iDbku212R8apJSUm1p06dOpn+eRAREREREflKhM/uiYiC3rXXXqu88/D+++9Hu3btEKb3Cg8REVGIk+k08qvQZlNDcbUNcSUlXt3u1q3qed++QNW+moY4qXdrQiBOKwyQcalERIFOQm9n9MtQ2m7kBX4JnEloyl2AzWxaMEwvc+UuGPZTdr4ytlpTlbsXtspSRLfvrVyP73syjm34DCefPQlVVVWIiopq8vGuzcpDaaVVd01JpVVZN7qn69FqG3Yf1f2cheyXdXpjZ7XGvxsXblSu25vY+KdZuvmgMhbQcYytBOrkNowEJYmIgpGz0HV10WHkLp4De3UlIpIz0Kr/qYZD3BT8zj777NrLgwYNUgJyXbp0wYcffojp06ebch+zZ8/GrFmzaq9LQxxDcUREREREFKwYiCMiw1atWoWVK1diyJAh/j4UIiIiv4uIUENxMuJUAmhtW6kNcbbiElMa4vr1Ayp/Uhviojp28CoQx9cwiChYSEhKL2ylR1rD7ln0m+4a2S+hO70wlhnBsDU7c2svV+XtQ877sxHdrhfaXPSAsi08Og7tps1Dj9N6eBWGa3hf7tbpBeJyioy1DBlZpzX+NQyyZXgYZJMwnATrGj4cOYXlynaj7YFERMFGa9uUn3faz8CIxDZIPvlalO/5Fa36jPG4bZNCS3JyMnr16oUdO3Y43Z+RkaFM+3Ak12W7K9HR0cqJiIiIiIgoFHBkKhEZJu8I1EYyEBERUf0AmkVriPNyZKrWENevVyWqa8bZNLUhThuZyoY4ImoJpAGtoLRKd43sl3V6jI6f01vnGKizVZTAXl0F67E82G11TW7SuG3G5E+j/0Vzty7X4OdtdJ0E1VbdfRremzESz18+RDmX60YDbBJwlECds8PWtsl+jk8lolCktW0Kxwh34vHno82F9yLMElHbtmm16reEUmgqLi5GVlaWMsXDmVGjRmHZsmX1tn399dfKdiIiIiIiopaAgTgiMuy5557DPffcg127dvn7UIiIiAKCYwAtPD7e1JGp/drkKOmFsJgYWNKMtSVxZCoRtWSeNKXpMTp+Tm9dSlxd65uMSc24cg7aXPoIwsItLtc1VbLB23C3zl2Y0NN1jo1/E4d0UM49GX8ro3Md2+Uakhic7Jd1REShSGvblHZNR+2S42obMp966imce+65KC0t9dtxkm/ccccd+P7775XnZVevXo0LL7wQFosFV1xxhbL/mmuuUUaeam655RYsXboUTz/9NLZt24aHHnoI69evx0033eTHz4KIiIiIiMh3ODKViAy77LLLlCfYunfvjri4OERGRtbbn5/PFyKIiKgFB+K6qg1x1pKmN8QVFgIHDqiXu8bug3QYRXbooLQIeXo8jg1xHJlKRC1DmCnrtDF1emEsd2PqLBWFqC46gojE1sr1qDbdnK5LT/B+LFlqXKQp64z+rjG6zltmNPUREQU7Cb3JqG8J/8rPOwljy+8fCRgfOHAADz/8MEpKSrBo0SJMnjzZ34dLzWjfvn1K+C0vLw+tW7fGSSedhLVr1yqXxZ49exAeXtd/cOKJJ+Ldd9/Ffffdh3vvvRc9e/bE4sWLMWDAAD9+FkRERERERL7DQBwRedQQR0RERI0DaB9+CER1b4XTAWT9Woznb1e3n38+cPLJnrfDdegARB7dp1yO7NjB4+NhQxwRtUTSQDZ3+Q5D6/RIyOD8we3w8opsl2tkv6u2s9zcXDz21yuRcygfbS9/HJEprkeEZiQaa6PTU1BWZcq6EZmpmLvc/e3IOl8wo6mPiCgUaG2bDbVv3x5ffvklvv32W4bhWoD3339fd/93333XaNsll1yinIiIiIiIiFoiBuKIyLApU6b4+xCIiIgCSteu6vmPPwL4LQmndwZKcgrxzDPq9oULgZwcadMxdntbtqjnffsCVfv2K5ejOnRsUiCuurqubY4NcUTUEozslob4KAtKKq0u18RHW5R1eqw2OxaurUkUu7Bw3R7cdVZfp6G48vJyRMCKMLtV9xdASlykbsucUamtok1ZF27wl5XRdd7SmvpyCsuV8agNyVHIGEEzvoZERMFq9OjRyklTXV2tNIi11f5jQERERERERNRC1XVoExE5UVRUVO+y3omIiKilmToVmDMHuOsu4MJrkpRt7RMLlesyWfzwYWDXLs8b4vr1k0BcTUOc1MUZpL3ulZsrI3UAq1U9jowMTz4rIqLgFRmh/zRHpMX90yCrd+TqhupESYVVWedMx44dsfy779F58hOITHb9A7ii2gYzGG2Zc7cut6TC0O0YXectCRs+eF4/5XLDCJ52Xfa7auojImppbDYbpk2bhpEjRyIrK8vfh0NERERERETkVwzEEZGulJQUHJZX8wEkJycr1xuetO1EREQtTUICcM89wD//Cdz+ULKyLdZagCeesGPQIHXNhg3Gb69eQ9x+tSEusqPxhrj0dLWMyGYDNm5Ut8mHh/OvfiJqAX7MzkdBqf5YUNkv6/T8Z4MaSHbHcV1paSk2bdpUe31XSSSsia5HpSofU2nF2qw8eEsa0pLjInXXyH53TWqBOKL0rAHt8NLkoUoTnCO5LttlPxERqaQZbs2aNdi7dy+2bdvm78MhIiIiIiIi8iuOTCUiXd9++y1SU1NrL4f5aDzOQw89hIcffrjett69e/MJPSIiCliWZDUQJ7NKbSUlOP74VkoYbv164OKLPW+Iq1yoBeKMN8RFRKihuCNHgJ9+UrdxXCoRBRMZVyqBtcPHypXglYS4jDaAyceYsW7rgQJDt6OtkxGpF1xwAVavXo3//ve/OOWUU/BD1hFDtyHrRvdMR3MLC+IRpRJ6O6NfRpO/L4iIWorWrVtj5cqV+Omnn3DOOef4+3CIiIiIiIiI/IqBOCLSdfLJJyM7OxuZmZnKCzu+1L9/f3zzzTe11yPkVX4iIqIAFR4Tg7DoaNgrKmAtKFQCcS+/rAbijCgtrRuv2iezDHky9xRAlAcNcdrYVAnEaffbubNnnwcRkb8s3XwQD3+2BQcL6wJrEtCSsZhGmsDSW0Ubuh9360orjY0y1dbJiDpNVFSUcn6gwFg4z+g6b5vxjtY0443qnuZ2ROmNCzcq4TfHUBxHlBIRBYeMjAycd955tdePHj2KrVu34sQTT/TrcRERERERERH5GtMlRORW9+7d0aVLF5x66qk47bTTlGBcRw9fnG8KCcDJE3lERETB1BJXfegQrAUFOP54tdlNgml2uzrKVM8ff6jrpOEtqWI/ZIheeKtWCE9M9DgQt3kzA3FEFHxhOAliNWwmk7Yy2W5kPKbN6qzXzPN1cdEWQ7ejrYuLi8OSJUuwZcsWDB06VNnWISXW0G0YXacnp6jctHXaiNKGwcQMD4KJgRaUJCJqqYqLizFhwgT8/PPP+OSTT3Dm+LPYtklEREREREQtBgNxROSWjEr97rvvlNN7772HyspKdOvWTQnHSUhOTm3l1XeTbd++He3bt0dMTAxGjRqFOXPmoDNf1SciogBmSUqqDcT1HwFERwOFhUBWFtCjh7FxqX37ApX79imXIzt29HhcufYruaBm4h9HphKRP8eYGr19CTw5i6nJNrkn2S9jM/Xud90uiRK7J+vG9G7tcn/rVlHYfrhE9zbsdhvsB7YAUFu05f8sWhhOjMxMw7zlWW6PRdZ5K7+4wtR1gTSi1IygJBFRSyVvNG3Tpo0S3N5VFo2T/vktw8VERERERETUYjAQR0RuSSOcNi61vLwcq1evrg3IvfXWW6iqqkKfPn3w+++/m3afI0aMwIIFC9C7d28cPHgQDz/8MMaMGYPNmzcjISHB6cdUVFQoJ01RUZFpx0NERGS0IU5YCwsQGQkMHgz8+KPa1uYuELdFchUA+vUDqvbvVy5HdlRb5jzRMKPOLDkRBXo7lwSvHG+/IQlDyX53Iz/rBnu6o79uQMdkrN551PXx2O3I//JFLPtlKV7uacENN9wAf0qOjTR1nZDwm/7XuvmZFZQkImqpJKz90Ucf4a2la/H4D0UMFxMREREREVGLEu7vAyCi4HsyTZrh7rvvPiWkdvPNN6NVq1bYtm2bqfdz9tln45JLLsGgQYMwfvx4fPHFFygoKMCHH37o8mOkQS4pKan21ImVOERE5K9AXE092/HHq9u18aV6fv21LhBXmb1LuRzVyfM0GwNxRL7x0EMPKQ2Ojid5k0go0dq5GobVtBfQZb8ZpIXMjHVGA1zu1rVuFeP2NsIiIhEWHq78v8OZddn5ho7F6Do9BWVVpq4LFJ4EJYmIyLlwSwRe31xZG4arytuHog2fKZe1bRIulhAyERERERERUShhII6IDJExqStWrFBCcDIiNTk5GTNnzsTRo0cxd+5cZGdnN+v9y/316tULO3bscLlm9uzZKCwsrD3t3bu3WY+JiIjI2chUYZU5qQ6BuA0b3H+stkY+piJL/X0X7a5WzkAgjvlwoubTv39/pc1YO61atQqhwl07l5kvoMtITjPWndA1Fe6mTMt+WacnPSHazW2EIWXc9fjn25/h8ssvd7HK6NfF+69faqtoU9eZSb4/1mTl4dNN+5VzT75fzApKEhG1ZI7hYmt5MQ59cB+sxXUjxhkuJiIiIiIiolDFkalE5JY0wq1btw6ZmZk4+eSTlZFA7777Ltq18904heLiYmRlZeHqq692uSY6Olo5ERERBVpDnITdbDYg3MXbUQ4cUE+yf8gQYP+OLGV7dI/uXgXiEhMBF+VFRGSCiIgIZGRkIBSZN8bUveGZqcoYVmmecxaXkoxbRlKMsk7Pht1HYXeTt5L9sk7vmDMSnQfvynZtQkyXwbWNgCeNHOHyNkZ1S8fc5erPcj2yzluujrep6wJl3K5ZQUkiopbMMTRsiWmFtLP+hpjMobrriIiIiIiIiEIBG+KIyK2VK1ciLS1NCcaNGzcOZ5xxRrOH4e644w58//332LVrF1avXo0LL7wQFosFV1xxRbPeLxERkZmBuL59gdhY4NgxYPt29+1wMi41uqoQ1UeOKNejunvXEMd2OKLmtX37drRv3x7dunXDVVddhT179rhcW1FRgaKionqnQObLdi5LeJgSkhINC96067Jf1unJKTJ2LO7WDeuSgoZ3VfTjIhz+4D7kfz0fdrtd2S/rXDkhM7XR59JQWM06bzk73obcHW8gjtvVgpKuPjXZ3s5AUJKIqCVrGBqO7TZMCXW7W0dEREREREQU7BiIIyK3CgoK8MorryAuLg7//Oc/lRf9Bg4ciJtuugkfffQRjtS8aG+mffv2KeG33r1749JLL1UCeWvXrkXr1q1Nvy8iIiKzWJLrj0yNiFAb38T69a4/TtunjktVG4Ui2rWDpVW8V4G4zp09/nAiMmjEiBFYsGABli5dipdeegnZ2dkYM2YMjkkC1ok5c+YgKSmp9tQpwBOrvm7nksawlyYPVZrgHMl12W6kUSy/uMLQfblbJw1yDSd7hkW3UiJYllYpSpBA9ss6vdtwNxxU9uvdhlHOjrchd8cbiON2zQpKEhG1ZAwXExERERERUUvFkalE5FZ8fDzOOuss5STkRb5Vq1Zh+fLlePLJJ5U2jJ49e2Lz5s2m3ef7779v2m0RERH5qyFOC7mtWaOG3q66ykAgbscO5XJ0d8/HpYo2beouMxBH1HzOPvvs2suDBg1SAnJdunTBhx9+iOnTpzdaP3v2bMyaNav2ujTEBXIozqwxpp6Q0NsZ/TKUMazSPCdhO7l9o4Gn1PgoU9YdKChTzu3WKoRZIpXLCYPPRHRGD0S2yWy0zt8Ne768L1+P29WCkg1Hr2Z4MHqViKgl08LF0s4pv00df6czXExEREREREShjIE4ImpSQC41NVU5paSkICIiAlu3bvX3YREREfmdJSnJaSBO/PgjUFqqXo6OBiwW9bLdXjcyVQnELasJxPXwfFyqiIwEUlOB/HyOTCXypeTkZPTq1Qs7akKtDUVHRyunYHsBfebCjU7325vpBXS5PXchKVcykmJNWbd2x0EUrPo3in/9Gu2m/h8ssQnK9qi23eqtW787DxcN6+j3hj1ft/n5OqDnbVCSiKilY7iYiIiIiIiIWiIG4ojILZvNhvXr1+O7775TWuF++OEHlJSUoEOHDjj11FMxb9485ZyIiKil0xribAXqyFTHQNzq1RIqVy937Ahs3AjIJPD9+4FDh9SA3KBBwJGX1ZGp0T2a1hCnjU2VQBwb4oh8p7i4GFlZWbj66qv9fSgtltZqp9dOZmQsXNaRMpT+sRrWY7ko2fwtEk+Y6HTdnznFLm9jWJcUSF5Lbyqo7Jd1wdjm5+uAnjdBSSIiYriYiIiIiIiIWp5wfx8AEQVH28WoUaPw/PPPIy0tDc8++yz+/PNP7NmzB2+99RauvfZaZTwUERFRS1c7MrWoCHarVbncuzcwfHj9dfv2Aa+/Xn9c6oABQGwsUJGlBuKimjgyVUycCKSlAWPHNvkmiMiNO+64A99//z127dqF1atX48ILL4TFYsEVV1yBUGC12ZUmGVfk5XPZL+vMvt81WXn4dNN+5dyT29da7Vy9tB/motXObrdj2bJlyhuBRLjFgtQzbkD6xHuQcPz5Lu8vTCdDsGH3Ud0wnJD9ss5b2uetHFPDY/TDODwtoKf3OBgJJhIRkbm0cPHEIR2Uc4bhiIiIiIiIKJQxEEdEbj311FPKSNT9+/dj4cKFmD59Orp78SI9ERFRqLIkJqoX7HbYjh1Tt1mAtWulPUo9vfKKukTOJXuhBeKkSU6CdNVSF+fFyFQxZw5w+DDAvDpR89m3b58SfuvduzcuvfRS5Y0ja9euRWupfgwB0iCj17QmWS/ZL+vMsnTzQZz0z29xxatrccv7m5RzuS7bPR0Ll5FYv31MAliyveFYOAnDnXfeeTj99NPx4YcfKtt6tklATOdBiO9zEsJ0Um+yzldjQ92Rz+v6sZmNQnpyXbb7chxeoAX0iIiIiIiIiIiIqOVhII6I3LrhhhvQq1cvfx8GERFRwAuLikJ4zVxUa0FB3fYwdVyqnK66CkhKArKzga+/rh+I09rhItq2hSXBddDCiHD+pU/UrN5//30cOHAAFRUVSjhOrofSm0Z8HeiS0NuNCzc2CuHJddnuSShO2O1q25tGa39rSAJvI0eORExMDA7VBJKT4iIM3YfeuuYYG6pHvj6vrMhu1Eon12W7p18/b9UGE5Pqf34ZLoKJRERERERERERERGYy9iwvEREREREZHptqKympF4hzFBcHTJkCvPACMH9+XSBu2DCgsiYQFx1CoRoiCk6+DHRp41ldTRiV7bL/jH4ZblvFJPg1c+HGRtsPHatUtv/znC5Y8/Frypt++vbtq+y77bbbcO2116Jjx47K9Yhwi6Hj1ls3pJM6Qtsdo+t89fUzk4Te5D6lRVCCk/K9ImNS2QxHREREREREREREzY29EUREREREJrJI/ZsEFAoLXa654Qb1fPFiIC8PiIwEBg0CKnbUBOJ6Nn1cKhGRGSS4JGNG9ch+Wdfc41lhcDyrBMPuWfSb7pqZf70Zzz//PO65557abfHx8bVhODGqe5qh49Zbt3DtbkO3YXSdL75+zUHCb/J1mjikg3LOMBwRERERERERERH5AgNxREREREQmN8QJVw1xol8/YMyYuusDBwLR0RKI26Fcj2JDHBH5mQSXzh+sP9ZS9psRcMopLDNl3dqsPBSUVtXbZrdZYa+u2xY34lL0HXgcbrrpJpe3M7JbGuKj9Fvi4qMtyjpX1mXn6X68p+t88fUjIiIiIiIiIiIiChUMxBERERERmciSnOQ2ECdmzqy7fPzx6nmFNjK1BxviiMh70pi2JisPn27ar5zLdU8+dskvB3XXyH5PbtOV3OJKU9at2Zlb73r53s04+NatKFz3Ue22yLROmPrkv3HGGWfo3pbbz8rNghw3jW2ertOTX1Jp6joiIiIiIiIiIiKiYBfh7wMgIiIiIgrJhjidkanioouAm29WR6YOGwZYi4tRfVANn0SzIY6IvLR080E8tGQLcorqAlcZiTF46Px+OGuAfvObp2M4jY4YdaWgrNKUdfYGITVr8VFUHc5GcdkxJI28GGGWyJo9+q12a3fmobTSqrumpNKqrBvdI93p/ozEaGw+oHsTteu8ldoq2tR1RERERERERERERMGODXFERERERD4emSpkROr8+cCllwKXXw5U1rTDRbRuDUuS2jJHRNTUMNzMhRvrheGEXJftsj+QxnCGmbQuKTYStorS2utxfU5CyqnT0G7qCw5hOHWdHmnTM0Jv3QmZqYZuw+g6PRJ0NHMdERERERERERERUbBjII6IiIiIyERamM1aoN8QJy6+GPjgAyAxEajYoQbionqwHY6Imk5GmN6z6DfdNbMX/eZ21Kkvx3COyEzzet3Ro0cx/5HbkPPvu2C3VinbwsLCkDh8EiyxiZ41zbkfmOp2Xb92xoLNRtfpGZ6ZiuQ4/ZBfSlykso6IiIiC05w5c3DCCScgISEBbdq0wQUXXIA//vhD92MWLFig/D3keIqJYUCeiIiIiIhaBgbiiIiIiIj80BDXUPkf25Tz6B49m+W4iKhlkDGeBaVqIMyVo6VVyrqAGcNp935dVVUV/ly/ClW5e1C+Rz8QCLt+11yr6AhDh6O3Lr/UYKDQ4Dp33I14dbc/0EmAUxr5Pt20Xzl3F+gkIiIKNd9//z3++te/Yu3atfj666+Vv33OPPNMlJSU6H5cYmIiDh48WHvavXu3z46ZiIiIiIjIn4w9y0tERERERM0WiKs6dBiFH32sXI4bNqzZjo2IQp8n4z5H90h3ub+NwaCb0XV61u3KM7xuTO/WtdcrKysRFRWlHkebNjj35sfw/a4yRHfoo3s7ReX6gcFtB4sMHY/eujYJxtpXjK7Ts3pHLiqrbbprKqptyroxveq+fnokcPZjdj4OHytXjlHa5SzhRofbmktG/D782RYcLKwbAdwuKQYPntcPZw1o55djIiIi8rWlS5c2an+Tv382bNiAsWPHuvw4aYXLyMjwwRESEREREREFFjbEERERERE1x8jUQvcjUzWH//Uv2EpLETt4MBLOPKMZj46IQp8JdWsAbHZjt2N0nb4wj9d9/vnn6NGjh9KSoukxbIzbMJyRuyuuqDZ0NHrrJEAmoS1XdyXbZb8ZY0w/3rjP1HUSQDvpn9/iilfX4pb3Nynncl22+5rc540LN9YLw4mcwnJluz+OiYiIKBAU1vx/MzVV/2+J4uJidOnSBZ06dcLEiRPx+++/++gIiYiIiIiI/IuBOCIiIiIiPzbElW7ciKLPPpO37qPtffchLJx/ohNR043ommbKunXZ+YZux+g6PaO6p3m87v3338fevXsxZ86c2m2ZafGGbsfduqMlxsaY6q2TNjVpMBMNQ3HaddlvRutaaWW1aesCKYAmLXXSDOcscqltk/0cn0pERC2NzWbDrbfeitGjR2PAgAEu1/Xu3RtvvPEGPv30UyxcuFD5uBNPPBH79jkPyVdUVKCoqKjeiYiIiIiIKFjx1TYiIiIiIhOF1zTE2UpKYK/UD1XYrVbkPPqYcjn54osQO9D1ixlEREaEW8JMWmdO05wRI7ulITkuUndNSlwkhndNqb3+/PPP4/7771eCcZqrR3V12zUXVrPO3XhRI9ytk3Gep/dr0+grJNdlu1njPk8wGIJ0ty7QAmgysrVhMK/hMcl+WUdERNSS/PWvf8XmzZvr/R3kzKhRo3DNNddgyJAhOPnkk7Fo0SK0bt0aL7/8stP18kaDpKSk2pO0yhEREREREQUrBuKIiIiIiExkSUxU2t6E1c076gv+8xEqtm5FeEICWt96q4+OkIhCWW5xhSnrzGqaM0Ja0k5wCLs1ZCsvRuk3c3HnHbfXbpPxYI888ghiY2Pr3U5UhP7THLLfXStbzY9wt9ytm/PFFny95bDTfbJd9pth8sgupqwLtADa4WPlpq4jIiIKBTfddBP++9//Yvny5ejYsaNHHxsZGYnjjjsOO3bscLp/9uzZyihW7SRtvERERERERMGKgTgiIiIiIhOFWSxqKM7A2NSCjz9WztP/8hdEpHkfKiEiapMQY846o5M8vZ/4icpqG75xERwTFQe348+Vn2Hu3LnIzs52uW5tVp7b1jbZL+v0mDF6VT6nV1e6PlYh+2WdtzbtLTBlXaAF0Ez7XiYiIgoBdrtdCcN98skn+Pbbb5GZmenxbVitVvz2229o1855S210dDQSExPrnYiIiIiIiIIVA3FERERERCYLT05yG4iTFzQqs7KUy63GjvHZsRFRaBuemYp2SfUDQgUr3sGRxU8owTIh+6OL9uK8885TRm45uuuuuzBu3DgsXPR57bbKI7uRs/BOHF6kjnjWlGz5Ho8//hh+/vnn2m1lZWX48ccf8eeffxo+5gU/ZDceK2qv2xKbeRySTroKs579t+6Lv2t25hq6P3frwt00yBlZ986aXXA3WVT2yzpvmRVkC7QAmva97OqrLNtlv6wjIiIKdfI328KFC/Huu+8iISEBOTk5ykn+9tLIeFRpedNIm+5XX32FnTt3YuPGjZg8eTJ2796N6667zk+fBRERERERke8wEEdEREREZDJLcrJybi0sdLmmOicHttJSICICUZ07+/DoiCiUyTjQ8wfXb/0o3/0LSv9YBWux2owm+wsLjirjtr777rt6a+XFUmkd2b3/QO02e1U5KvZvRVXu7nprS7Z8hy/ffkH5GE1WVhZGjBiB0aNH11t7ww03oHPnzliwYEHtttzcXEyfPh3/euyBemtLd/yIQ/++G7aK0tptyaOvwI5wd2PBzKm1szWK53m+bnd+3bHrMbrOF0G2QAugyffyg+f1q73vhsciZL+7EbhERESh4KWXXlLGmJ5yyilKw5t2+uCDD2rX7NmzBwcPHqy9fvToUcyYMQN9+/bFhAkTUFRUhNWrV6NfP/X3KxERERERUSiL8PcBEBERERGFbCBOpyGuImunci5huLDISJ8dGxGFNqvNjiW/1L0QKhJOuADxpQWIbN1VuS77r76mL1577TWkpKTUW3vvvfcqIbWvjyRgW00mLiKlPVpfeC/CIusHqmK7HY9unTvUe1G1urpaCb6lptYPTcmLs3v37lX2aw4fPow33ngDEXFJ6DDsytrtpdtWomL/FhSu+wgpY6+p3b7naInu5z6qexrmLt/h9msk6/RYwoy9d1BvXZfUOEO3YXSdkSBbTmG504iexMUyDATZtADajQs3Kh9jD4AA2lkD2uGlyUPx8GdbcLCwruFOPh85FtlPRETUEji257rS8I0Ozz77rHIiIiIiIiJqiRiIIyIiIiIymSVJG5nquiGucqc6LjW6ezefHRcRhb4fs/PrBYdEfJ+T6l2X/XvLo5XgW0OnnXaacr7nf9vw7QH155QlNgFxvU5stDZh6Dm4+uTuGDWqT+22IUOGKKO4Gpo3bx4eeOABJSynSUtLwz/+8Q+8umInbA5rIxLbIHHkJUgaeWn9zyPSovu5n9DVWHOZu3UdUmIN3Y7euitHdMGjn291exuyzltmBtkCMYAm93lan7bKeFlp1JMQ4dWjuiIqgkMPiIiIiIiIiIiIyDkG4oiIiIiI/NkQ1627z46LiELf4WPlpqxLjTfWXGl0XadOnZSTo7Zt22L27Nn4o80afLc9v3Z78tirnd5GZrp+m9pP2XW34W7d6J7pLvef2C0d85arYUA9ss6VTXtd//xvuM5dY50RZgbZZO0Z/TKUcKV8n8ioVWmX89do0qWbDzb6vF5blc2GOCIiIiIiIiIiInKJgTgiIiIiomZriHMdiKjMYkMcEZkvPT7alHXprQzejsF1eiqq7aasW70z19DtyDq9QNzI7mmIi7KgtNLqco3sl3XNHUz0hJlBNvkYM4J6ZoThpPmu4SMv42Flu4QAGYojIiIiIiIiIiKihhiIIyIiIiJqroa4QtcjUyt2siGOiMxns9tNWZeRZGxsqNF1eg4Wlpmybv9RY7djZJ2M49QLxEW7GdcpYTQjjK4LtiCbGaw2u9IM5+w7VbZJzE/2SwjQX+11REREREREREREFJj0n8ElIiIiIiLTR6ZWHz0Ka7462i+6W6ZPj42IQts6g2ND3a2TZrF2SfphLdkv67wXZso6m81gGNDNOmlYKyit0l1ztLRKWefKsC4pcJfRkv2yjpyTr6/jmNSG5FGU/XqPAxEREREREREREbVMDMQREREREZnMkqQfiKusaYeLaN8O4XFxPj02Igp1dlPWSePWg+f1010j+81o5kqNjzJlXZjBQ3G3zoxxpxt2H4W7fJ7sl3WhTFre1mTl4dNN+5VzuW6UP8bOEhERERERERERUWjgyFQiIiIiIpNZUtRAXPWhQ7BbrQizWOrtr8jKUs6jOS6ViEw2qls65i7PMrQuUMRGRZiyLsxgIs7dOjPGneYYHANrdJ2vVVbb8M6aXdidX4ouqXG4elRXZYysJ5ZuPqiMNHVseZNWQQlSnjWgnduP99fYWSIiIiIiIiIiIgp+bIgjIiIiIjJZdM+eythUa2EhSn74odH+yiy1IS66ezc/HB0RhbKR3dOQHBepu0b2yzo90uR1+4e/6K65/T+/eNT45UpafKQp69onxxq6HXfrtHGxrmJzYQbGxeYWVxo6FqPrfGnOF1vQ5/7/4dHPt+LtNbuVc7ku2z0Jw924cGOjkac5heXKdtnvjhmPg69b7YiIiIiIiIiIiCgwMBBHRERERGSy8KgoJE08X7lc8J+PGu2vqBmZGsWGOCIymYwwfWLSQN01st/dqNPVO3JRUmnVXVNSYVXWeatDapwp60b3MNZ6526dNi7WVQzKbmBcbEGpsaCb0XW+IqG3l1dkNxr3Ktdlu5FQnATIpBnO2ddP2yb73QXNHMf2NvxKh5k8tlcjQb2T/vktrnh1LW55f5NyLteNBPiIiIiIiIiIiIgocDAQR0RERETUDJIuukg5P7Z8Oapz6wdGKrWRqWyII6JmIOMo508eiozE6Hrb5bpsNzKuctHGfYbuy+g6PUnRkaasG9ktDfFR9UdUNxQfbVHWNTeD01sNr/PVmNRXV2brrpH9sk7Pj9n5jZrhHEkMTvbLOnfke/Ul+V5Oqj8WVa6/ZPB72ZetdkRERERERERERBQYIvx9AEREeubNm4ennnoKOTk5GDx4MP7v//4Pw4cP9/dhERERuRXTqxdiBw9G2S+/oPDTT5E2fbqy3VZaiqoDB5TLUd3ZEEdEzUOCQmf0y1BCR4ePlaNNgjpa0mib1rGKalPX6dmaU2TausiIcECn2S7SEm644cwV+QrKfvn6uvp6juiahrlQw896ZF2geGfNrkbNcA3Jflk3fYzrQLd8vxlhdJ2338tGuGu1M/KYExERERERERERUeBgQxwRBawPPvgAs2bNwoMPPoiNGzcqgbjx48fj8OHD/j40IiIiQ5Iuvqh2bKrdrr7MXpGttu9YUlIQkZLi1+MjInPewNG1a1fExMRgxIgR+PHHHxEoJLgzqnsaJg7poJx7FOSp+Zll2jodZVU2U9ZJYKqgtEp3jex310xmRsNZuMXY19roOl/YnV9qyjoJrBlhdJ3X38sGmNlqR0RERERERERERP7HQBwRBaxnnnkGM2bMwNSpU9GvXz/Mnz8fcXFxeOONN/x9aERERIYknj0BYXFxqNy1C2UbNijbKnfuVM6jOC6VKOiF8hs42jYYUentOj0ndE01ZZ1ZzWRm3E5ucYWh2zC6zhe6pMaZsk7a29olxSitas7Idtkv6wKF2a12RERERERERERE5F8MxBFRQKqsrMSGDRtw+umn124LDw9Xrq9Zs8avx0ZERGSUpVU8EiecrVwu+M9/lPOKLHWEXnQ3jkslCnah/AaObumtTF2nZ8qJXRHmpvBL9ss6Penx0Ybuz906MxrOmqMlrbldPaor3BWvyX5Zp0fa2x48r59yueHNaddlfyCNHg3Gx4uIiIiIiIiIiIhcYyCOiAJSbm4urFYr2rZtW2+7XM/JyXH6MRUVFSgqKqp3IiIi8reUiy9Wzgs/XYJdl1+B4m+XK9ej2RBH1KLewBFsf6uaFY4yIioiHNePydRdI/tlnR6bwfGt7taZ0XAWjC1p8vWd4eZxmGHgcRBnDWiHlyYPRUaDBkG5LttlfyAJxseLiIiIiIiIiIiIXGMgjohCxpw5c5CUlFR76tSpk78PiYiICDGDByPlmqsBiwVlmzah4s8/le1RbIgjalFv4Ai2v1XNDEcZMXtCP9wwNrNRCE+uy3bZ78667DxD9+VunRkNZ8HYkmbW46CR0Nuqu0/DezNG4vnLhyjncj3QwnDB/HgRERERERERERGRcxEuthMR+VV6ejosFgsOHTpUb7tcz8jIcPoxs2fPxqxZs2qvS+tGoL/QSEREoS8sLAwZ996LtOuuQ+Eni1Gw6GOERUQi9rgh/j40IvKhYPxbVQs/vboyGzaHUjXJBEkYzpNwlNH7u/3MPnhnzS7szi9Fl9Q4pYHOeOguzLR1WsPZw59twcHC8noNZxKMMhLqMuM2/MH7x6GOBMhGdU9DMAjWx4uIiIiIiIiIiIgaYyCOiAJSVFQUhg0bhmXLluGCCy5QttlsNuX6TTfd5PRjoqOjlRMREVEgimzTBuk3XK+ciKjlvYEjWP9WNTMcZYTc7vQxTRspLcGruct3GFpnhASgzuiXgR+z83H4WDnaJKgjMz1pCTPjNvzBm8chmAXr40VERERERERERET1MRBHRAFLGjSmTJmC448/HsOHD8dzzz2HkpISTJ061d+HRkREREQtXFPewBGsgiUcNbJbGpLjIlFQWuVyTUpcpLLOlw1nwdSSRny8iIiIiIiIiIiIQgEDcUQUsC677DIcOXIEDzzwAHJycjBkyBAsXboUbdu29fehERERERHxDRwBGGR6YtJAzFy40eWaOZMGsu2LiIiIiIiIiIiIKMQxEEdEAU3aNUKtYYOIiIiIQgPfwBGYIy/nTx6Kh5ZsQU5Ree32dkkxePC8fsp+IiIiIiIiIiIiIgptDMQRERERERERNRHfwBF4JPR2Rr8M/Jidj8PHytEmIQbDM1PZDEdERERERERERETUQjAQR0REREREREQhRcJvo7qn+fswiIiIiIiIiIiIiMgPwv1xp0RERERERERERERERERERERERERmYyCOiIiIiIiIiIiIiIiIiIiIiIiIQgIDcURERERERERERERERERERERERBQSGIgjIiIiIiIiIiIiIiIKYPPmzUPXrl0RExODESNG4Mcff9Rd/5///Ad9+vRR1g8cOBBffPGFz46ViIiIiIjI3xiIIyIiIiIiIiIiIiIiClAffPABZs2ahQcffBAbN27E4MGDMX78eBw+fNjp+tWrV+OKK67A9OnT8fPPP+OCCy5QTps3b/b5sRMREREREfkDA3FEREREREREREREREQB6plnnsGMGTMwdepU9OvXD/Pnz0dcXBzeeOMNp+uff/55nHXWWbjzzjvRt29fPProoxg6dCjmzp3r82MnIiIiIiLyhwi/3CsRUTOz2+0oKipSLmvnRERERKFA+9tG/t6h4KU9fvxblYiIiEIN/141V2VlJTZs2IDZs2fXbgsPD8fpp5+ONWvWOP0Y2S6Nco6kUW7x4sUu76eiokI5aQoLC33292qx1erlLRT5+f4D4RiC+/4D4RiC//4D4Rha+v0HwjEE9/0HwjEE//0HwjF4d/++eKqMf68StQwMxBFRSDp27Bg6deqkXNbOiYiIiELt752kpCR/HwZ58fgJ/q1KREREoYp/r5ojNzcXVqsVbdu2rbddrm/bts3px+Tk5DhdL9tdmTNnDh5++OFG24Pj71Xvvs+G7wiFYwju+w+EYwj++w+EY2jp9x8IxxDc9x8IxxD89x8Ix+Dd/fvyz0f+vUoU2hiII6KQlJCQgIKCAuUPGbkcFhbm70MKCfKOCXkSbO/evUhMTPT34RAfk4DDxyOw8PEIPHxMzCHvXJS/cdq3b+/vQyEvyOMn/xZc/a3Kfy+BhY9HYOHjEVj4eAQWPh6BpaU+Hvx7NThJA51jq5zNZkN+fj7S0tL8+txqIPw78vcxtPT7D4RjaOn3HwjH4O/7D4RjaOn3HwjH0NLvP1COwQz8e5WoZWAgjohCkjxJI4l+pvqbh/yRG8x/6IYiPiaBhY9HYOHjEXj4mHiPf+MEPxlz1bFjR7fr+O8lsPDxCCx8PAILH4/AwscjsLTEx4N/r5onPT0dFosFhw4dqrddrmdkZDj9GNnuyXoRHR2tnBwlJycjUATCvyN/H0NLv/9AOIaWfv+BcAz+vv9AOIaWfv+BcAwt/f4D5Ri8xb9XiUJfuL8PgIiIiIiIiIiIiIiIiBqLiorCsGHDsGzZsnrtbXJ91KhRTj9GtjuuF19//bXL9URERERERKGGDXFEREREREREREREREQBSkaZTpkyBccffzyGDx+O5557DiUlJZg6daqy/5prrkGHDh0wZ84c5fott9yCk08+GU8//TTOOeccvP/++1i/fj1eeeUVP38mREREREREvsFAHBERGSZjEx588MFG4xPIf/iYBBY+HoGFj0fg4WNCZBz/vQQWPh6BhY9HYOHjEVj4eAQWPh5klssuuwxHjhzBAw88gJycHAwZMgRLly5F27Ztlf179uxBeHjdQKATTzwR7777Lu677z7ce++96NmzJxYvXowBAwYg2ATCvyN/H0NLv/9AOIaWfv+BcAz+vv9AOIaWfv+BcAwt/f4D5RiIiIwKs9vtdsOriYiIiIiIiIiIiIiIiIiIiIiIiAJU3VuGiIiIiIiIiIiI6P/bOxN4G6v2/S9vypS5gfKSVMpcEUpFGStTZC5FgzSgSEoRJVQqMkZJ4a1EymvILBGhKLMyRkQSlbHn//ne73/t3z6HBs6ezjnX9/M5OfvZu/Os/az1rGete13rup0QQgghhBBCCCGEECL1IkGcEEIIIYQQQgghhBBCCCGEEEIIIYQQQog0gQRxQgghhBBCCCGEEEIIIYQQQgghhBBCCCHSBBLECSGEEEIIIYQQQgghhBBCCCGEECLVEARBTM936NChmJ4vtfLHH3/EuwhCCGFIECeEEEIIIYQQQiQYAwcOdBdccIHLnDmzK1++vFu8eHG8i5Qu6d69u8uQIUOSn0svvTTexUo3zJs3z9WuXdudd955du0//PDD4xY/nn76aZc/f36XJUsWV7VqVbd+/fq4lTe918edd9553P1Ss2bNuJU3LfP888+7cuXKuezZs7tzzjnH1atXz61duzbJZw4ePOgeeOABlzdvXnfmmWe6Bg0auJ07d8atzOm9PipXrnzc/dGmTZu4lVkIERm04C8SibTcHhPpuyVSWY4dO+bSKxs2bHCff/65jalixbZt29wVV1xh/yYq33//vf3EQywIu3btcr/88ov7178kQRFCJAbqjYQQQghxwgll7969410MIRKWffv2xbsIQog0zLvvvuseeeQR161bN7ds2TJXunRpV6NGDQssithTvHhxt2PHjtDP/Pnz412kdMOvv/5q7R+B6Ino27ev69+/vxsyZIhbtGiRy5Ytm90rCIFE7OsDEMCF3y9jx46NaRnTC3PnzjWxG4uA06dPd0eOHHHVq1e3OvJ06NDBffzxx+7999+3z2/fvt3deuutcS13eq4PuOeee5LcH/RhQog/B5H7rFmzXCKyZcsWd/To0bgt+BOToK+JBZs3b46LqOJEHDhwwCUSmzZtSoi5gRe/0B5jVVe//fabi+V1Hj58uFuyZImLN6tXr7a5RyLMN4gVPProo8eNN+IBdcQGgVj1S7i0sTHq/vvvtzFVrOD+ou6feOKJmH3Xk70ulSpVsmsDsRQLwu7du22+MWLEiJieVwgh/goJ4oQQQiREEGn06NG2mPXFF1/EuzjpnhUrVpgTzWuvvWaTGJEYk9lE2n2Y3vnqq69cqVKl3MqVK+NdFPH/0T0i0hr9+vWzRfO77rrLFStWzALuWbNmdW+88Ua8i5YuyZgxo8uXL1/o56yzzop3kdINtWrVcs8++6yrX7/+CRcjXnnlFde1a1dXt25dezaPGjXKRD/JnctE9OvDkylTpiT3S+7cuWNaxvTC1KlTzZEPwS4ixZEjR9q8eunSpSGhBAtRPE9uuOEGd+WVV7o333zTLViwwERbIrb14eFZHn5/5MiRI25lFiI1zLtx4UnutpgILF++3BUtWtRNmDAhLuenb6G/WbduXUzm2k2aNHEXXnhh3EVxfO9ChQoljBvwl19+ae2A/j6e4MR0yy23uIcffjhmApiNGze6Vq1auTVr1kT9XF9//bVteOFZG+8NYtz73HsIonByj3dZiN8zV2VTULxhXYdNM7QNiHZ/wZyjWrVqbv/+/SHhdCzigjhl33fffXb92QSRaHBdHnvsMffRRx+5iRMnxvz8efLksTbJpiifWlbxWiFEvJEgTgghRFxhUnvNNddYcB4XlE6dOllAQcQHJnMVKlSwRcXff//dvf322/EuUrpn1apV7o477rCFq3gHH8X/7pGrr77aAsIEwUD1El90j4i0xuHDh22xh9SPHnb683rhwoVxLVt6hUU3At8sBDZv3jzui17if7DY8sMPPyS5V3LmzGkLQ7pX4secOXMsZSQLxDg27NmzJ95FSlfuxSxCAc8RXCvC7w/SPRcsWFD3Rxzqw8NGQETVJUqUcF26dImpu44QqW3eTazwwQcftGdJopWtYsWK5uZ82223JXkvFvNRzl+lShXXqFGjJDGJaJ37jDPOcC+88IKl3kZcHa85N98bgXfLli3dxRdfbMfiOf+nPNddd525sTZr1szFE+aKiEcp0zfffBOTc+LI9d5777mZM2dGtS4Q3F1//fXmOMXG7ZtuusnFU6RLPJDnN/d/IvRDnTt3di+++KJLBLp3725izJ49e0ZVmBne1thASL/EBinGVNwL0RBf7d27N/T7aaedZoI4oE0mIggFy5UrZ5kHdu7cGbPzUjfUwZgxY2yuTvsEpU4VQsQb9UJCCCHiBrs8SSNCMGPSpEnmtsQP1uMiPhN7JtPt2rUzBxoWfAlueNt9EXuYPNauXdvSHBFkwwpfgp/4QWCRe6Rjx46uT58+doydiN999128i5Zu0T0i0iK4sx47dsyde+65SY7zGvGPiC2Iq3D6wZFg8ODB1u9ce+211v+L+OLvB90riQPpUnHpY3GUsRJpJHGVo08T0YOFv/bt25t4BKEVcA8gYsiVK1eSz+r+iE99AIKJd955x82ePdsW09l81qJFi7iWVYhEzVqA6IT7iPR7Hpx44u0M5jfIETd77rnnQsfJdsG9H21nLi+Ceeihh8wB1MO4NFrn5u/ynV9//XXbOBsPUZz/3ggkw7/3Tz/95OK1uZvy0EZ79+4dOk7q1HiUCbEi6RspVyzSFFL/tIkePXqYExVpTKPR/nBhI+0jz0/6AjYoAYL/bdu2xdQ9knggz3U28off+zzXiUPFuo/0Ykycmz0YDTBfjSXhfQGut6+++qqbPHmyGR9Egw0bNrihQ4cmWaugT8CRjNT10RBfffvtt+6SSy5x9erVM4dChHdswqJPZEyXCIJEyjhjxozQ64suusg2cn/88cehlM7RnI8hkOWe9O2BzR/0DdOmTXNTpkyJ2nmFEOKfIkGcEEKIuMDk4aWXXnJ16tSxHUQE65nYssuRQTzH2E0iYgOLu1z78IDjjTfeaAJF3JdA9taxdwhikYRgI4EXApykIwgX/Ej4EzvYDcjOQxYRCfoBC1jcN5dddpm5KsYrXUp6RfeIECIWIObB/YN0nKTqIcD/888/26YBIURSWHhhfleyZElbNGLTEyIBXONE9GABkLHQf/7zn3gXRfxFfdx77732HOH+YPMZ4lHmD8Q/hBD/Y+vWrRaLIv1juOgE0Ufr1q3jKrAmbnbVVVeZCIW4mY+R9erVy7Vt29bEANGE2BwZHZILcp566ikTZyEeihQIp8PTayMwYd791ltvuQMHDsRUFMemaZyOEEaFf29+Z8wRa6dNNkRyvRs3bhxywvJt9Oabb7Z5QixAEBTu+FqkSBH38ssvuyFDhkQtTaK/1l781rBhQ7sWuGRFQwiIyIm2iMOtB4ENQhvcEZmn4YQb7baIwxYCwEqVKpnozMPmD7IVxLJfQpTKdUeQFX4/9O3b19ZZcAKOFQgSEanOmzcv1B+WLVvW6mT8+PFu06ZNEY8B8hygv2We4ecX559/vjm2EQukfUQavtvRo0ctBentt99uQjjGeTwPKAsubIsXL3bxdCWmLJhO0AY+/fRTO07bbNCggY1LacM420XjXmFDJ7ESzoU4kBTOrPPRH2bNmtU2MHOPKD4rhIgnEsQJIYSICwzCEZAwcWCCS3CFQMK4cePcunXrQq4CCLRE9KEO+vfvb4E8D/VDIPKZZ56xCbfsrWML1xtXGgIdxYoVsx2A7IL0gp9Y7D4WSeuDeyJv3rzWb5Gqg0BnmzZtLCiCYI5diewOFLGrE4I+ukdEWoPdtIyTkqe24HW+fPniVi7xP3BbYoc4u9NFfPH3g+6VxIU0w/Rpul+iBwuRCA8ZgxYoUCB0nHuAhcPkC/O6P+JTHyeCuR7o/hDi/2DRvHDhwibu+uyzz+wYDly4Dg0bNiyJMCaWsJCP+w7PNN+vMh9FGEc6UcRQyYUokV78R1Rw6NAhi0V4uDZcF+KnmTNnjpgoEXdLBEBsAMR5bNasWRYXZP5N6mcoU6ZMTAQOiPAQoyD2CP/eiL8QySG4iCU//vijxRmYr+Fc58VIxFQRxjD2SU6krxNtkBSppM1FHOZBSEpK0eHDh7stW7ZEXBDKHIi416JFi+wY9yNCb0RI3iUtkuIwBHhcb2I9iK+433BnpI2yhkCazM2bN1sWh2jCxlhEXoyhfPtHeMS9z3dHsBkrsmTJYnVAGyA26e8H+gBE9oiQYgH35KBBg8yRjv6ZDcT0EfSDbABgXQeH9UhusGftAkEajtSIctlcQBtAGIroi3sSsVok7jv///I9SdHM2ghrVNQ1aXyJO/L92AzE5txIf9eTAXEk1zx79uz2nGLjsF9P4/rQJyGepH6iESPlPi1atKjd+9ybiCLJQkSclnUm3PYZG3NuieKEEHEjEEIIIWLMH3/8Yf8eOnQodOzrr78OzjzzzGDixImhY0888URwxRVXBD/88ENcypleOHr06J/W0ahRo4ILL7wwWLRokb0+duxYzMuXnjl48OBxry+77LKgVKlSwZIlS0J1NWfOnDiVMH3x008/BS+++GJQqFChoHLlykn6pp07dwYXXXRR8NBDD8W1jOmN33//Pclr3SMirXDVVVcFDz74YOg1z9/zzz8/eP755+NaLhEE+/fvD3Lnzh28+uqr8S5KuoMQ1oQJE0Kv6d/z5ctnz2bPvn37gkyZMgVjx46NUynTb32ciK1btwYZMmRIMscTkYH2/8ADDwTnnXdesG7duuPe//nnn4PTTz89GDduXOjYmjVrrN4WLlwY49Kmff6uPk7E/PnzrT6WL18e9fIJkZrgHqpZs2ZQp06d4J577gnOPvvsYNq0acd9buXKlTEpz+HDh0PxgNdeey0oXbp00K5du6B3797BWWedFUyZMuW4/ycasTP+5t133x1kz549+OKLL4K+ffsGefLkCT755JPjPnvgwIFTPs+mTZuCMmXKBEWLFg3Kli0btGzZMsicObMdu/3224N33303eO+99+z9KlWqhOKHkYZy+OvfrFmzIFu2bNY2BgwYYN/7RG3iRPHNSPHbb78FR44csd9nzJgRXHDBBcG9994bPPzww1YejiXnm2++iUpZGO9SL9WqVQsuueSS4Lrrrgs+/PDD4Ndffw2mT59u5XnnnXciek3+85//2JiuevXqwV133RV069Yt9B73KnEYTyTbxMyZM4OMGTNaHI62P2TIkGD9+vWhtkF5uBbRYOPGjXbP++f6bbfdZvd/o0aNbD7o40zh33fq1KlRWcfYu3dv8Msvv4ReT5482eY8lIc+0vcD4WWhzpYuXRpEC75//vz5LUZx3333WR2NHz/e6oX5GfXl++lItQnmFldffXUwYsSIYNWqVcH9999v8dmXXnrJxrf/+te/bC0jEnP+5N+V5xLXnb6AfihXrlxBv3797Di/s7YVa/zzacOGDUHbtm2DZ555xurg+uuvt/6bcrdq1cqu2eeffx615xP9D+1xwYIFQc+ePYOSJUsGXbt2tTrhX54X/r4VQoh4IEGcEEKImOEDB3/Gjh07kgzMmdwUK1bMJn0i9vXhP3PxxRcHd9xxR0zKlN4hePXjjz9a8DJ50MrXFwIgL/hhYtmmTRsLgOzatStOpU4f9eGv/+7du4PXX3/dglw+oOPrqnnz5sEtt9wS1zKndXgeEOihvVM//plBXegeEWkJgtcEFEeOHGmBXhZbCLJqk0DsefTRRy2QzILIZ599FlStWtUWP9WnxAYWI7788kv7QTjCogO/b9682d5nMZp7A8HVihUrgrp16waFCxc+TjAtol8fvNexY0d79nK/sDDM5ibmEsk3eYiUwwJgzpw5rX9iHu1/WKTzMAYqWLBgMGvWLNsoULFiRfsRsa8Pxq89evSweuD+oM9i4xkiBiHE8axdu9bEPlmyZAkJ35nz+Tn4U089FRQoUCDq8ULEF4hgvNCB87EpokSJEiYO8iIUL0rwY8cbb7wxVOaU8P333wdz585NsqH4zjvvtHNzbRALJee5554LXn755RQJoRAu1K9f38ZViCh4zrPZ4JprrrGNO1mzZjXBA+Xgc5GGcUP58uWtn+QaMuenHhC7IM7zm3bDry9CkDfeeCOIBnz/G264wcQwvq4RniGKo0yDBg0KfTa8jV577bUmpIwGCN5pZ4i1ECTdeuutdo22b98ePPbYYybQ3rNnT5IypZSmTZtanB4RKP8S/6J9MEdCfEPbjwZbtmyx5yfxuXB8u0BwE94/RALmFYgNad+IfTyIM2n3XGO/fuHPy8b+f//739ZvRJLVq1dbf9ipUyeLSXrof/LmzRvUqFHjuO/ONaGc3377bUTLkrxf4b4rXry4xecQpdEmaCcIxviX9QQ2aaTk3iMGGw7jWkwV2FjA/Th79mwb7yJMK1KkiPUbKRFMM36jHqlPP+cEhF7EAbZt22avP/30UxOb3XzzzXata9eubdcnWiLhcBhLcq97uA7du3e39umFkwhXiVMjGKV8/B4puBe/++67JMeYBzZo0MB+/+9//xu0b9/enpW0iXLlygXPPvus5oRCiLghQZwQQoiYwAS9c+fOf7lbOvmEgV12DRs2TBLUF7GrDz/JZeJJEGDx4sUxLGH6g52jLLIzWeSHIGv47j/wgTcmkAQf2SVJEDSaO/7SK8nr45VXXgkF2+mTwgPeQCCMYPGTTz4ZpxKnfXDPQOSGEx8BLp4PBAbBByJ1j4i0BEFkArtnnHGGLTz5Hb0itjRu3Nh2vlMPuPTxGmGDiA0scCC8Sv7jnSCYP7DgeO6555qIlIVBFtFF7OuD8REuHbhU4EyGSwTOPhLyRocT1QM/b775ZugzCENxi8DFBPECi7p+E5qIbX2wmI/4Ddce+irGsyxs4/IjhDgxjLd4rtSqVSuYN29e6DjPfURR3hE8miCEQeiD4MHPPYkL9O/f3+abuCKF8/TTT5uTWSTG7cQkLr/8chO7hP89xj4ID3jWJhfE4dqF8AGxekrBVZRzI8QJjwfy/XFgQixC+ZYtWxZEGr4jYhOENldeeWVoAxziY8bkOOSFxwEQgvC9o1EWYIxDv41ID8G/jztQRkRxiH7CYw60A2IRkWyjiF+ok3AQuCB05/og2sS5MEeOHPZ84V/EOuFiypOFuEq4AAoRDm1i9OjRNsZo0aKFiZ6aNGliZUEQFKvYC98L0dfJOLP+U7jXGTs9/vjjJkpNDt/10ksvDd56663QRk3fL/m2GUlhHqI3slF88MEHx73PZl3OS1/kNwTR/hj3RbosXGcEcF6QCgj0qP8XXnjBXuMQ1qdPHxOsMT+j7CcS7v7T+w5XTOoCF0LmeP5609dRD158yGfpF9mIw+fDxWInC30c35ONDghhERh7mPPw40V+zHMQ6PGMoK5iAfclDnD0eYgQvfiPzdxsDmYzZfgzjA0ZfJYfhGwpFexxfYjJMu/2TpRAuyAu7gWkZFJBRIxIkXMjivP1J4QQsUaCOCGEEDEJYp1zzjk2GWd3yN8tIjI4JrDCYkq07OXTMydbH0w4CdozyRLRAfcf2jsBDlJPsXjIJPZEIkTvgoXjA4GFWKUJSU/8WX2EB33CIUCIEA6hRKQDceJ/EOQiLV6HDh1sMQDBKIFYXIF82i8fqNU9IoQQQgghhBBpJ30qcz/ETggtYiWG87z//vu28E8ZwkVxzElxIm/durUd69WrV8TKRiyUuS4uVCcSWSBoQJSB6MSnbEUEQ+wukoIkrj/fmx+fHvJkM0+cKojdmOuzQdeL4pjzk64S0SGuZIAoKtLfG7xoxAvKENwg6MD9NlwU59OnIs4hfoqQhnYQyfIgvqENEhPBGc6LSigbdcN94cuL0zgiRgQoiLZO1UURITftm01aCFsAN2DENaTOpX44P46niO+94IZ2GG3efvtt20SP4CrSIkhEZbjOkQY9HOobQaDfWIDoiLZJfSCci0a/RB0g8Pq7jbeTJk2y8xMv47PcD9HoIxECs1EMoSrtwjN8+HBrc+GbYIjbIdZk/SG5k9g/gWtNembSf+I2RltGlIrwkPPgYknbp/156B8QAXLdIgGxRDbicl7SsiJIJV00fS8OkeHEwhUO/P2MKI41HZwaEW3j4AmIoemjEK2GQ3mJdacU/z3HjBljQmCElwhv/bMRoSLlSR7PpV9ILugVQohYIkGcEEKIqMLuFOya2TFGUIDdgw8++OCfirA++ugjm1jgiBKtnX3pmZOtDw8pKiROjA6kT2DXMwGkcJjAIug5EYgTo7n7NT1zsvVB0IHUFAQmVR/Rgx2lBMF9yg+g36IvIwDjr73fIa57RAghhBBCCCFSP4iySLmGsAJXtFiK4Tws/p9IFIdAhMV/XFEjJYghJoGQBJev5CCEChdeED9lExgxCURi0bg24aJEL0KLBgiN/Ga3cBESGxNxGCIm49On4tiMC5SPB0Tje5/IyYhjxCVOJIpDuESaxUjXg3f9Ij0mIi1StFLvxM9hxIgRJuBCIBQeK0GkdKquyQiK+K44f+GEGO5W7kVavXv3TvL/DBw40K5NtGPHiGoQJ+F6GwmBz4lEnqS6DRd84cKG+IiN5aRq5n4D3MuIOyFMjYYzHo5wlGXXrl2hWBff32/cJaMLwjFANOZFiZEuC32Svx+4HxHq4oCIa9u0adPsOH00P8nvaS+mPBkQAdPGcBvzfx+xG+2f/pb+gL6COkGshlAzWhCDRHDI+gmuaIgfaefhLmyxgnaAMxypRz30A74dIs5GIIholXJ68WakxHq0NZwAN23aZK8RJiJYxKWR60PqZuD+xM0zHN9+hRAiXkgQJ4QQIqowkRw6dKjt3gImlH8lwtq2bZtZUSsVVWLUhyYs0Ye0Buw4mzt3bpLdpwQ/2WV1ojohuCEnssSoD3Y6sjNVO92iC4HA00477bi0a6SvoL4IiPldoAR7EMLpHhFCCCGEEEKI1A/zbcQX0Rbb8PdJA8miP7EB0gF6EBogRkAY5l3Ice7CnQvB0FdffRWRMiA2KFOmTBJRFUI0HOgQZJCWsl+/fqH3cOmJ9mYwL0qsUKHCcaK1SMBcHmEf3wMxRZcuXWxTnE8rTfYErgmOZd4prkGDBhF3YvMgeuRaEysdPHiwiWJ8WRAGIVgsVaqUuS75mBG/c2z58uURK8fmzZutzYWnnKQdIgrCGerRRx+1mAiv+T2cUxXBIMDDCY/vAjgDkraYuiEuRl0hjiNDAkLA5JuwYwEiK5+yMtJQz7iRITij3+G+K1q0qLU3XCERICKAZZM5INKir4gkPvsB9znX2UN6SsSphQsXNnc670yIYA1ILX2qIsi/uhdwf3vkkUeSbFClDSAMK1GihImf+Byvfar4aKWrpS9EqInwlDIhUmRDc3hq32iBAI/rT51wPyBIjCX0B4jeuD/79u0bOo57JcI42kSVKlVsnYe+0ruHRgJEivx9nn+45CUX6nEfIGJELIwbXKVKlSyVrBBCJAoZ+I8TQgghosjBgwddpkyZXIYMGex1//793ciRI90111zjOnTo4C688EJ3+PBh9/PPP7tzzjnH/fHHH+5f//pXvIudruvjyJEjbt++fe6ss86Kd3HTPAzFxo8f7xo0aGCvffvv3bu3+/LLL927774b+uyvv/7qsmXLFsfSpn1Opj7279/vsmfP7o4dO+ZOO+20OJY67fPDDz+4unXruhtvvNF16dLFrrvn888/dw899JBr3769a968eVzLKYQQQgghhBAi8hCnOv3006P295nXV6hQwS1dutTly5fP4i9lypRxxYoVcw0bNnSVK1d2H3zwgXvvvfcsFvDaa6+5iy++2P3yyy/2/+bOnTtF51+/fr3btm2bK1SokLvooossLlGvXj03aNAgi9kRx7v88svdt99+a/PjPn36uKpVq7qjR4+6vXv3urPPPttFkzVr1rinnnrKvfTSS65gwYIR/dubN2+27/r777/bXL948eIWe7n00ktdyZIl3S233GIxzK5du7p///vfbsaMGRbbJG557rnnukjTuXNn98ILL7g8efK40qVLu6+++sqVLVvWVatWzcrJ97/uuutclixZ3BNPPOGuv/56d8YZZ1iZMmfOHLFycD1KlSplbYv6rlSpkt0D69atc1OnTnU9e/a0NsFnhgwZ4saOHetq166d4pjY/Pnz3X333edy5szpFi5caMdffvllN2zYMGuHXAPuR+6R7t27u1y5crm0xKxZs1yNGjXc+eef73766SdrC8SiuC/53rRH4uWjR4+O+Lk3bdrkpk2bZjF62tS1115r5+V8lKtt27YWG7v66qvdK6+8YmWbPn269VOR5uuvv3ZVqlRxzZo1s/7v1ltvTRIn3bVrl/WHAwYMsDUd+k3uDdoi1+5k4f654447bG2I/tXDNd++fbv1s6xZwOuvv27Xf968edZf0GZpr9GAe8KvocyZM8fuPfrlxYsXWx8VS2gf1Dvfm/jno48+GnqPfoF+c/LkyW7RokWuRIkSbtmyZRav9uU/1b6fvufuu+92jz32mPWLHt8WfvvtN/fNN99YPzVx4kQ7TtmIpSteLoRIBCSIE0IIETPCRSPhIqwHHnjAJkuIGhjQM7lPyUBd/DNUH/EnufgzfJJNoPGzzz6zgAf07dvXgg1MLjWZTJz68JN73SPRh8DLzJkz3cMPP+waN26cJNB8xRVX2OIFQSkhhBBCCCGEEOKfgpDg0KFDFgNo1KiRiZ8QWSC2Gjx4sAmvEGUgiNqxY4eJEhABvf322+6CCy5I8fkRXCF8Ib5ATI7NXsTpLrvsMhPK9ejRw9WqVcvEWVu3bjWh3tNPP+3atWvnYgmbmRHpRIMNGzbYnJ+4DJvg8ufP7xYsWGDCGK49YosiRYrYv/Xr1zdxYqRBmIcgkbbQqVMnq/tPPvnEvjdCGARnlK9o0aLukksusffLlStncToEQ+ExpFPF/w1/rRHFIbgjhkscit8zZsxo5di9e7dr1aqVtUk2cDZt2tS98cYbJlpLCfxtxD4tW7a0TbmIRCkToqMpU6ZY3IV7gvcQbyHOSmtwnxHzoz2Ebxbn2jRp0sTaAPclRCoeiAAN8S19T+vWrV316tUtLj9ixAirf+53+gC/UZr64HMTJkyIuCCO748IkP7w2Wef/dPPcW8iEKY/ol0gllq9evUpCXQR995www12zgcffNCO0b4QoNGu+dsI4hDEcs1XrVpl1wfRHvURTZLf2wihc+TI4aINQjPu5/B1APpK+kX6JASEjzzySOg9+gvaLWJZNg7TXlIC/dDtt99uYkMEseH1/uOPP1q7zJo1q8ubN2/oPdaUEHS/+uqr9gwTQohEQII4IYQQUSd80hC+o5PgDsEjdlsxWJ89e7YFnUR0UX0kdp0QACC4RaCLnZgENhBjPffccxYkZeeniC6qj8QUKvIvgTF2JxIcu/POO0OiOBz92BnNjnEhhBBCCCGEEOKfwLyezaGI0RAQIDJBZIAjTrdu3UzwhgMbm0gRwr3//vsmBGAuunbtWnMsSwnLly83QREbv55//nk7hvMWQo/vvvvOnKpwiPKxCmJ2zH/vv/9+2yiWluB6Ivph7k/MBbEZ4D718ccfWywAQRYCIeb/kQQRHGIz6hbBCUIPHJgQ5PBTvnx5ew8RGoKPAwcOuDfffNPEICtXrjThVKQEMPzN5MdwpKP+cQSjnOECGVyhJk2aZG51pyJAwXGQts0mQw/xYkR2LVq0MCc87hPiZHzvLVu2mFsUAi6OI1RMDyAOQmiEOAsxEg6RkYK2TT+AMx/90HnnnZfk/ROJLRGQEqf86KOPUuxQmRwETTiRITxF7ERMjvsTsRv3IOsFOFQWLlw49P/897//NTHfqYqEEZlxnyEOxl2MMrz11lvmdEb7P/PMM62PxKEPx0KIhAg1UeFa0/8jgGYTMM6ACP/oH1i36dWrlz0nEGjSFiCSGUzoE1kzqlixoj1viMECAkX6Y9aQqBPqjLKE9z0n6seEECKeSBAnhBAiqviBOBNmBsnJXZiYbLMTc+7cuWaDL6KL6iN11Amwk2rFihUWVGPCT1D2yiuvjGtZ0wOqj8QjeUCHHdAsGhCUY8csgUPSNMQjXYEQQgghhBBCiNRJcjGaF1eQMQExFCIE3Mr417Nz504TQCECSqkIihgDYgMc4RCAeXAlQwSSXBQDbNBDAIV7ekrFeIkIjngIgoBrj/grHL9pMdJQ92QFaNOmjYkdv/jiCzuG6xpiM0QgCHXCQRCGEKlAgQIRKQOxjZtvvtnddNNNJixiQyDfFScqBCYIkBBLIgZKLoo7Vfc+nMAQFyK05G/SHjkPgifOy3VApIVAjvbqxUeUgx/SW6YH3nnnHbsW3HsIwiIpyPyrVKG4//E+olhi97RJjhGjJG1opOP3Pv5GGyM9MmmcgfSkXANEcYikKBt9J+XFPSxSorR/kq4W90gEymkZ7me+O/09cU6EuPT3iHJ5NnGP4lw4atQoa5fhrnqRgHqvWbOm9Xv33HOPXXvawNChQ+1fNodTFzjSDR8+3NLp0l+zxqSsNkKIROT/ckIJIYQQEYQJGkEKBsFYzterV88EJMAEjoE0A2oEDBJfRR/VR+qqEyCwxG5TnMkkvoo+qo/ErxOCswSc2Q3OrnFSMIwbN87t2bPH6kRiOCGEEEIIIYQQ/wTEPQg6EKN5ZzZEHQgAiIkh/li2bJmJEhAceEijSlq/lIrhfEpCRAXhYjgcqEiDiFtSOJ9++qnr2LGjCVDYEJYWxXCA69aAAQOsLqgX0qaGEw0xHHA+2gPiDlJA4k7HMdKk1q5d21LW+rIgGgLaSaTEcEDMaePGjXZOnAi5Frfddpt78cUX3fbt282VDLc22gi/+3LAqaayRcBCWyIFLBtDOQ+iPOIviLQoD0IX4sa0V++vQtrO9CKGQwRGHIp7lmwqkXYnpE3j0hce08KVENcv2hjCJERigACKesGNDfFYJOP3uATS/klLTBugznHPxJkMoSgiKC+KQ0RMG6S9RNKhjb4VZ0yc6fgXMaZ3yCQ2iPiO9ko7TKteP4jRuO5cc1LRcn3JhoEIklgoguw6deq4Dh06WDsgJoqjHm56kYJrS3/A+REoE5Ol3SOU5DmEoyoplSkjdeLTKksMJ4RIVCSIE0IIkWKY/EycONF2SREsAgbBTOiYvLCDjp2TDOY97CZit9miRYskvoowqo/UWyek5PDky5fPAqwEXiW+iiyqj8SDICuBFVJ8YL1/ojohOIgFP8cJALIrEQEviwFKXSuEECLWsAjEM4k0XimB9DMI8ROdypUrm2jgz+jevbtdD35IsRRLuIb+3B9++GFMzy2EECL18WditGeffdY2iyIMwSkLgQEbRxEiEC+LJIiZSDeI+xPOZIDIoH///ub8FC6OmTBhgnvmmWesDKTII4VeWgYhGNeBWCVCDxz7ogEipPC/zYZh4j2kAmR8R5yUscWYMWOsrSASIgYRadEHYhPo0aOHuTzt27fPBDCcF3dCRJAIhTg/5aMMxE58u0kJxLkQ3xUrVsxcuUiNiOCpc+fOFovBJYxxFoI7xr6k601vkKaS+CGCxVNJSft34P6H8xciXa49QlCET/RTiB9pC/RJ1A2ukbhxIYSKZD/A5lNEdwjxaI/0TbQ/2geOiRxHHIVoFLg3EEVGI10pgjfaOQ5o4Y5ppLCmzRMP9OP+tAhiNJxIqXfmV1zzwYMHW9ugPyRFLqLFu+66y1111VXWfshwwjMrUtDO2rZta20S0Sz9JP0EWYV4RhIz5ziiSYSxOJqmVYGiECKNQMpUIYQQ4lRZsWJFUKRIkaBs2bJBwYIF7WfSpEn23h9//BFUr149aNasmf3uCf9dRBbVR9qoE//e9u3b41TqtIvqI/FYvnx5UKBAgeCGG24Irr766iBDhgzBxIkTQ+9Xq1YtaNq0qfoqIYQQUWHw4MHBmWeeGRw5ciR0bP/+/UHGjBmD66+/PslnZ8+eTaQ/2LBhQ3Do0KFgx44dKX4+tWzZMqhbt26Q6HAt2rVr96fvd+vWLShevLhdk19//TUi5xw5cmRwzTXX/O3nfv75ZzsvdTNhwoSInFsIIUTaZePGjUG5cuWCOnXqBPPnz7djzz//fHDWWWcFU6ZMsddHjx61f3k/V65cwZ133hkcPHgwouVYt25dULNmTSvHPffcE5x99tnBtGnTjvvc1KlTbeyxc+fOID2xevXqoGHDhsHmzZsj/re3bNkS5M2b1+IPlStXDrp06RLMnDkz2Ldvn72/ePHioEyZMkHp0qVtrEd7qFWrVnD++ecHv/32W8TKQZsqX758cOGFF9p5GI82atQoyJkzZ/D555/bZ3bt2hWsWrUqePjhh4NWrVpZmbNlyxZs2rQpYuVYs2ZNUKNGDYu/8N09e/fuDUaNGhU88cQTweWXXx4sW7YsYucU/wdtj7lHoUKFguzZswdDhgwJ1q9fb+8dPnzY6uXuu++218eOHYv4fZY7d+7g8ccfD77//vvj3j/RXKdTp05BpUqVgp9++imINm+//ba1/XPPPTddtD/6mj59+gTFihUL5s6dG5ovEsseNmzYcdd869atwZ49e1J83uR/l/lVyZIl7Rn1Z+Xs2rWrxXN5lgkhRCKTgf/EW5QnhBAidfLtt9+ahXqLFi3c448/bjuXBg0aZLua2EXJTiF28LCjL63u2kkkVB9pp07YZcXOVBFZVB+JB7sL2Zl/++23285HUtNSP+x8ZjciHDp0yGXKlCneRRVCCJFGYbc9LiwLFy50FSpUsGNTpkxx9957r9u9e7fbu3evOSMAzgQjR44MOXlEAlw3cCFJdGczHOJwovgz9zee43yHr776KmLnxAGDOiFl1D+B8RsuOqnBcU8IIUR8Wb9+vaX9w/mKNKg8w0gHWL169SSfI3UpMQOW0XzqvkjPiXEFmz9/vrlB4QDkl+x4rjH2eOONN8zBKVeuXC69QYzmVNOB/hWM5Rgv/P777y579uyuePHi5gLGmJDMGTjC+VSFOFbNmDHDHT161JybcFKLFNQ1rlekHmS8SVYCjjVt2tRNmjTJUvjimB8ObSF37twRTdfq7wnSIwJpUomfhcP3j1bKWvE/58pdu3aZK1u4OxoxycaNG1vbxEUQIhXXx6ESxzVcvnAi9OD8tWPHDnuffo+YKO2SYzhm4mKJU2G0s8wwT+PeoL3j5hkNh75EgPkm39GDS+R1111n9TJ9+nQ7RopS5qudOnVyTZo0sX4rkvFy5lxkExo2bJg5zmXNmtUcUukHeDaRKtWDi6Z3jcM9MNJphIUQItJoZU8IIcQpByQGDhxots0MignKMAkqV66cDc6ZrAFBC4mvoo/qI23VicRXkUf1kZh1QtoXBHHUCdeeAFCWLFkssNK6dWsLtGH/L4QQQkQzDVL+/PktDZSH3+vWrWvpgsJTaXG8SpUqJ0yZilCO8QWLAizWsJBQs2ZNWzgKT4/2yCOP2Ofy5s1rQq/k+1THjRtnYxSeh3ymatWqJhgPT6/K8/Pss892OXLksEUinqkexjSkWqLs/I3SpUvb3wyHNDu1atWyMiICQJiO+M/D+Vgc432uDemyThWu0dChQ21hmYUVrg1jrw0bNpjIjg0JjM9YiAmHBbhPPvnE1alTx16ziYEUaiwWU+aGDRuecpmEEEIIninMNxFEIYQjRSRiOJ7L/tmMGAoRCs+daIjh4JJLLrF0eIieZs6c6T799NNQOkBSFPbp08fEeulRDAfREMOdTKpQNufNmjXLUoUiBoukGA6oZ8ZBw4cPd/v377cYFcfGjh3rateubeO1BQsWhMaRwDgx0mI4f08MGDDAzs9Y0p/XIzFcdPmrVKHURTRShVKnpA4OT9HMXIY5Cu2MuQypVGHUqFFWBtK1ck9EWwwXi3S1iQBzIJ4DzPEQRBIDzZkzp4kOEUpzLwIbuRGssTmJeeeBAwciVgbmjwheScfKvJBzM18kJSublakDnzZ86dKlVv+UFVGkxHBCiNSAVveEEEKcEghECAYRsMFNyQeLbrjhBnvNTpbkyJQ0eqg+Eg/VSWKh+kjMwPYTTzzhmjdv7k477TQ71qtXL3N2IRjDgneHDh1sEUAIIYSIJojcZs+eHXrN74i12BHvj7NgzkKAF8SdCBYwXnzxRds1P2/ePLdly5Yku+lZXGUBA6cXFjh++ukne+55EM/hCNKqVSu3evVqE93hkhY+JmGx3L/HYun48eNNIOdh0YQFqyFDhriVK1fasxT3VRYsAAEf4x8WL5YsWWLOI7idNGrUKPQ3cB7g8xMnTjRRGudatmzZKV9fhO8soOEex4Jbs2bN3H333WfuI5SB74c7Tjh8Txad+TyfwcUHVwwWqykzrglCCCFENMVoPLcRCCAQjyZFihQxdyaeh7ggffnll65v377uhRdeMPcwRDIi8hAjYtyECP+pp56y8RDOS4zREAUxlkKUhkMu4shIgQApfMMF8SrqmPEj47SyZctaGxwzZoxtKMBBn3GZj5tEE0Rx/fv3tzgZboXh5RSxBaEuY3LESbgFUjeRhrkLDpgrVqywMTb3Q7t27cytjvE77X7Tpk0mGD3vvPNsXoIgjnsiVuCShkAsrfJ3YjTmejwHAGEgIl7Ecfw/KcHPL/k7tC3mk+3btzdR7po1a2w+ypyLPhGxLn0iIEzs3bu3GzFiRJoVKQoh0iDxztkqhBAi9bJ9+/bQ73/88Yf9+/333weFChUKNm3aFDq2evXquJUxPaH6SDxUJ4mF6iOxWbFiRVC1atVg8uTJoboYN25ckDFjxmDNmjXxLp4QQog0zOuvvx5ky5YtOHLkSPDLL7/Ys2fXrl3BmDFjguuuu84+M3PmTFYNgs2bN9vr2bNn2+u9e/fa6zfffNNeb9iwIfR3Bw4cGJx77rmh1/nz5w/69u0bes35ChQoENStW9deL1261P4G45IT0bJlyyBPnjzBr7/+Gjo2ePDg4MwzzwyOHTsWHDx4MMiaNWuwYMGCJP9f69atg6ZNm9rvPXv2DKpXr57k/a1bt9p5165dG+zfvz8444wzgvfeey/0/p49e4IsWbIE7dq1+9Nr2K1bt6B06dLHHefvdu3aNfR64cKFdmzEiBGhY2PHjg0yZ86c5P+75557go4dO9rvH3zwQZAjRw6rm7+CvzthwoS//IwQQgiRnHXr1gU1a9YMatSoESxbtizo06ePPZeWLFkS83LccsstwTnnnBOcfvrpMT9/eoXrTt3zM2fOnOPeZ7wWKbZs2RLkzZs3yJAhQ1C5cuWgS5cuNsbct2+fvb948eKgTJkyNqYiLnL06NGgVq1awfnnnx/89ttvQawgLtawYcPQuFfEFmJgtI/69esHq1atiuq5aH/MfYiNZs+ePRgyZEiwfv16e+/w4cNBtWrVgrvvvtteM98QKcfHPH3f8uqrrwYdOnQInnzyyaBNmzZBuXLlgilTplh/ULRo0eCZZ55Jcu3D49unCnO+cOj7eA4Sk6WvGTBgQJArV66gX79+dpzfly9fnuLzCiFEPJBDnBBCiH/M9u3b3RdffOGmTJliu1dIGeB3krBzjWO//PKL7S7yaQfZ9c/OFdyX5LYUWVQfiYfqJLFQfSRunbDLkHrwqWqBdAs42pASxKeAYKc09RGeMkIIIYSINLjBkSaUZxTuMDjGkJIUhzhc4XAOwSXtwgsvdAULFvzTv0NKUFxePKQbJZ0MMLbAAa58+fJJ0hThAuIhvSmpxHkm3nbbbeYQsHfv3iTn4DOcx1OxYkVLmYOTA2lIGddUq1bN3Gz8D89Xn5J0+fLl5noX/r5Pk8Rn+CE9U3g58+TJYymLTpVSpUqFfvfjsfA0SxzjGjMuA8ZgH3/8cShdKt+H1GZcf5wTRo8erZTqQgghouKKRYpAXJFwCYu1MxvlwGm2QoUK5hInZ7jYEMtUocRASI3JWJPxGzESHOAYc+Kmu3HjRnPSx5mY8Q+ucDhHMR7NkiWLixWMDRlv/dW4V6SNVKE4R5Mm+IMPPrB/cXH2KaJpf7iz5cuXz8bnkUzXmp5h3hnetzC/wwGclKj9+vWzvgDXcJ5DhQsXdi+//LJbtWpVkjlmSl0qibU++eST5mgO9EGcn3PjYo57N/Mx3OpoB8xleTaSulnxciFEakOCOCGEEP8IrLMJyNx55522MMHCzdChQ23yzuCdCT3CBUQlvGaSjtXywIEDzV6dyZMmTZFD9ZF4qE4SC9VHYtcJaUew/x82bJjViYcgWzgLFy50BQoUsHoSQgghogWLPjxvEIrxw4IAkBqIRUsWRjnOgtFfwUJ6OIwlTmbBgMWG6dOnm5ifRQoWZ1kQY3H0n+CfqaQyIj2p/2EBZdy4caHP8BwOf5+f9evXRy0Nafh18eOrEx3zQvnFixebcP7qq6+219mzZ7eUraSIZQGINHYsHJFWTAghhEhLYjSe+zyzixcvHpfzp1dilSoUgf/7779v4zxSw5OKklSVnTt3NjESaXqJmWTKlMnNmjXLNWjQwGJWfDbWKA4TX2KZKpT5Dn1e+GZUNsh069bN5kGIpHw6aeHiIkZDKIsYLRJkzpzZ3X333RYDv+uuu9wrr7xixxG8IdClbJyzUqVKrlevXtYn3nTTTZbSm/KoHQghUhsSxAkhhPhbdu/e7Zo0aeKaNWtmiyvsXmOn2FtvveWeeuopt3//fhOWAA4DuCnce++9NmBm4QjRg4gcqo/EQ3WSWKg+Uk+djBw5MlQn4IMqOOhwHGecPn362EK4EEIIEU2qVKliLnD84BjnQSSGQA2RFp85VVjQQsyFw4cH0dfSpUuTfI5nIQsiCPVZkGcxcsKECaH3cXjDNcTDgi3jGRayWFxhAZXFFUR+4T+8D1dccYVbuXKlu+CCC477TLZs2czhjsXg8HLiUrdu3ToXKyZOnGiLMSy4eFgMrlq1quvbt6+J7Ddt2mQLxUIIIURaE6MlF9iL2IniXnjhBdskwaaIaMGYCyc63HGJe+zcudPiJbhBTZs2zQ0ZMsQ2L5QpU8YEKkLEmnfeecd16tTJYnKTJk2ye0O4hBCjRYJcuXLZBiPEjjiBUxbmuYhzKQPgnO6dvHkPgV64w7cQQqQmJIgTQgjxj3ausOiCkIGFE8QjiBhq1KhhA2fECkzi4ccff3Rff/21TZZYNJK9f+RRfSQeqpPEQvWRuusEYcBjjz1m6TkQKJYoUSLexRdCCJEOINDPQiRuad4hDvgdl1lcElIiiIN27dq53r17uw8//NCtWbPGtW3bNonLGSI0Fj6WLFliorbx48fbWCU8VRLlaN26tbm+TZ482ZwbcBFA7I+AvGPHjq5Dhw62EYD0pzir4TTHa3jggQfMeYA0PCx08BkWX1mQwXUAcR1/n0UwBGc4E+BU4jcTxAJSg/l0qcA4DdcW6mbz5s2WAhY3uZSkcRVCCCFOhMRo6ZtYpQplDMP4jPEVori5c+eGhCqkh0f8Qozq8ssvj2o5hEgOoqgRI0a4rVu3WkxObTCyJJIYjc1UzHMR5SHCQ3jH3JH5H06W4cgVTgiRmpEgTgghxN+CKwGDXm/jjJMBx5iws0CE248fqGPhzs4VBA2ksRGRR/WReKhOEgvVR+quE9KmNmrUyM2cOdN2RAshhBCxgMUGxNu4drD44OE5hZMpC5c4vKUExhwscrZs2dJVrFjRBGz169cPvZ8jRw43b948W4y45JJLzCmA1Fm1atUKfebGG280lwac6xo3bmzCse7du4fe79mzpz1fcR5BSFezZk17zhYuXNjex/Hks88+M/Fb9erVbXGlffv2tjjjRW+4o1x77bXmToIrGw4Fsdo0gEBvw4YNJpr3UDbEgaSs5TvhnEL61Hg7+AghhBAi7RGrVKGM5xDFESth3IZAJhzccYWINcx53n33Xffmm28m2ZQj0qYYDVEeQjzOzbySDUhsasYdcPjw4VE7rxBCxJIMQRAEMT2jEEKIVMehQ4dsEQSRAm4G2DMjZmBizmMEEQm7hbzrAJ8nVY+IDqqPxEN1klioPlJnnSB+w/FFCCGEECcGpzYc5XiWJhqI8igXiygpoV+/fm7GjBnmfneysFhEetl69eqlqAxCCCGEELFi/fr17pFHHnG7d+92L7/8sqtQoUK8iySEiDE4fOMgThaT7du3u2HDhllq1VhAXNaL7ubMmeOmTp3qBg0aZC6VuGYKIURqRw5xQggh/hJS0SAUYVcQbgX333+/HfciBgbL7B7ZtWuXvQYJS6KH6iPxUJ0kFqqP1FsnpIQTQgghROqFBRxSrrKAcqoUKFDAdenS5aT+nzZt2th5hRBCCCFSGzjF4c7LGAgnXyFE+sHHphHDdu7c2bVo0cLmNWwqjhXEZX05Kleu7Hr37u22bdsmMZwQIs0gQZwQQoi/hLQ5pNMpUaKEuSmRmuaOO+5wO3fuDH1m48aNLnfu3CZ6ENFF9ZF4qE4SC9VH6q4TPieEEEKI1MfDDz/s1q5daw5xzZs3P+W/Q9p00rWeDD169LDz4rBSrVq1Uz63EEIIIUQ8QHgyevRoV7BgwXgXRQgRQxJFjJY8LWuOHDlien4hhIgmSpkqhBDiTy2Swae0O3DggKW8Y6GhWbNmrlChQi5Pnjwub968buLEiW7hwoWuZMmScS17WkT1kXioThIL1UfioToRQgghhBBCCCGEEEIIIYQQLo78Pzh0WCxYFY5tAAAAAElFTkSuQmCC' width=2500.0/>\n",
       "            </div>\n",
       "        "
      ],
      "text/plain": [
       "Canvas(toolbar=Toolbar(toolitems=[('Home', 'Reset original view', 'home', 'home'), ('Back', 'Back to previous …"
      ]
     },
     "metadata": {},
     "output_type": "display_data"
    },
    {
     "data": {
      "application/vnd.jupyter.widget-view+json": {
       "model_id": "e845c79a15d0497b906512ca7dca3247",
       "version_major": 2,
       "version_minor": 0
      },
      "image/png": "[encoded data removed]",
      "text/html": [
       "\n",
       "            <div style=\"display: inline-block;\">\n",
       "                <div class=\"jupyter-widgets widget-label\" style=\"text-align: center;\">\n",
       "                    Figure\n",
       "                </div>\n",
       "                <img src='data:image/png;base64,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' width=640.0/>\n",
       "            </div>\n",
       "        "
      ],
      "text/plain": [
       "Canvas(toolbar=Toolbar(toolitems=[('Home', 'Reset original view', 'home', 'home'), ('Back', 'Back to previous …"
      ]
     },
     "metadata": {},
     "output_type": "display_data"
    },
    {
     "data": {
      "text/plain": [
       "0.2736509728545869"
      ]
     },
     "execution_count": 9,
     "metadata": {},
     "output_type": "execute_result"
    }
   ],
   "source": [
    "# Subplots\n",
    "fig, ax = plt.subplots(1,3, figsize=(25,4))\n",
    "\n",
    "# Speed and Power for the last 7 days\n",
    "ax[0].plot(joined_dfs[\"Speed\"].tail(int(7*24/3)), label=\"Speed\", color=\"blue\") # Since the datasets are joined every three hours, we need the last 7 days times 24 hours diveded by 3 hours\n",
    "ax[0].plot(joined_dfs[\"Total\"].tail(int(7*24/3)), label=\"Power\", color=\"tab:red\") # Since the datasets are joined every three hours, we need the last 7 days times 24 hours diveded by 3 hours\n",
    "ax[0].set_title(\"Windspeed & Power Generation over last 7 days\")\n",
    "ax[0].set_xlabel(\"Time\")\n",
    "ax[0].tick_params(axis='x', labelrotation = 45)\n",
    "ax[0].set_ylabel(\"Windspeed [m/s], Power [MW]\")\n",
    "ax[0].legend()\n",
    "\n",
    "# Speed vs Total (Power Curve nature)\n",
    "ax[1].scatter(joined_dfs[\"Speed\"], joined_dfs[\"Total\"])\n",
    "power_curve = joined_dfs.groupby(\"Speed\").median(numeric_only=True)[\"Total\"]\n",
    "ax[1].plot(power_curve.index, power_curve.values, \"k:\", label=\"Power Curve\")\n",
    "ax[1].legend()\n",
    "ax[1].set_title(\"Windspeed vs Power\")\n",
    "ax[1].set_ylabel(\"Power [MW]\")\n",
    "ax[1].set_xlabel(\"Windspeed [m/s]\")\n",
    "\n",
    "# Speed and Power per Wind Direction\n",
    "wind_grouped_by_direction = joined_dfs.groupby(\"Direction\").mean(numeric_only=True).reset_index()\n",
    "bar_width = 0.5\n",
    "x = np.arange(len(wind_grouped_by_direction.index))\n",
    "\n",
    "ax[2].bar(x, wind_grouped_by_direction.Total, width=0.5, label=\"Power\", color=\"tab:red\")\n",
    "ax[2].bar(x + bar_width, wind_grouped_by_direction.Speed, width=0.5, label=\"Speed\", color=\"blue\")\n",
    "ax[2].legend()\n",
    "ax[2].set_xticks(x)\n",
    "ax[2].set_xticklabels(wind_grouped_by_direction.Direction)\n",
    "ax[2].tick_params(axis='x', labelrotation = 45)\n",
    "ax[2].set_title(\"Speed and Power per Direction\");\n",
    "\n",
    "plt.show()\n",
    "\n",
    "\n",
    "# create a difference plot\n",
    "plt.figure()\n",
    "\n",
    "y = wind_grouped_by_direction.Total / wind_grouped_by_direction.Speed\n",
    "\n",
    "plt.bar(wind_grouped_by_direction.Direction, y)\n",
    "# plot horizontal, a mean of y\n",
    "plt.axhline(y.mean(), color='r', linestyle='-')\n",
    "plt.show()\n",
    "\n",
    "# print standard deviation of y\n",
    "y.std()"
   ]
  },
  {
   "cell_type": "code",
   "execution_count": null,
   "metadata": {},
   "outputs": [],
   "source": [
    "joined_dfs.head()"
   ]
  },
  {
   "cell_type": "code",
   "execution_count": null,
   "metadata": {},
   "outputs": [],
   "source": [
    "joined_dfs"
   ]
  },
  {
   "cell_type": "code",
   "execution_count": null,
   "metadata": {},
   "outputs": [],
   "source": [
    "joined_dfs.shape\n",
    "print(joined_dfs['Direction'].unique().size)"
   ]
  },
  {
   "cell_type": "code",
   "execution_count": null,
   "metadata": {},
   "outputs": [],
   "source": [
    "# Additional two plots:\n",
    "# Convert wind direction into categorical variable, and then plot the points given its three top principal components,\n",
    "# with color intensity given by the power generated.\n",
    "from sklearn.decomposition import PCA\n",
    "from sklearn.preprocessing import OneHotEncoder\n",
    "\n",
    "# One hot encode the wind direction\n",
    "encoder = OneHotEncoder(sparse_output=False)\n",
    "encoded_directions = encoder.fit_transform(joined_dfs[['Direction']])\n",
    "\n",
    "# Perform PCA to reduce dimensionality\n",
    "pca = PCA(n_components=3)\n",
    "principal_components = pca.fit_transform(encoded_directions)\n",
    "\n",
    "# Create a new DataFrame with the principal components and power generation\n",
    "pca_df = pd.DataFrame(data=principal_components, columns=['PC1', 'PC2', 'PC3'])\n",
    "pca_df['Power'] = joined_dfs['Total'].values\n",
    "pca_df.drop_duplicates(subset=['PC1', 'PC2', 'PC3'],inplace=True)\n",
    "\n",
    "# Plot the points given its three top principal components, with color intensity given by the\n"
   ]
  },
  {
   "cell_type": "code",
   "execution_count": null,
   "metadata": {},
   "outputs": [],
   "source": []
  },
  {
   "cell_type": "code",
   "execution_count": null,
   "metadata": {},
   "outputs": [],
   "source": [
    "encoder = OneHotEncoder(sparse_output=False)\n",
    "encoded_directions = encoder.fit_transform(wind_df[['Direction']])"
   ]
  },
  {
   "cell_type": "code",
   "execution_count": null,
   "metadata": {},
   "outputs": [],
   "source": [
    "%matplotlib widget"
   ]
  },
  {
   "cell_type": "code",
   "execution_count": null,
   "metadata": {},
   "outputs": [],
   "source": [
    "pca_df.shape"
   ]
  },
  {
   "cell_type": "code",
   "execution_count": null,
   "metadata": {},
   "outputs": [],
   "source": [
    "# print explained variability by each of the first three principal components\n",
    "\n",
    "# do 3d plot of the first three principal components\n",
    "\n",
    "import matplotlib.pyplot as plt\n",
    "\n",
    "# Ensure interactive plotting\n",
    "plt.ion()\n",
    "\n",
    "# Create rotatable 3D plot\n",
    "fig = plt.figure()\n",
    "ax = fig.add_subplot(111, projection=\"3d\")\n",
    "# o = ax.scatter(X_pca[:, 0], X_pca[:, 1], X_pca[:, 2], c=labels, cmap=\"tab10\", alpha=0.5)\n",
    "o = ax.scatter(pca_df['PC1'], pca_df['PC2'], pca_df['PC3'], alpha=0.5)\n",
    "ax.set_xlabel(\"PC1\")\n",
    "ax.set_ylabel(\"PC2\")\n",
    "ax.set_zlabel(\"PC3\")\n",
    "\n",
    "plt.legend(*o.legend_elements(), title=\"Classes\")\n",
    "\n",
    "ax.view_init(10, 40)\n",
    "\n",
    "\n",
    "# Show the plot\n",
    "plt.show()\n",
    "\n",
    "\n",
    "# ACTUALLY, is there any sense to do PCA of categorical variables? I'm feeling that it's not the case. I'm not sure"
   ]
  },
  {
   "cell_type": "code",
   "execution_count": null,
   "metadata": {},
   "outputs": [],
   "source": [
    "# It doesn't make any sense to do PCA by default. To verify, but that's what I'm going to write in the report."
   ]
  },
  {
   "cell_type": "code",
   "execution_count": null,
   "metadata": {},
   "outputs": [],
   "source": [
    "pca_df.describe()"
   ]
  },
  {
   "cell_type": "code",
   "execution_count": null,
   "metadata": {},
   "outputs": [],
   "source": [
    "# count unique rows, given the first three principal components\n",
    "pca_df.drop_duplicates(subset=['PC1', 'PC2', 'PC3']).shape"
   ]
  },
  {
   "cell_type": "code",
   "execution_count": null,
   "metadata": {},
   "outputs": [],
   "source": [
    "# plot each of components against each other using subplots\n",
    "fig, ax = plt.subplots(1, 3\n",
    "                       )\n",
    "\n",
    "for i, component in enumerate(['PC1', 'PC2', 'PC3']):\n",
    "    ax[i].scatter(pca_df[component], pca_df['Power'], alpha=0.5)\n",
    "    ax[i].set_xlabel(component)\n",
    "    ax[i].set_ylabel('Power')\n",
    "    \n",
    "plt.show()"
   ]
  },
  {
   "cell_type": "code",
   "execution_count": null,
   "metadata": {},
   "outputs": [],
   "source": [
    "# print rows with empty values\n",
    "joined_dfs[joined_dfs.isnull().any(axis=1)]"
   ]
  },
  {
   "cell_type": "code",
   "execution_count": null,
   "metadata": {},
   "outputs": [],
   "source": [
    "joined_dfs.head()"
   ]
  },
  {
   "cell_type": "code",
   "execution_count": null,
   "metadata": {},
   "outputs": [],
   "source": [
    "# I'm not sure how to interpret this plot honestly. Saying that:\n",
    "# constant = wind_grouped_by_direction.Total / wind_grouped_by_direction.Speed helps anything, I'm not sure."
   ]
  },
  {
   "cell_type": "code",
   "execution_count": null,
   "metadata": {},
   "outputs": [],
   "source": [
    "# From that plot one could see that given an average windspeed, one could predict average power output, without considering the wind direction.\n",
    "# which suggests maybe it's not that important to consider wind direction in the model.\n",
    "# actually, a statistical test could be performed, because if these are means, these are normally distributed, and we could perform a t-test to see if the means are different.\n",
    "# so their ratio is distributed as cauchy, so can check that later."
   ]
  },
  {
   "cell_type": "code",
   "execution_count": null,
   "metadata": {},
   "outputs": [],
   "source": [
    "# Another check in determining the importance of wind direction is checking the correlation between wind direction and speed.abs\n",
    "# Also, another one would be just plotting windspeed given different directions (using colouring) and see if there's any difference in pattern\n",
    "# perhaps would be the best to draw them one vs one, but there would be 25 combinations, so that's a lot of plots.\n",
    "\n",
    "# let's check the correlation between wind direction and speed.abs on wind_df\n",
    "\n",
    "one_hot_encoded = pd.get_dummies(wind_df['Direction'])\n",
    "\n",
    "# compute the correlation between wind speed and each of the one-hot encoded wind directions\n",
    "correlations = one_hot_encoded.apply(lambda x: wind_df['Speed'].corr(x))\n",
    "correlations\n"
   ]
  },
  {
   "cell_type": "code",
   "execution_count": null,
   "metadata": {},
   "outputs": [],
   "source": [
    "# convert wind directions to radians. Now it's categorical like E, W, N, S, ENE, ESE etc.\n",
    "# so we need to convert them to degrees to be able to plot them on a circle.\n",
    "# we can use the following mapping:\n",
    "converstion = {\n",
    "    'N': 0,\n",
    "    'NNE': 22.5,\n",
    "    'NE': 45,\n",
    "    'ENE': 67.5,\n",
    "    'E': 90,\n",
    "    'ESE': 112.5,\n",
    "    'SE': 135,\n",
    "    'SSE': 157.5,\n",
    "    'S': 180,\n",
    "    'SSW': 202.5,\n",
    "    'SW': 225,\n",
    "    'WSW': 247.5,\n",
    "    'W': 270,\n",
    "    'WNW': 292.5,\n",
    "    'NW': 315,\n",
    "    'NNW': 337.5\n",
    "}\n",
    "\n",
    "wind_df['Wx'] = wind_df['Direction'].transform(lambda x: np.cos(converstion[x] * np.pi / 180))\n",
    "wind_df['Wy'] = wind_df['Direction'].transform(lambda x: np.sin(converstion[x] * np.pi / 180))\n",
    "# if the values are close to 0, then make them 0\n",
    "wind_df['Wx'] = wind_df['Wx'].transform(lambda x: 0 if abs(x) < 1e-10 else x)\n",
    "wind_df['Wy'] = wind_df['Wy'].transform(lambda x: 0 if abs(x) < 1e-10 else x)\n",
    "# now, these together repesent the unit vector of the wind direction"
   ]
  },
  {
   "cell_type": "code",
   "execution_count": null,
   "metadata": {},
   "outputs": [],
   "source": [
    "# again: compute the correlation, and plot both Wx against Speed and Wy against Speed\n",
    "correlations = wind_df[['Wx', 'Wy', 'Speed']].corr()\n",
    "print(correlations)\n",
    "\n",
    "fig, ax = plt.subplots(1, 2, figsize=(10, 5))\n",
    "\n",
    "ax[0].scatter(wind_df['Wx'], wind_df['Speed'])\n",
    "ax[0].set_xlabel('Wx')\n",
    "ax[0].set_ylabel('Speed')\n",
    "\n",
    "ax[1].scatter(wind_df['Wy'], wind_df['Speed'])\n",
    "ax[1].set_xlabel('Wy')\n",
    "ax[1].set_ylabel('Speed')\n",
    "\n",
    "plt.show()"
   ]
  },
  {
   "cell_type": "code",
   "execution_count": null,
   "metadata": {},
   "outputs": [],
   "source": [
    "# checking co"
   ]
  },
  {
   "cell_type": "code",
   "execution_count": null,
   "metadata": {},
   "outputs": [],
   "source": [
    "# how to encode these features?\n",
    "# As radians: imo very wrong, it's just 'sparse' ordinal encoding, for nominal data. Bad idea, though dimensionality is the smallest.\n",
    "# the second: one-hot encoding: I think could do fine, especially if some dimensionality reduction would be introduced. (PCA)\n",
    "# the last one: as a vector. That sound interesting, because here it should encapsulate all the necessary information in the smallest dimensionality possible.\n",
    "# Even though ordinality is introduced I guess it should be ounteracted by the ordinality of the second feature, so it should be fine.\n",
    "# But I'm not super sure. I will write an email to my professor asap. Gonna try with these two. Obviously here scaling shall not be applied.\n",
    "\n",
    "# Another issue: Should one scale categorical features? In my humble opinion, yes, because these still might have different variane - that's all.\n",
    "# But I need to think / talk about it haha. By default I will leave them in fact but I would do other way. But not sure. I think it's still pretty much worth it.\n",
    "# OK, let's think about it later."
   ]
  },
  {
   "cell_type": "code",
   "execution_count": null,
   "metadata": {},
   "outputs": [],
   "source": [
    "# https://web.archive.org/web/20220127105734/http://dr%C3%B8mst%C3%B8rre.dk/wp-content/wind/miller/windpower%20web/en/tour/wres/pwr.htm => super important!\n",
    "# Pitfalls in Using Power Curves\n",
    "# A power curve does not tell you how much power a wind turbine will produce at a certain average wind speed. You would not even be close, if you used that method!\n",
    "# Remember, that the energy content of the wind varies very strongly with the wind speed, as we saw in the section on the energy in the wind. So, it matters a lot how that average came about, i.e. if winds vary a lot, or if the wind blows at a relatively constant speed.\n",
    "# Also, you may remember from the example in the section on the power density function , that most of the wind energy is available at wind speeds which are twice the most common wind speed at the site.\n",
    "# Finally, we need to account for the fact that the turbine may not be running at standard air pressure and temperature, and consequently make corrections for changes in the density of air."
   ]
  },
  {
   "cell_type": "code",
   "execution_count": 18,
   "metadata": {},
   "outputs": [
    {
     "ename": "ValueError",
     "evalue": "could not convert string to float: 'SSE'",
     "output_type": "error",
     "traceback": [
      "\u001b[0;31m---------------------------------------------------------------------------\u001b[0m",
      "\u001b[0;31mValueError\u001b[0m                                Traceback (most recent call last)",
      "\u001b[0;32m/var/folders/f8/z5psswrx2k74kr5vvxs8kdjm0000gn/T/ipykernel_23871/2506041517.py\u001b[0m in \u001b[0;36m?\u001b[0;34m()\u001b[0m\n\u001b[1;32m      2\u001b[0m \u001b[0;32mfrom\u001b[0m \u001b[0msklearn\u001b[0m\u001b[0;34m.\u001b[0m\u001b[0mpreprocessing\u001b[0m \u001b[0;32mimport\u001b[0m \u001b[0mPolynomialFeatures\u001b[0m\u001b[0;34m\u001b[0m\u001b[0;34m\u001b[0m\u001b[0m\n\u001b[1;32m      3\u001b[0m \u001b[0;34m\u001b[0m\u001b[0m\n\u001b[1;32m      4\u001b[0m \u001b[0;31m# create polynomial features\u001b[0m\u001b[0;34m\u001b[0m\u001b[0;34m\u001b[0m\u001b[0m\n\u001b[1;32m      5\u001b[0m \u001b[0mpoly\u001b[0m \u001b[0;34m=\u001b[0m \u001b[0mPolynomialFeatures\u001b[0m\u001b[0;34m(\u001b[0m\u001b[0mdegree\u001b[0m\u001b[0;34m=\u001b[0m\u001b[0;36m3\u001b[0m\u001b[0;34m,\u001b[0m \u001b[0minclude_bias\u001b[0m\u001b[0;34m=\u001b[0m\u001b[0;32mFalse\u001b[0m\u001b[0;34m,\u001b[0m \u001b[0minteraction_only\u001b[0m\u001b[0;34m=\u001b[0m\u001b[0;32mFalse\u001b[0m\u001b[0;34m)\u001b[0m\u001b[0;34m\u001b[0m\u001b[0;34m\u001b[0m\u001b[0m\n\u001b[0;32m----> 6\u001b[0;31m \u001b[0mpoly_features\u001b[0m \u001b[0;34m=\u001b[0m \u001b[0mpoly\u001b[0m\u001b[0;34m.\u001b[0m\u001b[0mfit_transform\u001b[0m\u001b[0;34m(\u001b[0m\u001b[0mjoined_dfs\u001b[0m\u001b[0;34m[\u001b[0m\u001b[0;34m[\u001b[0m\u001b[0;34m'Speed'\u001b[0m\u001b[0;34m,\u001b[0m \u001b[0;34m'Direction'\u001b[0m\u001b[0;34m]\u001b[0m\u001b[0;34m]\u001b[0m\u001b[0;34m)\u001b[0m\u001b[0;34m\u001b[0m\u001b[0;34m\u001b[0m\u001b[0m\n\u001b[0m\u001b[1;32m      7\u001b[0m \u001b[0mpoly_features\u001b[0m\u001b[0;34m\u001b[0m\u001b[0;34m\u001b[0m\u001b[0m\n",
      "\u001b[0;32m~/.pyenv/versions/a1_lsda2025/lib/python3.11/site-packages/sklearn/utils/_set_output.py\u001b[0m in \u001b[0;36m?\u001b[0;34m(self, X, *args, **kwargs)\u001b[0m\n\u001b[1;32m    314\u001b[0m     \u001b[0;34m@\u001b[0m\u001b[0mwraps\u001b[0m\u001b[0;34m(\u001b[0m\u001b[0mf\u001b[0m\u001b[0;34m)\u001b[0m\u001b[0;34m\u001b[0m\u001b[0;34m\u001b[0m\u001b[0m\n\u001b[1;32m    315\u001b[0m     \u001b[0;32mdef\u001b[0m \u001b[0mwrapped\u001b[0m\u001b[0;34m(\u001b[0m\u001b[0mself\u001b[0m\u001b[0;34m,\u001b[0m \u001b[0mX\u001b[0m\u001b[0;34m,\u001b[0m \u001b[0;34m*\u001b[0m\u001b[0margs\u001b[0m\u001b[0;34m,\u001b[0m \u001b[0;34m**\u001b[0m\u001b[0mkwargs\u001b[0m\u001b[0;34m)\u001b[0m\u001b[0;34m:\u001b[0m\u001b[0;34m\u001b[0m\u001b[0;34m\u001b[0m\u001b[0m\n\u001b[0;32m--> 316\u001b[0;31m         \u001b[0mdata_to_wrap\u001b[0m \u001b[0;34m=\u001b[0m \u001b[0mf\u001b[0m\u001b[0;34m(\u001b[0m\u001b[0mself\u001b[0m\u001b[0;34m,\u001b[0m \u001b[0mX\u001b[0m\u001b[0;34m,\u001b[0m \u001b[0;34m*\u001b[0m\u001b[0margs\u001b[0m\u001b[0;34m,\u001b[0m \u001b[0;34m**\u001b[0m\u001b[0mkwargs\u001b[0m\u001b[0;34m)\u001b[0m\u001b[0;34m\u001b[0m\u001b[0;34m\u001b[0m\u001b[0m\n\u001b[0m\u001b[1;32m    317\u001b[0m         \u001b[0;32mif\u001b[0m \u001b[0misinstance\u001b[0m\u001b[0;34m(\u001b[0m\u001b[0mdata_to_wrap\u001b[0m\u001b[0;34m,\u001b[0m \u001b[0mtuple\u001b[0m\u001b[0;34m)\u001b[0m\u001b[0;34m:\u001b[0m\u001b[0;34m\u001b[0m\u001b[0;34m\u001b[0m\u001b[0m\n\u001b[1;32m    318\u001b[0m             \u001b[0;31m# only wrap the first output for cross decomposition\u001b[0m\u001b[0;34m\u001b[0m\u001b[0;34m\u001b[0m\u001b[0m\n\u001b[1;32m    319\u001b[0m             return_tuple = (\n",
      "\u001b[0;32m~/.pyenv/versions/a1_lsda2025/lib/python3.11/site-packages/sklearn/base.py\u001b[0m in \u001b[0;36m?\u001b[0;34m(self, X, y, **fit_params)\u001b[0m\n\u001b[1;32m   1094\u001b[0m                 )\n\u001b[1;32m   1095\u001b[0m \u001b[0;34m\u001b[0m\u001b[0m\n\u001b[1;32m   1096\u001b[0m         \u001b[0;32mif\u001b[0m \u001b[0my\u001b[0m \u001b[0;32mis\u001b[0m \u001b[0;32mNone\u001b[0m\u001b[0;34m:\u001b[0m\u001b[0;34m\u001b[0m\u001b[0;34m\u001b[0m\u001b[0m\n\u001b[1;32m   1097\u001b[0m             \u001b[0;31m# fit method of arity 1 (unsupervised transformation)\u001b[0m\u001b[0;34m\u001b[0m\u001b[0;34m\u001b[0m\u001b[0m\n\u001b[0;32m-> 1098\u001b[0;31m             \u001b[0;32mreturn\u001b[0m \u001b[0mself\u001b[0m\u001b[0;34m.\u001b[0m\u001b[0mfit\u001b[0m\u001b[0;34m(\u001b[0m\u001b[0mX\u001b[0m\u001b[0;34m,\u001b[0m \u001b[0;34m**\u001b[0m\u001b[0mfit_params\u001b[0m\u001b[0;34m)\u001b[0m\u001b[0;34m.\u001b[0m\u001b[0mtransform\u001b[0m\u001b[0;34m(\u001b[0m\u001b[0mX\u001b[0m\u001b[0;34m)\u001b[0m\u001b[0;34m\u001b[0m\u001b[0;34m\u001b[0m\u001b[0m\n\u001b[0m\u001b[1;32m   1099\u001b[0m         \u001b[0;32melse\u001b[0m\u001b[0;34m:\u001b[0m\u001b[0;34m\u001b[0m\u001b[0;34m\u001b[0m\u001b[0m\n\u001b[1;32m   1100\u001b[0m             \u001b[0;31m# fit method of arity 2 (supervised transformation)\u001b[0m\u001b[0;34m\u001b[0m\u001b[0;34m\u001b[0m\u001b[0m\n\u001b[1;32m   1101\u001b[0m             \u001b[0;32mreturn\u001b[0m \u001b[0mself\u001b[0m\u001b[0;34m.\u001b[0m\u001b[0mfit\u001b[0m\u001b[0;34m(\u001b[0m\u001b[0mX\u001b[0m\u001b[0;34m,\u001b[0m \u001b[0my\u001b[0m\u001b[0;34m,\u001b[0m \u001b[0;34m**\u001b[0m\u001b[0mfit_params\u001b[0m\u001b[0;34m)\u001b[0m\u001b[0;34m.\u001b[0m\u001b[0mtransform\u001b[0m\u001b[0;34m(\u001b[0m\u001b[0mX\u001b[0m\u001b[0;34m)\u001b[0m\u001b[0;34m\u001b[0m\u001b[0;34m\u001b[0m\u001b[0m\n",
      "\u001b[0;32m~/.pyenv/versions/a1_lsda2025/lib/python3.11/site-packages/sklearn/base.py\u001b[0m in \u001b[0;36m?\u001b[0;34m(estimator, *args, **kwargs)\u001b[0m\n\u001b[1;32m   1469\u001b[0m                 skip_parameter_validation=(\n\u001b[1;32m   1470\u001b[0m                     \u001b[0mprefer_skip_nested_validation\u001b[0m \u001b[0;32mor\u001b[0m \u001b[0mglobal_skip_validation\u001b[0m\u001b[0;34m\u001b[0m\u001b[0;34m\u001b[0m\u001b[0m\n\u001b[1;32m   1471\u001b[0m                 )\n\u001b[1;32m   1472\u001b[0m             ):\n\u001b[0;32m-> 1473\u001b[0;31m                 \u001b[0;32mreturn\u001b[0m \u001b[0mfit_method\u001b[0m\u001b[0;34m(\u001b[0m\u001b[0mestimator\u001b[0m\u001b[0;34m,\u001b[0m \u001b[0;34m*\u001b[0m\u001b[0margs\u001b[0m\u001b[0;34m,\u001b[0m \u001b[0;34m**\u001b[0m\u001b[0mkwargs\u001b[0m\u001b[0;34m)\u001b[0m\u001b[0;34m\u001b[0m\u001b[0;34m\u001b[0m\u001b[0m\n\u001b[0m",
      "\u001b[0;32m~/.pyenv/versions/a1_lsda2025/lib/python3.11/site-packages/sklearn/preprocessing/_polynomial.py\u001b[0m in \u001b[0;36m?\u001b[0;34m(self, X, y)\u001b[0m\n\u001b[1;32m    319\u001b[0m         \u001b[0;34m-\u001b[0m\u001b[0;34m-\u001b[0m\u001b[0;34m-\u001b[0m\u001b[0;34m-\u001b[0m\u001b[0;34m-\u001b[0m\u001b[0;34m-\u001b[0m\u001b[0;34m-\u001b[0m\u001b[0;34m\u001b[0m\u001b[0;34m\u001b[0m\u001b[0m\n\u001b[1;32m    320\u001b[0m         \u001b[0mself\u001b[0m \u001b[0;34m:\u001b[0m \u001b[0mobject\u001b[0m\u001b[0;34m\u001b[0m\u001b[0;34m\u001b[0m\u001b[0m\n\u001b[1;32m    321\u001b[0m             \u001b[0mFitted\u001b[0m \u001b[0mtransformer\u001b[0m\u001b[0;34m.\u001b[0m\u001b[0;34m\u001b[0m\u001b[0;34m\u001b[0m\u001b[0m\n\u001b[1;32m    322\u001b[0m         \"\"\"\n\u001b[0;32m--> 323\u001b[0;31m         \u001b[0m_\u001b[0m\u001b[0;34m,\u001b[0m \u001b[0mn_features\u001b[0m \u001b[0;34m=\u001b[0m \u001b[0mself\u001b[0m\u001b[0;34m.\u001b[0m\u001b[0m_validate_data\u001b[0m\u001b[0;34m(\u001b[0m\u001b[0mX\u001b[0m\u001b[0;34m,\u001b[0m \u001b[0maccept_sparse\u001b[0m\u001b[0;34m=\u001b[0m\u001b[0;32mTrue\u001b[0m\u001b[0;34m)\u001b[0m\u001b[0;34m.\u001b[0m\u001b[0mshape\u001b[0m\u001b[0;34m\u001b[0m\u001b[0;34m\u001b[0m\u001b[0m\n\u001b[0m\u001b[1;32m    324\u001b[0m \u001b[0;34m\u001b[0m\u001b[0m\n\u001b[1;32m    325\u001b[0m         \u001b[0;32mif\u001b[0m \u001b[0misinstance\u001b[0m\u001b[0;34m(\u001b[0m\u001b[0mself\u001b[0m\u001b[0;34m.\u001b[0m\u001b[0mdegree\u001b[0m\u001b[0;34m,\u001b[0m \u001b[0mIntegral\u001b[0m\u001b[0;34m)\u001b[0m\u001b[0;34m:\u001b[0m\u001b[0;34m\u001b[0m\u001b[0;34m\u001b[0m\u001b[0m\n\u001b[1;32m    326\u001b[0m             \u001b[0;32mif\u001b[0m \u001b[0mself\u001b[0m\u001b[0;34m.\u001b[0m\u001b[0mdegree\u001b[0m \u001b[0;34m==\u001b[0m \u001b[0;36m0\u001b[0m \u001b[0;32mand\u001b[0m \u001b[0;32mnot\u001b[0m \u001b[0mself\u001b[0m\u001b[0;34m.\u001b[0m\u001b[0minclude_bias\u001b[0m\u001b[0;34m:\u001b[0m\u001b[0;34m\u001b[0m\u001b[0;34m\u001b[0m\u001b[0m\n",
      "\u001b[0;32m~/.pyenv/versions/a1_lsda2025/lib/python3.11/site-packages/sklearn/base.py\u001b[0m in \u001b[0;36m?\u001b[0;34m(self, X, y, reset, validate_separately, cast_to_ndarray, **check_params)\u001b[0m\n\u001b[1;32m    629\u001b[0m                 \u001b[0mout\u001b[0m \u001b[0;34m=\u001b[0m \u001b[0my\u001b[0m\u001b[0;34m\u001b[0m\u001b[0;34m\u001b[0m\u001b[0m\n\u001b[1;32m    630\u001b[0m             \u001b[0;32melse\u001b[0m\u001b[0;34m:\u001b[0m\u001b[0;34m\u001b[0m\u001b[0;34m\u001b[0m\u001b[0m\n\u001b[1;32m    631\u001b[0m                 \u001b[0mout\u001b[0m \u001b[0;34m=\u001b[0m \u001b[0mX\u001b[0m\u001b[0;34m,\u001b[0m \u001b[0my\u001b[0m\u001b[0;34m\u001b[0m\u001b[0;34m\u001b[0m\u001b[0m\n\u001b[1;32m    632\u001b[0m         \u001b[0;32melif\u001b[0m \u001b[0;32mnot\u001b[0m \u001b[0mno_val_X\u001b[0m \u001b[0;32mand\u001b[0m \u001b[0mno_val_y\u001b[0m\u001b[0;34m:\u001b[0m\u001b[0;34m\u001b[0m\u001b[0;34m\u001b[0m\u001b[0m\n\u001b[0;32m--> 633\u001b[0;31m             \u001b[0mout\u001b[0m \u001b[0;34m=\u001b[0m \u001b[0mcheck_array\u001b[0m\u001b[0;34m(\u001b[0m\u001b[0mX\u001b[0m\u001b[0;34m,\u001b[0m \u001b[0minput_name\u001b[0m\u001b[0;34m=\u001b[0m\u001b[0;34m\"X\"\u001b[0m\u001b[0;34m,\u001b[0m \u001b[0;34m**\u001b[0m\u001b[0mcheck_params\u001b[0m\u001b[0;34m)\u001b[0m\u001b[0;34m\u001b[0m\u001b[0;34m\u001b[0m\u001b[0m\n\u001b[0m\u001b[1;32m    634\u001b[0m         \u001b[0;32melif\u001b[0m \u001b[0mno_val_X\u001b[0m \u001b[0;32mand\u001b[0m \u001b[0;32mnot\u001b[0m \u001b[0mno_val_y\u001b[0m\u001b[0;34m:\u001b[0m\u001b[0;34m\u001b[0m\u001b[0;34m\u001b[0m\u001b[0m\n\u001b[1;32m    635\u001b[0m             \u001b[0mout\u001b[0m \u001b[0;34m=\u001b[0m \u001b[0m_check_y\u001b[0m\u001b[0;34m(\u001b[0m\u001b[0my\u001b[0m\u001b[0;34m,\u001b[0m \u001b[0;34m**\u001b[0m\u001b[0mcheck_params\u001b[0m\u001b[0;34m)\u001b[0m\u001b[0;34m\u001b[0m\u001b[0;34m\u001b[0m\u001b[0m\n\u001b[1;32m    636\u001b[0m         \u001b[0;32melse\u001b[0m\u001b[0;34m:\u001b[0m\u001b[0;34m\u001b[0m\u001b[0;34m\u001b[0m\u001b[0m\n",
      "\u001b[0;32m~/.pyenv/versions/a1_lsda2025/lib/python3.11/site-packages/sklearn/utils/validation.py\u001b[0m in \u001b[0;36m?\u001b[0;34m(array, accept_sparse, accept_large_sparse, dtype, order, copy, force_writeable, force_all_finite, ensure_2d, allow_nd, ensure_min_samples, ensure_min_features, estimator, input_name)\u001b[0m\n\u001b[1;32m   1009\u001b[0m                         )\n\u001b[1;32m   1010\u001b[0m                     \u001b[0marray\u001b[0m \u001b[0;34m=\u001b[0m \u001b[0mxp\u001b[0m\u001b[0;34m.\u001b[0m\u001b[0mastype\u001b[0m\u001b[0;34m(\u001b[0m\u001b[0marray\u001b[0m\u001b[0;34m,\u001b[0m \u001b[0mdtype\u001b[0m\u001b[0;34m,\u001b[0m \u001b[0mcopy\u001b[0m\u001b[0;34m=\u001b[0m\u001b[0;32mFalse\u001b[0m\u001b[0;34m)\u001b[0m\u001b[0;34m\u001b[0m\u001b[0;34m\u001b[0m\u001b[0m\n\u001b[1;32m   1011\u001b[0m                 \u001b[0;32melse\u001b[0m\u001b[0;34m:\u001b[0m\u001b[0;34m\u001b[0m\u001b[0;34m\u001b[0m\u001b[0m\n\u001b[1;32m   1012\u001b[0m                     \u001b[0marray\u001b[0m \u001b[0;34m=\u001b[0m \u001b[0m_asarray_with_order\u001b[0m\u001b[0;34m(\u001b[0m\u001b[0marray\u001b[0m\u001b[0;34m,\u001b[0m \u001b[0morder\u001b[0m\u001b[0;34m=\u001b[0m\u001b[0morder\u001b[0m\u001b[0;34m,\u001b[0m \u001b[0mdtype\u001b[0m\u001b[0;34m=\u001b[0m\u001b[0mdtype\u001b[0m\u001b[0;34m,\u001b[0m \u001b[0mxp\u001b[0m\u001b[0;34m=\u001b[0m\u001b[0mxp\u001b[0m\u001b[0;34m)\u001b[0m\u001b[0;34m\u001b[0m\u001b[0;34m\u001b[0m\u001b[0m\n\u001b[0;32m-> 1013\u001b[0;31m             \u001b[0;32mexcept\u001b[0m \u001b[0mComplexWarning\u001b[0m \u001b[0;32mas\u001b[0m \u001b[0mcomplex_warning\u001b[0m\u001b[0;34m:\u001b[0m\u001b[0;34m\u001b[0m\u001b[0;34m\u001b[0m\u001b[0m\n\u001b[0m\u001b[1;32m   1014\u001b[0m                 raise ValueError(\n\u001b[1;32m   1015\u001b[0m                     \u001b[0;34m\"Complex data not supported\\n{}\\n\"\u001b[0m\u001b[0;34m.\u001b[0m\u001b[0mformat\u001b[0m\u001b[0;34m(\u001b[0m\u001b[0marray\u001b[0m\u001b[0;34m)\u001b[0m\u001b[0;34m\u001b[0m\u001b[0;34m\u001b[0m\u001b[0m\n\u001b[1;32m   1016\u001b[0m                 ) from complex_warning\n",
      "\u001b[0;32m~/.pyenv/versions/a1_lsda2025/lib/python3.11/site-packages/sklearn/utils/_array_api.py\u001b[0m in \u001b[0;36m?\u001b[0;34m(array, dtype, order, copy, xp, device)\u001b[0m\n\u001b[1;32m    741\u001b[0m         \u001b[0;31m# Use NumPy API to support order\u001b[0m\u001b[0;34m\u001b[0m\u001b[0;34m\u001b[0m\u001b[0m\n\u001b[1;32m    742\u001b[0m         \u001b[0;32mif\u001b[0m \u001b[0mcopy\u001b[0m \u001b[0;32mis\u001b[0m \u001b[0;32mTrue\u001b[0m\u001b[0;34m:\u001b[0m\u001b[0;34m\u001b[0m\u001b[0;34m\u001b[0m\u001b[0m\n\u001b[1;32m    743\u001b[0m             \u001b[0marray\u001b[0m \u001b[0;34m=\u001b[0m \u001b[0mnumpy\u001b[0m\u001b[0;34m.\u001b[0m\u001b[0marray\u001b[0m\u001b[0;34m(\u001b[0m\u001b[0marray\u001b[0m\u001b[0;34m,\u001b[0m \u001b[0morder\u001b[0m\u001b[0;34m=\u001b[0m\u001b[0morder\u001b[0m\u001b[0;34m,\u001b[0m \u001b[0mdtype\u001b[0m\u001b[0;34m=\u001b[0m\u001b[0mdtype\u001b[0m\u001b[0;34m)\u001b[0m\u001b[0;34m\u001b[0m\u001b[0;34m\u001b[0m\u001b[0m\n\u001b[1;32m    744\u001b[0m         \u001b[0;32melse\u001b[0m\u001b[0;34m:\u001b[0m\u001b[0;34m\u001b[0m\u001b[0;34m\u001b[0m\u001b[0m\n\u001b[0;32m--> 745\u001b[0;31m             \u001b[0marray\u001b[0m \u001b[0;34m=\u001b[0m \u001b[0mnumpy\u001b[0m\u001b[0;34m.\u001b[0m\u001b[0masarray\u001b[0m\u001b[0;34m(\u001b[0m\u001b[0marray\u001b[0m\u001b[0;34m,\u001b[0m \u001b[0morder\u001b[0m\u001b[0;34m=\u001b[0m\u001b[0morder\u001b[0m\u001b[0;34m,\u001b[0m \u001b[0mdtype\u001b[0m\u001b[0;34m=\u001b[0m\u001b[0mdtype\u001b[0m\u001b[0;34m)\u001b[0m\u001b[0;34m\u001b[0m\u001b[0;34m\u001b[0m\u001b[0m\n\u001b[0m\u001b[1;32m    746\u001b[0m \u001b[0;34m\u001b[0m\u001b[0m\n\u001b[1;32m    747\u001b[0m         \u001b[0;31m# At this point array is a NumPy ndarray. We convert it to an array\u001b[0m\u001b[0;34m\u001b[0m\u001b[0;34m\u001b[0m\u001b[0m\n\u001b[1;32m    748\u001b[0m         \u001b[0;31m# container that is consistent with the input's namespace.\u001b[0m\u001b[0;34m\u001b[0m\u001b[0;34m\u001b[0m\u001b[0m\n",
      "\u001b[0;32m~/.pyenv/versions/a1_lsda2025/lib/python3.11/site-packages/pandas/core/generic.py\u001b[0m in \u001b[0;36m?\u001b[0;34m(self, dtype, copy)\u001b[0m\n\u001b[1;32m   2149\u001b[0m     def __array__(\n\u001b[1;32m   2150\u001b[0m         \u001b[0mself\u001b[0m\u001b[0;34m,\u001b[0m \u001b[0mdtype\u001b[0m\u001b[0;34m:\u001b[0m \u001b[0mnpt\u001b[0m\u001b[0;34m.\u001b[0m\u001b[0mDTypeLike\u001b[0m \u001b[0;34m|\u001b[0m \u001b[0;32mNone\u001b[0m \u001b[0;34m=\u001b[0m \u001b[0;32mNone\u001b[0m\u001b[0;34m,\u001b[0m \u001b[0mcopy\u001b[0m\u001b[0;34m:\u001b[0m \u001b[0mbool_t\u001b[0m \u001b[0;34m|\u001b[0m \u001b[0;32mNone\u001b[0m \u001b[0;34m=\u001b[0m \u001b[0;32mNone\u001b[0m\u001b[0;34m\u001b[0m\u001b[0;34m\u001b[0m\u001b[0m\n\u001b[1;32m   2151\u001b[0m     ) -> np.ndarray:\n\u001b[1;32m   2152\u001b[0m         \u001b[0mvalues\u001b[0m \u001b[0;34m=\u001b[0m \u001b[0mself\u001b[0m\u001b[0;34m.\u001b[0m\u001b[0m_values\u001b[0m\u001b[0;34m\u001b[0m\u001b[0;34m\u001b[0m\u001b[0m\n\u001b[0;32m-> 2153\u001b[0;31m         \u001b[0marr\u001b[0m \u001b[0;34m=\u001b[0m \u001b[0mnp\u001b[0m\u001b[0;34m.\u001b[0m\u001b[0masarray\u001b[0m\u001b[0;34m(\u001b[0m\u001b[0mvalues\u001b[0m\u001b[0;34m,\u001b[0m \u001b[0mdtype\u001b[0m\u001b[0;34m=\u001b[0m\u001b[0mdtype\u001b[0m\u001b[0;34m)\u001b[0m\u001b[0;34m\u001b[0m\u001b[0;34m\u001b[0m\u001b[0m\n\u001b[0m\u001b[1;32m   2154\u001b[0m         if (\n\u001b[1;32m   2155\u001b[0m             \u001b[0mastype_is_view\u001b[0m\u001b[0;34m(\u001b[0m\u001b[0mvalues\u001b[0m\u001b[0;34m.\u001b[0m\u001b[0mdtype\u001b[0m\u001b[0;34m,\u001b[0m \u001b[0marr\u001b[0m\u001b[0;34m.\u001b[0m\u001b[0mdtype\u001b[0m\u001b[0;34m)\u001b[0m\u001b[0;34m\u001b[0m\u001b[0;34m\u001b[0m\u001b[0m\n\u001b[1;32m   2156\u001b[0m             \u001b[0;32mand\u001b[0m \u001b[0musing_copy_on_write\u001b[0m\u001b[0;34m(\u001b[0m\u001b[0;34m)\u001b[0m\u001b[0;34m\u001b[0m\u001b[0;34m\u001b[0m\u001b[0m\n",
      "\u001b[0;31mValueError\u001b[0m: could not convert string to float: 'SSE'"
     ]
    }
   ],
   "source": [
    "# poly features\n",
    "from sklearn.preprocessing import PolynomialFeatures\n",
    "\n",
    "# create polynomial features\n",
    "poly = PolynomialFeatures(degree=3, include_bias=False, interaction_only=False)\n",
    "poly_features = poly.fit_transform(joined_dfs[['Speed', 'Direction']])\n",
    "poly_features"
   ]
  },
  {
   "cell_type": "markdown",
   "metadata": {},
   "source": [
    "**NOTE:** <em>These plots should already give us an intuition of the different relationships between features. It seems clear that there is a positive relationship between the wind speed and the power generation from the turbines, as we obviously suspected. But that relationship is not completely linear. Can you spot that? Finally, it seems like the power generation also depends of where the winds is coming from. Maybe this could also be a useful feature.</em> "
   ]
  },
  {
   "cell_type": "code",
   "execution_count": null,
   "metadata": {},
   "outputs": [],
   "source": [
    "# How much data back: let's try 30, 90 days and 1 year back perhaps? Let's try with 90 days first and a year and then talk. For that I would just perform experiments\n",
    "# haha :)\n",
    "# More days means more data, but obviously in the past some other could be in place - I mean, climate change, global warming etc. Methaphorically speaking, data can 'expire'."
   ]
  },
  {
   "cell_type": "markdown",
   "metadata": {},
   "source": [
    "In order to plot the relationship between wind speed and power generation we have performed a very simple join with the two datasets. But since the intervals are not the same, a lot of data is discarded (<em>can you spot where in the code this happens?</em>). You may want to explore other ways to merge the data sources to minimize the loss of information."
   ]
  },
  {
   "cell_type": "code",
   "execution_count": null,
   "metadata": {},
   "outputs": [],
   "source": [
    "### TODO -> DO SOME EXTRA EDA ON THE DATA ###"
   ]
  },
  {
   "cell_type": "markdown",
   "metadata": {},
   "source": [
    "For each model:\n",
    "1. Pull data (7, 90, a year). Log time. You can also log dataset haha, to have it as a point of reference. Log the dataset on its own :)\n",
    "2. Drop missing and drop outliers. (I drop missing: enough data, drop outliers - standard procedure.) Check for missing\n",
    "3. Do the cross val. For 7 days, use 4 weeks. For 90 years, use the whole year. For one year, use another year.\n",
    "4. Encode features and scale them appropriately. Log the way it's been done haha, including info on them.\n",
    "5. Output the score.\n"
   ]
  },
  {
   "cell_type": "code",
   "execution_count": null,
   "metadata": {},
   "outputs": [],
   "source": [
    "from wind_power.dataset import InfluxDBClientWrapper, get_power_and_wind_data\n",
    "with InfluxDBClientWrapper() as client:\n",
    "    power_df, wind_df, today = get_power_and_wind_data(client, days=90)"
   ]
  },
  {
   "cell_type": "code",
   "execution_count": 13,
   "metadata": {},
   "outputs": [
    {
     "data": {
      "application/vnd.microsoft.datawrangler.viewer.v0+json": {
       "columns": [
        {
         "name": "time",
         "rawType": "object",
         "type": "string"
        },
        {
         "name": "Direction",
         "rawType": "object",
         "type": "string"
        },
        {
         "name": "Lead_hours",
         "rawType": "int64",
         "type": "integer"
        },
        {
         "name": "Source_time",
         "rawType": "int64",
         "type": "integer"
        },
        {
         "name": "Speed",
         "rawType": "float64",
         "type": "float"
        }
       ],
       "conversionMethod": "pd.DataFrame",
       "ref": "efb9b0ac-3cb6-4278-b73e-4588b22524ef",
       "rows": [
        [
         "2024-11-28 12:00:00+00:00",
         "S",
         "1",
         "1732788000",
         "4.91744"
        ],
        [
         "2024-11-28 15:00:00+00:00",
         "SSE",
         "1",
         "1732798800",
         "8.04672"
        ],
        [
         "2024-11-28 18:00:00+00:00",
         "S",
         "1",
         "1732809600",
         "12.07008"
        ],
        [
         "2024-11-28 21:00:00+00:00",
         "S",
         "1",
         "1732820400",
         "15.19936"
        ],
        [
         "2024-11-29 00:00:00+00:00",
         "S",
         "1",
         "1732831200",
         "13.85824"
        ]
       ],
       "shape": {
        "columns": 4,
        "rows": 5
       }
      },
      "text/html": [
       "<div>\n",
       "<style scoped>\n",
       "    .dataframe tbody tr th:only-of-type {\n",
       "        vertical-align: middle;\n",
       "    }\n",
       "\n",
       "    .dataframe tbody tr th {\n",
       "        vertical-align: top;\n",
       "    }\n",
       "\n",
       "    .dataframe thead th {\n",
       "        text-align: right;\n",
       "    }\n",
       "</style>\n",
       "<table border=\"1\" class=\"dataframe\">\n",
       "  <thead>\n",
       "    <tr style=\"text-align: right;\">\n",
       "      <th></th>\n",
       "      <th>Direction</th>\n",
       "      <th>Lead_hours</th>\n",
       "      <th>Source_time</th>\n",
       "      <th>Speed</th>\n",
       "    </tr>\n",
       "    <tr>\n",
       "      <th>time</th>\n",
       "      <th></th>\n",
       "      <th></th>\n",
       "      <th></th>\n",
       "      <th></th>\n",
       "    </tr>\n",
       "  </thead>\n",
       "  <tbody>\n",
       "    <tr>\n",
       "      <th>2024-11-28 12:00:00+00:00</th>\n",
       "      <td>S</td>\n",
       "      <td>1</td>\n",
       "      <td>1732788000</td>\n",
       "      <td>4.91744</td>\n",
       "    </tr>\n",
       "    <tr>\n",
       "      <th>2024-11-28 15:00:00+00:00</th>\n",
       "      <td>SSE</td>\n",
       "      <td>1</td>\n",
       "      <td>1732798800</td>\n",
       "      <td>8.04672</td>\n",
       "    </tr>\n",
       "    <tr>\n",
       "      <th>2024-11-28 18:00:00+00:00</th>\n",
       "      <td>S</td>\n",
       "      <td>1</td>\n",
       "      <td>1732809600</td>\n",
       "      <td>12.07008</td>\n",
       "    </tr>\n",
       "    <tr>\n",
       "      <th>2024-11-28 21:00:00+00:00</th>\n",
       "      <td>S</td>\n",
       "      <td>1</td>\n",
       "      <td>1732820400</td>\n",
       "      <td>15.19936</td>\n",
       "    </tr>\n",
       "    <tr>\n",
       "      <th>2024-11-29 00:00:00+00:00</th>\n",
       "      <td>S</td>\n",
       "      <td>1</td>\n",
       "      <td>1732831200</td>\n",
       "      <td>13.85824</td>\n",
       "    </tr>\n",
       "  </tbody>\n",
       "</table>\n",
       "</div>"
      ],
      "text/plain": [
       "                          Direction  Lead_hours  Source_time     Speed\n",
       "time                                                                  \n",
       "2024-11-28 12:00:00+00:00         S           1   1732788000   4.91744\n",
       "2024-11-28 15:00:00+00:00       SSE           1   1732798800   8.04672\n",
       "2024-11-28 18:00:00+00:00         S           1   1732809600  12.07008\n",
       "2024-11-28 21:00:00+00:00         S           1   1732820400  15.19936\n",
       "2024-11-29 00:00:00+00:00         S           1   1732831200  13.85824"
      ]
     },
     "execution_count": 13,
     "metadata": {},
     "output_type": "execute_result"
    }
   ],
   "source": [
    "power_df = pd.read_csv('./power_df.csv', index_col='time', usecols=['Total', 'time'])\n",
    "wind_df = pd.read_csv('./wind_df.csv', index_col='time')\n",
    "power_df.head()\n",
    "wind_df.head()"
   ]
  },
  {
   "cell_type": "code",
   "execution_count": 2,
   "metadata": {},
   "outputs": [],
   "source": [
    "from wind_power.features import wind_direction_symbol_to_vector_ct, wind_direction_symbol_to_onehot_ct"
   ]
  },
  {
   "cell_type": "code",
   "execution_count": 45,
   "metadata": {},
   "outputs": [
    {
     "data": {
      "text/plain": [
       "array([[0., 0., 0., ..., 0., 0., 0.],\n",
       "       [0., 0., 0., ..., 0., 0., 0.],\n",
       "       [0., 0., 0., ..., 0., 0., 0.],\n",
       "       ...,\n",
       "       [0., 0., 0., ..., 0., 0., 1.],\n",
       "       [0., 0., 0., ..., 1., 0., 0.],\n",
       "       [0., 0., 0., ..., 0., 0., 1.]])"
      ]
     },
     "execution_count": 45,
     "metadata": {},
     "output_type": "execute_result"
    }
   ],
   "source": [
    "from sklearn.preprocessing import OneHotEncoder\n",
    "encoder = OneHotEncoder(sparse_output=False)\n",
    "encoded_directions = encoder.fit_transform(wind_df[['Direction']])\n",
    "encoded_directions.shape\n",
    "encoded_directions"
   ]
  },
  {
   "cell_type": "code",
   "execution_count": null,
   "metadata": {},
   "outputs": [],
   "source": [
    "LabelEncoder"
   ]
  },
  {
   "cell_type": "code",
   "execution_count": 38,
   "metadata": {},
   "outputs": [
    {
     "data": {
      "application/vnd.microsoft.datawrangler.viewer.v0+json": {
       "columns": [
        {
         "name": "time",
         "rawType": "datetime64[ns, UTC]",
         "type": "unknown"
        },
        {
         "name": "Direction",
         "rawType": "object",
         "type": "string"
        },
        {
         "name": "Wx",
         "rawType": "float64",
         "type": "float"
        },
        {
         "name": "Wy",
         "rawType": "float64",
         "type": "float"
        },
        {
         "name": "Lead_hours",
         "rawType": "object",
         "type": "string"
        },
        {
         "name": "Source_time",
         "rawType": "int64",
         "type": "integer"
        },
        {
         "name": "Speed",
         "rawType": "float64",
         "type": "float"
        }
       ],
       "conversionMethod": "pd.DataFrame",
       "ref": "e3a7fe83-eced-4ad9-97af-95b18f4b6b28",
       "rows": [
        [
         "2024-12-03 09:00:00+00:00",
         "SSE",
         "-0.9238795325112867",
         "0.38268343236508984",
         "1",
         "1733209200",
         "4.91744"
        ],
        [
         "2024-12-03 12:00:00+00:00",
         "S",
         "-1.0",
         "0.0",
         "1",
         "1733220000",
         "8.04672"
        ],
        [
         "2024-12-03 15:00:00+00:00",
         "S",
         "-1.0",
         "0.0",
         "1",
         "1733230800",
         "12.070079999999999"
        ],
        [
         "2024-12-03 18:00:00+00:00",
         "S",
         "-1.0",
         "0.0",
         "1",
         "1733241600",
         "11.176"
        ],
        [
         "2024-12-03 21:00:00+00:00",
         "S",
         "-1.0",
         "0.0",
         "1",
         "1733252400",
         "9.83488"
        ],
        [
         "2024-12-04 00:00:00+00:00",
         "WNW",
         "0.38268343236509",
         "-0.9238795325112866",
         "1",
         "1733263200",
         "11.176"
        ],
        [
         "2024-12-04 03:00:00+00:00",
         "WSW",
         "-0.3826834323650895",
         "-0.9238795325112868",
         "1",
         "1733274000",
         "11.176"
        ],
        [
         "2024-12-04 06:00:00+00:00",
         "W",
         "0.0",
         "-1.0",
         "1",
         "1733284800",
         "4.91744"
        ],
        [
         "2024-12-04 09:00:00+00:00",
         "WSW",
         "-0.3826834323650895",
         "-0.9238795325112868",
         "1",
         "1733295600",
         "7.15264"
        ],
        [
         "2024-12-04 12:00:00+00:00",
         "SSW",
         "-0.923879532511287",
         "-0.3826834323650892",
         "1",
         "1733306400",
         "7.15264"
        ],
        [
         "2024-12-04 15:00:00+00:00",
         "SSE",
         "-0.9238795325112867",
         "0.38268343236508984",
         "1",
         "1733317200",
         "8.9408"
        ],
        [
         "2024-12-04 18:00:00+00:00",
         "SSE",
         "-0.9238795325112867",
         "0.38268343236508984",
         "1",
         "1733328000",
         "13.85824"
        ],
        [
         "2024-12-04 21:00:00+00:00",
         "SSE",
         "-0.9238795325112867",
         "0.38268343236508984",
         "1",
         "1733338800",
         "21.01088"
        ],
        [
         "2024-12-05 00:00:00+00:00",
         "S",
         "-1.0",
         "0.0",
         "1",
         "1733349600",
         "16.09344"
        ],
        [
         "2024-12-05 03:00:00+00:00",
         "SSW",
         "-0.923879532511287",
         "-0.3826834323650892",
         "1",
         "1733360400",
         "7.15264"
        ],
        [
         "2024-12-05 06:00:00+00:00",
         "SW",
         "-0.7071067811865477",
         "-0.7071067811865474",
         "1",
         "1733371200",
         "8.04672"
        ],
        [
         "2024-12-05 09:00:00+00:00",
         "SW",
         "-0.7071067811865477",
         "-0.7071067811865474",
         "1",
         "1733382000",
         "8.04672"
        ],
        [
         "2024-12-05 12:00:00+00:00",
         "SW",
         "-0.7071067811865477",
         "-0.7071067811865474",
         "1",
         "1733392800",
         "8.9408"
        ],
        [
         "2024-12-05 15:00:00+00:00",
         "SSW",
         "-0.923879532511287",
         "-0.3826834323650892",
         "1",
         "1733403600",
         "7.15264"
        ],
        [
         "2024-12-05 18:00:00+00:00",
         "SW",
         "-0.7071067811865477",
         "-0.7071067811865474",
         "1",
         "1733414400",
         "4.91744"
        ],
        [
         "2024-12-05 21:00:00+00:00",
         "WSW",
         "-0.3826834323650895",
         "-0.9238795325112868",
         "1",
         "1733425200",
         "7.15264"
        ],
        [
         "2024-12-06 00:00:00+00:00",
         "WNW",
         "0.38268343236509",
         "-0.9238795325112866",
         "1",
         "1733436000",
         "7.15264"
        ],
        [
         "2024-12-06 03:00:00+00:00",
         "W",
         "0.0",
         "-1.0",
         "1",
         "1733446800",
         "12.96416"
        ],
        [
         "2024-12-06 06:00:00+00:00",
         "WNW",
         "0.38268343236509",
         "-0.9238795325112866",
         "1",
         "1733457600",
         "13.85824"
        ],
        [
         "2024-12-06 09:00:00+00:00",
         "WNW",
         "0.38268343236509",
         "-0.9238795325112866",
         "1",
         "1733468400",
         "12.070079999999999"
        ],
        [
         "2024-12-06 12:00:00+00:00",
         "WSW",
         "-0.3826834323650895",
         "-0.9238795325112868",
         "1",
         "1733479200",
         "4.91744"
        ],
        [
         "2024-12-06 15:00:00+00:00",
         "SSW",
         "-0.923879532511287",
         "-0.3826834323650892",
         "1",
         "1733490000",
         "5.81152"
        ],
        [
         "2024-12-06 18:00:00+00:00",
         "S",
         "-1.0",
         "0.0",
         "1",
         "1733500800",
         "4.91744"
        ],
        [
         "2024-12-06 21:00:00+00:00",
         "SSE",
         "-0.9238795325112867",
         "0.38268343236508984",
         "1",
         "1733511600",
         "5.81152"
        ],
        [
         "2024-12-07 00:00:00+00:00",
         "SE",
         "-0.7071067811865475",
         "0.7071067811865476",
         "1",
         "1733522400",
         "8.04672"
        ],
        [
         "2024-12-07 03:00:00+00:00",
         "E",
         "0.0",
         "1.0",
         "1",
         "1733533200",
         "5.81152"
        ],
        [
         "2024-12-07 06:00:00+00:00",
         "NE",
         "0.7071067811865476",
         "0.7071067811865475",
         "1",
         "1733544000",
         "8.9408"
        ],
        [
         "2024-12-07 09:00:00+00:00",
         "NNE",
         "0.9238795325112867",
         "0.3826834323650898",
         "1",
         "1733554800",
         "8.9408"
        ],
        [
         "2024-12-07 12:00:00+00:00",
         "NNE",
         "0.9238795325112867",
         "0.3826834323650898",
         "1",
         "1733565600",
         "12.96416"
        ],
        [
         "2024-12-07 15:00:00+00:00",
         "N",
         "1.0",
         "0.0",
         "1",
         "1733576400",
         "21.01088"
        ],
        [
         "2024-12-07 18:00:00+00:00",
         "N",
         "1.0",
         "0.0",
         "1",
         "1733587200",
         "19.22272"
        ],
        [
         "2024-12-07 21:00:00+00:00",
         "N",
         "1.0",
         "0.0",
         "1",
         "1733598000",
         "15.19936"
        ],
        [
         "2024-12-08 00:00:00+00:00",
         "N",
         "1.0",
         "0.0",
         "1",
         "1733608800",
         "12.96416"
        ],
        [
         "2024-12-08 03:00:00+00:00",
         "N",
         "1.0",
         "0.0",
         "1",
         "1733619600",
         "16.09344"
        ],
        [
         "2024-12-08 06:00:00+00:00",
         "N",
         "1.0",
         "0.0",
         "1",
         "1733630400",
         "15.19936"
        ],
        [
         "2024-12-08 09:00:00+00:00",
         "NNE",
         "0.9238795325112867",
         "0.3826834323650898",
         "1",
         "1733641200",
         "13.85824"
        ],
        [
         "2024-12-08 12:00:00+00:00",
         "NNE",
         "0.9238795325112867",
         "0.3826834323650898",
         "1",
         "1733652000",
         "12.070079999999999"
        ],
        [
         "2024-12-08 15:00:00+00:00",
         "NNE",
         "0.9238795325112867",
         "0.3826834323650898",
         "1",
         "1733662800",
         "9.83488"
        ],
        [
         "2024-12-08 18:00:00+00:00",
         "N",
         "1.0",
         "0.0",
         "1",
         "1733673600",
         "8.04672"
        ],
        [
         "2024-12-08 21:00:00+00:00",
         "N",
         "1.0",
         "0.0",
         "1",
         "1733684400",
         "4.91744"
        ],
        [
         "2024-12-09 00:00:00+00:00",
         "NW",
         "0.7071067811865474",
         "-0.7071067811865477",
         "1",
         "1733695200",
         "3.12928"
        ],
        [
         "2024-12-09 03:00:00+00:00",
         "NNW",
         "0.9238795325112868",
         "-0.38268343236508956",
         "1",
         "1733706000",
         "3.12928"
        ],
        [
         "2024-12-09 06:00:00+00:00",
         "WNW",
         "0.38268343236509",
         "-0.9238795325112866",
         "1",
         "1733716800",
         "1.78816"
        ],
        [
         "2024-12-09 09:00:00+00:00",
         "WSW",
         "-0.3826834323650895",
         "-0.9238795325112868",
         "1",
         "1733727600",
         "3.12928"
        ],
        [
         "2024-12-09 12:00:00+00:00",
         "WSW",
         "-0.3826834323650895",
         "-0.9238795325112868",
         "1",
         "1733738400",
         "4.02336"
        ]
       ],
       "shape": {
        "columns": 6,
        "rows": 720
       }
      },
      "text/html": [
       "<div>\n",
       "<style scoped>\n",
       "    .dataframe tbody tr th:only-of-type {\n",
       "        vertical-align: middle;\n",
       "    }\n",
       "\n",
       "    .dataframe tbody tr th {\n",
       "        vertical-align: top;\n",
       "    }\n",
       "\n",
       "    .dataframe thead th {\n",
       "        text-align: right;\n",
       "    }\n",
       "</style>\n",
       "<table border=\"1\" class=\"dataframe\">\n",
       "  <thead>\n",
       "    <tr style=\"text-align: right;\">\n",
       "      <th></th>\n",
       "      <th>Direction</th>\n",
       "      <th>Wx</th>\n",
       "      <th>Wy</th>\n",
       "      <th>Lead_hours</th>\n",
       "      <th>Source_time</th>\n",
       "      <th>Speed</th>\n",
       "    </tr>\n",
       "    <tr>\n",
       "      <th>time</th>\n",
       "      <th></th>\n",
       "      <th></th>\n",
       "      <th></th>\n",
       "      <th></th>\n",
       "      <th></th>\n",
       "      <th></th>\n",
       "    </tr>\n",
       "  </thead>\n",
       "  <tbody>\n",
       "    <tr>\n",
       "      <th>2024-12-03 09:00:00+00:00</th>\n",
       "      <td>SSE</td>\n",
       "      <td>-0.923880</td>\n",
       "      <td>0.382683</td>\n",
       "      <td>1</td>\n",
       "      <td>1733209200</td>\n",
       "      <td>4.91744</td>\n",
       "    </tr>\n",
       "    <tr>\n",
       "      <th>2024-12-03 12:00:00+00:00</th>\n",
       "      <td>S</td>\n",
       "      <td>-1.000000</td>\n",
       "      <td>0.000000</td>\n",
       "      <td>1</td>\n",
       "      <td>1733220000</td>\n",
       "      <td>8.04672</td>\n",
       "    </tr>\n",
       "    <tr>\n",
       "      <th>2024-12-03 15:00:00+00:00</th>\n",
       "      <td>S</td>\n",
       "      <td>-1.000000</td>\n",
       "      <td>0.000000</td>\n",
       "      <td>1</td>\n",
       "      <td>1733230800</td>\n",
       "      <td>12.07008</td>\n",
       "    </tr>\n",
       "    <tr>\n",
       "      <th>2024-12-03 18:00:00+00:00</th>\n",
       "      <td>S</td>\n",
       "      <td>-1.000000</td>\n",
       "      <td>0.000000</td>\n",
       "      <td>1</td>\n",
       "      <td>1733241600</td>\n",
       "      <td>11.17600</td>\n",
       "    </tr>\n",
       "    <tr>\n",
       "      <th>2024-12-03 21:00:00+00:00</th>\n",
       "      <td>S</td>\n",
       "      <td>-1.000000</td>\n",
       "      <td>0.000000</td>\n",
       "      <td>1</td>\n",
       "      <td>1733252400</td>\n",
       "      <td>9.83488</td>\n",
       "    </tr>\n",
       "    <tr>\n",
       "      <th>...</th>\n",
       "      <td>...</td>\n",
       "      <td>...</td>\n",
       "      <td>...</td>\n",
       "      <td>...</td>\n",
       "      <td>...</td>\n",
       "      <td>...</td>\n",
       "    </tr>\n",
       "    <tr>\n",
       "      <th>2025-03-02 18:00:00+00:00</th>\n",
       "      <td>WSW</td>\n",
       "      <td>-0.382683</td>\n",
       "      <td>-0.923880</td>\n",
       "      <td>1</td>\n",
       "      <td>1740931200</td>\n",
       "      <td>16.09344</td>\n",
       "    </tr>\n",
       "    <tr>\n",
       "      <th>2025-03-02 21:00:00+00:00</th>\n",
       "      <td>WSW</td>\n",
       "      <td>-0.382683</td>\n",
       "      <td>-0.923880</td>\n",
       "      <td>1</td>\n",
       "      <td>1740942000</td>\n",
       "      <td>17.88160</td>\n",
       "    </tr>\n",
       "    <tr>\n",
       "      <th>2025-03-03 00:00:00+00:00</th>\n",
       "      <td>WSW</td>\n",
       "      <td>-0.382683</td>\n",
       "      <td>-0.923880</td>\n",
       "      <td>1</td>\n",
       "      <td>1740952800</td>\n",
       "      <td>11.17600</td>\n",
       "    </tr>\n",
       "    <tr>\n",
       "      <th>2025-03-03 03:00:00+00:00</th>\n",
       "      <td>W</td>\n",
       "      <td>0.000000</td>\n",
       "      <td>-1.000000</td>\n",
       "      <td>1</td>\n",
       "      <td>1740963600</td>\n",
       "      <td>13.85824</td>\n",
       "    </tr>\n",
       "    <tr>\n",
       "      <th>2025-03-03 06:00:00+00:00</th>\n",
       "      <td>WSW</td>\n",
       "      <td>-0.382683</td>\n",
       "      <td>-0.923880</td>\n",
       "      <td>1</td>\n",
       "      <td>1740974400</td>\n",
       "      <td>15.19936</td>\n",
       "    </tr>\n",
       "  </tbody>\n",
       "</table>\n",
       "<p>720 rows × 6 columns</p>\n",
       "</div>"
      ],
      "text/plain": [
       "                          Direction        Wx        Wy Lead_hours  \\\n",
       "time                                                                 \n",
       "2024-12-03 09:00:00+00:00       SSE -0.923880  0.382683          1   \n",
       "2024-12-03 12:00:00+00:00         S -1.000000  0.000000          1   \n",
       "2024-12-03 15:00:00+00:00         S -1.000000  0.000000          1   \n",
       "2024-12-03 18:00:00+00:00         S -1.000000  0.000000          1   \n",
       "2024-12-03 21:00:00+00:00         S -1.000000  0.000000          1   \n",
       "...                             ...       ...       ...        ...   \n",
       "2025-03-02 18:00:00+00:00       WSW -0.382683 -0.923880          1   \n",
       "2025-03-02 21:00:00+00:00       WSW -0.382683 -0.923880          1   \n",
       "2025-03-03 00:00:00+00:00       WSW -0.382683 -0.923880          1   \n",
       "2025-03-03 03:00:00+00:00         W  0.000000 -1.000000          1   \n",
       "2025-03-03 06:00:00+00:00       WSW -0.382683 -0.923880          1   \n",
       "\n",
       "                           Source_time     Speed  \n",
       "time                                              \n",
       "2024-12-03 09:00:00+00:00   1733209200   4.91744  \n",
       "2024-12-03 12:00:00+00:00   1733220000   8.04672  \n",
       "2024-12-03 15:00:00+00:00   1733230800  12.07008  \n",
       "2024-12-03 18:00:00+00:00   1733241600  11.17600  \n",
       "2024-12-03 21:00:00+00:00   1733252400   9.83488  \n",
       "...                                ...       ...  \n",
       "2025-03-02 18:00:00+00:00   1740931200  16.09344  \n",
       "2025-03-02 21:00:00+00:00   1740942000  17.88160  \n",
       "2025-03-03 00:00:00+00:00   1740952800  11.17600  \n",
       "2025-03-03 03:00:00+00:00   1740963600  13.85824  \n",
       "2025-03-03 06:00:00+00:00   1740974400  15.19936  \n",
       "\n",
       "[720 rows x 6 columns]"
      ]
     },
     "execution_count": 38,
     "metadata": {},
     "output_type": "execute_result"
    }
   ],
   "source": [
    "wind_direction_symbol_to_vector_ct.fit_transform(wind_df)"
   ]
  },
  {
   "cell_type": "code",
   "execution_count": 9,
   "metadata": {},
   "outputs": [
    {
     "ename": "TypeError",
     "evalue": "'OneHotEncoder' object is not iterable",
     "output_type": "error",
     "traceback": [
      "\u001b[0;31m---------------------------------------------------------------------------\u001b[0m",
      "\u001b[0;31mTypeError\u001b[0m                                 Traceback (most recent call last)",
      "Cell \u001b[0;32mIn[9], line 1\u001b[0m\n\u001b[0;32m----> 1\u001b[0m \u001b[43mwind_direction_symbol_to_onehot_ct\u001b[49m\u001b[38;5;241;43m.\u001b[39;49m\u001b[43mfit_transform\u001b[49m\u001b[43m(\u001b[49m\u001b[43mwind_df\u001b[49m\u001b[43m)\u001b[49m\n",
      "File \u001b[0;32m~/.pyenv/versions/a1_lsda2025/lib/python3.11/site-packages/sklearn/utils/_set_output.py:316\u001b[0m, in \u001b[0;36m_wrap_method_output.<locals>.wrapped\u001b[0;34m(self, X, *args, **kwargs)\u001b[0m\n\u001b[1;32m    314\u001b[0m \u001b[38;5;129m@wraps\u001b[39m(f)\n\u001b[1;32m    315\u001b[0m \u001b[38;5;28;01mdef\u001b[39;00m\u001b[38;5;250m \u001b[39m\u001b[38;5;21mwrapped\u001b[39m(\u001b[38;5;28mself\u001b[39m, X, \u001b[38;5;241m*\u001b[39margs, \u001b[38;5;241m*\u001b[39m\u001b[38;5;241m*\u001b[39mkwargs):\n\u001b[0;32m--> 316\u001b[0m     data_to_wrap \u001b[38;5;241m=\u001b[39m \u001b[43mf\u001b[49m\u001b[43m(\u001b[49m\u001b[38;5;28;43mself\u001b[39;49m\u001b[43m,\u001b[49m\u001b[43m \u001b[49m\u001b[43mX\u001b[49m\u001b[43m,\u001b[49m\u001b[43m \u001b[49m\u001b[38;5;241;43m*\u001b[39;49m\u001b[43margs\u001b[49m\u001b[43m,\u001b[49m\u001b[43m \u001b[49m\u001b[38;5;241;43m*\u001b[39;49m\u001b[38;5;241;43m*\u001b[39;49m\u001b[43mkwargs\u001b[49m\u001b[43m)\u001b[49m\n\u001b[1;32m    317\u001b[0m     \u001b[38;5;28;01mif\u001b[39;00m \u001b[38;5;28misinstance\u001b[39m(data_to_wrap, \u001b[38;5;28mtuple\u001b[39m):\n\u001b[1;32m    318\u001b[0m         \u001b[38;5;66;03m# only wrap the first output for cross decomposition\u001b[39;00m\n\u001b[1;32m    319\u001b[0m         return_tuple \u001b[38;5;241m=\u001b[39m (\n\u001b[1;32m    320\u001b[0m             _wrap_data_with_container(method, data_to_wrap[\u001b[38;5;241m0\u001b[39m], X, \u001b[38;5;28mself\u001b[39m),\n\u001b[1;32m    321\u001b[0m             \u001b[38;5;241m*\u001b[39mdata_to_wrap[\u001b[38;5;241m1\u001b[39m:],\n\u001b[1;32m    322\u001b[0m         )\n",
      "File \u001b[0;32m~/.pyenv/versions/a1_lsda2025/lib/python3.11/site-packages/sklearn/base.py:1473\u001b[0m, in \u001b[0;36m_fit_context.<locals>.decorator.<locals>.wrapper\u001b[0;34m(estimator, *args, **kwargs)\u001b[0m\n\u001b[1;32m   1466\u001b[0m     estimator\u001b[38;5;241m.\u001b[39m_validate_params()\n\u001b[1;32m   1468\u001b[0m \u001b[38;5;28;01mwith\u001b[39;00m config_context(\n\u001b[1;32m   1469\u001b[0m     skip_parameter_validation\u001b[38;5;241m=\u001b[39m(\n\u001b[1;32m   1470\u001b[0m         prefer_skip_nested_validation \u001b[38;5;129;01mor\u001b[39;00m global_skip_validation\n\u001b[1;32m   1471\u001b[0m     )\n\u001b[1;32m   1472\u001b[0m ):\n\u001b[0;32m-> 1473\u001b[0m     \u001b[38;5;28;01mreturn\u001b[39;00m \u001b[43mfit_method\u001b[49m\u001b[43m(\u001b[49m\u001b[43mestimator\u001b[49m\u001b[43m,\u001b[49m\u001b[43m \u001b[49m\u001b[38;5;241;43m*\u001b[39;49m\u001b[43margs\u001b[49m\u001b[43m,\u001b[49m\u001b[43m \u001b[49m\u001b[38;5;241;43m*\u001b[39;49m\u001b[38;5;241;43m*\u001b[39;49m\u001b[43mkwargs\u001b[49m\u001b[43m)\u001b[49m\n",
      "File \u001b[0;32m~/.pyenv/versions/a1_lsda2025/lib/python3.11/site-packages/sklearn/compose/_column_transformer.py:965\u001b[0m, in \u001b[0;36mColumnTransformer.fit_transform\u001b[0;34m(self, X, y, **params)\u001b[0m\n\u001b[1;32m    963\u001b[0m \u001b[38;5;66;03m# set n_features_in_ attribute\u001b[39;00m\n\u001b[1;32m    964\u001b[0m \u001b[38;5;28mself\u001b[39m\u001b[38;5;241m.\u001b[39m_check_n_features(X, reset\u001b[38;5;241m=\u001b[39m\u001b[38;5;28;01mTrue\u001b[39;00m)\n\u001b[0;32m--> 965\u001b[0m \u001b[38;5;28;43mself\u001b[39;49m\u001b[38;5;241;43m.\u001b[39;49m\u001b[43m_validate_transformers\u001b[49m\u001b[43m(\u001b[49m\u001b[43m)\u001b[49m\n\u001b[1;32m    966\u001b[0m n_samples \u001b[38;5;241m=\u001b[39m _num_samples(X)\n\u001b[1;32m    968\u001b[0m \u001b[38;5;28mself\u001b[39m\u001b[38;5;241m.\u001b[39m_validate_column_callables(X)\n",
      "File \u001b[0;32m~/.pyenv/versions/a1_lsda2025/lib/python3.11/site-packages/sklearn/compose/_column_transformer.py:501\u001b[0m, in \u001b[0;36mColumnTransformer._validate_transformers\u001b[0;34m(self)\u001b[0m\n\u001b[1;32m    498\u001b[0m \u001b[38;5;28;01mif\u001b[39;00m \u001b[38;5;129;01mnot\u001b[39;00m \u001b[38;5;28mself\u001b[39m\u001b[38;5;241m.\u001b[39mtransformers:\n\u001b[1;32m    499\u001b[0m     \u001b[38;5;28;01mreturn\u001b[39;00m\n\u001b[0;32m--> 501\u001b[0m names, transformers, _ \u001b[38;5;241m=\u001b[39m \u001b[38;5;28;43mzip\u001b[39;49m\u001b[43m(\u001b[49m\u001b[38;5;241;43m*\u001b[39;49m\u001b[38;5;28;43mself\u001b[39;49m\u001b[38;5;241;43m.\u001b[39;49m\u001b[43mtransformers\u001b[49m\u001b[43m)\u001b[49m\n\u001b[1;32m    503\u001b[0m \u001b[38;5;66;03m# validate names\u001b[39;00m\n\u001b[1;32m    504\u001b[0m \u001b[38;5;28mself\u001b[39m\u001b[38;5;241m.\u001b[39m_validate_names(names)\n",
      "\u001b[0;31mTypeError\u001b[0m: 'OneHotEncoder' object is not iterable"
     ]
    }
   ],
   "source": [
    "wind_direction_symbol_to_onehot_ct.fit_transform(wind_df)"
   ]
  },
  {
   "cell_type": "code",
   "execution_count": null,
   "metadata": {},
   "outputs": [
    {
     "data": {
      "application/vnd.microsoft.datawrangler.viewer.v0+json": {
       "columns": [
        {
         "name": "time",
         "rawType": "datetime64[ns, UTC]",
         "type": "unknown"
        },
        {
         "name": "E",
         "rawType": "bool",
         "type": "boolean"
        },
        {
         "name": "ENE",
         "rawType": "bool",
         "type": "boolean"
        },
        {
         "name": "ESE",
         "rawType": "bool",
         "type": "boolean"
        },
        {
         "name": "N",
         "rawType": "bool",
         "type": "boolean"
        },
        {
         "name": "NE",
         "rawType": "bool",
         "type": "boolean"
        },
        {
         "name": "NNE",
         "rawType": "bool",
         "type": "boolean"
        },
        {
         "name": "NNW",
         "rawType": "bool",
         "type": "boolean"
        },
        {
         "name": "NW",
         "rawType": "bool",
         "type": "boolean"
        },
        {
         "name": "S",
         "rawType": "bool",
         "type": "boolean"
        },
        {
         "name": "SE",
         "rawType": "bool",
         "type": "boolean"
        },
        {
         "name": "SSE",
         "rawType": "bool",
         "type": "boolean"
        },
        {
         "name": "SSW",
         "rawType": "bool",
         "type": "boolean"
        },
        {
         "name": "SW",
         "rawType": "bool",
         "type": "boolean"
        },
        {
         "name": "W",
         "rawType": "bool",
         "type": "boolean"
        },
        {
         "name": "WNW",
         "rawType": "bool",
         "type": "boolean"
        },
        {
         "name": "WSW",
         "rawType": "bool",
         "type": "boolean"
        }
       ],
       "conversionMethod": "pd.DataFrame",
       "ref": "beedfde8-8526-4af8-84f9-61b145e97de4",
       "rows": [
        [
         "2024-12-03 09:00:00+00:00",
         "False",
         "False",
         "False",
         "False",
         "False",
         "False",
         "False",
         "False",
         "False",
         "False",
         "True",
         "False",
         "False",
         "False",
         "False",
         "False"
        ],
        [
         "2024-12-03 12:00:00+00:00",
         "False",
         "False",
         "False",
         "False",
         "False",
         "False",
         "False",
         "False",
         "True",
         "False",
         "False",
         "False",
         "False",
         "False",
         "False",
         "False"
        ],
        [
         "2024-12-03 15:00:00+00:00",
         "False",
         "False",
         "False",
         "False",
         "False",
         "False",
         "False",
         "False",
         "True",
         "False",
         "False",
         "False",
         "False",
         "False",
         "False",
         "False"
        ],
        [
         "2024-12-03 18:00:00+00:00",
         "False",
         "False",
         "False",
         "False",
         "False",
         "False",
         "False",
         "False",
         "True",
         "False",
         "False",
         "False",
         "False",
         "False",
         "False",
         "False"
        ],
        [
         "2024-12-03 21:00:00+00:00",
         "False",
         "False",
         "False",
         "False",
         "False",
         "False",
         "False",
         "False",
         "True",
         "False",
         "False",
         "False",
         "False",
         "False",
         "False",
         "False"
        ],
        [
         "2024-12-04 00:00:00+00:00",
         "False",
         "False",
         "False",
         "False",
         "False",
         "False",
         "False",
         "False",
         "False",
         "False",
         "False",
         "False",
         "False",
         "False",
         "True",
         "False"
        ],
        [
         "2024-12-04 03:00:00+00:00",
         "False",
         "False",
         "False",
         "False",
         "False",
         "False",
         "False",
         "False",
         "False",
         "False",
         "False",
         "False",
         "False",
         "False",
         "False",
         "True"
        ],
        [
         "2024-12-04 06:00:00+00:00",
         "False",
         "False",
         "False",
         "False",
         "False",
         "False",
         "False",
         "False",
         "False",
         "False",
         "False",
         "False",
         "False",
         "True",
         "False",
         "False"
        ],
        [
         "2024-12-04 09:00:00+00:00",
         "False",
         "False",
         "False",
         "False",
         "False",
         "False",
         "False",
         "False",
         "False",
         "False",
         "False",
         "False",
         "False",
         "False",
         "False",
         "True"
        ],
        [
         "2024-12-04 12:00:00+00:00",
         "False",
         "False",
         "False",
         "False",
         "False",
         "False",
         "False",
         "False",
         "False",
         "False",
         "False",
         "True",
         "False",
         "False",
         "False",
         "False"
        ],
        [
         "2024-12-04 15:00:00+00:00",
         "False",
         "False",
         "False",
         "False",
         "False",
         "False",
         "False",
         "False",
         "False",
         "False",
         "True",
         "False",
         "False",
         "False",
         "False",
         "False"
        ],
        [
         "2024-12-04 18:00:00+00:00",
         "False",
         "False",
         "False",
         "False",
         "False",
         "False",
         "False",
         "False",
         "False",
         "False",
         "True",
         "False",
         "False",
         "False",
         "False",
         "False"
        ],
        [
         "2024-12-04 21:00:00+00:00",
         "False",
         "False",
         "False",
         "False",
         "False",
         "False",
         "False",
         "False",
         "False",
         "False",
         "True",
         "False",
         "False",
         "False",
         "False",
         "False"
        ],
        [
         "2024-12-05 00:00:00+00:00",
         "False",
         "False",
         "False",
         "False",
         "False",
         "False",
         "False",
         "False",
         "True",
         "False",
         "False",
         "False",
         "False",
         "False",
         "False",
         "False"
        ],
        [
         "2024-12-05 03:00:00+00:00",
         "False",
         "False",
         "False",
         "False",
         "False",
         "False",
         "False",
         "False",
         "False",
         "False",
         "False",
         "True",
         "False",
         "False",
         "False",
         "False"
        ],
        [
         "2024-12-05 06:00:00+00:00",
         "False",
         "False",
         "False",
         "False",
         "False",
         "False",
         "False",
         "False",
         "False",
         "False",
         "False",
         "False",
         "True",
         "False",
         "False",
         "False"
        ],
        [
         "2024-12-05 09:00:00+00:00",
         "False",
         "False",
         "False",
         "False",
         "False",
         "False",
         "False",
         "False",
         "False",
         "False",
         "False",
         "False",
         "True",
         "False",
         "False",
         "False"
        ],
        [
         "2024-12-05 12:00:00+00:00",
         "False",
         "False",
         "False",
         "False",
         "False",
         "False",
         "False",
         "False",
         "False",
         "False",
         "False",
         "False",
         "True",
         "False",
         "False",
         "False"
        ],
        [
         "2024-12-05 15:00:00+00:00",
         "False",
         "False",
         "False",
         "False",
         "False",
         "False",
         "False",
         "False",
         "False",
         "False",
         "False",
         "True",
         "False",
         "False",
         "False",
         "False"
        ],
        [
         "2024-12-05 18:00:00+00:00",
         "False",
         "False",
         "False",
         "False",
         "False",
         "False",
         "False",
         "False",
         "False",
         "False",
         "False",
         "False",
         "True",
         "False",
         "False",
         "False"
        ],
        [
         "2024-12-05 21:00:00+00:00",
         "False",
         "False",
         "False",
         "False",
         "False",
         "False",
         "False",
         "False",
         "False",
         "False",
         "False",
         "False",
         "False",
         "False",
         "False",
         "True"
        ],
        [
         "2024-12-06 00:00:00+00:00",
         "False",
         "False",
         "False",
         "False",
         "False",
         "False",
         "False",
         "False",
         "False",
         "False",
         "False",
         "False",
         "False",
         "False",
         "True",
         "False"
        ],
        [
         "2024-12-06 03:00:00+00:00",
         "False",
         "False",
         "False",
         "False",
         "False",
         "False",
         "False",
         "False",
         "False",
         "False",
         "False",
         "False",
         "False",
         "True",
         "False",
         "False"
        ],
        [
         "2024-12-06 06:00:00+00:00",
         "False",
         "False",
         "False",
         "False",
         "False",
         "False",
         "False",
         "False",
         "False",
         "False",
         "False",
         "False",
         "False",
         "False",
         "True",
         "False"
        ],
        [
         "2024-12-06 09:00:00+00:00",
         "False",
         "False",
         "False",
         "False",
         "False",
         "False",
         "False",
         "False",
         "False",
         "False",
         "False",
         "False",
         "False",
         "False",
         "True",
         "False"
        ],
        [
         "2024-12-06 12:00:00+00:00",
         "False",
         "False",
         "False",
         "False",
         "False",
         "False",
         "False",
         "False",
         "False",
         "False",
         "False",
         "False",
         "False",
         "False",
         "False",
         "True"
        ],
        [
         "2024-12-06 15:00:00+00:00",
         "False",
         "False",
         "False",
         "False",
         "False",
         "False",
         "False",
         "False",
         "False",
         "False",
         "False",
         "True",
         "False",
         "False",
         "False",
         "False"
        ],
        [
         "2024-12-06 18:00:00+00:00",
         "False",
         "False",
         "False",
         "False",
         "False",
         "False",
         "False",
         "False",
         "True",
         "False",
         "False",
         "False",
         "False",
         "False",
         "False",
         "False"
        ],
        [
         "2024-12-06 21:00:00+00:00",
         "False",
         "False",
         "False",
         "False",
         "False",
         "False",
         "False",
         "False",
         "False",
         "False",
         "True",
         "False",
         "False",
         "False",
         "False",
         "False"
        ],
        [
         "2024-12-07 00:00:00+00:00",
         "False",
         "False",
         "False",
         "False",
         "False",
         "False",
         "False",
         "False",
         "False",
         "True",
         "False",
         "False",
         "False",
         "False",
         "False",
         "False"
        ],
        [
         "2024-12-07 03:00:00+00:00",
         "True",
         "False",
         "False",
         "False",
         "False",
         "False",
         "False",
         "False",
         "False",
         "False",
         "False",
         "False",
         "False",
         "False",
         "False",
         "False"
        ],
        [
         "2024-12-07 06:00:00+00:00",
         "False",
         "False",
         "False",
         "False",
         "True",
         "False",
         "False",
         "False",
         "False",
         "False",
         "False",
         "False",
         "False",
         "False",
         "False",
         "False"
        ],
        [
         "2024-12-07 09:00:00+00:00",
         "False",
         "False",
         "False",
         "False",
         "False",
         "True",
         "False",
         "False",
         "False",
         "False",
         "False",
         "False",
         "False",
         "False",
         "False",
         "False"
        ],
        [
         "2024-12-07 12:00:00+00:00",
         "False",
         "False",
         "False",
         "False",
         "False",
         "True",
         "False",
         "False",
         "False",
         "False",
         "False",
         "False",
         "False",
         "False",
         "False",
         "False"
        ],
        [
         "2024-12-07 15:00:00+00:00",
         "False",
         "False",
         "False",
         "True",
         "False",
         "False",
         "False",
         "False",
         "False",
         "False",
         "False",
         "False",
         "False",
         "False",
         "False",
         "False"
        ],
        [
         "2024-12-07 18:00:00+00:00",
         "False",
         "False",
         "False",
         "True",
         "False",
         "False",
         "False",
         "False",
         "False",
         "False",
         "False",
         "False",
         "False",
         "False",
         "False",
         "False"
        ],
        [
         "2024-12-07 21:00:00+00:00",
         "False",
         "False",
         "False",
         "True",
         "False",
         "False",
         "False",
         "False",
         "False",
         "False",
         "False",
         "False",
         "False",
         "False",
         "False",
         "False"
        ],
        [
         "2024-12-08 00:00:00+00:00",
         "False",
         "False",
         "False",
         "True",
         "False",
         "False",
         "False",
         "False",
         "False",
         "False",
         "False",
         "False",
         "False",
         "False",
         "False",
         "False"
        ],
        [
         "2024-12-08 03:00:00+00:00",
         "False",
         "False",
         "False",
         "True",
         "False",
         "False",
         "False",
         "False",
         "False",
         "False",
         "False",
         "False",
         "False",
         "False",
         "False",
         "False"
        ],
        [
         "2024-12-08 06:00:00+00:00",
         "False",
         "False",
         "False",
         "True",
         "False",
         "False",
         "False",
         "False",
         "False",
         "False",
         "False",
         "False",
         "False",
         "False",
         "False",
         "False"
        ],
        [
         "2024-12-08 09:00:00+00:00",
         "False",
         "False",
         "False",
         "False",
         "False",
         "True",
         "False",
         "False",
         "False",
         "False",
         "False",
         "False",
         "False",
         "False",
         "False",
         "False"
        ],
        [
         "2024-12-08 12:00:00+00:00",
         "False",
         "False",
         "False",
         "False",
         "False",
         "True",
         "False",
         "False",
         "False",
         "False",
         "False",
         "False",
         "False",
         "False",
         "False",
         "False"
        ],
        [
         "2024-12-08 15:00:00+00:00",
         "False",
         "False",
         "False",
         "False",
         "False",
         "True",
         "False",
         "False",
         "False",
         "False",
         "False",
         "False",
         "False",
         "False",
         "False",
         "False"
        ],
        [
         "2024-12-08 18:00:00+00:00",
         "False",
         "False",
         "False",
         "True",
         "False",
         "False",
         "False",
         "False",
         "False",
         "False",
         "False",
         "False",
         "False",
         "False",
         "False",
         "False"
        ],
        [
         "2024-12-08 21:00:00+00:00",
         "False",
         "False",
         "False",
         "True",
         "False",
         "False",
         "False",
         "False",
         "False",
         "False",
         "False",
         "False",
         "False",
         "False",
         "False",
         "False"
        ],
        [
         "2024-12-09 00:00:00+00:00",
         "False",
         "False",
         "False",
         "False",
         "False",
         "False",
         "False",
         "True",
         "False",
         "False",
         "False",
         "False",
         "False",
         "False",
         "False",
         "False"
        ],
        [
         "2024-12-09 03:00:00+00:00",
         "False",
         "False",
         "False",
         "False",
         "False",
         "False",
         "True",
         "False",
         "False",
         "False",
         "False",
         "False",
         "False",
         "False",
         "False",
         "False"
        ],
        [
         "2024-12-09 06:00:00+00:00",
         "False",
         "False",
         "False",
         "False",
         "False",
         "False",
         "False",
         "False",
         "False",
         "False",
         "False",
         "False",
         "False",
         "False",
         "True",
         "False"
        ],
        [
         "2024-12-09 09:00:00+00:00",
         "False",
         "False",
         "False",
         "False",
         "False",
         "False",
         "False",
         "False",
         "False",
         "False",
         "False",
         "False",
         "False",
         "False",
         "False",
         "True"
        ],
        [
         "2024-12-09 12:00:00+00:00",
         "False",
         "False",
         "False",
         "False",
         "False",
         "False",
         "False",
         "False",
         "False",
         "False",
         "False",
         "False",
         "False",
         "False",
         "False",
         "True"
        ]
       ],
       "shape": {
        "columns": 16,
        "rows": 720
       }
      },
      "text/html": [
       "<div>\n",
       "<style scoped>\n",
       "    .dataframe tbody tr th:only-of-type {\n",
       "        vertical-align: middle;\n",
       "    }\n",
       "\n",
       "    .dataframe tbody tr th {\n",
       "        vertical-align: top;\n",
       "    }\n",
       "\n",
       "    .dataframe thead th {\n",
       "        text-align: right;\n",
       "    }\n",
       "</style>\n",
       "<table border=\"1\" class=\"dataframe\">\n",
       "  <thead>\n",
       "    <tr style=\"text-align: right;\">\n",
       "      <th></th>\n",
       "      <th>E</th>\n",
       "      <th>ENE</th>\n",
       "      <th>ESE</th>\n",
       "      <th>N</th>\n",
       "      <th>NE</th>\n",
       "      <th>NNE</th>\n",
       "      <th>NNW</th>\n",
       "      <th>NW</th>\n",
       "      <th>S</th>\n",
       "      <th>SE</th>\n",
       "      <th>SSE</th>\n",
       "      <th>SSW</th>\n",
       "      <th>SW</th>\n",
       "      <th>W</th>\n",
       "      <th>WNW</th>\n",
       "      <th>WSW</th>\n",
       "    </tr>\n",
       "    <tr>\n",
       "      <th>time</th>\n",
       "      <th></th>\n",
       "      <th></th>\n",
       "      <th></th>\n",
       "      <th></th>\n",
       "      <th></th>\n",
       "      <th></th>\n",
       "      <th></th>\n",
       "      <th></th>\n",
       "      <th></th>\n",
       "      <th></th>\n",
       "      <th></th>\n",
       "      <th></th>\n",
       "      <th></th>\n",
       "      <th></th>\n",
       "      <th></th>\n",
       "      <th></th>\n",
       "    </tr>\n",
       "  </thead>\n",
       "  <tbody>\n",
       "    <tr>\n",
       "      <th>2024-12-03 09:00:00+00:00</th>\n",
       "      <td>False</td>\n",
       "      <td>False</td>\n",
       "      <td>False</td>\n",
       "      <td>False</td>\n",
       "      <td>False</td>\n",
       "      <td>False</td>\n",
       "      <td>False</td>\n",
       "      <td>False</td>\n",
       "      <td>False</td>\n",
       "      <td>False</td>\n",
       "      <td>True</td>\n",
       "      <td>False</td>\n",
       "      <td>False</td>\n",
       "      <td>False</td>\n",
       "      <td>False</td>\n",
       "      <td>False</td>\n",
       "    </tr>\n",
       "    <tr>\n",
       "      <th>2024-12-03 12:00:00+00:00</th>\n",
       "      <td>False</td>\n",
       "      <td>False</td>\n",
       "      <td>False</td>\n",
       "      <td>False</td>\n",
       "      <td>False</td>\n",
       "      <td>False</td>\n",
       "      <td>False</td>\n",
       "      <td>False</td>\n",
       "      <td>True</td>\n",
       "      <td>False</td>\n",
       "      <td>False</td>\n",
       "      <td>False</td>\n",
       "      <td>False</td>\n",
       "      <td>False</td>\n",
       "      <td>False</td>\n",
       "      <td>False</td>\n",
       "    </tr>\n",
       "    <tr>\n",
       "      <th>2024-12-03 15:00:00+00:00</th>\n",
       "      <td>False</td>\n",
       "      <td>False</td>\n",
       "      <td>False</td>\n",
       "      <td>False</td>\n",
       "      <td>False</td>\n",
       "      <td>False</td>\n",
       "      <td>False</td>\n",
       "      <td>False</td>\n",
       "      <td>True</td>\n",
       "      <td>False</td>\n",
       "      <td>False</td>\n",
       "      <td>False</td>\n",
       "      <td>False</td>\n",
       "      <td>False</td>\n",
       "      <td>False</td>\n",
       "      <td>False</td>\n",
       "    </tr>\n",
       "    <tr>\n",
       "      <th>2024-12-03 18:00:00+00:00</th>\n",
       "      <td>False</td>\n",
       "      <td>False</td>\n",
       "      <td>False</td>\n",
       "      <td>False</td>\n",
       "      <td>False</td>\n",
       "      <td>False</td>\n",
       "      <td>False</td>\n",
       "      <td>False</td>\n",
       "      <td>True</td>\n",
       "      <td>False</td>\n",
       "      <td>False</td>\n",
       "      <td>False</td>\n",
       "      <td>False</td>\n",
       "      <td>False</td>\n",
       "      <td>False</td>\n",
       "      <td>False</td>\n",
       "    </tr>\n",
       "    <tr>\n",
       "      <th>2024-12-03 21:00:00+00:00</th>\n",
       "      <td>False</td>\n",
       "      <td>False</td>\n",
       "      <td>False</td>\n",
       "      <td>False</td>\n",
       "      <td>False</td>\n",
       "      <td>False</td>\n",
       "      <td>False</td>\n",
       "      <td>False</td>\n",
       "      <td>True</td>\n",
       "      <td>False</td>\n",
       "      <td>False</td>\n",
       "      <td>False</td>\n",
       "      <td>False</td>\n",
       "      <td>False</td>\n",
       "      <td>False</td>\n",
       "      <td>False</td>\n",
       "    </tr>\n",
       "    <tr>\n",
       "      <th>...</th>\n",
       "      <td>...</td>\n",
       "      <td>...</td>\n",
       "      <td>...</td>\n",
       "      <td>...</td>\n",
       "      <td>...</td>\n",
       "      <td>...</td>\n",
       "      <td>...</td>\n",
       "      <td>...</td>\n",
       "      <td>...</td>\n",
       "      <td>...</td>\n",
       "      <td>...</td>\n",
       "      <td>...</td>\n",
       "      <td>...</td>\n",
       "      <td>...</td>\n",
       "      <td>...</td>\n",
       "      <td>...</td>\n",
       "    </tr>\n",
       "    <tr>\n",
       "      <th>2025-03-02 18:00:00+00:00</th>\n",
       "      <td>False</td>\n",
       "      <td>False</td>\n",
       "      <td>False</td>\n",
       "      <td>False</td>\n",
       "      <td>False</td>\n",
       "      <td>False</td>\n",
       "      <td>False</td>\n",
       "      <td>False</td>\n",
       "      <td>False</td>\n",
       "      <td>False</td>\n",
       "      <td>False</td>\n",
       "      <td>False</td>\n",
       "      <td>False</td>\n",
       "      <td>False</td>\n",
       "      <td>False</td>\n",
       "      <td>True</td>\n",
       "    </tr>\n",
       "    <tr>\n",
       "      <th>2025-03-02 21:00:00+00:00</th>\n",
       "      <td>False</td>\n",
       "      <td>False</td>\n",
       "      <td>False</td>\n",
       "      <td>False</td>\n",
       "      <td>False</td>\n",
       "      <td>False</td>\n",
       "      <td>False</td>\n",
       "      <td>False</td>\n",
       "      <td>False</td>\n",
       "      <td>False</td>\n",
       "      <td>False</td>\n",
       "      <td>False</td>\n",
       "      <td>False</td>\n",
       "      <td>False</td>\n",
       "      <td>False</td>\n",
       "      <td>True</td>\n",
       "    </tr>\n",
       "    <tr>\n",
       "      <th>2025-03-03 00:00:00+00:00</th>\n",
       "      <td>False</td>\n",
       "      <td>False</td>\n",
       "      <td>False</td>\n",
       "      <td>False</td>\n",
       "      <td>False</td>\n",
       "      <td>False</td>\n",
       "      <td>False</td>\n",
       "      <td>False</td>\n",
       "      <td>False</td>\n",
       "      <td>False</td>\n",
       "      <td>False</td>\n",
       "      <td>False</td>\n",
       "      <td>False</td>\n",
       "      <td>False</td>\n",
       "      <td>False</td>\n",
       "      <td>True</td>\n",
       "    </tr>\n",
       "    <tr>\n",
       "      <th>2025-03-03 03:00:00+00:00</th>\n",
       "      <td>False</td>\n",
       "      <td>False</td>\n",
       "      <td>False</td>\n",
       "      <td>False</td>\n",
       "      <td>False</td>\n",
       "      <td>False</td>\n",
       "      <td>False</td>\n",
       "      <td>False</td>\n",
       "      <td>False</td>\n",
       "      <td>False</td>\n",
       "      <td>False</td>\n",
       "      <td>False</td>\n",
       "      <td>False</td>\n",
       "      <td>True</td>\n",
       "      <td>False</td>\n",
       "      <td>False</td>\n",
       "    </tr>\n",
       "    <tr>\n",
       "      <th>2025-03-03 06:00:00+00:00</th>\n",
       "      <td>False</td>\n",
       "      <td>False</td>\n",
       "      <td>False</td>\n",
       "      <td>False</td>\n",
       "      <td>False</td>\n",
       "      <td>False</td>\n",
       "      <td>False</td>\n",
       "      <td>False</td>\n",
       "      <td>False</td>\n",
       "      <td>False</td>\n",
       "      <td>False</td>\n",
       "      <td>False</td>\n",
       "      <td>False</td>\n",
       "      <td>False</td>\n",
       "      <td>False</td>\n",
       "      <td>True</td>\n",
       "    </tr>\n",
       "  </tbody>\n",
       "</table>\n",
       "<p>720 rows × 16 columns</p>\n",
       "</div>"
      ],
      "text/plain": [
       "                               E    ENE    ESE      N     NE    NNE    NNW  \\\n",
       "time                                                                         \n",
       "2024-12-03 09:00:00+00:00  False  False  False  False  False  False  False   \n",
       "2024-12-03 12:00:00+00:00  False  False  False  False  False  False  False   \n",
       "2024-12-03 15:00:00+00:00  False  False  False  False  False  False  False   \n",
       "2024-12-03 18:00:00+00:00  False  False  False  False  False  False  False   \n",
       "2024-12-03 21:00:00+00:00  False  False  False  False  False  False  False   \n",
       "...                          ...    ...    ...    ...    ...    ...    ...   \n",
       "2025-03-02 18:00:00+00:00  False  False  False  False  False  False  False   \n",
       "2025-03-02 21:00:00+00:00  False  False  False  False  False  False  False   \n",
       "2025-03-03 00:00:00+00:00  False  False  False  False  False  False  False   \n",
       "2025-03-03 03:00:00+00:00  False  False  False  False  False  False  False   \n",
       "2025-03-03 06:00:00+00:00  False  False  False  False  False  False  False   \n",
       "\n",
       "                              NW      S     SE    SSE    SSW     SW      W  \\\n",
       "time                                                                         \n",
       "2024-12-03 09:00:00+00:00  False  False  False   True  False  False  False   \n",
       "2024-12-03 12:00:00+00:00  False   True  False  False  False  False  False   \n",
       "2024-12-03 15:00:00+00:00  False   True  False  False  False  False  False   \n",
       "2024-12-03 18:00:00+00:00  False   True  False  False  False  False  False   \n",
       "2024-12-03 21:00:00+00:00  False   True  False  False  False  False  False   \n",
       "...                          ...    ...    ...    ...    ...    ...    ...   \n",
       "2025-03-02 18:00:00+00:00  False  False  False  False  False  False  False   \n",
       "2025-03-02 21:00:00+00:00  False  False  False  False  False  False  False   \n",
       "2025-03-03 00:00:00+00:00  False  False  False  False  False  False  False   \n",
       "2025-03-03 03:00:00+00:00  False  False  False  False  False  False   True   \n",
       "2025-03-03 06:00:00+00:00  False  False  False  False  False  False  False   \n",
       "\n",
       "                             WNW    WSW  \n",
       "time                                     \n",
       "2024-12-03 09:00:00+00:00  False  False  \n",
       "2024-12-03 12:00:00+00:00  False  False  \n",
       "2024-12-03 15:00:00+00:00  False  False  \n",
       "2024-12-03 18:00:00+00:00  False  False  \n",
       "2024-12-03 21:00:00+00:00  False  False  \n",
       "...                          ...    ...  \n",
       "2025-03-02 18:00:00+00:00  False   True  \n",
       "2025-03-02 21:00:00+00:00  False   True  \n",
       "2025-03-03 00:00:00+00:00  False   True  \n",
       "2025-03-03 03:00:00+00:00  False  False  \n",
       "2025-03-03 06:00:00+00:00  False   True  \n",
       "\n",
       "[720 rows x 16 columns]"
      ]
     },
     "execution_count": 10,
     "metadata": {},
     "output_type": "execute_result"
    }
   ],
   "source": [
    "pd.get_dummies(wind_df['Direction'])"
   ]
  },
  {
   "cell_type": "code",
   "execution_count": 52,
   "metadata": {},
   "outputs": [],
   "source": [
    "from sklearn.pipeline import make_pipeline\n",
    "pipeline = make_pipeline(wind_direction_symbol_to_onehot)"
   ]
  },
  {
   "cell_type": "code",
   "execution_count": 53,
   "metadata": {},
   "outputs": [
    {
     "ename": "TypeError",
     "evalue": "'FunctionTransformer' object is not iterable",
     "output_type": "error",
     "traceback": [
      "\u001b[0;31m---------------------------------------------------------------------------\u001b[0m",
      "\u001b[0;31mTypeError\u001b[0m                                 Traceback (most recent call last)",
      "Cell \u001b[0;32mIn[53], line 3\u001b[0m\n\u001b[1;32m      1\u001b[0m \u001b[38;5;66;03m# from sklearn.preprocessing import OneHotEncoder\u001b[39;00m\n\u001b[1;32m      2\u001b[0m \u001b[38;5;66;03m# encoder = OneHotEncoder(sparse_output=False)\u001b[39;00m\n\u001b[0;32m----> 3\u001b[0m \u001b[43mpipeline\u001b[49m\u001b[38;5;241;43m.\u001b[39;49m\u001b[43mfit\u001b[49m\u001b[43m(\u001b[49m\u001b[43mwind_df\u001b[49m\u001b[43m)\u001b[49m\n\u001b[1;32m      4\u001b[0m \u001b[38;5;66;03m# encoder.fit_transform(wind_df)\u001b[39;00m\n",
      "File \u001b[0;32m~/.pyenv/versions/a1_lsda2025/lib/python3.11/site-packages/sklearn/base.py:1473\u001b[0m, in \u001b[0;36m_fit_context.<locals>.decorator.<locals>.wrapper\u001b[0;34m(estimator, *args, **kwargs)\u001b[0m\n\u001b[1;32m   1466\u001b[0m     estimator\u001b[38;5;241m.\u001b[39m_validate_params()\n\u001b[1;32m   1468\u001b[0m \u001b[38;5;28;01mwith\u001b[39;00m config_context(\n\u001b[1;32m   1469\u001b[0m     skip_parameter_validation\u001b[38;5;241m=\u001b[39m(\n\u001b[1;32m   1470\u001b[0m         prefer_skip_nested_validation \u001b[38;5;129;01mor\u001b[39;00m global_skip_validation\n\u001b[1;32m   1471\u001b[0m     )\n\u001b[1;32m   1472\u001b[0m ):\n\u001b[0;32m-> 1473\u001b[0m     \u001b[38;5;28;01mreturn\u001b[39;00m \u001b[43mfit_method\u001b[49m\u001b[43m(\u001b[49m\u001b[43mestimator\u001b[49m\u001b[43m,\u001b[49m\u001b[43m \u001b[49m\u001b[38;5;241;43m*\u001b[39;49m\u001b[43margs\u001b[49m\u001b[43m,\u001b[49m\u001b[43m \u001b[49m\u001b[38;5;241;43m*\u001b[39;49m\u001b[38;5;241;43m*\u001b[39;49m\u001b[43mkwargs\u001b[49m\u001b[43m)\u001b[49m\n",
      "File \u001b[0;32m~/.pyenv/versions/a1_lsda2025/lib/python3.11/site-packages/sklearn/pipeline.py:473\u001b[0m, in \u001b[0;36mPipeline.fit\u001b[0;34m(self, X, y, **params)\u001b[0m\n\u001b[1;32m    471\u001b[0m     \u001b[38;5;28;01mif\u001b[39;00m \u001b[38;5;28mself\u001b[39m\u001b[38;5;241m.\u001b[39m_final_estimator \u001b[38;5;241m!=\u001b[39m \u001b[38;5;124m\"\u001b[39m\u001b[38;5;124mpassthrough\u001b[39m\u001b[38;5;124m\"\u001b[39m:\n\u001b[1;32m    472\u001b[0m         last_step_params \u001b[38;5;241m=\u001b[39m routed_params[\u001b[38;5;28mself\u001b[39m\u001b[38;5;241m.\u001b[39msteps[\u001b[38;5;241m-\u001b[39m\u001b[38;5;241m1\u001b[39m][\u001b[38;5;241m0\u001b[39m]]\n\u001b[0;32m--> 473\u001b[0m         \u001b[38;5;28;43mself\u001b[39;49m\u001b[38;5;241;43m.\u001b[39;49m\u001b[43m_final_estimator\u001b[49m\u001b[38;5;241;43m.\u001b[39;49m\u001b[43mfit\u001b[49m\u001b[43m(\u001b[49m\u001b[43mXt\u001b[49m\u001b[43m,\u001b[49m\u001b[43m \u001b[49m\u001b[43my\u001b[49m\u001b[43m,\u001b[49m\u001b[43m \u001b[49m\u001b[38;5;241;43m*\u001b[39;49m\u001b[38;5;241;43m*\u001b[39;49m\u001b[43mlast_step_params\u001b[49m\u001b[43m[\u001b[49m\u001b[38;5;124;43m\"\u001b[39;49m\u001b[38;5;124;43mfit\u001b[39;49m\u001b[38;5;124;43m\"\u001b[39;49m\u001b[43m]\u001b[49m\u001b[43m)\u001b[49m\n\u001b[1;32m    475\u001b[0m \u001b[38;5;28;01mreturn\u001b[39;00m \u001b[38;5;28mself\u001b[39m\n",
      "File \u001b[0;32m~/.pyenv/versions/a1_lsda2025/lib/python3.11/site-packages/sklearn/compose/_column_transformer.py:922\u001b[0m, in \u001b[0;36mColumnTransformer.fit\u001b[0;34m(self, X, y, **params)\u001b[0m\n\u001b[1;32m    919\u001b[0m _raise_for_params(params, \u001b[38;5;28mself\u001b[39m, \u001b[38;5;124m\"\u001b[39m\u001b[38;5;124mfit\u001b[39m\u001b[38;5;124m\"\u001b[39m)\n\u001b[1;32m    920\u001b[0m \u001b[38;5;66;03m# we use fit_transform to make sure to set sparse_output_ (for which we\u001b[39;00m\n\u001b[1;32m    921\u001b[0m \u001b[38;5;66;03m# need the transformed data) to have consistent output type in predict\u001b[39;00m\n\u001b[0;32m--> 922\u001b[0m \u001b[38;5;28;43mself\u001b[39;49m\u001b[38;5;241;43m.\u001b[39;49m\u001b[43mfit_transform\u001b[49m\u001b[43m(\u001b[49m\u001b[43mX\u001b[49m\u001b[43m,\u001b[49m\u001b[43m \u001b[49m\u001b[43my\u001b[49m\u001b[38;5;241;43m=\u001b[39;49m\u001b[43my\u001b[49m\u001b[43m,\u001b[49m\u001b[43m \u001b[49m\u001b[38;5;241;43m*\u001b[39;49m\u001b[38;5;241;43m*\u001b[39;49m\u001b[43mparams\u001b[49m\u001b[43m)\u001b[49m\n\u001b[1;32m    923\u001b[0m \u001b[38;5;28;01mreturn\u001b[39;00m \u001b[38;5;28mself\u001b[39m\n",
      "File \u001b[0;32m~/.pyenv/versions/a1_lsda2025/lib/python3.11/site-packages/sklearn/utils/_set_output.py:316\u001b[0m, in \u001b[0;36m_wrap_method_output.<locals>.wrapped\u001b[0;34m(self, X, *args, **kwargs)\u001b[0m\n\u001b[1;32m    314\u001b[0m \u001b[38;5;129m@wraps\u001b[39m(f)\n\u001b[1;32m    315\u001b[0m \u001b[38;5;28;01mdef\u001b[39;00m\u001b[38;5;250m \u001b[39m\u001b[38;5;21mwrapped\u001b[39m(\u001b[38;5;28mself\u001b[39m, X, \u001b[38;5;241m*\u001b[39margs, \u001b[38;5;241m*\u001b[39m\u001b[38;5;241m*\u001b[39mkwargs):\n\u001b[0;32m--> 316\u001b[0m     data_to_wrap \u001b[38;5;241m=\u001b[39m \u001b[43mf\u001b[49m\u001b[43m(\u001b[49m\u001b[38;5;28;43mself\u001b[39;49m\u001b[43m,\u001b[49m\u001b[43m \u001b[49m\u001b[43mX\u001b[49m\u001b[43m,\u001b[49m\u001b[43m \u001b[49m\u001b[38;5;241;43m*\u001b[39;49m\u001b[43margs\u001b[49m\u001b[43m,\u001b[49m\u001b[43m \u001b[49m\u001b[38;5;241;43m*\u001b[39;49m\u001b[38;5;241;43m*\u001b[39;49m\u001b[43mkwargs\u001b[49m\u001b[43m)\u001b[49m\n\u001b[1;32m    317\u001b[0m     \u001b[38;5;28;01mif\u001b[39;00m \u001b[38;5;28misinstance\u001b[39m(data_to_wrap, \u001b[38;5;28mtuple\u001b[39m):\n\u001b[1;32m    318\u001b[0m         \u001b[38;5;66;03m# only wrap the first output for cross decomposition\u001b[39;00m\n\u001b[1;32m    319\u001b[0m         return_tuple \u001b[38;5;241m=\u001b[39m (\n\u001b[1;32m    320\u001b[0m             _wrap_data_with_container(method, data_to_wrap[\u001b[38;5;241m0\u001b[39m], X, \u001b[38;5;28mself\u001b[39m),\n\u001b[1;32m    321\u001b[0m             \u001b[38;5;241m*\u001b[39mdata_to_wrap[\u001b[38;5;241m1\u001b[39m:],\n\u001b[1;32m    322\u001b[0m         )\n",
      "File \u001b[0;32m~/.pyenv/versions/a1_lsda2025/lib/python3.11/site-packages/sklearn/base.py:1473\u001b[0m, in \u001b[0;36m_fit_context.<locals>.decorator.<locals>.wrapper\u001b[0;34m(estimator, *args, **kwargs)\u001b[0m\n\u001b[1;32m   1466\u001b[0m     estimator\u001b[38;5;241m.\u001b[39m_validate_params()\n\u001b[1;32m   1468\u001b[0m \u001b[38;5;28;01mwith\u001b[39;00m config_context(\n\u001b[1;32m   1469\u001b[0m     skip_parameter_validation\u001b[38;5;241m=\u001b[39m(\n\u001b[1;32m   1470\u001b[0m         prefer_skip_nested_validation \u001b[38;5;129;01mor\u001b[39;00m global_skip_validation\n\u001b[1;32m   1471\u001b[0m     )\n\u001b[1;32m   1472\u001b[0m ):\n\u001b[0;32m-> 1473\u001b[0m     \u001b[38;5;28;01mreturn\u001b[39;00m \u001b[43mfit_method\u001b[49m\u001b[43m(\u001b[49m\u001b[43mestimator\u001b[49m\u001b[43m,\u001b[49m\u001b[43m \u001b[49m\u001b[38;5;241;43m*\u001b[39;49m\u001b[43margs\u001b[49m\u001b[43m,\u001b[49m\u001b[43m \u001b[49m\u001b[38;5;241;43m*\u001b[39;49m\u001b[38;5;241;43m*\u001b[39;49m\u001b[43mkwargs\u001b[49m\u001b[43m)\u001b[49m\n",
      "File \u001b[0;32m~/.pyenv/versions/a1_lsda2025/lib/python3.11/site-packages/sklearn/compose/_column_transformer.py:965\u001b[0m, in \u001b[0;36mColumnTransformer.fit_transform\u001b[0;34m(self, X, y, **params)\u001b[0m\n\u001b[1;32m    963\u001b[0m \u001b[38;5;66;03m# set n_features_in_ attribute\u001b[39;00m\n\u001b[1;32m    964\u001b[0m \u001b[38;5;28mself\u001b[39m\u001b[38;5;241m.\u001b[39m_check_n_features(X, reset\u001b[38;5;241m=\u001b[39m\u001b[38;5;28;01mTrue\u001b[39;00m)\n\u001b[0;32m--> 965\u001b[0m \u001b[38;5;28;43mself\u001b[39;49m\u001b[38;5;241;43m.\u001b[39;49m\u001b[43m_validate_transformers\u001b[49m\u001b[43m(\u001b[49m\u001b[43m)\u001b[49m\n\u001b[1;32m    966\u001b[0m n_samples \u001b[38;5;241m=\u001b[39m _num_samples(X)\n\u001b[1;32m    968\u001b[0m \u001b[38;5;28mself\u001b[39m\u001b[38;5;241m.\u001b[39m_validate_column_callables(X)\n",
      "File \u001b[0;32m~/.pyenv/versions/a1_lsda2025/lib/python3.11/site-packages/sklearn/compose/_column_transformer.py:501\u001b[0m, in \u001b[0;36mColumnTransformer._validate_transformers\u001b[0;34m(self)\u001b[0m\n\u001b[1;32m    498\u001b[0m \u001b[38;5;28;01mif\u001b[39;00m \u001b[38;5;129;01mnot\u001b[39;00m \u001b[38;5;28mself\u001b[39m\u001b[38;5;241m.\u001b[39mtransformers:\n\u001b[1;32m    499\u001b[0m     \u001b[38;5;28;01mreturn\u001b[39;00m\n\u001b[0;32m--> 501\u001b[0m names, transformers, _ \u001b[38;5;241m=\u001b[39m \u001b[38;5;28;43mzip\u001b[39;49m\u001b[43m(\u001b[49m\u001b[38;5;241;43m*\u001b[39;49m\u001b[38;5;28;43mself\u001b[39;49m\u001b[38;5;241;43m.\u001b[39;49m\u001b[43mtransformers\u001b[49m\u001b[43m)\u001b[49m\n\u001b[1;32m    503\u001b[0m \u001b[38;5;66;03m# validate names\u001b[39;00m\n\u001b[1;32m    504\u001b[0m \u001b[38;5;28mself\u001b[39m\u001b[38;5;241m.\u001b[39m_validate_names(names)\n",
      "\u001b[0;31mTypeError\u001b[0m: 'FunctionTransformer' object is not iterable"
     ]
    }
   ],
   "source": [
    "# from sklearn.preprocessing import OneHotEncoder\n",
    "# encoder = OneHotEncoder(sparse_output=False)\n",
    "pipeline.fit(wind_df)\n",
    "# encoder.fit_transform(wind_df)"
   ]
  },
  {
   "cell_type": "code",
   "execution_count": 18,
   "metadata": {},
   "outputs": [
    {
     "data": {
      "application/vnd.microsoft.datawrangler.viewer.v0+json": {
       "columns": [
        {
         "name": "time",
         "rawType": "object",
         "type": "string"
        },
        {
         "name": "Direction",
         "rawType": "object",
         "type": "string"
        },
        {
         "name": "Wx",
         "rawType": "float64",
         "type": "float"
        },
        {
         "name": "Wy",
         "rawType": "float64",
         "type": "float"
        },
        {
         "name": "Lead_hours",
         "rawType": "int64",
         "type": "integer"
        },
        {
         "name": "Source_time",
         "rawType": "int64",
         "type": "integer"
        },
        {
         "name": "Speed",
         "rawType": "float64",
         "type": "float"
        }
       ],
       "conversionMethod": "pd.DataFrame",
       "ref": "2826f03c-27c7-4a6e-bf4f-614699ae4ae7",
       "rows": [
        [
         "2024-11-28 12:00:00+00:00",
         "S",
         "-1.0",
         "0.0",
         "1",
         "1732788000",
         "4.91744"
        ],
        [
         "2024-11-28 15:00:00+00:00",
         "SSE",
         "-0.9238795325112867",
         "0.38268343236508984",
         "1",
         "1732798800",
         "8.04672"
        ],
        [
         "2024-11-28 18:00:00+00:00",
         "S",
         "-1.0",
         "0.0",
         "1",
         "1732809600",
         "12.07008"
        ],
        [
         "2024-11-28 21:00:00+00:00",
         "S",
         "-1.0",
         "0.0",
         "1",
         "1732820400",
         "15.19936"
        ],
        [
         "2024-11-29 00:00:00+00:00",
         "S",
         "-1.0",
         "0.0",
         "1",
         "1732831200",
         "13.85824"
        ],
        [
         "2024-11-29 03:00:00+00:00",
         "SSE",
         "-0.9238795325112867",
         "0.38268343236508984",
         "1",
         "1732842000",
         "11.176"
        ],
        [
         "2024-11-29 06:00:00+00:00",
         "S",
         "-1.0",
         "0.0",
         "1",
         "1732852800",
         "8.9408"
        ],
        [
         "2024-11-29 09:00:00+00:00",
         "S",
         "-1.0",
         "0.0",
         "1",
         "1732863600",
         "8.9408"
        ],
        [
         "2024-11-29 12:00:00+00:00",
         "S",
         "-1.0",
         "0.0",
         "1",
         "1732874400",
         "5.81152"
        ],
        [
         "2024-11-29 15:00:00+00:00",
         "S",
         "-1.0",
         "0.0",
         "1",
         "1732885200",
         "9.83488"
        ],
        [
         "2024-11-29 18:00:00+00:00",
         "S",
         "-1.0",
         "0.0",
         "1",
         "1732896000",
         "8.9408"
        ],
        [
         "2024-11-29 21:00:00+00:00",
         "S",
         "-1.0",
         "0.0",
         "1",
         "1732906800",
         "11.176"
        ],
        [
         "2024-11-30 00:00:00+00:00",
         "S",
         "-1.0",
         "0.0",
         "1",
         "1732917600",
         "8.04672"
        ],
        [
         "2024-11-30 03:00:00+00:00",
         "SSW",
         "-0.923879532511287",
         "-0.3826834323650892",
         "1",
         "1732928400",
         "7.15264"
        ],
        [
         "2024-11-30 06:00:00+00:00",
         "SW",
         "-0.7071067811865477",
         "-0.7071067811865474",
         "1",
         "1732939200",
         "8.04672"
        ],
        [
         "2024-11-30 09:00:00+00:00",
         "SSW",
         "-0.923879532511287",
         "-0.3826834323650892",
         "1",
         "1732950000",
         "9.83488"
        ],
        [
         "2024-11-30 12:00:00+00:00",
         "SSW",
         "-0.923879532511287",
         "-0.3826834323650892",
         "1",
         "1732960800",
         "4.91744"
        ],
        [
         "2024-11-30 15:00:00+00:00",
         "S",
         "-1.0",
         "0.0",
         "1",
         "1732971600",
         "7.15264"
        ],
        [
         "2024-11-30 18:00:00+00:00",
         "S",
         "-1.0",
         "0.0",
         "1",
         "1732982400",
         "8.9408"
        ],
        [
         "2024-11-30 21:00:00+00:00",
         "SSE",
         "-0.9238795325112867",
         "0.38268343236508984",
         "1",
         "1732993200",
         "12.07008"
        ],
        [
         "2024-12-01 00:00:00+00:00",
         "S",
         "-1.0",
         "0.0",
         "1",
         "1733004000",
         "12.96416"
        ],
        [
         "2024-12-01 03:00:00+00:00",
         "S",
         "-1.0",
         "0.0",
         "1",
         "1733014800",
         "12.96416"
        ],
        [
         "2024-12-01 06:00:00+00:00",
         "SSW",
         "-0.923879532511287",
         "-0.3826834323650892",
         "1",
         "1733025600",
         "11.176"
        ],
        [
         "2024-12-01 09:00:00+00:00",
         "S",
         "-1.0",
         "0.0",
         "1",
         "1733036400",
         "8.9408"
        ],
        [
         "2024-12-01 12:00:00+00:00",
         "SSW",
         "-0.923879532511287",
         "-0.3826834323650892",
         "1",
         "1733047200",
         "8.9408"
        ],
        [
         "2024-12-01 15:00:00+00:00",
         "SW",
         "-0.7071067811865477",
         "-0.7071067811865474",
         "1",
         "1733058000",
         "7.15264"
        ],
        [
         "2024-12-01 18:00:00+00:00",
         "NNW",
         "0.9238795325112868",
         "-0.38268343236508956",
         "1",
         "1733068800",
         "8.9408"
        ],
        [
         "2024-12-01 21:00:00+00:00",
         "N",
         "1.0",
         "0.0",
         "1",
         "1733079600",
         "13.85824"
        ],
        [
         "2024-12-02 00:00:00+00:00",
         "N",
         "1.0",
         "0.0",
         "1",
         "1733090400",
         "13.85824"
        ],
        [
         "2024-12-02 03:00:00+00:00",
         "N",
         "1.0",
         "0.0",
         "1",
         "1733101200",
         "15.19936"
        ],
        [
         "2024-12-02 06:00:00+00:00",
         "N",
         "1.0",
         "0.0",
         "1",
         "1733112000",
         "16.98752"
        ],
        [
         "2024-12-02 09:00:00+00:00",
         "NNE",
         "0.9238795325112867",
         "0.3826834323650898",
         "1",
         "1733122800",
         "12.07008"
        ],
        [
         "2024-12-02 12:00:00+00:00",
         "NNE",
         "0.9238795325112867",
         "0.3826834323650898",
         "1",
         "1733133600",
         "16.09344"
        ],
        [
         "2024-12-02 15:00:00+00:00",
         "N",
         "1.0",
         "0.0",
         "1",
         "1733144400",
         "11.176"
        ],
        [
         "2024-12-02 18:00:00+00:00",
         "N",
         "1.0",
         "0.0",
         "1",
         "1733155200",
         "9.83488"
        ],
        [
         "2024-12-02 21:00:00+00:00",
         "NNE",
         "0.9238795325112867",
         "0.3826834323650898",
         "1",
         "1733166000",
         "8.04672"
        ],
        [
         "2024-12-03 00:00:00+00:00",
         "NNE",
         "0.9238795325112867",
         "0.3826834323650898",
         "1",
         "1733176800",
         "5.81152"
        ],
        [
         "2024-12-03 03:00:00+00:00",
         "NE",
         "0.7071067811865476",
         "0.7071067811865475",
         "1",
         "1733187600",
         "3.12928"
        ],
        [
         "2024-12-03 06:00:00+00:00",
         "E",
         "0.0",
         "1.0",
         "1",
         "1733198400",
         "1.78816"
        ],
        [
         "2024-12-03 09:00:00+00:00",
         "SSE",
         "-0.9238795325112867",
         "0.38268343236508984",
         "1",
         "1733209200",
         "4.91744"
        ],
        [
         "2024-12-03 12:00:00+00:00",
         "S",
         "-1.0",
         "0.0",
         "1",
         "1733220000",
         "8.04672"
        ],
        [
         "2024-12-03 15:00:00+00:00",
         "S",
         "-1.0",
         "0.0",
         "1",
         "1733230800",
         "12.07008"
        ],
        [
         "2024-12-03 18:00:00+00:00",
         "S",
         "-1.0",
         "0.0",
         "1",
         "1733241600",
         "11.176"
        ],
        [
         "2024-12-03 21:00:00+00:00",
         "S",
         "-1.0",
         "0.0",
         "1",
         "1733252400",
         "9.83488"
        ],
        [
         "2024-12-04 00:00:00+00:00",
         "WNW",
         "0.38268343236509",
         "-0.9238795325112866",
         "1",
         "1733263200",
         "11.176"
        ],
        [
         "2024-12-04 03:00:00+00:00",
         "WSW",
         "-0.3826834323650895",
         "-0.9238795325112868",
         "1",
         "1733274000",
         "11.176"
        ],
        [
         "2024-12-04 06:00:00+00:00",
         "W",
         "0.0",
         "-1.0",
         "1",
         "1733284800",
         "4.91744"
        ],
        [
         "2024-12-04 09:00:00+00:00",
         "WSW",
         "-0.3826834323650895",
         "-0.9238795325112868",
         "1",
         "1733295600",
         "7.15264"
        ],
        [
         "2024-12-04 12:00:00+00:00",
         "SSW",
         "-0.923879532511287",
         "-0.3826834323650892",
         "1",
         "1733306400",
         "7.15264"
        ],
        [
         "2024-12-04 15:00:00+00:00",
         "SSE",
         "-0.9238795325112867",
         "0.38268343236508984",
         "1",
         "1733317200",
         "8.9408"
        ]
       ],
       "shape": {
        "columns": 6,
        "rows": 720
       }
      },
      "text/html": [
       "<div>\n",
       "<style scoped>\n",
       "    .dataframe tbody tr th:only-of-type {\n",
       "        vertical-align: middle;\n",
       "    }\n",
       "\n",
       "    .dataframe tbody tr th {\n",
       "        vertical-align: top;\n",
       "    }\n",
       "\n",
       "    .dataframe thead th {\n",
       "        text-align: right;\n",
       "    }\n",
       "</style>\n",
       "<table border=\"1\" class=\"dataframe\">\n",
       "  <thead>\n",
       "    <tr style=\"text-align: right;\">\n",
       "      <th></th>\n",
       "      <th>Direction</th>\n",
       "      <th>Wx</th>\n",
       "      <th>Wy</th>\n",
       "      <th>Lead_hours</th>\n",
       "      <th>Source_time</th>\n",
       "      <th>Speed</th>\n",
       "    </tr>\n",
       "    <tr>\n",
       "      <th>time</th>\n",
       "      <th></th>\n",
       "      <th></th>\n",
       "      <th></th>\n",
       "      <th></th>\n",
       "      <th></th>\n",
       "      <th></th>\n",
       "    </tr>\n",
       "  </thead>\n",
       "  <tbody>\n",
       "    <tr>\n",
       "      <th>2024-11-28 12:00:00+00:00</th>\n",
       "      <td>S</td>\n",
       "      <td>-1.000000</td>\n",
       "      <td>0.000000</td>\n",
       "      <td>1</td>\n",
       "      <td>1732788000</td>\n",
       "      <td>4.91744</td>\n",
       "    </tr>\n",
       "    <tr>\n",
       "      <th>2024-11-28 15:00:00+00:00</th>\n",
       "      <td>SSE</td>\n",
       "      <td>-0.923880</td>\n",
       "      <td>0.382683</td>\n",
       "      <td>1</td>\n",
       "      <td>1732798800</td>\n",
       "      <td>8.04672</td>\n",
       "    </tr>\n",
       "    <tr>\n",
       "      <th>2024-11-28 18:00:00+00:00</th>\n",
       "      <td>S</td>\n",
       "      <td>-1.000000</td>\n",
       "      <td>0.000000</td>\n",
       "      <td>1</td>\n",
       "      <td>1732809600</td>\n",
       "      <td>12.07008</td>\n",
       "    </tr>\n",
       "    <tr>\n",
       "      <th>2024-11-28 21:00:00+00:00</th>\n",
       "      <td>S</td>\n",
       "      <td>-1.000000</td>\n",
       "      <td>0.000000</td>\n",
       "      <td>1</td>\n",
       "      <td>1732820400</td>\n",
       "      <td>15.19936</td>\n",
       "    </tr>\n",
       "    <tr>\n",
       "      <th>2024-11-29 00:00:00+00:00</th>\n",
       "      <td>S</td>\n",
       "      <td>-1.000000</td>\n",
       "      <td>0.000000</td>\n",
       "      <td>1</td>\n",
       "      <td>1732831200</td>\n",
       "      <td>13.85824</td>\n",
       "    </tr>\n",
       "    <tr>\n",
       "      <th>...</th>\n",
       "      <td>...</td>\n",
       "      <td>...</td>\n",
       "      <td>...</td>\n",
       "      <td>...</td>\n",
       "      <td>...</td>\n",
       "      <td>...</td>\n",
       "    </tr>\n",
       "    <tr>\n",
       "      <th>2025-02-25 21:00:00+00:00</th>\n",
       "      <td>WNW</td>\n",
       "      <td>0.382683</td>\n",
       "      <td>-0.923880</td>\n",
       "      <td>1</td>\n",
       "      <td>1740510000</td>\n",
       "      <td>9.83488</td>\n",
       "    </tr>\n",
       "    <tr>\n",
       "      <th>2025-02-26 00:00:00+00:00</th>\n",
       "      <td>NW</td>\n",
       "      <td>0.707107</td>\n",
       "      <td>-0.707107</td>\n",
       "      <td>1</td>\n",
       "      <td>1740520800</td>\n",
       "      <td>5.81152</td>\n",
       "    </tr>\n",
       "    <tr>\n",
       "      <th>2025-02-26 03:00:00+00:00</th>\n",
       "      <td>W</td>\n",
       "      <td>0.000000</td>\n",
       "      <td>-1.000000</td>\n",
       "      <td>1</td>\n",
       "      <td>1740531600</td>\n",
       "      <td>5.81152</td>\n",
       "    </tr>\n",
       "    <tr>\n",
       "      <th>2025-02-26 06:00:00+00:00</th>\n",
       "      <td>W</td>\n",
       "      <td>0.000000</td>\n",
       "      <td>-1.000000</td>\n",
       "      <td>1</td>\n",
       "      <td>1740542400</td>\n",
       "      <td>5.81152</td>\n",
       "    </tr>\n",
       "    <tr>\n",
       "      <th>2025-02-26 09:00:00+00:00</th>\n",
       "      <td>SSW</td>\n",
       "      <td>-0.923880</td>\n",
       "      <td>-0.382683</td>\n",
       "      <td>1</td>\n",
       "      <td>1740553200</td>\n",
       "      <td>4.02336</td>\n",
       "    </tr>\n",
       "  </tbody>\n",
       "</table>\n",
       "<p>720 rows × 6 columns</p>\n",
       "</div>"
      ],
      "text/plain": [
       "                          Direction        Wx        Wy  Lead_hours  \\\n",
       "time                                                                  \n",
       "2024-11-28 12:00:00+00:00         S -1.000000  0.000000           1   \n",
       "2024-11-28 15:00:00+00:00       SSE -0.923880  0.382683           1   \n",
       "2024-11-28 18:00:00+00:00         S -1.000000  0.000000           1   \n",
       "2024-11-28 21:00:00+00:00         S -1.000000  0.000000           1   \n",
       "2024-11-29 00:00:00+00:00         S -1.000000  0.000000           1   \n",
       "...                             ...       ...       ...         ...   \n",
       "2025-02-25 21:00:00+00:00       WNW  0.382683 -0.923880           1   \n",
       "2025-02-26 00:00:00+00:00        NW  0.707107 -0.707107           1   \n",
       "2025-02-26 03:00:00+00:00         W  0.000000 -1.000000           1   \n",
       "2025-02-26 06:00:00+00:00         W  0.000000 -1.000000           1   \n",
       "2025-02-26 09:00:00+00:00       SSW -0.923880 -0.382683           1   \n",
       "\n",
       "                           Source_time     Speed  \n",
       "time                                              \n",
       "2024-11-28 12:00:00+00:00   1732788000   4.91744  \n",
       "2024-11-28 15:00:00+00:00   1732798800   8.04672  \n",
       "2024-11-28 18:00:00+00:00   1732809600  12.07008  \n",
       "2024-11-28 21:00:00+00:00   1732820400  15.19936  \n",
       "2024-11-29 00:00:00+00:00   1732831200  13.85824  \n",
       "...                                ...       ...  \n",
       "2025-02-25 21:00:00+00:00   1740510000   9.83488  \n",
       "2025-02-26 00:00:00+00:00   1740520800   5.81152  \n",
       "2025-02-26 03:00:00+00:00   1740531600   5.81152  \n",
       "2025-02-26 06:00:00+00:00   1740542400   5.81152  \n",
       "2025-02-26 09:00:00+00:00   1740553200   4.02336  \n",
       "\n",
       "[720 rows x 6 columns]"
      ]
     },
     "execution_count": 18,
     "metadata": {},
     "output_type": "execute_result"
    }
   ],
   "source": [
    "t_wind_df"
   ]
  },
  {
   "cell_type": "code",
   "execution_count": 28,
   "metadata": {},
   "outputs": [
    {
     "data": {
      "application/vnd.microsoft.datawrangler.viewer.v0+json": {
       "columns": [
        {
         "name": "time",
         "rawType": "datetime64[ns, UTC]",
         "type": "unknown"
        },
        {
         "name": "Direction",
         "rawType": "object",
         "type": "string"
        },
        {
         "name": "Wx",
         "rawType": "float64",
         "type": "float"
        },
        {
         "name": "Wy",
         "rawType": "float64",
         "type": "float"
        },
        {
         "name": "Lead_hours",
         "rawType": "object",
         "type": "string"
        },
        {
         "name": "Source_time",
         "rawType": "int64",
         "type": "integer"
        },
        {
         "name": "Speed",
         "rawType": "float64",
         "type": "float"
        }
       ],
       "conversionMethod": "pd.DataFrame",
       "ref": "4b39e470-cb1d-4c65-8c14-5b55d0b83f55",
       "rows": [
        [
         "2024-11-28 18:00:00+00:00",
         "S",
         "-1.0",
         "0.0",
         "1",
         "1732809600",
         "12.070079999999999"
        ],
        [
         "2024-11-28 21:00:00+00:00",
         "S",
         "-1.0",
         "0.0",
         "1",
         "1732820400",
         "15.19936"
        ],
        [
         "2024-11-29 00:00:00+00:00",
         "S",
         "-1.0",
         "0.0",
         "1",
         "1732831200",
         "13.85824"
        ],
        [
         "2024-11-29 03:00:00+00:00",
         "SSE",
         "-0.9238795325112867",
         "0.38268343236508984",
         "1",
         "1732842000",
         "11.176"
        ],
        [
         "2024-11-29 06:00:00+00:00",
         "S",
         "-1.0",
         "0.0",
         "1",
         "1732852800",
         "8.9408"
        ]
       ],
       "shape": {
        "columns": 6,
        "rows": 5
       }
      },
      "text/html": [
       "<div>\n",
       "<style scoped>\n",
       "    .dataframe tbody tr th:only-of-type {\n",
       "        vertical-align: middle;\n",
       "    }\n",
       "\n",
       "    .dataframe tbody tr th {\n",
       "        vertical-align: top;\n",
       "    }\n",
       "\n",
       "    .dataframe thead th {\n",
       "        text-align: right;\n",
       "    }\n",
       "</style>\n",
       "<table border=\"1\" class=\"dataframe\">\n",
       "  <thead>\n",
       "    <tr style=\"text-align: right;\">\n",
       "      <th></th>\n",
       "      <th>Direction</th>\n",
       "      <th>Wx</th>\n",
       "      <th>Wy</th>\n",
       "      <th>Lead_hours</th>\n",
       "      <th>Source_time</th>\n",
       "      <th>Speed</th>\n",
       "    </tr>\n",
       "    <tr>\n",
       "      <th>time</th>\n",
       "      <th></th>\n",
       "      <th></th>\n",
       "      <th></th>\n",
       "      <th></th>\n",
       "      <th></th>\n",
       "      <th></th>\n",
       "    </tr>\n",
       "  </thead>\n",
       "  <tbody>\n",
       "    <tr>\n",
       "      <th>2024-11-28 18:00:00+00:00</th>\n",
       "      <td>S</td>\n",
       "      <td>-1.00000</td>\n",
       "      <td>0.000000</td>\n",
       "      <td>1</td>\n",
       "      <td>1732809600</td>\n",
       "      <td>12.07008</td>\n",
       "    </tr>\n",
       "    <tr>\n",
       "      <th>2024-11-28 21:00:00+00:00</th>\n",
       "      <td>S</td>\n",
       "      <td>-1.00000</td>\n",
       "      <td>0.000000</td>\n",
       "      <td>1</td>\n",
       "      <td>1732820400</td>\n",
       "      <td>15.19936</td>\n",
       "    </tr>\n",
       "    <tr>\n",
       "      <th>2024-11-29 00:00:00+00:00</th>\n",
       "      <td>S</td>\n",
       "      <td>-1.00000</td>\n",
       "      <td>0.000000</td>\n",
       "      <td>1</td>\n",
       "      <td>1732831200</td>\n",
       "      <td>13.85824</td>\n",
       "    </tr>\n",
       "    <tr>\n",
       "      <th>2024-11-29 03:00:00+00:00</th>\n",
       "      <td>SSE</td>\n",
       "      <td>-0.92388</td>\n",
       "      <td>0.382683</td>\n",
       "      <td>1</td>\n",
       "      <td>1732842000</td>\n",
       "      <td>11.17600</td>\n",
       "    </tr>\n",
       "    <tr>\n",
       "      <th>2024-11-29 06:00:00+00:00</th>\n",
       "      <td>S</td>\n",
       "      <td>-1.00000</td>\n",
       "      <td>0.000000</td>\n",
       "      <td>1</td>\n",
       "      <td>1732852800</td>\n",
       "      <td>8.94080</td>\n",
       "    </tr>\n",
       "  </tbody>\n",
       "</table>\n",
       "</div>"
      ],
      "text/plain": [
       "                          Direction       Wx        Wy Lead_hours  \\\n",
       "time                                                                \n",
       "2024-11-28 18:00:00+00:00         S -1.00000  0.000000          1   \n",
       "2024-11-28 21:00:00+00:00         S -1.00000  0.000000          1   \n",
       "2024-11-29 00:00:00+00:00         S -1.00000  0.000000          1   \n",
       "2024-11-29 03:00:00+00:00       SSE -0.92388  0.382683          1   \n",
       "2024-11-29 06:00:00+00:00         S -1.00000  0.000000          1   \n",
       "\n",
       "                           Source_time     Speed  \n",
       "time                                              \n",
       "2024-11-28 18:00:00+00:00   1732809600  12.07008  \n",
       "2024-11-28 21:00:00+00:00   1732820400  15.19936  \n",
       "2024-11-29 00:00:00+00:00   1732831200  13.85824  \n",
       "2024-11-29 03:00:00+00:00   1732842000  11.17600  \n",
       "2024-11-29 06:00:00+00:00   1732852800   8.94080  "
      ]
     },
     "execution_count": 28,
     "metadata": {},
     "output_type": "execute_result"
    }
   ],
   "source": [
    "t_wind_df.head()"
   ]
  },
  {
   "cell_type": "code",
   "execution_count": null,
   "metadata": {},
   "outputs": [],
   "source": []
  },
  {
   "cell_type": "code",
   "execution_count": null,
   "metadata": {},
   "outputs": [
    {
     "data": {
      "text/plain": [
       "Index(['ANM', 'Non-ANM', 'Total'], dtype='object')"
      ]
     },
     "execution_count": 9,
     "metadata": {},
     "output_type": "execute_result"
    }
   ],
   "source": [
    "wind_df.head()"
   ]
  },
  {
   "cell_type": "code",
   "execution_count": null,
   "metadata": {},
   "outputs": [
    {
     "data": {
      "application/vnd.microsoft.datawrangler.viewer.v0+json": {
       "columns": [
        {
         "name": "time",
         "rawType": "datetime64[ns, UTC]",
         "type": "unknown"
        },
        {
         "name": "Direction",
         "rawType": "object",
         "type": "string"
        },
        {
         "name": "Lead_hours",
         "rawType": "object",
         "type": "string"
        },
        {
         "name": "Source_time",
         "rawType": "int64",
         "type": "integer"
        },
        {
         "name": "Speed",
         "rawType": "float64",
         "type": "float"
        }
       ],
       "conversionMethod": "pd.DataFrame",
       "ref": "b7159ec6-5a3a-4dd7-8820-cb5930617044",
       "rows": [
        [
         "2024-11-28 18:00:00+00:00",
         "S",
         "1",
         "1732809600",
         "12.070079999999999"
        ],
        [
         "2024-11-28 21:00:00+00:00",
         "S",
         "1",
         "1732820400",
         "15.19936"
        ],
        [
         "2024-11-29 00:00:00+00:00",
         "S",
         "1",
         "1732831200",
         "13.85824"
        ],
        [
         "2024-11-29 03:00:00+00:00",
         "SSE",
         "1",
         "1732842000",
         "11.176"
        ],
        [
         "2024-11-29 06:00:00+00:00",
         "S",
         "1",
         "1732852800",
         "8.9408"
        ],
        [
         "2024-11-29 09:00:00+00:00",
         "S",
         "1",
         "1732863600",
         "8.9408"
        ],
        [
         "2024-11-29 12:00:00+00:00",
         "S",
         "1",
         "1732874400",
         "5.81152"
        ],
        [
         "2024-11-29 15:00:00+00:00",
         "S",
         "1",
         "1732885200",
         "9.83488"
        ],
        [
         "2024-11-29 18:00:00+00:00",
         "S",
         "1",
         "1732896000",
         "8.9408"
        ],
        [
         "2024-11-29 21:00:00+00:00",
         "S",
         "1",
         "1732906800",
         "11.176"
        ],
        [
         "2024-11-30 00:00:00+00:00",
         "S",
         "1",
         "1732917600",
         "8.04672"
        ],
        [
         "2024-11-30 03:00:00+00:00",
         "SSW",
         "1",
         "1732928400",
         "7.15264"
        ],
        [
         "2024-11-30 06:00:00+00:00",
         "SW",
         "1",
         "1732939200",
         "8.04672"
        ],
        [
         "2024-11-30 09:00:00+00:00",
         "SSW",
         "1",
         "1732950000",
         "9.83488"
        ],
        [
         "2024-11-30 12:00:00+00:00",
         "SSW",
         "1",
         "1732960800",
         "4.91744"
        ],
        [
         "2024-11-30 15:00:00+00:00",
         "S",
         "1",
         "1732971600",
         "7.15264"
        ],
        [
         "2024-11-30 18:00:00+00:00",
         "S",
         "1",
         "1732982400",
         "8.9408"
        ],
        [
         "2024-11-30 21:00:00+00:00",
         "SSE",
         "1",
         "1732993200",
         "12.070079999999999"
        ],
        [
         "2024-12-01 00:00:00+00:00",
         "S",
         "1",
         "1733004000",
         "12.96416"
        ],
        [
         "2024-12-01 03:00:00+00:00",
         "S",
         "1",
         "1733014800",
         "12.96416"
        ],
        [
         "2024-12-01 06:00:00+00:00",
         "SSW",
         "1",
         "1733025600",
         "11.176"
        ],
        [
         "2024-12-01 09:00:00+00:00",
         "S",
         "1",
         "1733036400",
         "8.9408"
        ],
        [
         "2024-12-01 12:00:00+00:00",
         "SSW",
         "1",
         "1733047200",
         "8.9408"
        ],
        [
         "2024-12-01 15:00:00+00:00",
         "SW",
         "1",
         "1733058000",
         "7.15264"
        ],
        [
         "2024-12-01 18:00:00+00:00",
         "NNW",
         "1",
         "1733068800",
         "8.9408"
        ],
        [
         "2024-12-01 21:00:00+00:00",
         "N",
         "1",
         "1733079600",
         "13.85824"
        ],
        [
         "2024-12-02 00:00:00+00:00",
         "N",
         "1",
         "1733090400",
         "13.85824"
        ],
        [
         "2024-12-02 03:00:00+00:00",
         "N",
         "1",
         "1733101200",
         "15.19936"
        ],
        [
         "2024-12-02 06:00:00+00:00",
         "N",
         "1",
         "1733112000",
         "16.98752"
        ],
        [
         "2024-12-02 09:00:00+00:00",
         "NNE",
         "1",
         "1733122800",
         "12.070079999999999"
        ],
        [
         "2024-12-02 12:00:00+00:00",
         "NNE",
         "1",
         "1733133600",
         "16.09344"
        ],
        [
         "2024-12-02 15:00:00+00:00",
         "N",
         "1",
         "1733144400",
         "11.176"
        ],
        [
         "2024-12-02 18:00:00+00:00",
         "N",
         "1",
         "1733155200",
         "9.83488"
        ],
        [
         "2024-12-02 21:00:00+00:00",
         "NNE",
         "1",
         "1733166000",
         "8.04672"
        ],
        [
         "2024-12-03 00:00:00+00:00",
         "NNE",
         "1",
         "1733176800",
         "5.81152"
        ],
        [
         "2024-12-03 03:00:00+00:00",
         "NE",
         "1",
         "1733187600",
         "3.12928"
        ],
        [
         "2024-12-03 06:00:00+00:00",
         "E",
         "1",
         "1733198400",
         "1.78816"
        ],
        [
         "2024-12-03 09:00:00+00:00",
         "SSE",
         "1",
         "1733209200",
         "4.91744"
        ],
        [
         "2024-12-03 12:00:00+00:00",
         "S",
         "1",
         "1733220000",
         "8.04672"
        ],
        [
         "2024-12-03 15:00:00+00:00",
         "S",
         "1",
         "1733230800",
         "12.070079999999999"
        ],
        [
         "2024-12-03 18:00:00+00:00",
         "S",
         "1",
         "1733241600",
         "11.176"
        ],
        [
         "2024-12-03 21:00:00+00:00",
         "S",
         "1",
         "1733252400",
         "9.83488"
        ],
        [
         "2024-12-04 00:00:00+00:00",
         "WNW",
         "1",
         "1733263200",
         "11.176"
        ],
        [
         "2024-12-04 03:00:00+00:00",
         "WSW",
         "1",
         "1733274000",
         "11.176"
        ],
        [
         "2024-12-04 06:00:00+00:00",
         "W",
         "1",
         "1733284800",
         "4.91744"
        ],
        [
         "2024-12-04 09:00:00+00:00",
         "WSW",
         "1",
         "1733295600",
         "7.15264"
        ],
        [
         "2024-12-04 12:00:00+00:00",
         "SSW",
         "1",
         "1733306400",
         "7.15264"
        ],
        [
         "2024-12-04 15:00:00+00:00",
         "SSE",
         "1",
         "1733317200",
         "8.9408"
        ],
        [
         "2024-12-04 18:00:00+00:00",
         "SSE",
         "1",
         "1733328000",
         "13.85824"
        ],
        [
         "2024-12-04 21:00:00+00:00",
         "SSE",
         "1",
         "1733338800",
         "21.01088"
        ]
       ],
       "shape": {
        "columns": 4,
        "rows": 720
       }
      },
      "text/html": [
       "<div>\n",
       "<style scoped>\n",
       "    .dataframe tbody tr th:only-of-type {\n",
       "        vertical-align: middle;\n",
       "    }\n",
       "\n",
       "    .dataframe tbody tr th {\n",
       "        vertical-align: top;\n",
       "    }\n",
       "\n",
       "    .dataframe thead th {\n",
       "        text-align: right;\n",
       "    }\n",
       "</style>\n",
       "<table border=\"1\" class=\"dataframe\">\n",
       "  <thead>\n",
       "    <tr style=\"text-align: right;\">\n",
       "      <th></th>\n",
       "      <th>Direction</th>\n",
       "      <th>Lead_hours</th>\n",
       "      <th>Source_time</th>\n",
       "      <th>Speed</th>\n",
       "    </tr>\n",
       "    <tr>\n",
       "      <th>time</th>\n",
       "      <th></th>\n",
       "      <th></th>\n",
       "      <th></th>\n",
       "      <th></th>\n",
       "    </tr>\n",
       "  </thead>\n",
       "  <tbody>\n",
       "    <tr>\n",
       "      <th>2024-11-28 18:00:00+00:00</th>\n",
       "      <td>S</td>\n",
       "      <td>1</td>\n",
       "      <td>1732809600</td>\n",
       "      <td>12.07008</td>\n",
       "    </tr>\n",
       "    <tr>\n",
       "      <th>2024-11-28 21:00:00+00:00</th>\n",
       "      <td>S</td>\n",
       "      <td>1</td>\n",
       "      <td>1732820400</td>\n",
       "      <td>15.19936</td>\n",
       "    </tr>\n",
       "    <tr>\n",
       "      <th>2024-11-29 00:00:00+00:00</th>\n",
       "      <td>S</td>\n",
       "      <td>1</td>\n",
       "      <td>1732831200</td>\n",
       "      <td>13.85824</td>\n",
       "    </tr>\n",
       "    <tr>\n",
       "      <th>2024-11-29 03:00:00+00:00</th>\n",
       "      <td>SSE</td>\n",
       "      <td>1</td>\n",
       "      <td>1732842000</td>\n",
       "      <td>11.17600</td>\n",
       "    </tr>\n",
       "    <tr>\n",
       "      <th>2024-11-29 06:00:00+00:00</th>\n",
       "      <td>S</td>\n",
       "      <td>1</td>\n",
       "      <td>1732852800</td>\n",
       "      <td>8.94080</td>\n",
       "    </tr>\n",
       "    <tr>\n",
       "      <th>...</th>\n",
       "      <td>...</td>\n",
       "      <td>...</td>\n",
       "      <td>...</td>\n",
       "      <td>...</td>\n",
       "    </tr>\n",
       "    <tr>\n",
       "      <th>2025-02-26 03:00:00+00:00</th>\n",
       "      <td>W</td>\n",
       "      <td>1</td>\n",
       "      <td>1740531600</td>\n",
       "      <td>5.81152</td>\n",
       "    </tr>\n",
       "    <tr>\n",
       "      <th>2025-02-26 06:00:00+00:00</th>\n",
       "      <td>W</td>\n",
       "      <td>1</td>\n",
       "      <td>1740542400</td>\n",
       "      <td>5.81152</td>\n",
       "    </tr>\n",
       "    <tr>\n",
       "      <th>2025-02-26 09:00:00+00:00</th>\n",
       "      <td>SSW</td>\n",
       "      <td>1</td>\n",
       "      <td>1740553200</td>\n",
       "      <td>4.02336</td>\n",
       "    </tr>\n",
       "    <tr>\n",
       "      <th>2025-02-26 12:00:00+00:00</th>\n",
       "      <td>S</td>\n",
       "      <td>1</td>\n",
       "      <td>1740564000</td>\n",
       "      <td>4.02336</td>\n",
       "    </tr>\n",
       "    <tr>\n",
       "      <th>2025-02-26 15:00:00+00:00</th>\n",
       "      <td>E</td>\n",
       "      <td>1</td>\n",
       "      <td>1740574800</td>\n",
       "      <td>3.12928</td>\n",
       "    </tr>\n",
       "  </tbody>\n",
       "</table>\n",
       "<p>720 rows × 4 columns</p>\n",
       "</div>"
      ],
      "text/plain": [
       "                          Direction Lead_hours  Source_time     Speed\n",
       "time                                                                 \n",
       "2024-11-28 18:00:00+00:00         S          1   1732809600  12.07008\n",
       "2024-11-28 21:00:00+00:00         S          1   1732820400  15.19936\n",
       "2024-11-29 00:00:00+00:00         S          1   1732831200  13.85824\n",
       "2024-11-29 03:00:00+00:00       SSE          1   1732842000  11.17600\n",
       "2024-11-29 06:00:00+00:00         S          1   1732852800   8.94080\n",
       "...                             ...        ...          ...       ...\n",
       "2025-02-26 03:00:00+00:00         W          1   1740531600   5.81152\n",
       "2025-02-26 06:00:00+00:00         W          1   1740542400   5.81152\n",
       "2025-02-26 09:00:00+00:00       SSW          1   1740553200   4.02336\n",
       "2025-02-26 12:00:00+00:00         S          1   1740564000   4.02336\n",
       "2025-02-26 15:00:00+00:00         E          1   1740574800   3.12928\n",
       "\n",
       "[720 rows x 4 columns]"
      ]
     },
     "execution_count": 29,
     "metadata": {},
     "output_type": "execute_result"
    }
   ],
   "source": [
    "wind_df\n",
    "# Just to mention outliers in the report that I didn't handle them because it seems\n",
    "# too complicated for the scope of this assignment."
   ]
  },
  {
   "cell_type": "code",
   "execution_count": 36,
   "metadata": {},
   "outputs": [],
   "source": [
    "from wind_power.config import DATA_DIR"
   ]
  },
  {
   "cell_type": "code",
   "execution_count": null,
   "metadata": {},
   "outputs": [],
   "source": []
  },
  {
   "cell_type": "code",
   "execution_count": 35,
   "metadata": {},
   "outputs": [
    {
     "ename": "ImportError",
     "evalue": "cannot import name 'x' from 'wind_power.features' (/Users/mpj-projects/repositories/a1_lsda2025/wind_power/features.py)",
     "output_type": "error",
     "traceback": [
      "\u001b[0;31m---------------------------------------------------------------------------\u001b[0m",
      "\u001b[0;31mImportError\u001b[0m                               Traceback (most recent call last)",
      "Cell \u001b[0;32mIn[35], line 1\u001b[0m\n\u001b[0;32m----> 1\u001b[0m \u001b[38;5;28;01mfrom\u001b[39;00m\u001b[38;5;250m \u001b[39m\u001b[38;5;21;01mwind_power\u001b[39;00m\u001b[38;5;21;01m.\u001b[39;00m\u001b[38;5;21;01mfeatures\u001b[39;00m\u001b[38;5;250m \u001b[39m\u001b[38;5;28;01mimport\u001b[39;00m x\n\u001b[1;32m      2\u001b[0m \u001b[38;5;28mprint\u001b[39m(x)\n",
      "\u001b[0;31mImportError\u001b[0m: cannot import name 'x' from 'wind_power.features' (/Users/mpj-projects/repositories/a1_lsda2025/wind_power/features.py)"
     ]
    }
   ],
   "source": [
    "from wind_power.features import x\n",
    "print(x)"
   ]
  },
  {
   "cell_type": "code",
   "execution_count": 33,
   "metadata": {},
   "outputs": [
    {
     "ename": "ImportError",
     "evalue": "cannot import name 'wind_direction_symbol_to_onehot' from 'wind_power.features' (/Users/mpj-projects/repositories/a1_lsda2025/wind_power/features.py)",
     "output_type": "error",
     "traceback": [
      "\u001b[0;31m---------------------------------------------------------------------------\u001b[0m",
      "\u001b[0;31mImportError\u001b[0m                               Traceback (most recent call last)",
      "Cell \u001b[0;32mIn[33], line 1\u001b[0m\n\u001b[0;32m----> 1\u001b[0m \u001b[38;5;28;01mfrom\u001b[39;00m\u001b[38;5;250m \u001b[39m\u001b[38;5;21;01mwind_power\u001b[39;00m\u001b[38;5;21;01m.\u001b[39;00m\u001b[38;5;21;01mfeatures\u001b[39;00m\u001b[38;5;250m \u001b[39m\u001b[38;5;28;01mimport\u001b[39;00m wind_direction_symbol_to_onehot\n\u001b[1;32m      3\u001b[0m \u001b[38;5;66;03m# wind_direction_symbol_to_onehot.fit_transform(wind_df)\u001b[39;00m\n",
      "\u001b[0;31mImportError\u001b[0m: cannot import name 'wind_direction_symbol_to_onehot' from 'wind_power.features' (/Users/mpj-projects/repositories/a1_lsda2025/wind_power/features.py)"
     ]
    }
   ],
   "source": [
    "from wind_power.features import wind_direction_symbol_to_onehot\n",
    "\n",
    "# wind_direction_symbol_to_onehot.fit_transform(wind_df)"
   ]
  },
  {
   "cell_type": "markdown",
   "metadata": {},
   "source": [
    "## Step 2: Pipeline and data transformations"
   ]
  },
  {
   "cell_type": "markdown",
   "metadata": {},
   "source": [
    "Now that we have our data, we need to construct the pipeline to process this data and pass it to our Machine Learning model. For this, you may find useful the Pipeline class from Scikit-Learn.\n",
    "\n",
    "This class applies a list of transforms to your data, and pass the final state to an estimator (your model). Intermediate steps of the pipeline must be ‘transforms’, that is, they must implement fit and transform methods. The final estimator only needs to implement fit. \n",
    "\n",
    "The purpose of the pipeline is to assemble several steps that can be cross-validated together while setting different parameters. For this, it enables setting parameters of the various steps using their names and the parameter name separated by a '__'. \n",
    "\n",
    "You can find more information about Scikit-Learn's Pipeline [here](https://scikit-learn.org/stable/modules/compose.html#pipeline)."
   ]
  },
  {
   "cell_type": "markdown",
   "metadata": {},
   "source": [
    "#### Example"
   ]
  },
  {
   "cell_type": "code",
   "execution_count": null,
   "metadata": {},
   "outputs": [],
   "source": [
    "# A very basic pipeline\n",
    "pipeline_example = Pipeline([\n",
    "    # Transformations\n",
    "    (\"Scaler\", StandardScaler()),\n",
    "    # Estimator\n",
    "    (\"Linear Regression\", LinearRegression())\n",
    "])"
   ]
  },
  {
   "cell_type": "code",
   "execution_count": null,
   "metadata": {},
   "outputs": [],
   "source": [
    "### TODO -> CREATE YOUR OWN PIPELINE ###\n",
    "# Create your pipeline with the desired transformers\n",
    "pipeline = Pipeline([\n",
    "\n",
    "    # Transformer 1\n",
    "    # Transformer 2\n",
    "    # ...\n",
    "    # Final estimator\n",
    "])"
   ]
  },
  {
   "cell_type": "code",
   "execution_count": null,
   "metadata": {},
   "outputs": [],
   "source": [
    "# "
   ]
  },
  {
   "cell_type": "markdown",
   "metadata": {},
   "source": [
    "## Evaluate your model"
   ]
  },
  {
   "cell_type": "markdown",
   "metadata": {},
   "source": [
    "Now that you have a preprocessing pipeline ready, along with the final estimator, you may want to know how well your model performs. Choose the method you prefer, with special attention to the selected metric."
   ]
  },
  {
   "cell_type": "markdown",
   "metadata": {},
   "source": [
    "#### Example"
   ]
  },
  {
   "cell_type": "code",
   "execution_count": null,
   "metadata": {},
   "outputs": [],
   "source": [
    "# Select our feature variables and our target variable.\n",
    "joined_dfs = power_df.join(wind_df).dropna()\n",
    "\n",
    "X = joined_dfs[\"Speed\"].values.reshape(-1,1)\n",
    "y = joined_dfs[\"Total\"].values.reshape(-1,1)\n",
    "\n",
    "# Split the data so we can test how well our model performs in unseen data\n",
    "X_train, X_test, y_train, y_test = train_test_split(X, y) # -> You might want to use another split method\n",
    "\n",
    "# Train our model\n",
    "pipeline_example.fit(X_train, y_train)\n",
    "\n",
    "# Evaluate the model, using MAE as a metric\n",
    "mae = mean_absolute_error(pipeline_example.predict(X_test), y_test)\n",
    "print(mae)"
   ]
  },
  {
   "cell_type": "markdown",
   "metadata": {},
   "source": [
    "**HINTS:** <em>Pay special attention to this type of data: We are dealing with Time series data (i.e. data that is recorded over consistent intervals of time). It might be a good idea not to **randomly** split the data, since it wouldn't respect the temporal order and may cause data-leakage, unintentionally inferring the trend of future samples.</em> "
   ]
  },
  {
   "cell_type": "code",
   "execution_count": null,
   "metadata": {},
   "outputs": [],
   "source": [
    "# Use your preferred method to evaluate your model\n",
    "### TODO -> SPLIT THE DATA INTO TRAIN AND TEST SETS, AND EVALUATE YOUR MODEL ###"
   ]
  },
  {
   "cell_type": "code",
   "execution_count": null,
   "metadata": {},
   "outputs": [],
   "source": [
    "# Everything here:\n"
   ]
  },
  {
   "cell_type": "markdown",
   "metadata": {},
   "source": [
    "## Step 3: Tracking your experiments with MLFlow"
   ]
  },
  {
   "cell_type": "markdown",
   "metadata": {},
   "source": [
    "We have a working model with a certain accuracy. But wouldn't it be better to try different parameters and different models before deciding for one? <br><br>\n",
    "This is exactly what we will do using the MLFlow library. MLflow is an open source platform to manage the ML lifecycle, including experimentation, reproducibility, deployment, and a central model registry. This will allow us for easy comparison of all our model experiments. <br>\n",
    "\n",
    "**NOTE:**<em> Don't forget to check the [MLFlow documentation](https://mlflow.org/docs/latest/index.html) to learn more about the library.</em>"
   ]
  },
  {
   "cell_type": "markdown",
   "metadata": {},
   "source": [
    "#### Example"
   ]
  },
  {
   "cell_type": "markdown",
   "metadata": {},
   "source": [
    "When using MLFlow locally to log our experiments, we need to start a \"local server\". We can do this easily by running the following in our command line interface:\n",
    "\n",
    "```\n",
    "mlflow server\n",
    "```\n",
    "\n",
    "For example, using PowerShell, it should look like this:\n",
    "\n",
    "![MLFlow Server](https://github.com/ginofazzi/testing/raw/0d3ffce58ee12f6d1c86b6a3c2ac628314e7b82e/mlflow_server.png)\n",
    "\n",
    "In this example, we can see that the server is located at our localhost 127.0.0.1, port 5000. We will use this information to indicate MLFlow where to save our experiment details."
   ]
  },
  {
   "cell_type": "code",
   "execution_count": null,
   "metadata": {},
   "outputs": [],
   "source": [
    "# Start an MLflow run\n",
    "mlflow.sklearn.autolog() # This is to help us track scikit learn metrics.\n",
    "mlflow.set_tracking_uri(\"http://127.0.0.1:5000\") # We set the MLFlow UI to display in our local host.\n",
    "\n",
    "# Set the experiment and run name\n",
    "experiment_name = \"LinearRegression-Example\" # I suggest using a different experiment for each model\n",
    "run_name = \"Simple_regression\" # I suggest using a different run name for each tried parameter\n",
    "\n",
    "mlflow.set_experiment(experiment_name)\n",
    "\n",
    "with mlflow.start_run(run_name=run_name) as run:\n",
    "    \n",
    "    # Train our model\n",
    "    pipeline_example.fit(X_train, y_train)\n",
    "\n",
    "    # Evaluate the model, using MAE as a metric\n",
    "    predictions = pipeline_example.predict(X_test)\n",
    "    mae = mean_absolute_error(predictions, y_test)\n",
    "\n",
    "    mlflow.log_metric(\"MAE\", mae)\n"
   ]
  },
  {
   "cell_type": "code",
   "execution_count": null,
   "metadata": {},
   "outputs": [],
   "source": [
    "### TODO -> SET YOUR OWN EXPERIMENT SETUP ###\n",
    "\"\"\"\n",
    "Here, you may want to stop and think what is the best way to iterate(!) through all the models and experiments you want to try.\n",
    "Instead of running your code everytime you want to change something, you could try to list all your desired experiments and\n",
    "run them all sequentially in one go (gridsearch style).\n",
    "\"\"\""
   ]
  },
  {
   "cell_type": "markdown",
   "metadata": {},
   "source": [
    "## Comparing models"
   ]
  },
  {
   "cell_type": "markdown",
   "metadata": {},
   "source": [
    "Now we have run our experiment(s), trying different pre-processing steps, models and parameters. To easily compare the results from our experiments, we can use the MLFlow interface."
   ]
  },
  {
   "cell_type": "markdown",
   "metadata": {},
   "source": [
    "#### Example"
   ]
  },
  {
   "cell_type": "markdown",
   "metadata": {},
   "source": [
    "We have been logging our experiments in our local server. We can access the UI by opening the localhost address in any browser. When opening the server in the browser, we should see something like this:\n",
    "\n",
    "![MLFlow UI](https://github.com/ginofazzi/testing/raw/0d3ffce58ee12f6d1c86b6a3c2ac628314e7b82e/MLFLowUI.png)\n",
    "\n",
    "In this example, we can see the list of all our experiments in the left, and for each experiment a table with all the different runs.\n",
    "\n",
    "**NOTE:**<em> This example contains only one run for the experiment. When logging multiple runs with different parameters/metrics, you will be able to easily compare them using the \"Chart View\". Make sure to try this out.</em>\n"
   ]
  },
  {
   "cell_type": "markdown",
   "metadata": {},
   "source": [
    "## Saving the best model"
   ]
  },
  {
   "cell_type": "markdown",
   "metadata": {},
   "source": [
    "Now that we have tried many different models with different parameters, we might want to save the best one. To do this, we can use again the UI:\n",
    "\n",
    "1. In the Experiments list, select the model you want to save. In the Table view, select the version of that model (Run name).\n",
    "2. On the left, you will see all the experiment's run details (Parameters, metrics, and ML Project files). Click on \"Register Model\".\n",
    "3. Now, on the \"Models\" tab, you will be able to see your saved model.\n",
    "\n",
    "![MLFlow save model](https://github.com/ginofazzi/testing/raw/0d3ffce58ee12f6d1c86b6a3c2ac628314e7b82e/MLFLow-save_model-1.png)\n",
    "\n",
    "In case of doubt, you can check the documentation [HERE](https://mlflow.org/docs/latest/model-registry.html)."
   ]
  },
  {
   "cell_type": "markdown",
   "metadata": {},
   "source": [
    "## Step 4: Using a saved model"
   ]
  },
  {
   "cell_type": "markdown",
   "metadata": {},
   "source": [
    "Now that we have saved our best model, we might want to use it for future predictions. We can retrieve the weather forecasts for the next days, and make predictions of power generation."
   ]
  },
  {
   "cell_type": "markdown",
   "metadata": {},
   "source": [
    "#### Example"
   ]
  },
  {
   "cell_type": "markdown",
   "metadata": {},
   "source": [
    "First we need the new forecast data:"
   ]
  },
  {
   "cell_type": "code",
   "execution_count": null,
   "metadata": {},
   "outputs": [],
   "source": [
    "# Get all future forecasts regardless of lead time\n",
    "forecasts  = client.query(\n",
    "    \"SELECT * FROM MetForecasts where time > now()\") # Query written in InfluxQL\n",
    "\n",
    "# Transform the result set into a dataframe\n",
    "forecasts = set_to_dataframe(forecasts)\n",
    "\n",
    "# Limit to only the newest source time, so we have the latest forecast only\n",
    "newest_forecasts = forecasts.loc[forecasts[\"Source_time\"] == forecasts[\"Source_time\"].max()].copy()"
   ]
  },
  {
   "cell_type": "markdown",
   "metadata": {},
   "source": [
    "Then, we can retrieve any saved model and use it to predict on the new data:"
   ]
  },
  {
   "cell_type": "code",
   "execution_count": null,
   "metadata": {},
   "outputs": [],
   "source": [
    "# Specify the model details\n",
    "model_name = \"LinearRegression-Example\"\n",
    "model_version = 1\n",
    "\n",
    "# Use MLFlow to load the saved model\n",
    "model = mlflow.pyfunc.load_model(model_uri=f\"models:/{model_name}/{model_version}\")\n",
    "\n",
    "# Use the saved model to predict the power generation\n",
    "predictions = model.predict(newest_forecasts[\"Speed\"])\n",
    "\n",
    "# We can transform the predictions array to a Pandas DataFrame\n",
    "predictions = pd.DataFrame(predictions, index=newest_forecasts.index, columns=[\"Power\"])\n",
    "predictions.head()"
   ]
  },
  {
   "cell_type": "markdown",
   "metadata": {},
   "source": [
    "### Retrain your model and keep the best one"
   ]
  },
  {
   "cell_type": "markdown",
   "metadata": {},
   "source": [
    "Now we now how to retrieve saved models, it might be a good idea to validate our models troughout time, with new data, and keep the best one every time."
   ]
  },
  {
   "cell_type": "code",
   "execution_count": null,
   "metadata": {},
   "outputs": [],
   "source": [
    "### TODO -> INSERT YOUR CODE HERE ###\n",
    "\"\"\"\n",
    "You might want to think how to systematically test your model with new data, \n",
    "compare with the metrics of the best saved model, and update your model if \n",
    "necessary. \n",
    "\"\"\""
   ]
  },
  {
   "cell_type": "markdown",
   "metadata": {},
   "source": [
    "## Step 5: Deploying your model"
   ]
  },
  {
   "cell_type": "markdown",
   "metadata": {},
   "source": [
    "So far, we have trained several models and saved the best for predictions. But we have been working locally. Often times, we will want to deploy our model in such a way that other people can take advantage of it, by sending a request with data and getting back predictions. To do this, we need to create an endopoint for our model to receive data. This is done through deployment of the model."
   ]
  },
  {
   "cell_type": "markdown",
   "metadata": {},
   "source": [
    "To deploy our model, we first need to serve the model. Serving a model refers to the process of making a trained machine learning model available to receive input data and provide predictions or inferences based on that data. In other words, when you serve a model, you set it up in a way that it can be queried with new data, and it will produce predictions or outputs based on the patterns it learned during training.\n",
    "\n",
    "Serving a model is a critical step in the machine learning lifecycle, as it allows you to leverage the model's predictive capabilities in real-world applications. When a model is served, it becomes accessible to applications, websites, or other systems that need to utilize its predictions."
   ]
  },
  {
   "cell_type": "markdown",
   "metadata": {},
   "source": [
    "To deploy your model, follow section 3.3 from the Assignment PDF. If you want to learn how to deploy models from the Jupyter Notebook, try out the tutorial notebook at examples/sklearn_elasticnet_wine/train.ipynb. You can find it on the [MLFlow Tutorial](https://mlflow.org/docs/latest/tutorials-and-examples/tutorial.html). \n",
    "\n"
   ]
  }
 ],
 "metadata": {
  "kernelspec": {
   "display_name": "a1_lsda2025",
   "language": "python",
   "name": "python3"
  },
  "language_info": {
   "codemirror_mode": {
    "name": "ipython",
    "version": 3
   },
   "file_extension": ".py",
   "mimetype": "text/x-python",
   "name": "python",
   "nbconvert_exporter": "python",
   "pygments_lexer": "ipython3",
   "version": "3.11.7"
  }
 },
 "nbformat": 4,
 "nbformat_minor": 2
}
